{
 "cells": [
  {
   "cell_type": "code",
   "execution_count": 1,
   "metadata": {},
   "outputs": [],
   "source": [
    "import os\n",
    "import sys\n",
    "from glob import glob\n",
    "\n",
    "import warnings\n",
    "\n",
    "from sklearn import metrics, exceptions\n",
    "\n",
    "import rasterio as rio\n",
    "from rasterio.plot import show\n",
    "\n",
    "from re import match\n",
    "\n",
    "import numpy as np\n",
    "\n",
    "import pandas as pd\n",
    "\n",
    "from subprocess import Popen\n",
    "\n",
    "import seaborn as sns\n",
    "import matplotlib.pyplot as plt\n",
    "%matplotlib inline"
   ]
  },
  {
   "cell_type": "markdown",
   "metadata": {},
   "source": [
    "# Appendix: Coarsen ASO to Comparators\n",
    "\n",
    "We're re-implementing `compare-metrics.py` to create a dataframe with several classification metrics for several SCA products (ours [CubeSat/ML], thresholded Sentinel-2 NDSI, and thresholded LS8 fSCA) *with reference to ASO baseline*. \n",
    "\n",
    "The difference here is that prior to computing metrics we upsample ASO via nearest-neighbor resampling to the resolution of the SCA product being compared against, for fairness. \n",
    "\n",
    "We've got a list of candidate Planet images, each containing overlapping comparator images (S2, LS8) that have been thresholded and loosely clipped to the imagery AOI. We will create a `coarsened` folder with VRT comparators (2 band rasters) for each product being compared against. We'll clip this with the data region and use sklearn to compute metrics. \n",
    "\n",
    "## Find image directories"
   ]
  },
  {
   "cell_type": "code",
   "execution_count": 58,
   "metadata": {},
   "outputs": [],
   "source": [
    "root = '/Volumes/wrangell-st-elias/research/planet/tuol-reruns-v2/CO/'"
   ]
  },
  {
   "cell_type": "code",
   "execution_count": 59,
   "metadata": {},
   "outputs": [],
   "source": [
    "image_dirs = glob(os.path.join(root, \"s3:::*\"))"
   ]
  },
  {
   "cell_type": "code",
   "execution_count": 60,
   "metadata": {},
   "outputs": [
    {
     "data": {
      "text/plain": [
       "['/Volumes/wrangell-st-elias/research/planet/tuol-reruns-v2/CO/s3:::planet-snowcover-models:ASO-3M-SD-USCASJ-20180601-Step2-V2-2020-03-03-17-49-47-260:planet-snowcover-imagery:20180524_172142_103d_3B_AnalyticMS_SR_clip',\n",
       " '/Volumes/wrangell-st-elias/research/planet/tuol-reruns-v2/CO/s3:::planet-snowcover-models:ASO-3M-SD-USCASJ-20180601-Step2-V2-2020-03-03-17-49-47-260:planet-snowcover-imagery:20180524_172143_103d_3B_AnalyticMS_SR_clip',\n",
       " '/Volumes/wrangell-st-elias/research/planet/tuol-reruns-v2/CO/s3:::planet-snowcover-models:ASO-3M-SD-USCASJ-20180601-Step2-V2-2020-03-03-17-49-47-260:planet-snowcover-imagery:20180524_172144_103d_3B_AnalyticMS_SR_clip',\n",
       " '/Volumes/wrangell-st-elias/research/planet/tuol-reruns-v2/CO/s3:::planet-snowcover-models:ASO-3M-SD-USCASJ-20180601-Step2-V2-2020-03-03-17-49-47-260:planet-snowcover-imagery:20180524_172145_103d_3B_AnalyticMS_SR_clip',\n",
       " '/Volumes/wrangell-st-elias/research/planet/tuol-reruns-v2/CO/s3:::planet-snowcover-models:ASO-3M-SD-USCASJ-20180601-Step2-V2-2020-03-03-17-49-47-260:planet-snowcover-imagery:20180524_172326_0f51_3B_AnalyticMS_SR_clip',\n",
       " '/Volumes/wrangell-st-elias/research/planet/tuol-reruns-v2/CO/s3:::planet-snowcover-models:ASO-3M-SD-USCASJ-20180601-Step2-V2-2020-03-03-17-49-47-260:planet-snowcover-imagery:20180524_172327_0f51_3B_AnalyticMS_SR_clip',\n",
       " '/Volumes/wrangell-st-elias/research/planet/tuol-reruns-v2/CO/s3:::planet-snowcover-models:ASO-3M-SD-USCASJ-20180601-Step2-V2-2020-03-03-17-49-47-260:planet-snowcover-imagery:20180524_172329_0f51_3B_AnalyticMS_SR_clip',\n",
       " '/Volumes/wrangell-st-elias/research/planet/tuol-reruns-v2/CO/s3:::planet-snowcover-models:ASO-3M-SD-USCASJ-20180601-Step2-V2-2020-03-03-17-49-47-260:planet-snowcover-imagery:20180524_172330_0f51_3B_AnalyticMS_SR_clip',\n",
       " '/Volumes/wrangell-st-elias/research/planet/tuol-reruns-v2/CO/s3:::planet-snowcover-models:ASO-3M-SD-USCASJ-20180601-Step2-V2-2020-03-03-17-49-47-260:planet-snowcover-imagery:20180524_172331_0f51_3B_AnalyticMS_SR_clip',\n",
       " '/Volumes/wrangell-st-elias/research/planet/tuol-reruns-v2/CO/s3:::planet-snowcover-models:ASO-3M-SD-USCASJ-20180601-Step2-V2-2020-03-03-17-49-47-260:planet-snowcover-imagery:20180524_172634_0f2d_3B_AnalyticMS_SR_clip',\n",
       " '/Volumes/wrangell-st-elias/research/planet/tuol-reruns-v2/CO/s3:::planet-snowcover-models:ASO-3M-SD-USCASJ-20180601-Step2-V2-2020-03-03-17-49-47-260:planet-snowcover-imagery:20180524_172635_0f2d_3B_AnalyticMS_SR_clip',\n",
       " '/Volumes/wrangell-st-elias/research/planet/tuol-reruns-v2/CO/s3:::planet-snowcover-models:ASO-3M-SD-USCASJ-20180601-Step2-V2-2020-03-03-17-49-47-260:planet-snowcover-imagery:20180524_172637_0f2d_3B_AnalyticMS_SR_clip']"
      ]
     },
     "execution_count": 60,
     "metadata": {},
     "output_type": "execute_result"
    }
   ],
   "source": [
    "image_dirs"
   ]
  },
  {
   "cell_type": "markdown",
   "metadata": {},
   "source": [
    "## Find Test Output Directories\n",
    "\n",
    "Each image directory contains a directory containing all assets to compare (e.g. ASO, ML predictions, Sentinel2 NDSI, LS8 fSCA). The directory title is an MD5 hashes of the input files, we can match with `^[a-f0-9]{32}$`."
   ]
  },
  {
   "cell_type": "code",
   "execution_count": 61,
   "metadata": {},
   "outputs": [],
   "source": [
    "md5_pattern = \"^[a-f0-9]{32}$\""
   ]
  },
  {
   "cell_type": "code",
   "execution_count": 62,
   "metadata": {},
   "outputs": [],
   "source": [
    "# example\n",
    "def get_comparator_dir(d):\n",
    "    comparator_dir = None\n",
    "    dirs = [f for f in os.listdir(d) if match(md5_pattern, f)]\n",
    "    if len(dirs) == 1:\n",
    "        comparator_dir = dirs[0]\n",
    "    elif len(dirs) > 1: \n",
    "        print(f\"{d} more than one comparator!\")\n",
    "        # get most recent based on modified time\n",
    "        mtimes = [os.stat(os.path.join(d, _d)).st_mtime for _d in dirs] \n",
    "        comparator_dir = dirs[np.argsort(mtimes)[::-1][0]] \n",
    "    else:\n",
    "        raise ValueError(\"Not Found\")\n",
    "        \n",
    "    return os.path.join(d, comparator_dir)\n",
    "    "
   ]
  },
  {
   "cell_type": "code",
   "execution_count": 63,
   "metadata": {},
   "outputs": [],
   "source": [
    "comparator_dirs = [get_comparator_dir(d) for d in image_dirs]"
   ]
  },
  {
   "cell_type": "code",
   "execution_count": 64,
   "metadata": {},
   "outputs": [
    {
     "data": {
      "text/plain": [
       "['.DS_Store',\n",
       " '20180524_172142_103d_3B_AnalyticMS_SR_clip_merged.tif',\n",
       " 'ASO_merged.tif',\n",
       " 'coarsened',\n",
       " 'coarsened_average',\n",
       " 'data_region.geojson',\n",
       " 'LC08_CU_010009_20180526_20190615_C01_V01_SNOW_05_convex_reprojected_clipped.tif',\n",
       " 'NDSI-clipped-ls8_reprojected_clipped.tif']"
      ]
     },
     "execution_count": 64,
     "metadata": {},
     "output_type": "execute_result"
    }
   ],
   "source": [
    "os.listdir(comparator_dirs[0])"
   ]
  },
  {
   "cell_type": "markdown",
   "metadata": {},
   "source": [
    "## Coarsen ASO to match for each comparison"
   ]
  },
  {
   "cell_type": "code",
   "execution_count": 65,
   "metadata": {},
   "outputs": [],
   "source": [
    "data_region_slug = \"data-mask.geojson\""
   ]
  },
  {
   "cell_type": "code",
   "execution_count": 112,
   "metadata": {},
   "outputs": [],
   "source": [
    "def coarsen(asoPath, comparatorPath, outdir=None, suffix=\"\", resampling='nearest', data_region=None):\n",
    "    \"\"\"\n",
    "    Creates a virtual raster with ASO and comparator stacked (aso band 1).\n",
    "    \n",
    "    Uses data_region.geojson in the ASO directory to clip the VRT. \n",
    "    \"\"\"\n",
    "    \n",
    "\n",
    "    \n",
    "    gdalCmd = \"source activate qgis && \"\\\n",
    "              'gdalbuildvrt -overwrite -resolution lowest -separate -r {resampling} -vrtnodata \"-9999 -9999\" {output}.vrt {aso} {comparator} && '\\\n",
    "              \"gdalwarp -overwrite -cutline {cutline} -crop_to_cutline -dstnodata -9999 {output}.vrt {output}_clipped.vrt \"\n",
    "    \n",
    "    if outdir is None:\n",
    "        print(suffix)\n",
    "        outdir = os.path.join(os.path.dirname(asoPath), \"coarsened\"+suffix)\n",
    "\n",
    "        os.makedirs(outdir, exist_ok=True)\n",
    "        \n",
    "\n",
    "    comparatorOutfileRoot = os.path.join(outdir, \"ASO_vs_\"+os.path.splitext(os.path.basename(comparatorPath))[0])\n",
    "    if data_region:\n",
    "        cutlinePath = data_region\n",
    "    else: \n",
    "        cutlinePath = os.path.join(os.path.dirname(asoPath), \"data_region.geojson\")\n",
    "    \n",
    "    _cmd = gdalCmd.format(aso = asoPath, comparator = comparatorPath, output = comparatorOutfileRoot, cutline=cutlinePath, resampling=resampling)\n",
    "    Popen(_cmd, shell=True).communicate()\n",
    "    \n",
    "    return(os.path.join(outdir, comparatorOutfileRoot+\"_clipped.vrt\"))\n",
    "    \n",
    "        \n"
   ]
  },
  {
   "cell_type": "code",
   "execution_count": 92,
   "metadata": {},
   "outputs": [
    {
     "name": "stdout",
     "output_type": "stream",
     "text": [
      "16777223 360070 -rw-r--r-- 1 tony staff 0 394 \"Mar 24 11:42:26 2020\" \"Mar  4 14:48:35 2020\" \"Mar  4 14:48:35 2020\" \"Mar  4 14:48:35 2020\" 4096 16 0 /Volumes/wrangell-st-elias/research/planet/tuol-reruns-v2/CO/s3:::planet-snowcover-models:ASO-3M-SD-USCASJ-20180601-Step2-V2-2020-03-03-17-49-47-260:planet-snowcover-imagery:20180524_172142_103d_3B_AnalyticMS_SR_clip/data-mask.geojson\n"
     ]
    }
   ],
   "source": [
    "!stat {os.path.join(os.path.dirname(comparator_dirs[0]), data_region_slug)}"
   ]
  },
  {
   "cell_type": "code",
   "execution_count": 97,
   "metadata": {},
   "outputs": [
    {
     "name": "stdout",
     "output_type": "stream",
     "text": [
      "_nearest\n"
     ]
    }
   ],
   "source": [
    "result = coarsen(\n",
    "    glob(os.path.join(comparator_dirs[0], \"ASO*\"))[0],\n",
    "    glob(os.path.join(comparator_dirs[0], \"*SNOW_05*.tif\"))[0], \n",
    "    data_region = os.path.join(os.path.dirname(comparator_dirs[0]), \n",
    "                               data_region_slug), \n",
    "    suffix='_nearest', \n",
    "    resampling='nearest')"
   ]
  },
  {
   "cell_type": "code",
   "execution_count": 100,
   "metadata": {},
   "outputs": [
    {
     "data": {
      "text/plain": [
       "'/Volumes/wrangell-st-elias/research/planet/tuol-reruns-v2/CO/s3:::planet-snowcover-models:ASO-3M-SD-USCASJ-20180601-Step2-V2-2020-03-03-17-49-47-260:planet-snowcover-imagery:20180524_172142_103d_3B_AnalyticMS_SR_clip/1a67755ed4c36fc7c29b9976f7729527/coarsened_nearest/ASO_vs_LC08_CU_010009_20180526_20190615_C01_V01_SNOW_05_convex_reprojected_clipped_clipped.vrt'"
      ]
     },
     "execution_count": 100,
     "metadata": {},
     "output_type": "execute_result"
    }
   ],
   "source": [
    "result\n"
   ]
  },
  {
   "cell_type": "code",
   "execution_count": 101,
   "metadata": {},
   "outputs": [],
   "source": [
    "! open $(dirname {result})"
   ]
  },
  {
   "cell_type": "code",
   "execution_count": 102,
   "metadata": {},
   "outputs": [
    {
     "data": {
      "image/png": "[encoded data removed]",
      "text/plain": [
       "<Figure size 432x288 with 1 Axes>"
      ]
     },
     "metadata": {},
     "output_type": "display_data"
    },
    {
     "data": {
      "text/plain": [
       "<matplotlib.axes._subplots.AxesSubplot at 0x1282a7898>"
      ]
     },
     "execution_count": 102,
     "metadata": {},
     "output_type": "execute_result"
    }
   ],
   "source": [
    "resultData = rio.open(result)\n",
    "show(resultData.read(1, masked=True))"
   ]
  },
  {
   "cell_type": "code",
   "execution_count": 103,
   "metadata": {},
   "outputs": [],
   "source": [
    "aso = resultData.read(1, masked=True)\n",
    "comparator = resultData.read(2, masked=True)"
   ]
  },
  {
   "cell_type": "code",
   "execution_count": 104,
   "metadata": {},
   "outputs": [
    {
     "data": {
      "text/plain": [
       "2425"
      ]
     },
     "execution_count": 104,
     "metadata": {},
     "output_type": "execute_result"
    }
   ],
   "source": [
    "len(aso.data[~aso.mask])"
   ]
  },
  {
   "cell_type": "code",
   "execution_count": 105,
   "metadata": {},
   "outputs": [
    {
     "data": {
      "text/plain": [
       "2425"
      ]
     },
     "execution_count": 105,
     "metadata": {},
     "output_type": "execute_result"
    }
   ],
   "source": [
    "len(comparator.data[~comparator.mask])"
   ]
  },
  {
   "cell_type": "code",
   "execution_count": 106,
   "metadata": {},
   "outputs": [],
   "source": [
    "diff = (aso - comparator)"
   ]
  },
  {
   "cell_type": "markdown",
   "metadata": {},
   "source": [
    "## Compute Performance Metrics"
   ]
  },
  {
   "cell_type": "code",
   "execution_count": 107,
   "metadata": {},
   "outputs": [],
   "source": [
    "def compute_performance(true, pred, nodata=-9999):\n",
    "    \n",
    "    mask = true.mask\n",
    "    true = true.data[~mask]\n",
    "\n",
    "    pred = pred.data[~mask]\n",
    "    \n",
    "    if len(np.unique(true)) != len(np.unique(pred)):\n",
    "        if len(np.unique(true)) > len(np.unique(pred)):\n",
    "            true[true == nodata] = 0\n",
    "        else:\n",
    "            pred[pred == nodata] = 0\n",
    "\n",
    "    assert(pred.shape == true.shape)\n",
    "\n",
    "    print (np.unique(true), np.unique(pred))\n",
    "    \n",
    "    with warnings.catch_warnings():\n",
    "        warnings.filterwarnings('error')\n",
    "\n",
    "        try: \n",
    "            performance = metrics.precision_recall_fscore_support(true, pred, average = 'binary')\n",
    "\n",
    "            accuracy = metrics.balanced_accuracy_score(true, pred)\n",
    "\n",
    "            kappa = metrics.cohen_kappa_score(true, pred)\n",
    "        except exceptions.UndefinedMetricWarning:\n",
    "            print(\"One or more metrics Undefined. Skipping.\")\n",
    "            return None\n",
    "\n",
    "    result = {\n",
    "        \"Precision\": performance[0],\n",
    "        \"Recall\" : performance[1],\n",
    "        \"F-Score\": performance[2],\n",
    "        \"Balanced Accuracy\": accuracy,\n",
    "        \"Kappa\" : kappa\n",
    "    }\n",
    "\n",
    "    return result"
   ]
  },
  {
   "cell_type": "code",
   "execution_count": 108,
   "metadata": {},
   "outputs": [
    {
     "name": "stdout",
     "output_type": "stream",
     "text": [
      "[0 1] [0 1]\n"
     ]
    }
   ],
   "source": [
    "ans = compute_performance(aso, comparator)"
   ]
  },
  {
   "cell_type": "code",
   "execution_count": null,
   "metadata": {},
   "outputs": [],
   "source": []
  },
  {
   "cell_type": "code",
   "execution_count": 109,
   "metadata": {},
   "outputs": [
    {
     "data": {
      "text/html": [
       "<div>\n",
       "<style scoped>\n",
       "    .dataframe tbody tr th:only-of-type {\n",
       "        vertical-align: middle;\n",
       "    }\n",
       "\n",
       "    .dataframe tbody tr th {\n",
       "        vertical-align: top;\n",
       "    }\n",
       "\n",
       "    .dataframe thead th {\n",
       "        text-align: right;\n",
       "    }\n",
       "</style>\n",
       "<table border=\"1\" class=\"dataframe\">\n",
       "  <thead>\n",
       "    <tr style=\"text-align: right;\">\n",
       "      <th></th>\n",
       "      <th>Precision</th>\n",
       "      <th>Recall</th>\n",
       "      <th>F-Score</th>\n",
       "      <th>Balanced Accuracy</th>\n",
       "      <th>Kappa</th>\n",
       "    </tr>\n",
       "  </thead>\n",
       "  <tbody>\n",
       "    <tr>\n",
       "      <th>LC08_CU_010009_20180526_20190615_C01_V01_SNOW_05_convex_reprojected_clipped_clipped</th>\n",
       "      <td>0.925073</td>\n",
       "      <td>0.992812</td>\n",
       "      <td>0.957746</td>\n",
       "      <td>0.546657</td>\n",
       "      <td>0.148812</td>\n",
       "    </tr>\n",
       "  </tbody>\n",
       "</table>\n",
       "</div>"
      ],
      "text/plain": [
       "                                                    Precision    Recall  \\\n",
       "LC08_CU_010009_20180526_20190615_C01_V01_SNOW_0...   0.925073  0.992812   \n",
       "\n",
       "                                                     F-Score  \\\n",
       "LC08_CU_010009_20180526_20190615_C01_V01_SNOW_0...  0.957746   \n",
       "\n",
       "                                                    Balanced Accuracy  \\\n",
       "LC08_CU_010009_20180526_20190615_C01_V01_SNOW_0...           0.546657   \n",
       "\n",
       "                                                       Kappa  \n",
       "LC08_CU_010009_20180526_20190615_C01_V01_SNOW_0...  0.148812  "
      ]
     },
     "execution_count": 109,
     "metadata": {},
     "output_type": "execute_result"
    }
   ],
   "source": [
    "pd.DataFrame.from_dict({os.path.splitext(os.path.basename(result))[0].split(\"_vs_\")[1]:ans}, orient='index')"
   ]
  },
  {
   "cell_type": "markdown",
   "metadata": {},
   "source": [
    "## Apply to All Images"
   ]
  },
  {
   "cell_type": "code",
   "execution_count": 110,
   "metadata": {},
   "outputs": [],
   "source": [
    "ASO_glob = \"ASO*merged.tif\"\n",
    "comparison_res = [\n",
    "    \"*AnalyticMS_SR_clip_merged.tif\", # ML prediction\n",
    "    \"*SNOW_05*\", # LS8 fSCA, \n",
    "    \"NDSI*.tif\" # sentinel 2\n",
    "]"
   ]
  },
  {
   "cell_type": "code",
   "execution_count": 113,
   "metadata": {},
   "outputs": [
    {
     "name": "stdout",
     "output_type": "stream",
     "text": [
      "/Volumes/wrangell-st-elias/research/planet/tuol-reruns-v2/CO/s3:::planet-snowcover-models:ASO-3M-SD-USCASJ-20180601-Step2-V2-2020-03-03-17-49-47-260:planet-snowcover-imagery:20180524_172142_103d_3B_AnalyticMS_SR_clip/1a67755ed4c36fc7c29b9976f7729527/ASO_merged.tif\n",
      "/Volumes/wrangell-st-elias/research/planet/tuol-reruns-v2/CO/s3:::planet-snowcover-models:ASO-3M-SD-USCASJ-20180601-Step2-V2-2020-03-03-17-49-47-260:planet-snowcover-imagery:20180524_172142_103d_3B_AnalyticMS_SR_clip/1a67755ed4c36fc7c29b9976f7729527/20180524_172142_103d_3B_AnalyticMS_SR_clip_merged.tif\n",
      "/Volumes/wrangell-st-elias/research/planet/tuol-reruns-v2/CO/s3:::planet-snowcover-models:ASO-3M-SD-USCASJ-20180601-Step2-V2-2020-03-03-17-49-47-260:planet-snowcover-imagery:20180524_172142_103d_3B_AnalyticMS_SR_clip/1a67755ed4c36fc7c29b9976f7729527/ASO_merged.tif\n",
      "\n",
      "/Volumes/wrangell-st-elias/research/planet/tuol-reruns-v2/CO/s3:::planet-snowcover-models:ASO-3M-SD-USCASJ-20180601-Step2-V2-2020-03-03-17-49-47-260:planet-snowcover-imagery:20180524_172142_103d_3B_AnalyticMS_SR_clip/1a67755ed4c36fc7c29b9976f7729527/LC08_CU_010009_20180526_20190615_C01_V01_SNOW_05_convex_reprojected_clipped.tif\n",
      "/Volumes/wrangell-st-elias/research/planet/tuol-reruns-v2/CO/s3:::planet-snowcover-models:ASO-3M-SD-USCASJ-20180601-Step2-V2-2020-03-03-17-49-47-260:planet-snowcover-imagery:20180524_172142_103d_3B_AnalyticMS_SR_clip/1a67755ed4c36fc7c29b9976f7729527/ASO_merged.tif\n",
      "\n",
      "/Volumes/wrangell-st-elias/research/planet/tuol-reruns-v2/CO/s3:::planet-snowcover-models:ASO-3M-SD-USCASJ-20180601-Step2-V2-2020-03-03-17-49-47-260:planet-snowcover-imagery:20180524_172142_103d_3B_AnalyticMS_SR_clip/1a67755ed4c36fc7c29b9976f7729527/NDSI-clipped-ls8_reprojected_clipped.tif\n",
      "/Volumes/wrangell-st-elias/research/planet/tuol-reruns-v2/CO/s3:::planet-snowcover-models:ASO-3M-SD-USCASJ-20180601-Step2-V2-2020-03-03-17-49-47-260:planet-snowcover-imagery:20180524_172142_103d_3B_AnalyticMS_SR_clip/1a67755ed4c36fc7c29b9976f7729527/ASO_merged.tif\n",
      "\n",
      "/Volumes/wrangell-st-elias/research/planet/tuol-reruns-v2/CO/s3:::planet-snowcover-models:ASO-3M-SD-USCASJ-20180601-Step2-V2-2020-03-03-17-49-47-260:planet-snowcover-imagery:20180524_172143_103d_3B_AnalyticMS_SR_clip/b69ac802d5eb1b2c4053b44bcd9405e4/ASO_merged.tif\n",
      "/Volumes/wrangell-st-elias/research/planet/tuol-reruns-v2/CO/s3:::planet-snowcover-models:ASO-3M-SD-USCASJ-20180601-Step2-V2-2020-03-03-17-49-47-260:planet-snowcover-imagery:20180524_172143_103d_3B_AnalyticMS_SR_clip/b69ac802d5eb1b2c4053b44bcd9405e4/20180524_172143_103d_3B_AnalyticMS_SR_clip_merged.tif\n",
      "/Volumes/wrangell-st-elias/research/planet/tuol-reruns-v2/CO/s3:::planet-snowcover-models:ASO-3M-SD-USCASJ-20180601-Step2-V2-2020-03-03-17-49-47-260:planet-snowcover-imagery:20180524_172143_103d_3B_AnalyticMS_SR_clip/b69ac802d5eb1b2c4053b44bcd9405e4/ASO_merged.tif\n",
      "\n",
      "/Volumes/wrangell-st-elias/research/planet/tuol-reruns-v2/CO/s3:::planet-snowcover-models:ASO-3M-SD-USCASJ-20180601-Step2-V2-2020-03-03-17-49-47-260:planet-snowcover-imagery:20180524_172143_103d_3B_AnalyticMS_SR_clip/b69ac802d5eb1b2c4053b44bcd9405e4/LC08_CU_010009_20180526_20190615_C01_V01_SNOW_05_convex_reprojected_clipped.tif\n",
      "/Volumes/wrangell-st-elias/research/planet/tuol-reruns-v2/CO/s3:::planet-snowcover-models:ASO-3M-SD-USCASJ-20180601-Step2-V2-2020-03-03-17-49-47-260:planet-snowcover-imagery:20180524_172143_103d_3B_AnalyticMS_SR_clip/b69ac802d5eb1b2c4053b44bcd9405e4/ASO_merged.tif\n",
      "\n",
      "/Volumes/wrangell-st-elias/research/planet/tuol-reruns-v2/CO/s3:::planet-snowcover-models:ASO-3M-SD-USCASJ-20180601-Step2-V2-2020-03-03-17-49-47-260:planet-snowcover-imagery:20180524_172143_103d_3B_AnalyticMS_SR_clip/b69ac802d5eb1b2c4053b44bcd9405e4/NDSI-clipped-ls8_reprojected_clipped.tif\n",
      "/Volumes/wrangell-st-elias/research/planet/tuol-reruns-v2/CO/s3:::planet-snowcover-models:ASO-3M-SD-USCASJ-20180601-Step2-V2-2020-03-03-17-49-47-260:planet-snowcover-imagery:20180524_172143_103d_3B_AnalyticMS_SR_clip/b69ac802d5eb1b2c4053b44bcd9405e4/ASO_merged.tif\n",
      "\n",
      "/Volumes/wrangell-st-elias/research/planet/tuol-reruns-v2/CO/s3:::planet-snowcover-models:ASO-3M-SD-USCASJ-20180601-Step2-V2-2020-03-03-17-49-47-260:planet-snowcover-imagery:20180524_172144_103d_3B_AnalyticMS_SR_clip/e14ddcbe5ea877575bef8d0e28aff2d9/ASO_merged.tif\n",
      "/Volumes/wrangell-st-elias/research/planet/tuol-reruns-v2/CO/s3:::planet-snowcover-models:ASO-3M-SD-USCASJ-20180601-Step2-V2-2020-03-03-17-49-47-260:planet-snowcover-imagery:20180524_172144_103d_3B_AnalyticMS_SR_clip/e14ddcbe5ea877575bef8d0e28aff2d9/20180524_172144_103d_3B_AnalyticMS_SR_clip_merged.tif\n",
      "/Volumes/wrangell-st-elias/research/planet/tuol-reruns-v2/CO/s3:::planet-snowcover-models:ASO-3M-SD-USCASJ-20180601-Step2-V2-2020-03-03-17-49-47-260:planet-snowcover-imagery:20180524_172144_103d_3B_AnalyticMS_SR_clip/e14ddcbe5ea877575bef8d0e28aff2d9/ASO_merged.tif\n",
      "\n",
      "/Volumes/wrangell-st-elias/research/planet/tuol-reruns-v2/CO/s3:::planet-snowcover-models:ASO-3M-SD-USCASJ-20180601-Step2-V2-2020-03-03-17-49-47-260:planet-snowcover-imagery:20180524_172144_103d_3B_AnalyticMS_SR_clip/e14ddcbe5ea877575bef8d0e28aff2d9/LC08_CU_010009_20180526_20190615_C01_V01_SNOW_05_convex_reprojected_clipped.tif\n",
      "/Volumes/wrangell-st-elias/research/planet/tuol-reruns-v2/CO/s3:::planet-snowcover-models:ASO-3M-SD-USCASJ-20180601-Step2-V2-2020-03-03-17-49-47-260:planet-snowcover-imagery:20180524_172144_103d_3B_AnalyticMS_SR_clip/e14ddcbe5ea877575bef8d0e28aff2d9/ASO_merged.tif\n",
      "\n",
      "/Volumes/wrangell-st-elias/research/planet/tuol-reruns-v2/CO/s3:::planet-snowcover-models:ASO-3M-SD-USCASJ-20180601-Step2-V2-2020-03-03-17-49-47-260:planet-snowcover-imagery:20180524_172144_103d_3B_AnalyticMS_SR_clip/e14ddcbe5ea877575bef8d0e28aff2d9/NDSI-clipped-ls8_reprojected_clipped.tif\n",
      "/Volumes/wrangell-st-elias/research/planet/tuol-reruns-v2/CO/s3:::planet-snowcover-models:ASO-3M-SD-USCASJ-20180601-Step2-V2-2020-03-03-17-49-47-260:planet-snowcover-imagery:20180524_172144_103d_3B_AnalyticMS_SR_clip/e14ddcbe5ea877575bef8d0e28aff2d9/ASO_merged.tif\n",
      "\n",
      "/Volumes/wrangell-st-elias/research/planet/tuol-reruns-v2/CO/s3:::planet-snowcover-models:ASO-3M-SD-USCASJ-20180601-Step2-V2-2020-03-03-17-49-47-260:planet-snowcover-imagery:20180524_172145_103d_3B_AnalyticMS_SR_clip/2505347b45555757140c74cfbde8c7c3/ASO_merged.tif\n",
      "/Volumes/wrangell-st-elias/research/planet/tuol-reruns-v2/CO/s3:::planet-snowcover-models:ASO-3M-SD-USCASJ-20180601-Step2-V2-2020-03-03-17-49-47-260:planet-snowcover-imagery:20180524_172145_103d_3B_AnalyticMS_SR_clip/2505347b45555757140c74cfbde8c7c3/20180524_172145_103d_3B_AnalyticMS_SR_clip_merged.tif\n",
      "/Volumes/wrangell-st-elias/research/planet/tuol-reruns-v2/CO/s3:::planet-snowcover-models:ASO-3M-SD-USCASJ-20180601-Step2-V2-2020-03-03-17-49-47-260:planet-snowcover-imagery:20180524_172145_103d_3B_AnalyticMS_SR_clip/2505347b45555757140c74cfbde8c7c3/ASO_merged.tif\n",
      "\n",
      "/Volumes/wrangell-st-elias/research/planet/tuol-reruns-v2/CO/s3:::planet-snowcover-models:ASO-3M-SD-USCASJ-20180601-Step2-V2-2020-03-03-17-49-47-260:planet-snowcover-imagery:20180524_172145_103d_3B_AnalyticMS_SR_clip/2505347b45555757140c74cfbde8c7c3/LC08_CU_010009_20180526_20190615_C01_V01_SNOW_05_convex_reprojected_clipped.tif\n",
      "/Volumes/wrangell-st-elias/research/planet/tuol-reruns-v2/CO/s3:::planet-snowcover-models:ASO-3M-SD-USCASJ-20180601-Step2-V2-2020-03-03-17-49-47-260:planet-snowcover-imagery:20180524_172145_103d_3B_AnalyticMS_SR_clip/2505347b45555757140c74cfbde8c7c3/ASO_merged.tif\n",
      "\n",
      "/Volumes/wrangell-st-elias/research/planet/tuol-reruns-v2/CO/s3:::planet-snowcover-models:ASO-3M-SD-USCASJ-20180601-Step2-V2-2020-03-03-17-49-47-260:planet-snowcover-imagery:20180524_172145_103d_3B_AnalyticMS_SR_clip/2505347b45555757140c74cfbde8c7c3/NDSI-clipped-ls8_reprojected_clipped.tif\n",
      "/Volumes/wrangell-st-elias/research/planet/tuol-reruns-v2/CO/s3:::planet-snowcover-models:ASO-3M-SD-USCASJ-20180601-Step2-V2-2020-03-03-17-49-47-260:planet-snowcover-imagery:20180524_172145_103d_3B_AnalyticMS_SR_clip/2505347b45555757140c74cfbde8c7c3/ASO_merged.tif\n",
      "\n",
      "/Volumes/wrangell-st-elias/research/planet/tuol-reruns-v2/CO/s3:::planet-snowcover-models:ASO-3M-SD-USCASJ-20180601-Step2-V2-2020-03-03-17-49-47-260:planet-snowcover-imagery:20180524_172326_0f51_3B_AnalyticMS_SR_clip/d6bee031060a22d8670f3e58e31d4387/ASO_merged.tif\n",
      "/Volumes/wrangell-st-elias/research/planet/tuol-reruns-v2/CO/s3:::planet-snowcover-models:ASO-3M-SD-USCASJ-20180601-Step2-V2-2020-03-03-17-49-47-260:planet-snowcover-imagery:20180524_172326_0f51_3B_AnalyticMS_SR_clip/d6bee031060a22d8670f3e58e31d4387/20180524_172326_0f51_3B_AnalyticMS_SR_clip_merged.tif\n",
      "/Volumes/wrangell-st-elias/research/planet/tuol-reruns-v2/CO/s3:::planet-snowcover-models:ASO-3M-SD-USCASJ-20180601-Step2-V2-2020-03-03-17-49-47-260:planet-snowcover-imagery:20180524_172326_0f51_3B_AnalyticMS_SR_clip/d6bee031060a22d8670f3e58e31d4387/ASO_merged.tif\n",
      "\n",
      "/Volumes/wrangell-st-elias/research/planet/tuol-reruns-v2/CO/s3:::planet-snowcover-models:ASO-3M-SD-USCASJ-20180601-Step2-V2-2020-03-03-17-49-47-260:planet-snowcover-imagery:20180524_172326_0f51_3B_AnalyticMS_SR_clip/d6bee031060a22d8670f3e58e31d4387/LC08_CU_010009_20180526_20190615_C01_V01_SNOW_05_convex_reprojected_clipped.tif\n",
      "/Volumes/wrangell-st-elias/research/planet/tuol-reruns-v2/CO/s3:::planet-snowcover-models:ASO-3M-SD-USCASJ-20180601-Step2-V2-2020-03-03-17-49-47-260:planet-snowcover-imagery:20180524_172326_0f51_3B_AnalyticMS_SR_clip/d6bee031060a22d8670f3e58e31d4387/ASO_merged.tif\n",
      "\n",
      "/Volumes/wrangell-st-elias/research/planet/tuol-reruns-v2/CO/s3:::planet-snowcover-models:ASO-3M-SD-USCASJ-20180601-Step2-V2-2020-03-03-17-49-47-260:planet-snowcover-imagery:20180524_172326_0f51_3B_AnalyticMS_SR_clip/d6bee031060a22d8670f3e58e31d4387/NDSI-clipped-ls8_reprojected_clipped.tif\n",
      "/Volumes/wrangell-st-elias/research/planet/tuol-reruns-v2/CO/s3:::planet-snowcover-models:ASO-3M-SD-USCASJ-20180601-Step2-V2-2020-03-03-17-49-47-260:planet-snowcover-imagery:20180524_172326_0f51_3B_AnalyticMS_SR_clip/d6bee031060a22d8670f3e58e31d4387/ASO_merged.tif\n",
      "\n",
      "/Volumes/wrangell-st-elias/research/planet/tuol-reruns-v2/CO/s3:::planet-snowcover-models:ASO-3M-SD-USCASJ-20180601-Step2-V2-2020-03-03-17-49-47-260:planet-snowcover-imagery:20180524_172327_0f51_3B_AnalyticMS_SR_clip/fc4e589ab500091297a4b9a6d771c9fe/ASO_merged.tif\n",
      "/Volumes/wrangell-st-elias/research/planet/tuol-reruns-v2/CO/s3:::planet-snowcover-models:ASO-3M-SD-USCASJ-20180601-Step2-V2-2020-03-03-17-49-47-260:planet-snowcover-imagery:20180524_172327_0f51_3B_AnalyticMS_SR_clip/fc4e589ab500091297a4b9a6d771c9fe/20180524_172327_0f51_3B_AnalyticMS_SR_clip_merged.tif\n",
      "/Volumes/wrangell-st-elias/research/planet/tuol-reruns-v2/CO/s3:::planet-snowcover-models:ASO-3M-SD-USCASJ-20180601-Step2-V2-2020-03-03-17-49-47-260:planet-snowcover-imagery:20180524_172327_0f51_3B_AnalyticMS_SR_clip/fc4e589ab500091297a4b9a6d771c9fe/ASO_merged.tif\n",
      "\n",
      "/Volumes/wrangell-st-elias/research/planet/tuol-reruns-v2/CO/s3:::planet-snowcover-models:ASO-3M-SD-USCASJ-20180601-Step2-V2-2020-03-03-17-49-47-260:planet-snowcover-imagery:20180524_172327_0f51_3B_AnalyticMS_SR_clip/fc4e589ab500091297a4b9a6d771c9fe/LC08_CU_010009_20180526_20190615_C01_V01_SNOW_05_convex_reprojected_clipped.tif\n",
      "/Volumes/wrangell-st-elias/research/planet/tuol-reruns-v2/CO/s3:::planet-snowcover-models:ASO-3M-SD-USCASJ-20180601-Step2-V2-2020-03-03-17-49-47-260:planet-snowcover-imagery:20180524_172327_0f51_3B_AnalyticMS_SR_clip/fc4e589ab500091297a4b9a6d771c9fe/ASO_merged.tif\n",
      "\n",
      "/Volumes/wrangell-st-elias/research/planet/tuol-reruns-v2/CO/s3:::planet-snowcover-models:ASO-3M-SD-USCASJ-20180601-Step2-V2-2020-03-03-17-49-47-260:planet-snowcover-imagery:20180524_172327_0f51_3B_AnalyticMS_SR_clip/fc4e589ab500091297a4b9a6d771c9fe/NDSI-clipped-ls8_reprojected_clipped.tif\n",
      "/Volumes/wrangell-st-elias/research/planet/tuol-reruns-v2/CO/s3:::planet-snowcover-models:ASO-3M-SD-USCASJ-20180601-Step2-V2-2020-03-03-17-49-47-260:planet-snowcover-imagery:20180524_172327_0f51_3B_AnalyticMS_SR_clip/fc4e589ab500091297a4b9a6d771c9fe/ASO_merged.tif\n",
      "\n",
      "/Volumes/wrangell-st-elias/research/planet/tuol-reruns-v2/CO/s3:::planet-snowcover-models:ASO-3M-SD-USCASJ-20180601-Step2-V2-2020-03-03-17-49-47-260:planet-snowcover-imagery:20180524_172329_0f51_3B_AnalyticMS_SR_clip/21336994dfc46fe6abf10d8fef455790/ASO_merged.tif\n",
      "/Volumes/wrangell-st-elias/research/planet/tuol-reruns-v2/CO/s3:::planet-snowcover-models:ASO-3M-SD-USCASJ-20180601-Step2-V2-2020-03-03-17-49-47-260:planet-snowcover-imagery:20180524_172329_0f51_3B_AnalyticMS_SR_clip/21336994dfc46fe6abf10d8fef455790/20180524_172329_0f51_3B_AnalyticMS_SR_clip_merged.tif\n",
      "/Volumes/wrangell-st-elias/research/planet/tuol-reruns-v2/CO/s3:::planet-snowcover-models:ASO-3M-SD-USCASJ-20180601-Step2-V2-2020-03-03-17-49-47-260:planet-snowcover-imagery:20180524_172329_0f51_3B_AnalyticMS_SR_clip/21336994dfc46fe6abf10d8fef455790/ASO_merged.tif\n",
      "\n",
      "/Volumes/wrangell-st-elias/research/planet/tuol-reruns-v2/CO/s3:::planet-snowcover-models:ASO-3M-SD-USCASJ-20180601-Step2-V2-2020-03-03-17-49-47-260:planet-snowcover-imagery:20180524_172329_0f51_3B_AnalyticMS_SR_clip/21336994dfc46fe6abf10d8fef455790/LC08_CU_010009_20180526_20190615_C01_V01_SNOW_05_convex_reprojected_clipped.tif\n",
      "/Volumes/wrangell-st-elias/research/planet/tuol-reruns-v2/CO/s3:::planet-snowcover-models:ASO-3M-SD-USCASJ-20180601-Step2-V2-2020-03-03-17-49-47-260:planet-snowcover-imagery:20180524_172329_0f51_3B_AnalyticMS_SR_clip/21336994dfc46fe6abf10d8fef455790/ASO_merged.tif\n",
      "\n",
      "/Volumes/wrangell-st-elias/research/planet/tuol-reruns-v2/CO/s3:::planet-snowcover-models:ASO-3M-SD-USCASJ-20180601-Step2-V2-2020-03-03-17-49-47-260:planet-snowcover-imagery:20180524_172329_0f51_3B_AnalyticMS_SR_clip/21336994dfc46fe6abf10d8fef455790/NDSI-clipped-ls8_reprojected_clipped.tif\n",
      "/Volumes/wrangell-st-elias/research/planet/tuol-reruns-v2/CO/s3:::planet-snowcover-models:ASO-3M-SD-USCASJ-20180601-Step2-V2-2020-03-03-17-49-47-260:planet-snowcover-imagery:20180524_172329_0f51_3B_AnalyticMS_SR_clip/21336994dfc46fe6abf10d8fef455790/ASO_merged.tif\n",
      "\n",
      "/Volumes/wrangell-st-elias/research/planet/tuol-reruns-v2/CO/s3:::planet-snowcover-models:ASO-3M-SD-USCASJ-20180601-Step2-V2-2020-03-03-17-49-47-260:planet-snowcover-imagery:20180524_172330_0f51_3B_AnalyticMS_SR_clip/941b89d245fb722f5f3ad07063fb4d6b/ASO_merged.tif\n",
      "/Volumes/wrangell-st-elias/research/planet/tuol-reruns-v2/CO/s3:::planet-snowcover-models:ASO-3M-SD-USCASJ-20180601-Step2-V2-2020-03-03-17-49-47-260:planet-snowcover-imagery:20180524_172330_0f51_3B_AnalyticMS_SR_clip/941b89d245fb722f5f3ad07063fb4d6b/20180524_172330_0f51_3B_AnalyticMS_SR_clip_merged.tif\n",
      "/Volumes/wrangell-st-elias/research/planet/tuol-reruns-v2/CO/s3:::planet-snowcover-models:ASO-3M-SD-USCASJ-20180601-Step2-V2-2020-03-03-17-49-47-260:planet-snowcover-imagery:20180524_172330_0f51_3B_AnalyticMS_SR_clip/941b89d245fb722f5f3ad07063fb4d6b/ASO_merged.tif\n",
      "\n",
      "/Volumes/wrangell-st-elias/research/planet/tuol-reruns-v2/CO/s3:::planet-snowcover-models:ASO-3M-SD-USCASJ-20180601-Step2-V2-2020-03-03-17-49-47-260:planet-snowcover-imagery:20180524_172330_0f51_3B_AnalyticMS_SR_clip/941b89d245fb722f5f3ad07063fb4d6b/LC08_CU_010009_20180526_20190615_C01_V01_SNOW_05_convex_reprojected_clipped.tif\n",
      "/Volumes/wrangell-st-elias/research/planet/tuol-reruns-v2/CO/s3:::planet-snowcover-models:ASO-3M-SD-USCASJ-20180601-Step2-V2-2020-03-03-17-49-47-260:planet-snowcover-imagery:20180524_172330_0f51_3B_AnalyticMS_SR_clip/941b89d245fb722f5f3ad07063fb4d6b/ASO_merged.tif\n",
      "\n",
      "/Volumes/wrangell-st-elias/research/planet/tuol-reruns-v2/CO/s3:::planet-snowcover-models:ASO-3M-SD-USCASJ-20180601-Step2-V2-2020-03-03-17-49-47-260:planet-snowcover-imagery:20180524_172330_0f51_3B_AnalyticMS_SR_clip/941b89d245fb722f5f3ad07063fb4d6b/NDSI-clipped-ls8_reprojected_clipped.tif\n",
      "/Volumes/wrangell-st-elias/research/planet/tuol-reruns-v2/CO/s3:::planet-snowcover-models:ASO-3M-SD-USCASJ-20180601-Step2-V2-2020-03-03-17-49-47-260:planet-snowcover-imagery:20180524_172330_0f51_3B_AnalyticMS_SR_clip/941b89d245fb722f5f3ad07063fb4d6b/ASO_merged.tif\n",
      "\n",
      "/Volumes/wrangell-st-elias/research/planet/tuol-reruns-v2/CO/s3:::planet-snowcover-models:ASO-3M-SD-USCASJ-20180601-Step2-V2-2020-03-03-17-49-47-260:planet-snowcover-imagery:20180524_172331_0f51_3B_AnalyticMS_SR_clip/f6044efa6e5c2612c82a150c95dd141a/ASO_merged.tif\n",
      "/Volumes/wrangell-st-elias/research/planet/tuol-reruns-v2/CO/s3:::planet-snowcover-models:ASO-3M-SD-USCASJ-20180601-Step2-V2-2020-03-03-17-49-47-260:planet-snowcover-imagery:20180524_172331_0f51_3B_AnalyticMS_SR_clip/f6044efa6e5c2612c82a150c95dd141a/20180524_172331_0f51_3B_AnalyticMS_SR_clip_merged.tif\n",
      "/Volumes/wrangell-st-elias/research/planet/tuol-reruns-v2/CO/s3:::planet-snowcover-models:ASO-3M-SD-USCASJ-20180601-Step2-V2-2020-03-03-17-49-47-260:planet-snowcover-imagery:20180524_172331_0f51_3B_AnalyticMS_SR_clip/f6044efa6e5c2612c82a150c95dd141a/ASO_merged.tif\n",
      "\n",
      "/Volumes/wrangell-st-elias/research/planet/tuol-reruns-v2/CO/s3:::planet-snowcover-models:ASO-3M-SD-USCASJ-20180601-Step2-V2-2020-03-03-17-49-47-260:planet-snowcover-imagery:20180524_172331_0f51_3B_AnalyticMS_SR_clip/f6044efa6e5c2612c82a150c95dd141a/LC08_CU_010009_20180526_20190615_C01_V01_SNOW_05_convex_reprojected_clipped.tif\n",
      "/Volumes/wrangell-st-elias/research/planet/tuol-reruns-v2/CO/s3:::planet-snowcover-models:ASO-3M-SD-USCASJ-20180601-Step2-V2-2020-03-03-17-49-47-260:planet-snowcover-imagery:20180524_172331_0f51_3B_AnalyticMS_SR_clip/f6044efa6e5c2612c82a150c95dd141a/ASO_merged.tif\n",
      "\n",
      "/Volumes/wrangell-st-elias/research/planet/tuol-reruns-v2/CO/s3:::planet-snowcover-models:ASO-3M-SD-USCASJ-20180601-Step2-V2-2020-03-03-17-49-47-260:planet-snowcover-imagery:20180524_172331_0f51_3B_AnalyticMS_SR_clip/f6044efa6e5c2612c82a150c95dd141a/NDSI-clipped-ls8_reprojected_clipped.tif\n",
      "/Volumes/wrangell-st-elias/research/planet/tuol-reruns-v2/CO/s3:::planet-snowcover-models:ASO-3M-SD-USCASJ-20180601-Step2-V2-2020-03-03-17-49-47-260:planet-snowcover-imagery:20180524_172331_0f51_3B_AnalyticMS_SR_clip/f6044efa6e5c2612c82a150c95dd141a/ASO_merged.tif\n",
      "\n",
      "/Volumes/wrangell-st-elias/research/planet/tuol-reruns-v2/CO/s3:::planet-snowcover-models:ASO-3M-SD-USCASJ-20180601-Step2-V2-2020-03-03-17-49-47-260:planet-snowcover-imagery:20180524_172634_0f2d_3B_AnalyticMS_SR_clip/131d70539c9855c284efc0f6e1037543/ASO_merged.tif\n",
      "/Volumes/wrangell-st-elias/research/planet/tuol-reruns-v2/CO/s3:::planet-snowcover-models:ASO-3M-SD-USCASJ-20180601-Step2-V2-2020-03-03-17-49-47-260:planet-snowcover-imagery:20180524_172634_0f2d_3B_AnalyticMS_SR_clip/131d70539c9855c284efc0f6e1037543/20180524_172634_0f2d_3B_AnalyticMS_SR_clip_merged.tif\n",
      "/Volumes/wrangell-st-elias/research/planet/tuol-reruns-v2/CO/s3:::planet-snowcover-models:ASO-3M-SD-USCASJ-20180601-Step2-V2-2020-03-03-17-49-47-260:planet-snowcover-imagery:20180524_172634_0f2d_3B_AnalyticMS_SR_clip/131d70539c9855c284efc0f6e1037543/ASO_merged.tif\n",
      "\n",
      "/Volumes/wrangell-st-elias/research/planet/tuol-reruns-v2/CO/s3:::planet-snowcover-models:ASO-3M-SD-USCASJ-20180601-Step2-V2-2020-03-03-17-49-47-260:planet-snowcover-imagery:20180524_172634_0f2d_3B_AnalyticMS_SR_clip/131d70539c9855c284efc0f6e1037543/LC08_CU_010009_20180526_20190615_C01_V01_SNOW_05_convex_reprojected_clipped.tif\n",
      "/Volumes/wrangell-st-elias/research/planet/tuol-reruns-v2/CO/s3:::planet-snowcover-models:ASO-3M-SD-USCASJ-20180601-Step2-V2-2020-03-03-17-49-47-260:planet-snowcover-imagery:20180524_172634_0f2d_3B_AnalyticMS_SR_clip/131d70539c9855c284efc0f6e1037543/ASO_merged.tif\n",
      "\n",
      "/Volumes/wrangell-st-elias/research/planet/tuol-reruns-v2/CO/s3:::planet-snowcover-models:ASO-3M-SD-USCASJ-20180601-Step2-V2-2020-03-03-17-49-47-260:planet-snowcover-imagery:20180524_172634_0f2d_3B_AnalyticMS_SR_clip/131d70539c9855c284efc0f6e1037543/NDSI-clipped-ls8_reprojected_clipped.tif\n",
      "/Volumes/wrangell-st-elias/research/planet/tuol-reruns-v2/CO/s3:::planet-snowcover-models:ASO-3M-SD-USCASJ-20180601-Step2-V2-2020-03-03-17-49-47-260:planet-snowcover-imagery:20180524_172634_0f2d_3B_AnalyticMS_SR_clip/131d70539c9855c284efc0f6e1037543/ASO_merged.tif\n",
      "\n",
      "/Volumes/wrangell-st-elias/research/planet/tuol-reruns-v2/CO/s3:::planet-snowcover-models:ASO-3M-SD-USCASJ-20180601-Step2-V2-2020-03-03-17-49-47-260:planet-snowcover-imagery:20180524_172635_0f2d_3B_AnalyticMS_SR_clip/5dca390795e7f451ccb473a2a9258aad/ASO_merged.tif\n",
      "/Volumes/wrangell-st-elias/research/planet/tuol-reruns-v2/CO/s3:::planet-snowcover-models:ASO-3M-SD-USCASJ-20180601-Step2-V2-2020-03-03-17-49-47-260:planet-snowcover-imagery:20180524_172635_0f2d_3B_AnalyticMS_SR_clip/5dca390795e7f451ccb473a2a9258aad/20180524_172635_0f2d_3B_AnalyticMS_SR_clip_merged.tif\n",
      "/Volumes/wrangell-st-elias/research/planet/tuol-reruns-v2/CO/s3:::planet-snowcover-models:ASO-3M-SD-USCASJ-20180601-Step2-V2-2020-03-03-17-49-47-260:planet-snowcover-imagery:20180524_172635_0f2d_3B_AnalyticMS_SR_clip/5dca390795e7f451ccb473a2a9258aad/ASO_merged.tif\n",
      "\n",
      "/Volumes/wrangell-st-elias/research/planet/tuol-reruns-v2/CO/s3:::planet-snowcover-models:ASO-3M-SD-USCASJ-20180601-Step2-V2-2020-03-03-17-49-47-260:planet-snowcover-imagery:20180524_172635_0f2d_3B_AnalyticMS_SR_clip/5dca390795e7f451ccb473a2a9258aad/LC08_CU_010009_20180526_20190615_C01_V01_SNOW_05_convex_reprojected_clipped.tif\n",
      "/Volumes/wrangell-st-elias/research/planet/tuol-reruns-v2/CO/s3:::planet-snowcover-models:ASO-3M-SD-USCASJ-20180601-Step2-V2-2020-03-03-17-49-47-260:planet-snowcover-imagery:20180524_172635_0f2d_3B_AnalyticMS_SR_clip/5dca390795e7f451ccb473a2a9258aad/ASO_merged.tif\n",
      "\n",
      "/Volumes/wrangell-st-elias/research/planet/tuol-reruns-v2/CO/s3:::planet-snowcover-models:ASO-3M-SD-USCASJ-20180601-Step2-V2-2020-03-03-17-49-47-260:planet-snowcover-imagery:20180524_172635_0f2d_3B_AnalyticMS_SR_clip/5dca390795e7f451ccb473a2a9258aad/NDSI-clipped-ls8_reprojected_clipped.tif\n",
      "/Volumes/wrangell-st-elias/research/planet/tuol-reruns-v2/CO/s3:::planet-snowcover-models:ASO-3M-SD-USCASJ-20180601-Step2-V2-2020-03-03-17-49-47-260:planet-snowcover-imagery:20180524_172635_0f2d_3B_AnalyticMS_SR_clip/5dca390795e7f451ccb473a2a9258aad/ASO_merged.tif\n",
      "\n",
      "/Volumes/wrangell-st-elias/research/planet/tuol-reruns-v2/CO/s3:::planet-snowcover-models:ASO-3M-SD-USCASJ-20180601-Step2-V2-2020-03-03-17-49-47-260:planet-snowcover-imagery:20180524_172637_0f2d_3B_AnalyticMS_SR_clip/32776e534dede28c6635a4f4a15f723a/ASO_merged.tif\n",
      "/Volumes/wrangell-st-elias/research/planet/tuol-reruns-v2/CO/s3:::planet-snowcover-models:ASO-3M-SD-USCASJ-20180601-Step2-V2-2020-03-03-17-49-47-260:planet-snowcover-imagery:20180524_172637_0f2d_3B_AnalyticMS_SR_clip/32776e534dede28c6635a4f4a15f723a/20180524_172637_0f2d_3B_AnalyticMS_SR_clip_merged.tif\n",
      "/Volumes/wrangell-st-elias/research/planet/tuol-reruns-v2/CO/s3:::planet-snowcover-models:ASO-3M-SD-USCASJ-20180601-Step2-V2-2020-03-03-17-49-47-260:planet-snowcover-imagery:20180524_172637_0f2d_3B_AnalyticMS_SR_clip/32776e534dede28c6635a4f4a15f723a/ASO_merged.tif\n",
      "\n",
      "/Volumes/wrangell-st-elias/research/planet/tuol-reruns-v2/CO/s3:::planet-snowcover-models:ASO-3M-SD-USCASJ-20180601-Step2-V2-2020-03-03-17-49-47-260:planet-snowcover-imagery:20180524_172637_0f2d_3B_AnalyticMS_SR_clip/32776e534dede28c6635a4f4a15f723a/LC08_CU_010009_20180526_20190615_C01_V01_SNOW_05_convex_reprojected_clipped.tif\n",
      "/Volumes/wrangell-st-elias/research/planet/tuol-reruns-v2/CO/s3:::planet-snowcover-models:ASO-3M-SD-USCASJ-20180601-Step2-V2-2020-03-03-17-49-47-260:planet-snowcover-imagery:20180524_172637_0f2d_3B_AnalyticMS_SR_clip/32776e534dede28c6635a4f4a15f723a/ASO_merged.tif\n",
      "\n",
      "/Volumes/wrangell-st-elias/research/planet/tuol-reruns-v2/CO/s3:::planet-snowcover-models:ASO-3M-SD-USCASJ-20180601-Step2-V2-2020-03-03-17-49-47-260:planet-snowcover-imagery:20180524_172637_0f2d_3B_AnalyticMS_SR_clip/32776e534dede28c6635a4f4a15f723a/NDSI-clipped-ls8_reprojected_clipped.tif\n",
      "/Volumes/wrangell-st-elias/research/planet/tuol-reruns-v2/CO/s3:::planet-snowcover-models:ASO-3M-SD-USCASJ-20180601-Step2-V2-2020-03-03-17-49-47-260:planet-snowcover-imagery:20180524_172637_0f2d_3B_AnalyticMS_SR_clip/32776e534dede28c6635a4f4a15f723a/ASO_merged.tif\n",
      "\n"
     ]
    }
   ],
   "source": [
    "comparisons = []\n",
    "for comparator in comparator_dirs:    \n",
    "    these_comparisons = []\n",
    "    this_ASO = glob(os.path.join(comparator, ASO_glob))[0]\n",
    "    print(this_ASO)\n",
    "    for to_compare in comparison_res:\n",
    "        this_comparator = glob(os.path.join(comparator, to_compare))[0]\n",
    "        print(this_comparator)\n",
    "        print(this_ASO)\n",
    "        these_comparisons.append(coarsen(this_ASO, this_comparator))\n",
    "        \n",
    "    comparisons.append(these_comparisons)\n",
    "        \n",
    "        \n",
    "    "
   ]
  },
  {
   "cell_type": "code",
   "execution_count": 115,
   "metadata": {},
   "outputs": [
    {
     "name": "stdout",
     "output_type": "stream",
     "text": [
      "[0 1] [0 1]\n",
      "[0 1] [0 1]\n",
      "[0 1] [0 1]\n",
      "[0 1] [0 1]\n",
      "[0 1] [0 1]\n",
      "[0 1] [0 1]\n",
      "[0 1] [0 1]\n",
      "[0 1] [0 1]\n",
      "[0 1] [0 1]\n",
      "[0 1] [0 1]\n",
      "[0 1] [0 1]\n",
      "[0 1] [0 1]\n",
      "[0 1] [0 1]\n",
      "[0 1] [0 1]\n",
      "[0 1] [0 1]\n",
      "[0 1] [0 1]\n",
      "[0 1] [0 1]\n",
      "[0 1] [0 1]\n",
      "[0 1] [0 1]\n",
      "[0 1] [0 1]\n",
      "[0 1] [0 1]\n",
      "[0 1] [0 1]\n",
      "[0 1] [0 1]\n",
      "[0 1] [0 1]\n",
      "[0 1] [0 1]\n",
      "[0 1] [0 1]\n",
      "[0 1] [0 1]\n",
      "[0 1] [0 1]\n",
      "[0 1] [0 1]\n",
      "[0 1] [0 1]\n",
      "[0 1] [0 1]\n",
      "[0 1] [0 1]\n",
      "[0 1] [0 1]\n",
      "[0 1] [0 1]\n",
      "[0 1] [0 1]\n",
      "[0 1] [0 1]\n"
     ]
    }
   ],
   "source": [
    "all_metrics = []\n",
    "for comparator, these_comparisons in zip(comparator_dirs, comparisons):\n",
    "    imageid = comparator.split('/')[-2].split(\":\")[-1]\n",
    "    \n",
    "    perf_metrics = []\n",
    "    for comparison in these_comparisons:\n",
    "        # e.g. ASO_vs_<ndsi/ls8/etc>.tif, get comparison type\n",
    "        compared_to = os.path.splitext(os.path.basename(comparison))[0].split(\"_vs_\")[1]\n",
    "        this_comparison = rio.open(comparison)\n",
    "        perf_metrics.append(pd.DataFrame.from_dict({\n",
    "            compared_to : compute_performance(\n",
    "                            this_comparison.read(1, masked=True),\n",
    "                            this_comparison.read(2, masked=True))\n",
    "        }, orient='index'))\n",
    "    \n",
    "    tmp_df = pd.concat(perf_metrics)\n",
    "    tmp_df.to_csv(os.path.join(comparator, f\"{imageid}_metrics.csv\"), index=False)\n",
    "    tmp_df['image_id'] = imageid\n",
    "    all_metrics.append(tmp_df)"
   ]
  },
  {
   "cell_type": "code",
   "execution_count": 116,
   "metadata": {},
   "outputs": [],
   "source": [
    "all_results = pd.concat(all_metrics)"
   ]
  },
  {
   "cell_type": "markdown",
   "metadata": {},
   "source": [
    "## Plot Results\n",
    "\n",
    "Must reshape for plotting. "
   ]
  },
  {
   "cell_type": "code",
   "execution_count": 117,
   "metadata": {},
   "outputs": [],
   "source": [
    "preds = all_results[all_results.index.str.contains(\"AnalyticMS\")]\n",
    "s2 = all_results[all_results.index.str.contains(\"NDSI\")]\n",
    "ls8 = all_results[all_results.index.str.contains(\"SNOW\")]\n",
    "\n",
    "preds = preds.reset_index(drop=True)\n",
    "preds[\"SCA\"] = \"CubeSat ML\"\n",
    "\n",
    "s2 = s2.reset_index(drop=True)\n",
    "s2[\"SCA\"] = \"Sentinel 2 NDSI\"\n",
    "\n",
    "ls8 = ls8.reset_index(drop=True)\n",
    "ls8[\"SCA\"] = \"Landsat 8 fSCA\""
   ]
  },
  {
   "cell_type": "code",
   "execution_count": 121,
   "metadata": {},
   "outputs": [],
   "source": [
    "all_reshaped = pd.concat([preds, s2, ls8])"
   ]
  },
  {
   "cell_type": "code",
   "execution_count": 123,
   "metadata": {},
   "outputs": [],
   "source": [
    "melted = pd.melt(all_reshaped.reset_index(), id_vars=['index', 'SCA', 'image_id'])\n",
    "melted.value = pd.to_numeric(melted.value)"
   ]
  },
  {
   "cell_type": "code",
   "execution_count": 124,
   "metadata": {},
   "outputs": [
    {
     "data": {
      "text/html": [
       "<div>\n",
       "<style scoped>\n",
       "    .dataframe tbody tr th:only-of-type {\n",
       "        vertical-align: middle;\n",
       "    }\n",
       "\n",
       "    .dataframe tbody tr th {\n",
       "        vertical-align: top;\n",
       "    }\n",
       "\n",
       "    .dataframe thead th {\n",
       "        text-align: right;\n",
       "    }\n",
       "</style>\n",
       "<table border=\"1\" class=\"dataframe\">\n",
       "  <thead>\n",
       "    <tr style=\"text-align: right;\">\n",
       "      <th></th>\n",
       "      <th>index</th>\n",
       "      <th>SCA</th>\n",
       "      <th>image_id</th>\n",
       "      <th>variable</th>\n",
       "      <th>value</th>\n",
       "    </tr>\n",
       "  </thead>\n",
       "  <tbody>\n",
       "    <tr>\n",
       "      <th>0</th>\n",
       "      <td>0</td>\n",
       "      <td>CubeSat ML</td>\n",
       "      <td>20180524_172142_103d_3B_AnalyticMS_SR_clip</td>\n",
       "      <td>Precision</td>\n",
       "      <td>0.958382</td>\n",
       "    </tr>\n",
       "    <tr>\n",
       "      <th>1</th>\n",
       "      <td>1</td>\n",
       "      <td>CubeSat ML</td>\n",
       "      <td>20180524_172143_103d_3B_AnalyticMS_SR_clip</td>\n",
       "      <td>Precision</td>\n",
       "      <td>0.833033</td>\n",
       "    </tr>\n",
       "    <tr>\n",
       "      <th>2</th>\n",
       "      <td>2</td>\n",
       "      <td>CubeSat ML</td>\n",
       "      <td>20180524_172144_103d_3B_AnalyticMS_SR_clip</td>\n",
       "      <td>Precision</td>\n",
       "      <td>0.792962</td>\n",
       "    </tr>\n",
       "    <tr>\n",
       "      <th>3</th>\n",
       "      <td>3</td>\n",
       "      <td>CubeSat ML</td>\n",
       "      <td>20180524_172145_103d_3B_AnalyticMS_SR_clip</td>\n",
       "      <td>Precision</td>\n",
       "      <td>0.856812</td>\n",
       "    </tr>\n",
       "    <tr>\n",
       "      <th>4</th>\n",
       "      <td>4</td>\n",
       "      <td>CubeSat ML</td>\n",
       "      <td>20180524_172326_0f51_3B_AnalyticMS_SR_clip</td>\n",
       "      <td>Precision</td>\n",
       "      <td>0.738694</td>\n",
       "    </tr>\n",
       "    <tr>\n",
       "      <th>...</th>\n",
       "      <td>...</td>\n",
       "      <td>...</td>\n",
       "      <td>...</td>\n",
       "      <td>...</td>\n",
       "      <td>...</td>\n",
       "    </tr>\n",
       "    <tr>\n",
       "      <th>175</th>\n",
       "      <td>7</td>\n",
       "      <td>Landsat 8 fSCA</td>\n",
       "      <td>20180524_172330_0f51_3B_AnalyticMS_SR_clip</td>\n",
       "      <td>Kappa</td>\n",
       "      <td>0.561309</td>\n",
       "    </tr>\n",
       "    <tr>\n",
       "      <th>176</th>\n",
       "      <td>8</td>\n",
       "      <td>Landsat 8 fSCA</td>\n",
       "      <td>20180524_172331_0f51_3B_AnalyticMS_SR_clip</td>\n",
       "      <td>Kappa</td>\n",
       "      <td>0.395526</td>\n",
       "    </tr>\n",
       "    <tr>\n",
       "      <th>177</th>\n",
       "      <td>9</td>\n",
       "      <td>Landsat 8 fSCA</td>\n",
       "      <td>20180524_172634_0f2d_3B_AnalyticMS_SR_clip</td>\n",
       "      <td>Kappa</td>\n",
       "      <td>0.452726</td>\n",
       "    </tr>\n",
       "    <tr>\n",
       "      <th>178</th>\n",
       "      <td>10</td>\n",
       "      <td>Landsat 8 fSCA</td>\n",
       "      <td>20180524_172635_0f2d_3B_AnalyticMS_SR_clip</td>\n",
       "      <td>Kappa</td>\n",
       "      <td>0.723014</td>\n",
       "    </tr>\n",
       "    <tr>\n",
       "      <th>179</th>\n",
       "      <td>11</td>\n",
       "      <td>Landsat 8 fSCA</td>\n",
       "      <td>20180524_172637_0f2d_3B_AnalyticMS_SR_clip</td>\n",
       "      <td>Kappa</td>\n",
       "      <td>0.716405</td>\n",
       "    </tr>\n",
       "  </tbody>\n",
       "</table>\n",
       "<p>180 rows × 5 columns</p>\n",
       "</div>"
      ],
      "text/plain": [
       "     index             SCA                                    image_id  \\\n",
       "0        0      CubeSat ML  20180524_172142_103d_3B_AnalyticMS_SR_clip   \n",
       "1        1      CubeSat ML  20180524_172143_103d_3B_AnalyticMS_SR_clip   \n",
       "2        2      CubeSat ML  20180524_172144_103d_3B_AnalyticMS_SR_clip   \n",
       "3        3      CubeSat ML  20180524_172145_103d_3B_AnalyticMS_SR_clip   \n",
       "4        4      CubeSat ML  20180524_172326_0f51_3B_AnalyticMS_SR_clip   \n",
       "..     ...             ...                                         ...   \n",
       "175      7  Landsat 8 fSCA  20180524_172330_0f51_3B_AnalyticMS_SR_clip   \n",
       "176      8  Landsat 8 fSCA  20180524_172331_0f51_3B_AnalyticMS_SR_clip   \n",
       "177      9  Landsat 8 fSCA  20180524_172634_0f2d_3B_AnalyticMS_SR_clip   \n",
       "178     10  Landsat 8 fSCA  20180524_172635_0f2d_3B_AnalyticMS_SR_clip   \n",
       "179     11  Landsat 8 fSCA  20180524_172637_0f2d_3B_AnalyticMS_SR_clip   \n",
       "\n",
       "      variable     value  \n",
       "0    Precision  0.958382  \n",
       "1    Precision  0.833033  \n",
       "2    Precision  0.792962  \n",
       "3    Precision  0.856812  \n",
       "4    Precision  0.738694  \n",
       "..         ...       ...  \n",
       "175      Kappa  0.561309  \n",
       "176      Kappa  0.395526  \n",
       "177      Kappa  0.452726  \n",
       "178      Kappa  0.723014  \n",
       "179      Kappa  0.716405  \n",
       "\n",
       "[180 rows x 5 columns]"
      ]
     },
     "execution_count": 124,
     "metadata": {},
     "output_type": "execute_result"
    }
   ],
   "source": [
    "melted"
   ]
  },
  {
   "cell_type": "code",
   "execution_count": 125,
   "metadata": {},
   "outputs": [
    {
     "data": {
      "image/png": "[encoded data removed]",
      "text/plain": [
       "<Figure size 3450x1500 with 1 Axes>"
      ]
     },
     "metadata": {},
     "output_type": "display_data"
    }
   ],
   "source": [
    "sns.set(style='ticks', font_scale=1.5)\n",
    "plt.rc('text', usetex=True)\n",
    "\n",
    "\n",
    "fig, ax = plt.subplots(figsize=(11.5,5), dpi=300)\n",
    "\n",
    "bp = sns.barplot(x='variable', hue='SCA', y = 'value', data=melted, ax= ax, order=['Precision', \"Recall\", \"F-Score\", \"Balanced Accuracy\"])#, capsize=0.1, errwidth=1)\n",
    "plt.ylim([0, 1])\n",
    "\n",
    "plt.xlabel(\"\")\n",
    "plt.ylabel(\"\")\n",
    "# ax.yaxis.set_minor_locator(AutoMinorLocator(2))\n",
    "plt.legend(bbox_to_anchor=(1.05, 1), loc=2, borderaxespad=0.)\n",
    "sns.despine()\n",
    "plt.tight_layout()\n",
    "plt.title(\"Colorado\", loc='left')\n",
    "plt.savefig(\"performance-reworked.png\", dpi=300, bbox_inches='tight')\n",
    "\n",
    "\n",
    "# test_results = add_stat_annotation(ax, data=melted2, x='variable', y='value', hue='SCA',\n",
    "#                                    box_pairs=box_pairs,\n",
    "#                                    test='t-test_ind', text_format='star',\n",
    "#                                    loc='outside', verbose=2)\n",
    "# plt.savefig(\"tuol-sentinel-ml-performance_sig.png\", dpi=300, bbox_inches='tight')"
   ]
  },
  {
   "cell_type": "code",
   "execution_count": 126,
   "metadata": {},
   "outputs": [],
   "source": [
    "melted.to_csv(os.path.join(root, 'comparator-metrics.csv'))"
   ]
  },
  {
   "cell_type": "code",
   "execution_count": null,
   "metadata": {},
   "outputs": [],
   "source": []
  }
 ],
 "metadata": {
  "kernelspec": {
   "display_name": "Python [conda env:process_results]",
   "language": "python",
   "name": "conda-env-process_results-py"
  },
  "language_info": {
   "codemirror_mode": {
    "name": "ipython",
    "version": 3
   },
   "file_extension": ".py",
   "mimetype": "text/x-python",
   "name": "python",
   "nbconvert_exporter": "python",
   "pygments_lexer": "ipython3",
   "version": "3.6.8"
  }
 },
 "nbformat": 4,
 "nbformat_minor": 2
}
