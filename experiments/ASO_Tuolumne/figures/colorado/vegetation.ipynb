{
 "cells": [
  {
   "cell_type": "code",
   "execution_count": 83,
   "metadata": {},
   "outputs": [],
   "source": [
    "import os \n",
    "\n",
    "import rasterio as rio\n",
    "from rasterio import plot\n",
    "\n",
    "from glob import glob \n",
    "\n",
    "import matplotlib.pyplot as plt\n",
    "\n",
    "import numpy as np\n",
    "\n",
    "from subprocess import Popen\n",
    "\n",
    "import seaborn as sns\n",
    "import pandas as pd\n",
    "\n",
    "from string import ascii_uppercase\n",
    "\n",
    "import functools\n",
    "import operator\n",
    "\n",
    "from sklearn import metrics\n",
    "\n",
    "%matplotlib inline"
   ]
  },
  {
   "cell_type": "code",
   "execution_count": 6,
   "metadata": {},
   "outputs": [
    {
     "data": {
      "text/plain": [
       "(0.9686274509803922, 0.9882352941176471, 0.9607843137254902, 1.0)"
      ]
     },
     "execution_count": 6,
     "metadata": {},
     "output_type": "execute_result"
    }
   ],
   "source": [
    "from matplotlib import cm\n",
    "cm.Greens(0)"
   ]
  },
  {
   "cell_type": "code",
   "execution_count": 7,
   "metadata": {},
   "outputs": [],
   "source": [
    "from matplotlib import rc\n",
    "plt.rc('font', family='Helvetica')\n"
   ]
  },
  {
   "cell_type": "markdown",
   "metadata": {},
   "source": [
    "# Vegetation Mask\n",
    "\n",
    "*previously...*\n",
    "\n",
    "    gdalwarp -overwrite -t_srs EPSG:4326 -cutline data-mask.geojson -crop_to_cutline ../veg/GE_veg_1m.tif veg/veg_clipped_1m.tif"
   ]
  },
  {
   "cell_type": "code",
   "execution_count": 14,
   "metadata": {},
   "outputs": [],
   "source": [
    "root = '/Volumes/wrangell-st-elias/research/planet/tuol-reruns-v2/CO/s3:::planet-snowcover-models:ASO-3M-SD-USCASJ-20180601-Step2-V2-2020-03-03-17-49-47-260:planet-snowcover-imagery:20180524_172637_0f2d_3B_AnalyticMS_SR_clip'"
   ]
  },
  {
   "cell_type": "code",
   "execution_count": 15,
   "metadata": {},
   "outputs": [
    {
     "data": {
      "text/plain": [
       "'/Volumes/wrangell-st-elias/research/planet/tuol-reruns-v2/CO/s3:::planet-snowcover-models:ASO-3M-SD-USCASJ-20180601-Step2-V2-2020-03-03-17-49-47-260:planet-snowcover-imagery:20180524_172637_0f2d_3B_AnalyticMS_SR_clip/veg/veg_clipped_1m.tif'"
      ]
     },
     "execution_count": 15,
     "metadata": {},
     "output_type": "execute_result"
    }
   ],
   "source": [
    "os.path.join(root, \"veg/veg_clipped_1m.tif\")"
   ]
  },
  {
   "cell_type": "code",
   "execution_count": 16,
   "metadata": {},
   "outputs": [],
   "source": [
    "gdal_build_vrt = \"gdalbuildvrt -overwrite -resolution lowest \" \\\n",
    "                 \"-separate -r {resampling} -vrtnodata '-9999 -9999' \" \\\n",
    "                 \"{output}.vrt {mask} {veg}\"\n",
    "        \n"
   ]
  },
  {
   "cell_type": "code",
   "execution_count": 17,
   "metadata": {},
   "outputs": [],
   "source": [
    "output = os.path.join(root, \"veg/aso_and_veg\")"
   ]
  },
  {
   "cell_type": "code",
   "execution_count": 18,
   "metadata": {},
   "outputs": [
    {
     "name": "stdout",
     "output_type": "stream",
     "text": [
      "gdalbuildvrt -overwrite -resolution lowest -separate -r bilinear -vrtnodata '-9999 -9999' /Volumes/wrangell-st-elias/research/planet/tuol-reruns-v2/CO/s3:::planet-snowcover-models:ASO-3M-SD-USCASJ-20180601-Step2-V2-2020-03-03-17-49-47-260:planet-snowcover-imagery:20180524_172637_0f2d_3B_AnalyticMS_SR_clip/veg/aso_and_veg.vrt /Volumes/wrangell-st-elias/research/planet/tuol-reruns-v2/CO/s3:::planet-snowcover-models:ASO-3M-SD-USCASJ-20180601-Step2-V2-2020-03-03-17-49-47-260:planet-snowcover-imagery:20180524_172637_0f2d_3B_AnalyticMS_SR_clip/mask/ASO_3M_SD_USCOGE_20180524_binary_merged.tif /Volumes/wrangell-st-elias/research/planet/tuol-reruns-v2/CO/s3:::planet-snowcover-models:ASO-3M-SD-USCASJ-20180601-Step2-V2-2020-03-03-17-49-47-260:planet-snowcover-imagery:20180524_172637_0f2d_3B_AnalyticMS_SR_clip/veg/veg_clipped_1m.tif\n"
     ]
    },
    {
     "data": {
      "text/plain": [
       "(None, None)"
      ]
     },
     "execution_count": 18,
     "metadata": {},
     "output_type": "execute_result"
    }
   ],
   "source": [
    "command = gdal_build_vrt.format(resampling='bilinear',\n",
    "                            output=output,\n",
    "                            mask = glob(os.path.join(root, \"mask/*merged.tif\"))[0], \n",
    "                            veg = os.path.join(root, \"veg/veg_clipped_1m.tif\"))\n",
    "print(command)\n",
    "Popen(command, shell=True).communicate()"
   ]
  },
  {
   "cell_type": "code",
   "execution_count": 19,
   "metadata": {},
   "outputs": [],
   "source": [
    "veg_aso_masked = rio.open(output+'.vrt')"
   ]
  },
  {
   "cell_type": "code",
   "execution_count": 20,
   "metadata": {},
   "outputs": [],
   "source": [
    "aso = veg_aso_masked.read(1, masked=True)"
   ]
  },
  {
   "cell_type": "code",
   "execution_count": 21,
   "metadata": {},
   "outputs": [],
   "source": [
    "veg = veg_aso_masked.read(2, masked=True)"
   ]
  },
  {
   "cell_type": "code",
   "execution_count": 22,
   "metadata": {},
   "outputs": [],
   "source": [
    "# create nodata mask which only preserves pixels which CONTAIN VEGETATION\n",
    "aso_veg_on_nodata_mask = ((veg.data == 0) | (aso.mask)).astype(bool)\n",
    "aso_veg = aso.copy()\n",
    "aso_veg.mask = aso_veg_on_nodata_mask\n",
    "# or DON'T\n",
    "aso_veg_off_nodata_mask = ((veg.data == 1) | (aso.mask)).astype(bool)\n",
    "aso_noveg = aso.copy()\n",
    "aso_noveg.mask = aso_veg_off_nodata_mask"
   ]
  },
  {
   "cell_type": "code",
   "execution_count": 23,
   "metadata": {},
   "outputs": [
    {
     "data": {
      "text/plain": [
       "<matplotlib.image.AxesImage at 0x133328160>"
      ]
     },
     "execution_count": 23,
     "metadata": {},
     "output_type": "execute_result"
    },
    {
     "data": {
      "image/png": "[encoded data removed]",
      "text/plain": [
       "<Figure size 432x288 with 1 Axes>"
      ]
     },
     "metadata": {},
     "output_type": "display_data"
    }
   ],
   "source": [
    "plt.imshow(aso_noveg)"
   ]
  },
  {
   "cell_type": "markdown",
   "metadata": {},
   "source": [
    "Same with Preds"
   ]
  },
  {
   "cell_type": "code",
   "execution_count": 24,
   "metadata": {},
   "outputs": [],
   "source": [
    "output = os.path.join(root, \"veg/pred_and_veg\")"
   ]
  },
  {
   "cell_type": "code",
   "execution_count": 25,
   "metadata": {},
   "outputs": [
    {
     "name": "stdout",
     "output_type": "stream",
     "text": [
      "gdalbuildvrt -overwrite -resolution lowest -separate -r bilinear -vrtnodata '-9999 -9999' /Volumes/wrangell-st-elias/research/planet/tuol-reruns-v2/CO/s3:::planet-snowcover-models:ASO-3M-SD-USCASJ-20180601-Step2-V2-2020-03-03-17-49-47-260:planet-snowcover-imagery:20180524_172637_0f2d_3B_AnalyticMS_SR_clip/veg/pred_and_veg.vrt /Volumes/wrangell-st-elias/research/planet/tuol-reruns-v2/CO/s3:::planet-snowcover-models:ASO-3M-SD-USCASJ-20180601-Step2-V2-2020-03-03-17-49-47-260:planet-snowcover-imagery:20180524_172637_0f2d_3B_AnalyticMS_SR_clip/preds/20180524_172637_0f2d_3B_AnalyticMS_SR_clip_merged.tif /Volumes/wrangell-st-elias/research/planet/tuol-reruns-v2/CO/s3:::planet-snowcover-models:ASO-3M-SD-USCASJ-20180601-Step2-V2-2020-03-03-17-49-47-260:planet-snowcover-imagery:20180524_172637_0f2d_3B_AnalyticMS_SR_clip/veg/veg_clipped_1m.tif\n"
     ]
    },
    {
     "data": {
      "text/plain": [
       "(None, None)"
      ]
     },
     "execution_count": 25,
     "metadata": {},
     "output_type": "execute_result"
    }
   ],
   "source": [
    "command = gdal_build_vrt.format(resampling='bilinear',\n",
    "                            output=output,\n",
    "                            mask = glob(os.path.join(root, \"preds/*merged.tif\"))[0],  ## different from above\n",
    "                            veg = os.path.join(root, \"veg/veg_clipped_1m.tif\"))\n",
    "print(command)\n",
    "Popen(command, shell=True).communicate()"
   ]
  },
  {
   "cell_type": "code",
   "execution_count": 26,
   "metadata": {},
   "outputs": [],
   "source": [
    "veg_pred_masked = rio.open(output+'.vrt')"
   ]
  },
  {
   "cell_type": "code",
   "execution_count": 27,
   "metadata": {},
   "outputs": [],
   "source": [
    "pred = veg_pred_masked.read(1, masked=True)\n",
    "veg = veg_pred_masked.read(2, masked=True)"
   ]
  },
  {
   "cell_type": "code",
   "execution_count": 28,
   "metadata": {},
   "outputs": [],
   "source": [
    "# create nodata mask which only preserves pixels which CONTAIN VEGETATION \n",
    "pred_veg_on_nodata_mask = ((veg.data == 0) | (pred.mask)).astype(bool)\n",
    "pred_veg = pred.copy()\n",
    "pred_veg.mask = pred_veg_on_nodata_mask\n",
    "# or DON\"T \n",
    "pred_veg_off_nodata_mask = ((veg.data == 1) | (pred.mask)).astype(bool)\n",
    "pred_noveg = pred.copy()\n",
    "pred_noveg.mask = pred_veg_off_nodata_mask\n"
   ]
  },
  {
   "cell_type": "markdown",
   "metadata": {},
   "source": [
    "## Compute percentage covered by vegetation"
   ]
  },
  {
   "cell_type": "code",
   "execution_count": 29,
   "metadata": {},
   "outputs": [],
   "source": [
    "data_pixels_count = np.sum(~pred.mask)"
   ]
  },
  {
   "cell_type": "code",
   "execution_count": 30,
   "metadata": {},
   "outputs": [
    {
     "data": {
      "text/plain": [
       "<matplotlib.colorbar.Colorbar at 0x144602da0>"
      ]
     },
     "execution_count": 30,
     "metadata": {},
     "output_type": "execute_result"
    },
    {
     "data": {
      "image/png": "[encoded data removed]",
      "text/plain": [
       "<Figure size 432x288 with 2 Axes>"
      ]
     },
     "metadata": {},
     "output_type": "display_data"
    }
   ],
   "source": [
    "plt.imshow((~pred_veg_off_nodata_mask).astype('int') )\n",
    "plt.colorbar()"
   ]
  },
  {
   "cell_type": "code",
   "execution_count": 31,
   "metadata": {},
   "outputs": [],
   "source": [
    "veg_on_pixel_count = np.sum(~pred_veg_off_nodata_mask).astype('int')"
   ]
  },
  {
   "cell_type": "code",
   "execution_count": 32,
   "metadata": {},
   "outputs": [
    {
     "data": {
      "text/plain": [
       "<matplotlib.colorbar.Colorbar at 0x13a1d8320>"
      ]
     },
     "execution_count": 32,
     "metadata": {},
     "output_type": "execute_result"
    },
    {
     "data": {
      "image/png": "[encoded data removed]",
      "text/plain": [
       "<Figure size 432x288 with 2 Axes>"
      ]
     },
     "metadata": {},
     "output_type": "display_data"
    }
   ],
   "source": [
    "plt.imshow((~pred_veg_on_nodata_mask).astype('int') )\n",
    "plt.colorbar()"
   ]
  },
  {
   "cell_type": "code",
   "execution_count": 33,
   "metadata": {},
   "outputs": [],
   "source": [
    "veg_off_pixel_count = np.sum(~pred_veg_on_nodata_mask).astype('int')"
   ]
  },
  {
   "cell_type": "code",
   "execution_count": 34,
   "metadata": {},
   "outputs": [
    {
     "name": "stdout",
     "output_type": "stream",
     "text": [
      "Percent veg on: 46.20%\n"
     ]
    }
   ],
   "source": [
    "percent_veg_on = veg_on_pixel_count / data_pixels_count * 100\n",
    "print(f\"Percent veg on: {percent_veg_on:.2f}%\")"
   ]
  },
  {
   "cell_type": "code",
   "execution_count": 35,
   "metadata": {},
   "outputs": [
    {
     "name": "stdout",
     "output_type": "stream",
     "text": [
      "Percent veg off: 54.00%\n"
     ]
    }
   ],
   "source": [
    "percent_veg_off = veg_off_pixel_count / data_pixels_count * 100\n",
    "print(f\"Percent veg off: {percent_veg_off:.2f}%\")"
   ]
  },
  {
   "cell_type": "markdown",
   "metadata": {},
   "source": [
    "## Compute Metrics on Veg and No Veg"
   ]
  },
  {
   "cell_type": "code",
   "execution_count": 36,
   "metadata": {},
   "outputs": [],
   "source": [
    "true_veg, pred_veg = aso_veg[~aso_veg.mask].data, pred_veg[~pred_veg.mask].data"
   ]
  },
  {
   "cell_type": "code",
   "execution_count": 37,
   "metadata": {},
   "outputs": [
    {
     "data": {
      "text/plain": [
       "((3106494,), (3106494,))"
      ]
     },
     "execution_count": 37,
     "metadata": {},
     "output_type": "execute_result"
    }
   ],
   "source": [
    "true_veg.shape, pred_veg.shape"
   ]
  },
  {
   "cell_type": "code",
   "execution_count": 38,
   "metadata": {},
   "outputs": [],
   "source": [
    "performance_veg = metrics.precision_recall_fscore_support(true_veg, pred_veg, average = 'binary')\n",
    "accuracy_veg = metrics.balanced_accuracy_score(true_veg, pred_veg)"
   ]
  },
  {
   "cell_type": "code",
   "execution_count": 39,
   "metadata": {},
   "outputs": [],
   "source": [
    "combined_veg = list(performance_veg[:3]) + [accuracy_veg]"
   ]
  },
  {
   "cell_type": "code",
   "execution_count": 40,
   "metadata": {},
   "outputs": [],
   "source": [
    "combined_veg = pd.DataFrame.from_records([combined_veg], columns = ['Precision', \"Recall\", \"F-Score\", \"Balanced Accuracy\"]).assign(type='Vegetation Only')"
   ]
  },
  {
   "cell_type": "code",
   "execution_count": 41,
   "metadata": {},
   "outputs": [],
   "source": [
    "true_noveg, pred_noveg = aso_noveg[~aso_noveg.mask].data, pred_noveg[~pred_noveg.mask].data"
   ]
  },
  {
   "cell_type": "code",
   "execution_count": 42,
   "metadata": {},
   "outputs": [],
   "source": [
    "performance_noveg = metrics.precision_recall_fscore_support(true_noveg, pred_noveg, average = 'binary')\n",
    "accuracy_noveg = metrics.balanced_accuracy_score(true_noveg, pred_noveg)"
   ]
  },
  {
   "cell_type": "code",
   "execution_count": 43,
   "metadata": {},
   "outputs": [],
   "source": [
    "combined_noveg = list(performance_noveg[:3]) + [accuracy_noveg]"
   ]
  },
  {
   "cell_type": "code",
   "execution_count": 44,
   "metadata": {},
   "outputs": [],
   "source": [
    "combined_noveg = pd.DataFrame.from_records([combined_noveg], columns = ['Precision', \"Recall\", \"F-Score\", \"Balanced Accuracy\"]).assign(type='No Vegetation')"
   ]
  },
  {
   "cell_type": "code",
   "execution_count": 45,
   "metadata": {},
   "outputs": [
    {
     "data": {
      "text/html": [
       "<div>\n",
       "<style scoped>\n",
       "    .dataframe tbody tr th:only-of-type {\n",
       "        vertical-align: middle;\n",
       "    }\n",
       "\n",
       "    .dataframe tbody tr th {\n",
       "        vertical-align: top;\n",
       "    }\n",
       "\n",
       "    .dataframe thead th {\n",
       "        text-align: right;\n",
       "    }\n",
       "</style>\n",
       "<table border=\"1\" class=\"dataframe\">\n",
       "  <thead>\n",
       "    <tr style=\"text-align: right;\">\n",
       "      <th></th>\n",
       "      <th>type</th>\n",
       "      <th>variable</th>\n",
       "      <th>value</th>\n",
       "      <th>comparator</th>\n",
       "    </tr>\n",
       "  </thead>\n",
       "  <tbody>\n",
       "    <tr>\n",
       "      <th>0</th>\n",
       "      <td>No Vegetation</td>\n",
       "      <td>Precision</td>\n",
       "      <td>0.924332</td>\n",
       "      <td>CubeSat ML</td>\n",
       "    </tr>\n",
       "    <tr>\n",
       "      <th>1</th>\n",
       "      <td>Vegetation Only</td>\n",
       "      <td>Precision</td>\n",
       "      <td>0.888728</td>\n",
       "      <td>CubeSat ML</td>\n",
       "    </tr>\n",
       "    <tr>\n",
       "      <th>2</th>\n",
       "      <td>No Vegetation</td>\n",
       "      <td>Recall</td>\n",
       "      <td>0.838694</td>\n",
       "      <td>CubeSat ML</td>\n",
       "    </tr>\n",
       "    <tr>\n",
       "      <th>3</th>\n",
       "      <td>Vegetation Only</td>\n",
       "      <td>Recall</td>\n",
       "      <td>0.454737</td>\n",
       "      <td>CubeSat ML</td>\n",
       "    </tr>\n",
       "    <tr>\n",
       "      <th>4</th>\n",
       "      <td>No Vegetation</td>\n",
       "      <td>F-Score</td>\n",
       "      <td>0.879433</td>\n",
       "      <td>CubeSat ML</td>\n",
       "    </tr>\n",
       "    <tr>\n",
       "      <th>5</th>\n",
       "      <td>Vegetation Only</td>\n",
       "      <td>F-Score</td>\n",
       "      <td>0.601635</td>\n",
       "      <td>CubeSat ML</td>\n",
       "    </tr>\n",
       "    <tr>\n",
       "      <th>6</th>\n",
       "      <td>No Vegetation</td>\n",
       "      <td>Balanced Accuracy</td>\n",
       "      <td>0.848016</td>\n",
       "      <td>CubeSat ML</td>\n",
       "    </tr>\n",
       "    <tr>\n",
       "      <th>7</th>\n",
       "      <td>Vegetation Only</td>\n",
       "      <td>Balanced Accuracy</td>\n",
       "      <td>0.706727</td>\n",
       "      <td>CubeSat ML</td>\n",
       "    </tr>\n",
       "  </tbody>\n",
       "</table>\n",
       "</div>"
      ],
      "text/plain": [
       "              type           variable     value  comparator\n",
       "0    No Vegetation          Precision  0.924332  CubeSat ML\n",
       "1  Vegetation Only          Precision  0.888728  CubeSat ML\n",
       "2    No Vegetation             Recall  0.838694  CubeSat ML\n",
       "3  Vegetation Only             Recall  0.454737  CubeSat ML\n",
       "4    No Vegetation            F-Score  0.879433  CubeSat ML\n",
       "5  Vegetation Only            F-Score  0.601635  CubeSat ML\n",
       "6    No Vegetation  Balanced Accuracy  0.848016  CubeSat ML\n",
       "7  Vegetation Only  Balanced Accuracy  0.706727  CubeSat ML"
      ]
     },
     "execution_count": 45,
     "metadata": {},
     "output_type": "execute_result"
    }
   ],
   "source": [
    "original_melted = pd.melt(pd.concat([combined_noveg, combined_veg]), id_vars='type', value_vars=['Precision', \"Recall\", \"F-Score\", \"Balanced Accuracy\"]).assign(comparator='CubeSat ML')\n",
    "original_melted.to_csv(os.path.join(root, \"veg/veg_metrics.csv\"), index=False)\n",
    "original_melted"
   ]
  },
  {
   "cell_type": "code",
   "execution_count": 46,
   "metadata": {},
   "outputs": [
    {
     "data": {
      "image/png": "[encoded data removed]",
      "text/plain": [
       "<Figure size 1000x600 with 1 Axes>"
      ]
     },
     "metadata": {},
     "output_type": "display_data"
    }
   ],
   "source": [
    "sns.set(style='ticks')\n",
    "# plt.rc('text', usetex=True)\n",
    "\n",
    "fig = plt.figure(figsize=(5,3), dpi=200)\n",
    "sns.barplot(x='variable', y='value', hue='type', data=original_melted, hue_order=['Vegetation Only', \"No Vegetation\"], palette='Greens_r', dodge=True)\n",
    "plt.legend(loc='lower left')\n",
    "plt.ylim([0, 1])\n",
    "plt.xlabel(\"Metric\")\n",
    "plt.ylabel(\"Metric Value\")\n",
    "plt.title(\"Colorado Single-Scene Classification Performance\")\n",
    "sns.despine()"
   ]
  },
  {
   "cell_type": "code",
   "execution_count": 47,
   "metadata": {},
   "outputs": [],
   "source": [
    "combined_both = pd.concat([combined_noveg, combined_veg])"
   ]
  },
  {
   "cell_type": "code",
   "execution_count": 48,
   "metadata": {},
   "outputs": [
    {
     "data": {
      "text/html": [
       "<div>\n",
       "<style scoped>\n",
       "    .dataframe tbody tr th:only-of-type {\n",
       "        vertical-align: middle;\n",
       "    }\n",
       "\n",
       "    .dataframe tbody tr th {\n",
       "        vertical-align: top;\n",
       "    }\n",
       "\n",
       "    .dataframe thead th {\n",
       "        text-align: right;\n",
       "    }\n",
       "</style>\n",
       "<table border=\"1\" class=\"dataframe\">\n",
       "  <thead>\n",
       "    <tr style=\"text-align: right;\">\n",
       "      <th></th>\n",
       "      <th>Precision</th>\n",
       "      <th>Recall</th>\n",
       "      <th>F-Score</th>\n",
       "      <th>Balanced Accuracy</th>\n",
       "      <th>type</th>\n",
       "    </tr>\n",
       "  </thead>\n",
       "  <tbody>\n",
       "    <tr>\n",
       "      <th>0</th>\n",
       "      <td>0.924332</td>\n",
       "      <td>0.838694</td>\n",
       "      <td>0.879433</td>\n",
       "      <td>0.848016</td>\n",
       "      <td>No Vegetation</td>\n",
       "    </tr>\n",
       "    <tr>\n",
       "      <th>0</th>\n",
       "      <td>0.888728</td>\n",
       "      <td>0.454737</td>\n",
       "      <td>0.601635</td>\n",
       "      <td>0.706727</td>\n",
       "      <td>Vegetation Only</td>\n",
       "    </tr>\n",
       "  </tbody>\n",
       "</table>\n",
       "</div>"
      ],
      "text/plain": [
       "   Precision    Recall   F-Score  Balanced Accuracy             type\n",
       "0   0.924332  0.838694  0.879433           0.848016    No Vegetation\n",
       "0   0.888728  0.454737  0.601635           0.706727  Vegetation Only"
      ]
     },
     "execution_count": 48,
     "metadata": {},
     "output_type": "execute_result"
    }
   ],
   "source": [
    "combined_both"
   ]
  },
  {
   "cell_type": "code",
   "execution_count": 49,
   "metadata": {},
   "outputs": [],
   "source": [
    "metric_diffs = []\n",
    "for col in combined_both.columns[:4]:\n",
    "    metric_diffs.append(functools.reduce(operator.isub, combined_both[col]))"
   ]
  },
  {
   "cell_type": "code",
   "execution_count": 50,
   "metadata": {},
   "outputs": [
    {
     "data": {
      "text/plain": [
       "[0.035603716301714994,\n",
       " 0.3839568351720773,\n",
       " 0.2777983809640274,\n",
       " 0.14128959571724053]"
      ]
     },
     "execution_count": 50,
     "metadata": {},
     "output_type": "execute_result"
    }
   ],
   "source": [
    "metric_diffs"
   ]
  },
  {
   "cell_type": "code",
   "execution_count": 51,
   "metadata": {},
   "outputs": [
    {
     "data": {
      "text/plain": [
       "<BarContainer object of 4 artists>"
      ]
     },
     "execution_count": 51,
     "metadata": {},
     "output_type": "execute_result"
    },
    {
     "data": {
      "image/png": "[encoded data removed]",
      "text/plain": [
       "<Figure size 432x288 with 1 Axes>"
      ]
     },
     "metadata": {},
     "output_type": "display_data"
    }
   ],
   "source": [
    "plt.bar(range(0, len(metric_diffs)), metric_diffs)"
   ]
  },
  {
   "cell_type": "markdown",
   "metadata": {},
   "source": [
    "## Comparison to Sentinel-2 and LS8"
   ]
  },
  {
   "cell_type": "code",
   "execution_count": 52,
   "metadata": {},
   "outputs": [],
   "source": [
    "comparator_dir = \"/Volumes/wrangell-st-elias/research/planet/tuol-reruns-v2/CO/s3:::planet-snowcover-models:ASO-3M-SD-USCASJ-20180601-Step2-V2-2020-03-03-17-49-47-260:planet-snowcover-imagery:20180524_172637_0f2d_3B_AnalyticMS_SR_clip/32776e534dede28c6635a4f4a15f723a\""
   ]
  },
  {
   "cell_type": "code",
   "execution_count": 53,
   "metadata": {},
   "outputs": [
    {
     "name": "stdout",
     "output_type": "stream",
     "text": [
      "gdalbuildvrt -overwrite -resolution lowest -separate -r nearest -vrtnodata '-9999 -9999 -9999' /Volumes/wrangell-st-elias/research/planet/tuol-reruns-v2/CO/s3:::planet-snowcover-models:ASO-3M-SD-USCASJ-20180601-Step2-V2-2020-03-03-17-49-47-260:planet-snowcover-imagery:20180524_172637_0f2d_3B_AnalyticMS_SR_clip/veg/aso_NDSI-clipped-ls8_reprojected_clipped_veg.vrt /Volumes/wrangell-st-elias/research/planet/tuol-reruns-v2/CO/s3:::planet-snowcover-models:ASO-3M-SD-USCASJ-20180601-Step2-V2-2020-03-03-17-49-47-260:planet-snowcover-imagery:20180524_172637_0f2d_3B_AnalyticMS_SR_clip/mask/ASO_3M_SD_USCOGE_20180524_binary_merged.tif /Volumes/wrangell-st-elias/research/planet/tuol-reruns-v2/CO/s3:::planet-snowcover-models:ASO-3M-SD-USCASJ-20180601-Step2-V2-2020-03-03-17-49-47-260:planet-snowcover-imagery:20180524_172637_0f2d_3B_AnalyticMS_SR_clip/32776e534dede28c6635a4f4a15f723a/NDSI-clipped-ls8_reprojected_clipped.tif /Volumes/wrangell-st-elias/research/planet/tuol-reruns-v2/CO/s3:::planet-snowcover-models:ASO-3M-SD-USCASJ-20180601-Step2-V2-2020-03-03-17-49-47-260:planet-snowcover-imagery:20180524_172637_0f2d_3B_AnalyticMS_SR_clip/veg/veg_clipped_1m.tif\n",
      "(633, 1224) (633, 1224) (633, 1224)\n",
      "(633, 1224) (633, 1224)\n",
      "gdalbuildvrt -overwrite -resolution lowest -separate -r nearest -vrtnodata '-9999 -9999 -9999' /Volumes/wrangell-st-elias/research/planet/tuol-reruns-v2/CO/s3:::planet-snowcover-models:ASO-3M-SD-USCASJ-20180601-Step2-V2-2020-03-03-17-49-47-260:planet-snowcover-imagery:20180524_172637_0f2d_3B_AnalyticMS_SR_clip/veg/aso_LC08_CU_010009_20180526_20190615_C01_V01_SNOW_05_convex_reprojected_clipped_veg.vrt /Volumes/wrangell-st-elias/research/planet/tuol-reruns-v2/CO/s3:::planet-snowcover-models:ASO-3M-SD-USCASJ-20180601-Step2-V2-2020-03-03-17-49-47-260:planet-snowcover-imagery:20180524_172637_0f2d_3B_AnalyticMS_SR_clip/mask/ASO_3M_SD_USCOGE_20180524_binary_merged.tif /Volumes/wrangell-st-elias/research/planet/tuol-reruns-v2/CO/s3:::planet-snowcover-models:ASO-3M-SD-USCASJ-20180601-Step2-V2-2020-03-03-17-49-47-260:planet-snowcover-imagery:20180524_172637_0f2d_3B_AnalyticMS_SR_clip/32776e534dede28c6635a4f4a15f723a/LC08_CU_010009_20180526_20190615_C01_V01_SNOW_05_convex_reprojected_clipped.tif /Volumes/wrangell-st-elias/research/planet/tuol-reruns-v2/CO/s3:::planet-snowcover-models:ASO-3M-SD-USCASJ-20180601-Step2-V2-2020-03-03-17-49-47-260:planet-snowcover-imagery:20180524_172637_0f2d_3B_AnalyticMS_SR_clip/veg/veg_clipped_1m.tif\n",
      "(205, 396) (205, 396) (205, 396)\n",
      "(205, 396) (205, 396)\n"
     ]
    }
   ],
   "source": [
    "gdal_combine = \"gdalbuildvrt -overwrite -resolution lowest \" \\\n",
    "               \"-separate -r {resampling} -vrtnodata '-9999 -9999 -9999' \" \\\n",
    "               \"{output}.vrt {aso} {comparator} {veg}\"\n",
    "        \n",
    "\n",
    "comparator_metrics = []\n",
    "for comparator in ['NDSI-clipped-ls8_reprojected_clipped.tif', 'LC08_CU_010009_20180526_20190615_C01_V01_SNOW_05_convex_reprojected_clipped.tif']:\n",
    "    output = os.path.join(root, f'veg/aso_{os.path.splitext(os.path.basename(comparator))[0]}_veg')\n",
    "    command = gdal_combine.format(resampling='nearest',\n",
    "                                  output=output,\n",
    "                                  aso = glob(os.path.join(root, \"mask/*merged.tif\"))[0], \n",
    "                                  comparator = os.path.join(comparator_dir, comparator),\n",
    "                                  veg = os.path.join(root, \"veg/veg_clipped_1m.tif\"))\n",
    "    print(command)\n",
    "    Popen(command, shell=True).communicate()\n",
    "    \n",
    "    merged_file = rio.open(output+'.vrt')\n",
    "    _ASO = merged_file.read(1, masked=True)\n",
    "    _comparator = merged_file.read(2, masked=True)\n",
    "    _vegmask = merged_file.read(3, masked=True)\n",
    "    print(_ASO.shape, _comparator.shape, _vegmask.shape)\n",
    "    \n",
    "    comp_nodata = rio.open(os.path.join(comparator_dir, comparator)).nodata\n",
    "    # create nodata mask which only preserves pixels which CONTAIN VEGETATION \n",
    "    comp_veg_on_nodata_mask = ((_vegmask.data == 0) | (_ASO.mask) | (_comparator.data == comp_nodata)).astype(bool)\n",
    "    comp_veg = _comparator.copy()\n",
    "    comp_veg.mask = comp_veg_on_nodata_mask\n",
    "    # or DON\"T \n",
    "    comp_veg_off_nodata_mask = ((_vegmask.data == 1) | (_ASO.mask)| (_comparator.data == comp_nodata)).astype(bool)\n",
    "    comp_noveg = _comparator.copy()\n",
    "    comp_noveg.mask = comp_veg_off_nodata_mask\n",
    "    \n",
    "        # create nodata mask which only preserves pixels which CONTAIN VEGETATION\n",
    "    aso_veg_on_nodata_mask = ((_vegmask.data == 0) | (_ASO.mask) | (_comparator.data == comp_nodata)).astype(bool)\n",
    "    aso_veg = _ASO.copy()\n",
    "    aso_veg.mask = aso_veg_on_nodata_mask\n",
    "    # or DON'T\n",
    "    aso_veg_off_nodata_mask = ((_vegmask.data == 1) | (_ASO.mask) | (_comparator.data == comp_nodata)).astype(bool)\n",
    "    aso_noveg = _ASO.copy()\n",
    "    aso_noveg.mask = aso_veg_off_nodata_mask\n",
    "    \n",
    "    print(aso_veg.shape, comp_veg.shape)\n",
    "\n",
    "    true_veg, comp_veg = aso_veg[~aso_veg.mask].data, comp_veg[~comp_veg.mask].data\n",
    "    performance_veg = metrics.precision_recall_fscore_support(true_veg, comp_veg, average = 'binary')\n",
    "    accuracy_veg = metrics.balanced_accuracy_score(true_veg, comp_veg)\n",
    "    \n",
    "    true_noveg, comp_noveg = aso_noveg[~aso_noveg.mask].data, comp_noveg[~comp_noveg.mask].data\n",
    "    performance_noveg = metrics.precision_recall_fscore_support(true_noveg, comp_noveg, average = 'binary')\n",
    "    accuracy_noveg = metrics.balanced_accuracy_score(true_noveg, comp_noveg)\n",
    "    \n",
    "    \n",
    "    combined_veg = pd.DataFrame.from_records([list(performance_veg[:3]) + [accuracy_veg]], columns = ['Precision', \"Recall\", \"F-Score\", \"Balanced Accuracy\"]).assign(type='Vegetation Only')\n",
    "    combined_noveg = pd.DataFrame.from_records([list(performance_noveg[:3]) + [accuracy_noveg]], columns = ['Precision', \"Recall\", \"F-Score\", \"Balanced Accuracy\"]).assign(type='No Vegetation')\n",
    "    melted = pd.melt(pd.concat([combined_noveg, combined_veg]), id_vars='type', value_vars=['Precision', \"Recall\", \"F-Score\", \"Balanced Accuracy\"]).assign(comparator=os.path.basename(output).split('_')[1])\n",
    "    comparator_metrics.append(melted)"
   ]
  },
  {
   "cell_type": "code",
   "execution_count": 54,
   "metadata": {},
   "outputs": [],
   "source": [
    "all_comparators = pd.concat(comparator_metrics + [original_melted])"
   ]
  },
  {
   "cell_type": "code",
   "execution_count": 55,
   "metadata": {},
   "outputs": [
    {
     "data": {
      "text/html": [
       "<div>\n",
       "<style scoped>\n",
       "    .dataframe tbody tr th:only-of-type {\n",
       "        vertical-align: middle;\n",
       "    }\n",
       "\n",
       "    .dataframe tbody tr th {\n",
       "        vertical-align: top;\n",
       "    }\n",
       "\n",
       "    .dataframe thead th {\n",
       "        text-align: right;\n",
       "    }\n",
       "</style>\n",
       "<table border=\"1\" class=\"dataframe\">\n",
       "  <thead>\n",
       "    <tr style=\"text-align: right;\">\n",
       "      <th></th>\n",
       "      <th>type</th>\n",
       "      <th>variable</th>\n",
       "      <th>value</th>\n",
       "      <th>comparator</th>\n",
       "    </tr>\n",
       "  </thead>\n",
       "  <tbody>\n",
       "    <tr>\n",
       "      <th>0</th>\n",
       "      <td>No Vegetation</td>\n",
       "      <td>Precision</td>\n",
       "      <td>0.973436</td>\n",
       "      <td>NDSI-clipped-ls8</td>\n",
       "    </tr>\n",
       "    <tr>\n",
       "      <th>1</th>\n",
       "      <td>Vegetation Only</td>\n",
       "      <td>Precision</td>\n",
       "      <td>0.933548</td>\n",
       "      <td>NDSI-clipped-ls8</td>\n",
       "    </tr>\n",
       "    <tr>\n",
       "      <th>2</th>\n",
       "      <td>No Vegetation</td>\n",
       "      <td>Recall</td>\n",
       "      <td>0.861171</td>\n",
       "      <td>NDSI-clipped-ls8</td>\n",
       "    </tr>\n",
       "    <tr>\n",
       "      <th>3</th>\n",
       "      <td>Vegetation Only</td>\n",
       "      <td>Recall</td>\n",
       "      <td>0.567484</td>\n",
       "      <td>NDSI-clipped-ls8</td>\n",
       "    </tr>\n",
       "    <tr>\n",
       "      <th>4</th>\n",
       "      <td>No Vegetation</td>\n",
       "      <td>F-Score</td>\n",
       "      <td>0.913869</td>\n",
       "      <td>NDSI-clipped-ls8</td>\n",
       "    </tr>\n",
       "    <tr>\n",
       "      <th>5</th>\n",
       "      <td>Vegetation Only</td>\n",
       "      <td>F-Score</td>\n",
       "      <td>0.705879</td>\n",
       "      <td>NDSI-clipped-ls8</td>\n",
       "    </tr>\n",
       "    <tr>\n",
       "      <th>6</th>\n",
       "      <td>No Vegetation</td>\n",
       "      <td>Balanced Accuracy</td>\n",
       "      <td>0.906247</td>\n",
       "      <td>NDSI-clipped-ls8</td>\n",
       "    </tr>\n",
       "    <tr>\n",
       "      <th>7</th>\n",
       "      <td>Vegetation Only</td>\n",
       "      <td>Balanced Accuracy</td>\n",
       "      <td>0.769181</td>\n",
       "      <td>NDSI-clipped-ls8</td>\n",
       "    </tr>\n",
       "    <tr>\n",
       "      <th>0</th>\n",
       "      <td>No Vegetation</td>\n",
       "      <td>Precision</td>\n",
       "      <td>0.918714</td>\n",
       "      <td>LC08</td>\n",
       "    </tr>\n",
       "    <tr>\n",
       "      <th>1</th>\n",
       "      <td>Vegetation Only</td>\n",
       "      <td>Precision</td>\n",
       "      <td>0.805568</td>\n",
       "      <td>LC08</td>\n",
       "    </tr>\n",
       "    <tr>\n",
       "      <th>2</th>\n",
       "      <td>No Vegetation</td>\n",
       "      <td>Recall</td>\n",
       "      <td>0.913996</td>\n",
       "      <td>LC08</td>\n",
       "    </tr>\n",
       "    <tr>\n",
       "      <th>3</th>\n",
       "      <td>Vegetation Only</td>\n",
       "      <td>Recall</td>\n",
       "      <td>0.798330</td>\n",
       "      <td>LC08</td>\n",
       "    </tr>\n",
       "    <tr>\n",
       "      <th>4</th>\n",
       "      <td>No Vegetation</td>\n",
       "      <td>F-Score</td>\n",
       "      <td>0.916349</td>\n",
       "      <td>LC08</td>\n",
       "    </tr>\n",
       "    <tr>\n",
       "      <th>5</th>\n",
       "      <td>Vegetation Only</td>\n",
       "      <td>F-Score</td>\n",
       "      <td>0.801933</td>\n",
       "      <td>LC08</td>\n",
       "    </tr>\n",
       "    <tr>\n",
       "      <th>6</th>\n",
       "      <td>No Vegetation</td>\n",
       "      <td>Balanced Accuracy</td>\n",
       "      <td>0.873249</td>\n",
       "      <td>LC08</td>\n",
       "    </tr>\n",
       "    <tr>\n",
       "      <th>7</th>\n",
       "      <td>Vegetation Only</td>\n",
       "      <td>Balanced Accuracy</td>\n",
       "      <td>0.829809</td>\n",
       "      <td>LC08</td>\n",
       "    </tr>\n",
       "    <tr>\n",
       "      <th>0</th>\n",
       "      <td>No Vegetation</td>\n",
       "      <td>Precision</td>\n",
       "      <td>0.924332</td>\n",
       "      <td>CubeSat ML</td>\n",
       "    </tr>\n",
       "    <tr>\n",
       "      <th>1</th>\n",
       "      <td>Vegetation Only</td>\n",
       "      <td>Precision</td>\n",
       "      <td>0.888728</td>\n",
       "      <td>CubeSat ML</td>\n",
       "    </tr>\n",
       "    <tr>\n",
       "      <th>2</th>\n",
       "      <td>No Vegetation</td>\n",
       "      <td>Recall</td>\n",
       "      <td>0.838694</td>\n",
       "      <td>CubeSat ML</td>\n",
       "    </tr>\n",
       "    <tr>\n",
       "      <th>3</th>\n",
       "      <td>Vegetation Only</td>\n",
       "      <td>Recall</td>\n",
       "      <td>0.454737</td>\n",
       "      <td>CubeSat ML</td>\n",
       "    </tr>\n",
       "    <tr>\n",
       "      <th>4</th>\n",
       "      <td>No Vegetation</td>\n",
       "      <td>F-Score</td>\n",
       "      <td>0.879433</td>\n",
       "      <td>CubeSat ML</td>\n",
       "    </tr>\n",
       "    <tr>\n",
       "      <th>5</th>\n",
       "      <td>Vegetation Only</td>\n",
       "      <td>F-Score</td>\n",
       "      <td>0.601635</td>\n",
       "      <td>CubeSat ML</td>\n",
       "    </tr>\n",
       "    <tr>\n",
       "      <th>6</th>\n",
       "      <td>No Vegetation</td>\n",
       "      <td>Balanced Accuracy</td>\n",
       "      <td>0.848016</td>\n",
       "      <td>CubeSat ML</td>\n",
       "    </tr>\n",
       "    <tr>\n",
       "      <th>7</th>\n",
       "      <td>Vegetation Only</td>\n",
       "      <td>Balanced Accuracy</td>\n",
       "      <td>0.706727</td>\n",
       "      <td>CubeSat ML</td>\n",
       "    </tr>\n",
       "  </tbody>\n",
       "</table>\n",
       "</div>"
      ],
      "text/plain": [
       "              type           variable     value        comparator\n",
       "0    No Vegetation          Precision  0.973436  NDSI-clipped-ls8\n",
       "1  Vegetation Only          Precision  0.933548  NDSI-clipped-ls8\n",
       "2    No Vegetation             Recall  0.861171  NDSI-clipped-ls8\n",
       "3  Vegetation Only             Recall  0.567484  NDSI-clipped-ls8\n",
       "4    No Vegetation            F-Score  0.913869  NDSI-clipped-ls8\n",
       "5  Vegetation Only            F-Score  0.705879  NDSI-clipped-ls8\n",
       "6    No Vegetation  Balanced Accuracy  0.906247  NDSI-clipped-ls8\n",
       "7  Vegetation Only  Balanced Accuracy  0.769181  NDSI-clipped-ls8\n",
       "0    No Vegetation          Precision  0.918714              LC08\n",
       "1  Vegetation Only          Precision  0.805568              LC08\n",
       "2    No Vegetation             Recall  0.913996              LC08\n",
       "3  Vegetation Only             Recall  0.798330              LC08\n",
       "4    No Vegetation            F-Score  0.916349              LC08\n",
       "5  Vegetation Only            F-Score  0.801933              LC08\n",
       "6    No Vegetation  Balanced Accuracy  0.873249              LC08\n",
       "7  Vegetation Only  Balanced Accuracy  0.829809              LC08\n",
       "0    No Vegetation          Precision  0.924332        CubeSat ML\n",
       "1  Vegetation Only          Precision  0.888728        CubeSat ML\n",
       "2    No Vegetation             Recall  0.838694        CubeSat ML\n",
       "3  Vegetation Only             Recall  0.454737        CubeSat ML\n",
       "4    No Vegetation            F-Score  0.879433        CubeSat ML\n",
       "5  Vegetation Only            F-Score  0.601635        CubeSat ML\n",
       "6    No Vegetation  Balanced Accuracy  0.848016        CubeSat ML\n",
       "7  Vegetation Only  Balanced Accuracy  0.706727        CubeSat ML"
      ]
     },
     "execution_count": 55,
     "metadata": {},
     "output_type": "execute_result"
    }
   ],
   "source": [
    "all_comparators"
   ]
  },
  {
   "cell_type": "code",
   "execution_count": 56,
   "metadata": {},
   "outputs": [
    {
     "data": {
      "image/png": "[encoded data removed]",
      "text/plain": [
       "<Figure size 1085.82x216 with 3 Axes>"
      ]
     },
     "metadata": {},
     "output_type": "display_data"
    }
   ],
   "source": [
    "sns.set(style='ticks')\n",
    "# plt.rc('text', usetex=True)\n",
    "\n",
    "\n",
    "retval = sns.catplot(x='variable', y='value', hue='type', kind='bar', col='comparator', data=all_comparators, hue_order=['Vegetation Only', \"No Vegetation\"], palette='Greens_r', dodge=True, height=3, aspect=1.5)\n",
    "sns.despine()\n",
    "h,l = retval.axes[0][0].get_legend_handles_labels()\n",
    "retval._legend.remove()\n",
    "retval.fig.legend(h,l, ncol=2, loc='lower center') # you can specify any location parameter you want here\n",
    "# plt.savefig(\"comparator_veg.png\", dpi=300, bbox_inches='tight')\n",
    "plt.tight_layout()\n",
    "# retval.fig.add_axes([0, 0, 0.2, 0.2])"
   ]
  },
  {
   "cell_type": "code",
   "execution_count": null,
   "metadata": {},
   "outputs": [],
   "source": []
  },
  {
   "cell_type": "markdown",
   "metadata": {},
   "source": [
    "### add og. general performance"
   ]
  },
  {
   "cell_type": "code",
   "execution_count": 57,
   "metadata": {},
   "outputs": [],
   "source": [
    "\n",
    "# from `model-comparison.ipynb`\n",
    "original_metrics = pd.read_csv(os.path.join(os.path.dirname(root), \"comparator-metrics.csv\")).assign(type=\"All Pixels\").drop(['Unnamed: 0', 'index'], axis=1)\n"
   ]
  },
  {
   "cell_type": "code",
   "execution_count": 58,
   "metadata": {},
   "outputs": [
    {
     "data": {
      "text/html": [
       "<div>\n",
       "<style scoped>\n",
       "    .dataframe tbody tr th:only-of-type {\n",
       "        vertical-align: middle;\n",
       "    }\n",
       "\n",
       "    .dataframe tbody tr th {\n",
       "        vertical-align: top;\n",
       "    }\n",
       "\n",
       "    .dataframe thead th {\n",
       "        text-align: right;\n",
       "    }\n",
       "</style>\n",
       "<table border=\"1\" class=\"dataframe\">\n",
       "  <thead>\n",
       "    <tr style=\"text-align: right;\">\n",
       "      <th></th>\n",
       "      <th>SCA</th>\n",
       "      <th>image_id</th>\n",
       "      <th>variable</th>\n",
       "      <th>value</th>\n",
       "      <th>type</th>\n",
       "    </tr>\n",
       "  </thead>\n",
       "  <tbody>\n",
       "    <tr>\n",
       "      <th>0</th>\n",
       "      <td>CubeSat ML</td>\n",
       "      <td>20180524_172142_103d_3B_AnalyticMS_SR_clip</td>\n",
       "      <td>Precision</td>\n",
       "      <td>0.958382</td>\n",
       "      <td>All Pixels</td>\n",
       "    </tr>\n",
       "    <tr>\n",
       "      <th>1</th>\n",
       "      <td>CubeSat ML</td>\n",
       "      <td>20180524_172143_103d_3B_AnalyticMS_SR_clip</td>\n",
       "      <td>Precision</td>\n",
       "      <td>0.833033</td>\n",
       "      <td>All Pixels</td>\n",
       "    </tr>\n",
       "    <tr>\n",
       "      <th>2</th>\n",
       "      <td>CubeSat ML</td>\n",
       "      <td>20180524_172144_103d_3B_AnalyticMS_SR_clip</td>\n",
       "      <td>Precision</td>\n",
       "      <td>0.792962</td>\n",
       "      <td>All Pixels</td>\n",
       "    </tr>\n",
       "    <tr>\n",
       "      <th>3</th>\n",
       "      <td>CubeSat ML</td>\n",
       "      <td>20180524_172145_103d_3B_AnalyticMS_SR_clip</td>\n",
       "      <td>Precision</td>\n",
       "      <td>0.856812</td>\n",
       "      <td>All Pixels</td>\n",
       "    </tr>\n",
       "    <tr>\n",
       "      <th>4</th>\n",
       "      <td>CubeSat ML</td>\n",
       "      <td>20180524_172326_0f51_3B_AnalyticMS_SR_clip</td>\n",
       "      <td>Precision</td>\n",
       "      <td>0.738694</td>\n",
       "      <td>All Pixels</td>\n",
       "    </tr>\n",
       "    <tr>\n",
       "      <th>...</th>\n",
       "      <td>...</td>\n",
       "      <td>...</td>\n",
       "      <td>...</td>\n",
       "      <td>...</td>\n",
       "      <td>...</td>\n",
       "    </tr>\n",
       "    <tr>\n",
       "      <th>175</th>\n",
       "      <td>Landsat 8 fSCA</td>\n",
       "      <td>20180524_172330_0f51_3B_AnalyticMS_SR_clip</td>\n",
       "      <td>Kappa</td>\n",
       "      <td>0.561309</td>\n",
       "      <td>All Pixels</td>\n",
       "    </tr>\n",
       "    <tr>\n",
       "      <th>176</th>\n",
       "      <td>Landsat 8 fSCA</td>\n",
       "      <td>20180524_172331_0f51_3B_AnalyticMS_SR_clip</td>\n",
       "      <td>Kappa</td>\n",
       "      <td>0.395526</td>\n",
       "      <td>All Pixels</td>\n",
       "    </tr>\n",
       "    <tr>\n",
       "      <th>177</th>\n",
       "      <td>Landsat 8 fSCA</td>\n",
       "      <td>20180524_172634_0f2d_3B_AnalyticMS_SR_clip</td>\n",
       "      <td>Kappa</td>\n",
       "      <td>0.452726</td>\n",
       "      <td>All Pixels</td>\n",
       "    </tr>\n",
       "    <tr>\n",
       "      <th>178</th>\n",
       "      <td>Landsat 8 fSCA</td>\n",
       "      <td>20180524_172635_0f2d_3B_AnalyticMS_SR_clip</td>\n",
       "      <td>Kappa</td>\n",
       "      <td>0.723014</td>\n",
       "      <td>All Pixels</td>\n",
       "    </tr>\n",
       "    <tr>\n",
       "      <th>179</th>\n",
       "      <td>Landsat 8 fSCA</td>\n",
       "      <td>20180524_172637_0f2d_3B_AnalyticMS_SR_clip</td>\n",
       "      <td>Kappa</td>\n",
       "      <td>0.716405</td>\n",
       "      <td>All Pixels</td>\n",
       "    </tr>\n",
       "  </tbody>\n",
       "</table>\n",
       "<p>180 rows × 5 columns</p>\n",
       "</div>"
      ],
      "text/plain": [
       "                SCA                                    image_id   variable  \\\n",
       "0        CubeSat ML  20180524_172142_103d_3B_AnalyticMS_SR_clip  Precision   \n",
       "1        CubeSat ML  20180524_172143_103d_3B_AnalyticMS_SR_clip  Precision   \n",
       "2        CubeSat ML  20180524_172144_103d_3B_AnalyticMS_SR_clip  Precision   \n",
       "3        CubeSat ML  20180524_172145_103d_3B_AnalyticMS_SR_clip  Precision   \n",
       "4        CubeSat ML  20180524_172326_0f51_3B_AnalyticMS_SR_clip  Precision   \n",
       "..              ...                                         ...        ...   \n",
       "175  Landsat 8 fSCA  20180524_172330_0f51_3B_AnalyticMS_SR_clip      Kappa   \n",
       "176  Landsat 8 fSCA  20180524_172331_0f51_3B_AnalyticMS_SR_clip      Kappa   \n",
       "177  Landsat 8 fSCA  20180524_172634_0f2d_3B_AnalyticMS_SR_clip      Kappa   \n",
       "178  Landsat 8 fSCA  20180524_172635_0f2d_3B_AnalyticMS_SR_clip      Kappa   \n",
       "179  Landsat 8 fSCA  20180524_172637_0f2d_3B_AnalyticMS_SR_clip      Kappa   \n",
       "\n",
       "        value        type  \n",
       "0    0.958382  All Pixels  \n",
       "1    0.833033  All Pixels  \n",
       "2    0.792962  All Pixels  \n",
       "3    0.856812  All Pixels  \n",
       "4    0.738694  All Pixels  \n",
       "..        ...         ...  \n",
       "175  0.561309  All Pixels  \n",
       "176  0.395526  All Pixels  \n",
       "177  0.452726  All Pixels  \n",
       "178  0.723014  All Pixels  \n",
       "179  0.716405  All Pixels  \n",
       "\n",
       "[180 rows x 5 columns]"
      ]
     },
     "execution_count": 58,
     "metadata": {},
     "output_type": "execute_result"
    }
   ],
   "source": [
    "original_metrics"
   ]
  },
  {
   "cell_type": "code",
   "execution_count": 59,
   "metadata": {},
   "outputs": [],
   "source": [
    "original_metrics = original_metrics[original_metrics.image_id == '20180524_172637_0f2d_3B_AnalyticMS_SR_clip']"
   ]
  },
  {
   "cell_type": "code",
   "execution_count": 60,
   "metadata": {},
   "outputs": [
    {
     "data": {
      "text/plain": [
       "array(['CubeSat ML', 'Sentinel 2 NDSI', 'Landsat 8 fSCA'], dtype=object)"
      ]
     },
     "execution_count": 60,
     "metadata": {},
     "output_type": "execute_result"
    }
   ],
   "source": [
    "original_metrics.SCA.unique()"
   ]
  },
  {
   "cell_type": "code",
   "execution_count": null,
   "metadata": {},
   "outputs": [],
   "source": []
  },
  {
   "cell_type": "code",
   "execution_count": 61,
   "metadata": {},
   "outputs": [
    {
     "name": "stderr",
     "output_type": "stream",
     "text": [
      "/Users/tony/miniconda3/envs/process_results/lib/python3.6/site-packages/ipykernel/__main__.py:5: FutureWarning: Sorting because non-concatenation axis is not aligned. A future version\n",
      "of pandas will change to not sort by default.\n",
      "\n",
      "To accept the future behavior, pass 'sort=False'.\n",
      "\n",
      "To retain the current behavior and silence the warning, pass 'sort=True'.\n",
      "\n"
     ]
    }
   ],
   "source": [
    "all_comparators_renamed = all_comparators.rename({'comparator': \"SCA\"}, axis=1).replace({\n",
    "    'NDSI-clipped-ls8': \"Sentinel 2 NDSI\",\n",
    "    \"LC08\": \"Landsat 8 fSCA\"\n",
    "})\n",
    "merged_all = pd.concat([all_comparators_renamed, original_metrics])\n"
   ]
  },
  {
   "cell_type": "code",
   "execution_count": 62,
   "metadata": {},
   "outputs": [],
   "source": [
    "merged_all = merged_all[~merged_all.variable.isin(['Kappa'])]\n",
    "merged_all = merged_all.replace({'Balanced Accuracy', \"Accuracy\"})"
   ]
  },
  {
   "cell_type": "code",
   "execution_count": 84,
   "metadata": {},
   "outputs": [],
   "source": [
    "colors = [\n",
    "    \"tab:green\", # veg,\n",
    "    \"tab:brown\",\n",
    "    \"tab:orange\"\n",
    "    #     'grey'#     cm.Greens(0.3), # veg,\n",
    "\n",
    "]\n",
    "cmap = sns.color_palette(colors)"
   ]
  },
  {
   "cell_type": "code",
   "execution_count": 86,
   "metadata": {},
   "outputs": [],
   "source": [
    "resolutions = {\n",
    "    \"CubeSat ML\" : \"3 m\",\n",
    "    \"Sentinel 2 NDSI\": \"10 m\",\n",
    "    \"Landsat 8 fSCA\": \"30 m\"\n",
    "}"
   ]
  },
  {
   "cell_type": "code",
   "execution_count": 87,
   "metadata": {},
   "outputs": [
    {
     "data": {
      "image/png": "[encoded data removed]",
      "text/plain": [
       "<Figure size 1085.82x266.4 with 3 Axes>"
      ]
     },
     "metadata": {},
     "output_type": "display_data"
    }
   ],
   "source": [
    "import matplotlib \n",
    "matplotlib.rc('text', usetex=True)\n",
    "matplotlib.rcParams['text.latex.preamble']=[r\"\\usepackage{amsmath}\"]\n",
    "plot = sns.catplot(x='variable', y='value', hue='type', kind='bar', col='SCA', data=merged_all,\n",
    "                     col_order=[\"CubeSat ML\", \"Sentinel 2 NDSI\", \"Landsat 8 fSCA\"], \n",
    "                     hue_order=['Vegetation Only', \"No Vegetation\", \"All Pixels\"],\n",
    "                     palette=cmap, \n",
    "                     height=3, aspect=1.5, capsize=0.1, errwidth=1)\n",
    "\n",
    "[ax.set_xlabel(\"Metric\") for ax in list(plot.axes)[0]]\n",
    "h,l = plot.axes[0][0].get_legend_handles_labels()\n",
    "l = [\n",
    "    r\"Vegetation $\\ge$ 1 m\",\n",
    "    r\"No Vegetation ($<$ 1 m)\",\n",
    "    r\"All Pixels\"\n",
    "]\n",
    "plot._legend.remove()\n",
    "plot.fig.legend(h,l, ncol=3, loc='center', bbox_to_anchor=(0.5,0.05), frameon=True, fancybox=False) # you can specify any location parameter you want here\n",
    "\n",
    "# plot.set_titles(template='')\n",
    "for i, ax in enumerate(plot.axes[0]):\n",
    "    title = ax.get_title().split(\" = \")[1]\n",
    "    ax.set_title(r\"$\\textbf{\" + ascii_uppercase[i] + r\"})$ \" + f\"{title} (\" + resolutions[title] + \")\", loc='left', fontsize=15)\n",
    "plot.set_titles(template='')\n",
    "\n",
    "\n",
    "\n",
    "plot.fig.set_figheight(plot.fig.bbox_inches.bounds[3] + 0.7)\n",
    "# plt.tight_layout()\n",
    "plt.savefig(\"comparator_veg_all.png\", dpi=300, bbox_inches='tight', )\n",
    "\n"
   ]
  },
  {
   "cell_type": "code",
   "execution_count": null,
   "metadata": {},
   "outputs": [],
   "source": []
  }
 ],
 "metadata": {
  "kernelspec": {
   "display_name": "Python [conda env:process_results]",
   "language": "python",
   "name": "conda-env-process_results-py"
  },
  "language_info": {
   "codemirror_mode": {
    "name": "ipython",
    "version": 3
   },
   "file_extension": ".py",
   "mimetype": "text/x-python",
   "name": "python",
   "nbconvert_exporter": "python",
   "pygments_lexer": "ipython3",
   "version": "3.6.8"
  }
 },
 "nbformat": 4,
 "nbformat_minor": 2
}
