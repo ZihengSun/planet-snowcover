{
 "cells": [
  {
   "cell_type": "code",
   "execution_count": 95,
   "metadata": {},
   "outputs": [],
   "source": [
    "import sys\n",
    "import os\n",
    "\n",
    "import pandas as pd\n",
    "\n",
    "from string import ascii_uppercase\n",
    "\n",
    "\n",
    "import rasterio as rio\n",
    "\n",
    "import matplotlib.pyplot as plt\n",
    "import seaborn as sns\n",
    "\n",
    "\n",
    "from sklearn import metrics\n",
    "\n",
    "import glob\n",
    "import tqdm\n",
    "\n",
    "from subprocess import Popen\n",
    "\n",
    "%matplotlib inline"
   ]
  },
  {
   "cell_type": "code",
   "execution_count": 69,
   "metadata": {},
   "outputs": [
    {
     "data": {
      "text/plain": [
       "tqdm._tqdm.tqdm"
      ]
     },
     "execution_count": 69,
     "metadata": {},
     "output_type": "execute_result"
    }
   ],
   "source": [
    "tqdm.tqdm"
   ]
  },
  {
   "cell_type": "markdown",
   "metadata": {},
   "source": [
    "# Vegetation Mask Comparisions"
   ]
  },
  {
   "cell_type": "code",
   "execution_count": 3,
   "metadata": {},
   "outputs": [],
   "source": [
    "root = \"/Volumes/wrangell-st-elias/research/planet/tuol-reruns-v2/ASO_3M_SD_USCATE_20180528/\""
   ]
  },
  {
   "cell_type": "code",
   "execution_count": 37,
   "metadata": {},
   "outputs": [],
   "source": [
    "vegmask = os.path.join(root, \"veg/USCATB20140827_CHM_1m_thresh_4326.tif\")"
   ]
  },
  {
   "cell_type": "code",
   "execution_count": 9,
   "metadata": {},
   "outputs": [],
   "source": [
    "image_ids = open(os.path.join(root, \"selected_images_rework.txt\")).read().strip().split('\\n')"
   ]
  },
  {
   "cell_type": "code",
   "execution_count": 15,
   "metadata": {},
   "outputs": [
    {
     "data": {
      "text/plain": [
       "['181108', '181109', '181110', '181111', '181112', '181113']"
      ]
     },
     "execution_count": 15,
     "metadata": {},
     "output_type": "execute_result"
    }
   ],
   "source": [
    "image_ids"
   ]
  },
  {
   "cell_type": "markdown",
   "metadata": {},
   "source": [
    "## Clip veg to individual images"
   ]
  },
  {
   "cell_type": "code",
   "execution_count": 48,
   "metadata": {},
   "outputs": [],
   "source": [
    "gdal_clip = \"gdalwarp -dstnodata 9999 -cutline {cutline} -crop_to_cutline {vegmask} {vegmask_clipped}\"\n",
    "for image_id in image_ids:\n",
    "    image_root = glob.glob(os.path.join(root, f\"*{image_id}*\"))[0]\n",
    "    gdal_clip_cmd = gdal_clip.format(\n",
    "        cutline = os.path.join(image_root, 'data-mask.geojson'),\n",
    "        vegmask = vegmask,\n",
    "        vegmask_clipped = os.path.join(image_root, 'veg_mask_clipped.vrt')\n",
    "    )\n",
    "    Popen(gdal_clip_cmd, shell=True).communicate()\n"
   ]
  },
  {
   "cell_type": "markdown",
   "metadata": {},
   "source": [
    "## Resample + Clip all Metrics in all Images"
   ]
  },
  {
   "cell_type": "code",
   "execution_count": 49,
   "metadata": {},
   "outputs": [],
   "source": [
    "gdal_combine = \"gdalbuildvrt -overwrite -resolution lowest \" \\\n",
    "               \"-separate -r {resampling} -vrtnodata '-9999 -9999 -9999' \" \\\n",
    "               \"{output}.vrt {comparator} {aso} {veg}\"\n",
    "        "
   ]
  },
  {
   "cell_type": "code",
   "execution_count": 82,
   "metadata": {},
   "outputs": [
    {
     "name": "stderr",
     "output_type": "stream",
     "text": [
      "100%|██████████| 6/6 [03:59<00:00, 39.86s/it]\n"
     ]
    }
   ],
   "source": [
    "# for each image, need to build {pred, aso, pred} file at coarsest resolution.\n",
    "all_results = []\n",
    "aso_glob = \"*/ASO_merged.tif\"\n",
    "comparators_glob = [\n",
    "    ('ml', \"*/*SR_clip_merged.tif\"),\n",
    "    ('s2', \"*/*NDSI*.tif\"),\n",
    "    ('ls8', \"*/LC08*.tif\")\n",
    "]\n",
    "for image_id in tqdm.tqdm(image_ids):\n",
    "    image_root = glob.glob(os.path.join(root, f\"*{image_id}*\"))[0]\n",
    "    os.makedirs(os.path.join(root, image_root, \"veg\"), exist_ok=True)\n",
    "    aso = glob.glob(os.path.join(root, image_root, aso_glob))[0]\n",
    "    for kind, comparator in comparators_glob:\n",
    "        raw_comparator = glob.glob(os.path.join(root, image_root, comparator))[0]\n",
    "        outfile =  os.path.join(root, image_root, \"veg\", f\"{kind}_aso_veg\")\n",
    "        combine_command = gdal_combine.format(\n",
    "            resampling = 'nearest',\n",
    "            output = outfile, \n",
    "            aso = aso, \n",
    "            comparator = raw_comparator, \n",
    "            veg = os.path.join(root, image_root, \"veg_mask_clipped.vrt\")\n",
    "        )\n",
    "        Popen(combine_command, shell=True).communicate()\n",
    "        \n",
    "        comparator_combined = rio.open(outfile+'.vrt')\n",
    "        _comparator_data = comparator_combined.read(1, masked=True)\n",
    "        _aso_data = comparator_combined.read(2, masked=True)\n",
    "        _vegmask_data = comparator_combined.read(3, masked=True)\n",
    "        \n",
    "        ## Comparator Veg + NoVeg (+nodata) Masking\n",
    "        comp_nodata = rio.open(raw_comparator).nodata\n",
    "        comp_veg_on_nodata_mask = (\n",
    "            (_vegmask_data.data == 0) |\n",
    "            (_aso_data.mask) |\n",
    "            (_comparator_data.data == comp_nodata)\n",
    "        ).astype(bool)\n",
    "        comp_veg = _comparator_data.copy()\n",
    "        comp_veg.mask = comp_veg_on_nodata_mask\n",
    "        comp_veg_off_nodata_mask = (\n",
    "            (_vegmask_data.data == 1) | \n",
    "            (_aso_data.mask) | \n",
    "            (_comparator_data.data == comp_nodata)\n",
    "        ).astype(bool)\n",
    "        comp_noveg = _comparator_data.copy()\n",
    "        comp_noveg.mask = comp_veg_off_nodata_mask\n",
    "        \n",
    "        ## ASO Veg + NoVeg (+nodata) Masking (For reference; coarsened.)\n",
    "        aso_veg_on_nodata_mask = (\n",
    "            (_vegmask_data.data == 0) | \n",
    "            (_aso_data.mask) | \n",
    "            (_comparator_data.data == comp_nodata)\n",
    "        ).astype(bool)\n",
    "        aso_veg = _aso_data.copy()\n",
    "        aso_veg.mask = aso_veg_on_nodata_mask\n",
    "        aso_veg_off_nodata_mask = (\n",
    "            (_vegmask_data.data == 1) | \n",
    "            (_aso_data.mask) | \n",
    "            (_comparator_data.data == comp_nodata)\n",
    "        ).astype(bool)\n",
    "        aso_noveg = _aso_data.copy()\n",
    "        aso_noveg.mask = aso_veg_off_nodata_mask\n",
    "    \n",
    "\n",
    "        \n",
    "        ## comparison\n",
    "        true_veg, comp_veg = aso_veg[~aso_veg.mask].data, comp_veg[~comp_veg.mask].data\n",
    "        performance_veg = metrics.precision_recall_fscore_support(true_veg, comp_veg, average='binary')\n",
    "        accuracy_veg = metrics.balanced_accuracy_score(true_veg, comp_veg)\n",
    "        \n",
    "        true_noveg, comp_noveg = aso_noveg[~aso_noveg.mask].data, comp_noveg[~comp_noveg.mask].data\n",
    "        performance_noveg = metrics.precision_recall_fscore_support(true_noveg, comp_noveg, average='binary')\n",
    "        accuracy_noveg = metrics.balanced_accuracy_score(true_noveg, comp_noveg)\n",
    "        \n",
    "        ## combine for comparator\n",
    "        combined_veg = pd.DataFrame.from_records(\n",
    "            [list(performance_veg[:3]) + [accuracy_veg]], \n",
    "            columns = ['Precision', 'Recall', 'F-Score', 'Balanced Accuracy']\n",
    "        ).assign(type='Vegetation Only')\n",
    "        combined_noveg = pd.DataFrame.from_records(\n",
    "            [list(performance_noveg[:3]) + [accuracy_noveg]], \n",
    "            columns = ['Precision', 'Recall', 'F-Score', 'Balanced Accuracy']\n",
    "        ).assign(type='No Vegetation')\n",
    "        \n",
    "        combined = pd.melt(\n",
    "            pd.concat([combined_veg, combined_noveg]),\n",
    "            id_vars = 'type', \n",
    "            value_vars = ['Precision', 'Recall', 'F-Score', 'Balanced Accuracy']\n",
    "        ).assign(comparator=kind)\n",
    "        \n",
    "        all_results.append(combined)\n",
    "        \n",
    "\n",
    "        \n",
    "        \n",
    "        \n",
    "    \n",
    "        \n",
    "        "
   ]
  },
  {
   "cell_type": "code",
   "execution_count": 83,
   "metadata": {},
   "outputs": [],
   "source": [
    "all_results_df = pd.concat(all_results)"
   ]
  },
  {
   "cell_type": "code",
   "execution_count": 74,
   "metadata": {},
   "outputs": [
    {
     "data": {
      "text/html": [
       "<div>\n",
       "<style scoped>\n",
       "    .dataframe tbody tr th:only-of-type {\n",
       "        vertical-align: middle;\n",
       "    }\n",
       "\n",
       "    .dataframe tbody tr th {\n",
       "        vertical-align: top;\n",
       "    }\n",
       "\n",
       "    .dataframe thead th {\n",
       "        text-align: right;\n",
       "    }\n",
       "</style>\n",
       "<table border=\"1\" class=\"dataframe\">\n",
       "  <thead>\n",
       "    <tr style=\"text-align: right;\">\n",
       "      <th></th>\n",
       "      <th>type</th>\n",
       "      <th>variable</th>\n",
       "      <th>value</th>\n",
       "      <th>comparator</th>\n",
       "    </tr>\n",
       "  </thead>\n",
       "  <tbody>\n",
       "    <tr>\n",
       "      <th>0</th>\n",
       "      <td>Vegetation Only</td>\n",
       "      <td>Precision</td>\n",
       "      <td>0.279346</td>\n",
       "      <td>s2</td>\n",
       "    </tr>\n",
       "    <tr>\n",
       "      <th>1</th>\n",
       "      <td>No Vegetation</td>\n",
       "      <td>Precision</td>\n",
       "      <td>0.280968</td>\n",
       "      <td>s2</td>\n",
       "    </tr>\n",
       "    <tr>\n",
       "      <th>2</th>\n",
       "      <td>Vegetation Only</td>\n",
       "      <td>Recall</td>\n",
       "      <td>0.572225</td>\n",
       "      <td>s2</td>\n",
       "    </tr>\n",
       "    <tr>\n",
       "      <th>3</th>\n",
       "      <td>No Vegetation</td>\n",
       "      <td>Recall</td>\n",
       "      <td>0.575829</td>\n",
       "      <td>s2</td>\n",
       "    </tr>\n",
       "    <tr>\n",
       "      <th>4</th>\n",
       "      <td>Vegetation Only</td>\n",
       "      <td>F-Score</td>\n",
       "      <td>0.375420</td>\n",
       "      <td>s2</td>\n",
       "    </tr>\n",
       "    <tr>\n",
       "      <th>...</th>\n",
       "      <td>...</td>\n",
       "      <td>...</td>\n",
       "      <td>...</td>\n",
       "      <td>...</td>\n",
       "    </tr>\n",
       "    <tr>\n",
       "      <th>3</th>\n",
       "      <td>No Vegetation</td>\n",
       "      <td>Recall</td>\n",
       "      <td>0.723059</td>\n",
       "      <td>ls8</td>\n",
       "    </tr>\n",
       "    <tr>\n",
       "      <th>4</th>\n",
       "      <td>Vegetation Only</td>\n",
       "      <td>F-Score</td>\n",
       "      <td>0.664331</td>\n",
       "      <td>ls8</td>\n",
       "    </tr>\n",
       "    <tr>\n",
       "      <th>5</th>\n",
       "      <td>No Vegetation</td>\n",
       "      <td>F-Score</td>\n",
       "      <td>0.734694</td>\n",
       "      <td>ls8</td>\n",
       "    </tr>\n",
       "    <tr>\n",
       "      <th>6</th>\n",
       "      <td>Vegetation Only</td>\n",
       "      <td>Balanced Accuracy</td>\n",
       "      <td>0.848177</td>\n",
       "      <td>ls8</td>\n",
       "    </tr>\n",
       "    <tr>\n",
       "      <th>7</th>\n",
       "      <td>No Vegetation</td>\n",
       "      <td>Balanced Accuracy</td>\n",
       "      <td>0.835735</td>\n",
       "      <td>ls8</td>\n",
       "    </tr>\n",
       "  </tbody>\n",
       "</table>\n",
       "<p>96 rows × 4 columns</p>\n",
       "</div>"
      ],
      "text/plain": [
       "               type           variable     value comparator\n",
       "0   Vegetation Only          Precision  0.279346         s2\n",
       "1     No Vegetation          Precision  0.280968         s2\n",
       "2   Vegetation Only             Recall  0.572225         s2\n",
       "3     No Vegetation             Recall  0.575829         s2\n",
       "4   Vegetation Only            F-Score  0.375420         s2\n",
       "..              ...                ...       ...        ...\n",
       "3     No Vegetation             Recall  0.723059        ls8\n",
       "4   Vegetation Only            F-Score  0.664331        ls8\n",
       "5     No Vegetation            F-Score  0.734694        ls8\n",
       "6   Vegetation Only  Balanced Accuracy  0.848177        ls8\n",
       "7     No Vegetation  Balanced Accuracy  0.835735        ls8\n",
       "\n",
       "[96 rows x 4 columns]"
      ]
     },
     "execution_count": 74,
     "metadata": {},
     "output_type": "execute_result"
    }
   ],
   "source": [
    "all_results_df"
   ]
  },
  {
   "cell_type": "code",
   "execution_count": 84,
   "metadata": {},
   "outputs": [
    {
     "data": {
      "text/plain": [
       "(0, 1)"
      ]
     },
     "execution_count": 84,
     "metadata": {},
     "output_type": "execute_result"
    },
    {
     "data": {
      "image/png": "[encoded data removed]",
      "text/plain": [
       "<Figure size 1090.1x216 with 3 Axes>"
      ]
     },
     "metadata": {},
     "output_type": "display_data"
    }
   ],
   "source": [
    "sns.set(style='ticks')\n",
    "# plt.rc('text', usetex=True)\n",
    "\n",
    "\n",
    "retval = sns.catplot(x='variable', y='value', hue='type', kind='box', col='comparator', data=all_results_df, hue_order=['Vegetation Only', \"No Vegetation\"], palette='Greens_r', dodge=True, height=3, aspect=1.5)\n",
    "sns.despine()\n",
    "h,l = retval.axes[0][0].get_legend_handles_labels()\n",
    "retval._legend.remove()\n",
    "retval.fig.legend(h,l, ncol=2, loc='lower center') # you can specify any location parameter you want here\n",
    "# plt.savefig(\"comparator_veg.png\", dpi=300, bbox_inches='tight')\n",
    "plt.tight_layout()\n",
    "# retval.fig.add_axes([0, 0, 0.2, 0.2])\n",
    "plt.ylim([0, 1])"
   ]
  },
  {
   "cell_type": "code",
   "execution_count": 92,
   "metadata": {},
   "outputs": [],
   "source": [
    "all_results_df = all_results_df.replace({\n",
    "    'ls8' : \"Landsat 8 fSCA\", \n",
    "    's2' : \"Sentinel-2 NDSI\", \n",
    "    'ml' : \"CubeSat ML\"\n",
    "}).rename({\n",
    "    'comparator' : \"SCA\"\n",
    "}, axis=1)"
   ]
  },
  {
   "cell_type": "code",
   "execution_count": 93,
   "metadata": {},
   "outputs": [],
   "source": [
    "colors = [\n",
    "    \"tab:green\", # veg,\n",
    "    \"tab:brown\",\n",
    "    \"tab:orange\"\n",
    "    #     'grey'#     cm.Greens(0.3), # veg,\n",
    "\n",
    "]\n",
    "cmap = sns.color_palette(colors)"
   ]
  },
  {
   "cell_type": "code",
   "execution_count": 100,
   "metadata": {},
   "outputs": [],
   "source": [
    "resolutions = {\n",
    "    \"CubeSat ML\" : \"3 m\",\n",
    "    \"Sentinel-2 NDSI\": \"10 m\",\n",
    "    \"Landsat 8 fSCA\": \"30 m\"\n",
    "}"
   ]
  },
  {
   "cell_type": "code",
   "execution_count": 106,
   "metadata": {},
   "outputs": [
    {
     "data": {
      "image/png": "[encoded data removed]",
      "text/plain": [
       "<Figure size 1085.82x266.4 with 3 Axes>"
      ]
     },
     "metadata": {},
     "output_type": "display_data"
    }
   ],
   "source": [
    "import matplotlib \n",
    "matplotlib.rc('text', usetex=True)\n",
    "matplotlib.rcParams['text.latex.preamble']=[r\"\\usepackage{amsmath}\"]\n",
    "plot = sns.catplot(x='variable', y='value', hue='type', kind='box', col='SCA', data=all_results_df,\n",
    "                     col_order=[\"CubeSat ML\", \"Sentinel-2 NDSI\", \"Landsat 8 fSCA\"], \n",
    "                     hue_order=['Vegetation Only', \"No Vegetation\"],\n",
    "                     palette=cmap, \n",
    "                     height=3, aspect=1.5)#, capsize=0.1, errwidth=1)\n",
    "\n",
    "[ax.set_xlabel(\"Metric\") for ax in list(plot.axes)[0]]\n",
    "h,l = plot.axes[0][0].get_legend_handles_labels()\n",
    "l = [\n",
    "    r\"Tree Canopy Present\",\n",
    "    r\"Tree Canopy Absent\",\n",
    "]\n",
    "plot._legend.remove()\n",
    "plot.fig.legend(h,l, ncol=3, loc='center', bbox_to_anchor=(0.5,0.05), frameon=True, fancybox=False) # you can specify any location parameter you want here\n",
    "\n",
    "# plot.set_titles(template='')\n",
    "for i, ax in enumerate(plot.axes[0]):\n",
    "    title = ax.get_title().split(\" = \")[1]\n",
    "    ax.set_title(r\"$\\textbf{\" + ascii_uppercase[i] + r\"})$ \" + f\"{title} (\" + resolutions[title] + \")\", loc='left', fontsize=15)\n",
    "plot.set_titles(template='')\n",
    "\n",
    "\n",
    "\n",
    "plot.fig.set_figheight(plot.fig.bbox_inches.bounds[3] + 0.7)\n",
    "# plt.tight_layout()\n",
    "plt.savefig(\"comparator_veg_all.png\", dpi=300, bbox_inches='tight', )\n",
    "\n"
   ]
  },
  {
   "cell_type": "code",
   "execution_count": 104,
   "metadata": {},
   "outputs": [],
   "source": [
    "all_results_df.to_csv(\"veg_comparison.csv\")"
   ]
  },
  {
   "cell_type": "code",
   "execution_count": null,
   "metadata": {},
   "outputs": [],
   "source": []
  }
 ],
 "metadata": {
  "kernelspec": {
   "display_name": "Python [conda env:process_results]",
   "language": "python",
   "name": "conda-env-process_results-py"
  },
  "language_info": {
   "codemirror_mode": {
    "name": "ipython",
    "version": 3
   },
   "file_extension": ".py",
   "mimetype": "text/x-python",
   "name": "python",
   "nbconvert_exporter": "python",
   "pygments_lexer": "ipython3",
   "version": "3.6.8"
  }
 },
 "nbformat": 4,
 "nbformat_minor": 2
}
