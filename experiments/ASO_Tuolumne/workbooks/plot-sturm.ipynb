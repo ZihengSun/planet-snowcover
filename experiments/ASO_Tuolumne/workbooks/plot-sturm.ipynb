{
 "cells": [
  {
   "cell_type": "code",
   "execution_count": 128,
   "metadata": {},
   "outputs": [],
   "source": [
    "import os\n",
    "import matplotlib.pyplot as plt\n",
    "\n",
    "import rasterio as rio\n",
    "import cartopy.crs as ccrs\n",
    "\n",
    "from subprocess import Popen\n",
    "\n",
    "import numpy as np\n",
    "\n",
    "import json\n",
    "from shapely.geometry import shape\n",
    "\n",
    "%matplotlib inline"
   ]
  },
  {
   "cell_type": "code",
   "execution_count": 80,
   "metadata": {},
   "outputs": [],
   "source": [
    "import seaborn as sns"
   ]
  },
  {
   "cell_type": "code",
   "execution_count": 3,
   "metadata": {},
   "outputs": [],
   "source": [
    "sturm = \"/Users/tony/Downloads/snowclass_030arcsec.txt\""
   ]
  },
  {
   "cell_type": "code",
   "execution_count": 59,
   "metadata": {},
   "outputs": [],
   "source": [
    "sturm_classes = {\n",
    "    \"Water\" : 0,\n",
    "    \"Tundra\" : 1,\n",
    "    \"Taiga\" : 2,\n",
    "    \"Maritime\" : 3,\n",
    "    \"Ephemeral\" : 4,\n",
    "    \"Prairie\" : 5,\n",
    "    \"Warm Forest\" : 6,\n",
    "    \"Ice\" : 7\n",
    "}\n",
    "sturm_ids = {\n",
    "    v : k for k, v in sturm_classes.items()\n",
    "}"
   ]
  },
  {
   "cell_type": "code",
   "execution_count": 77,
   "metadata": {},
   "outputs": [
    {
     "data": {
      "text/plain": [
       "{0: 'Water',\n",
       " 1: 'Tundra',\n",
       " 2: 'Taiga',\n",
       " 3: 'Maritime',\n",
       " 4: 'Ephemeral',\n",
       " 5: 'Prairie',\n",
       " 6: 'Warm Forest',\n",
       " 7: 'Ice'}"
      ]
     },
     "execution_count": 77,
     "metadata": {},
     "output_type": "execute_result"
    }
   ],
   "source": [
    "sturm_ids"
   ]
  },
  {
   "cell_type": "code",
   "execution_count": 28,
   "metadata": {},
   "outputs": [],
   "source": [
    "tuolumne = \"/Volumes/wrangell-st-elias/research/planet/tuo-head-4326.geojson\"\n",
    "colorado = \"/Volumes/wrangell-st-elias/research/planet/locator-figure/co-watershed.geojson\""
   ]
  },
  {
   "cell_type": "code",
   "execution_count": 42,
   "metadata": {},
   "outputs": [],
   "source": [
    "clip_cmd = \"source activate qgis; gdalwarp -cutline {cutline} -s_srs EPSG:4326 -crop_to_cutline {sturm} $(dirname {sturm})/$(basename {sturm} .txt)_{loc}_clip.tif\""
   ]
  },
  {
   "cell_type": "code",
   "execution_count": 43,
   "metadata": {},
   "outputs": [
    {
     "name": "stdout",
     "output_type": "stream",
     "text": [
      "source activate qgis; gdalwarp -cutline /Volumes/wrangell-st-elias/research/planet/tuo-head-4326.geojson -s_srs EPSG:4326 -crop_to_cutline /Users/tony/Downloads/snowclass_030arcsec.txt $(dirname /Users/tony/Downloads/snowclass_030arcsec.txt)/$(basename /Users/tony/Downloads/snowclass_030arcsec.txt .txt)_tuolumne_clip.tif\n"
     ]
    },
    {
     "data": {
      "text/plain": [
       "(None, None)"
      ]
     },
     "execution_count": 43,
     "metadata": {},
     "output_type": "execute_result"
    }
   ],
   "source": [
    "cmd = clip_cmd.format(cutline = tuolumne, sturm = sturm, loc='tuolumne')\n",
    "print(cmd)\n",
    "Popen(cmd, shell=True).communicate()"
   ]
  },
  {
   "cell_type": "code",
   "execution_count": 44,
   "metadata": {},
   "outputs": [
    {
     "name": "stdout",
     "output_type": "stream",
     "text": [
      "source activate qgis; gdalwarp -cutline /Volumes/wrangell-st-elias/research/planet/locator-figure/co-watershed.geojson -s_srs EPSG:4326 -crop_to_cutline /Users/tony/Downloads/snowclass_030arcsec.txt $(dirname /Users/tony/Downloads/snowclass_030arcsec.txt)/$(basename /Users/tony/Downloads/snowclass_030arcsec.txt .txt)_colorado_clip.tif\n"
     ]
    },
    {
     "data": {
      "text/plain": [
       "(None, None)"
      ]
     },
     "execution_count": 44,
     "metadata": {},
     "output_type": "execute_result"
    }
   ],
   "source": [
    "cmd = clip_cmd.format(cutline = colorado, sturm = sturm, loc='colorado')\n",
    "print(cmd)\n",
    "Popen(cmd, shell=True).communicate()"
   ]
  },
  {
   "cell_type": "code",
   "execution_count": 45,
   "metadata": {},
   "outputs": [],
   "source": [
    "sturm_tuol = rio.open(os.path.join(os.path.dirname(sturm), os.path.splitext(sturm)[0]+\"_tuolumne_clip.tif\"))"
   ]
  },
  {
   "cell_type": "code",
   "execution_count": 46,
   "metadata": {},
   "outputs": [],
   "source": [
    "sturm_colo = rio.open(os.path.join(os.path.dirname(sturm), os.path.splitext(sturm)[0]+\"_colorado_clip.tif\"))\n"
   ]
  },
  {
   "cell_type": "code",
   "execution_count": 174,
   "metadata": {},
   "outputs": [],
   "source": [
    "sturm_colo_data = sturm_colo.read(1)\n",
    "sturm_colo_data = sturm_colo_data[~(sturm_colo_data == -9999) & (sturm_colo_data > 0)].flatten()\n",
    "sturm_tuol_data = sturm_tuol.read(1)\n",
    "sturm_tuol_data = sturm_tuol_data[~(sturm_tuol_data == -9999) & (sturm_tuol_data > 0)].flatten()"
   ]
  },
  {
   "cell_type": "code",
   "execution_count": 149,
   "metadata": {},
   "outputs": [
    {
     "data": {
      "text/plain": [
       "(array([  1., 372.,   0., 142.,   0.,   0.,   0.,   0., 130., 170.]),\n",
       " array([0. , 0.6, 1.2, 1.8, 2.4, 3. , 3.6, 4.2, 4.8, 5.4, 6. ],\n",
       "       dtype=float32),\n",
       " <a list of 10 Patch objects>)"
      ]
     },
     "execution_count": 149,
     "metadata": {},
     "output_type": "execute_result"
    },
    {
     "data": {
      "image/png": "[encoded data removed]",
      "text/plain": [
       "<Figure size 576x432 with 1 Axes>"
      ]
     },
     "metadata": {},
     "output_type": "display_data"
    }
   ],
   "source": [
    "from matplotlib.ticker import FuncFormatter, MaxNLocator\n",
    "\n",
    "fig, ax = plt.subplots(1,1, figsize=(8,6))\n",
    "ax.hist(sturm_tuol.read(masked=True).flatten())\n",
    "# ax.xaxis.set_major_formatter(FuncFormatter(format_sturm))\n",
    "# ax.xaxis.set_major_locator(MaxNLocator(integer=True))"
   ]
  },
  {
   "cell_type": "code",
   "execution_count": null,
   "metadata": {},
   "outputs": [],
   "source": []
  },
  {
   "cell_type": "code",
   "execution_count": 168,
   "metadata": {},
   "outputs": [
    {
     "data": {
      "text/plain": [
       "[Text(0, 0, 'Water'),\n",
       " Text(0, 0, 'Tundra'),\n",
       " Text(0, 0, 'Taiga'),\n",
       " Text(0, 0, 'Prairie'),\n",
       " Text(0, 0, 'Warm Forest')]"
      ]
     },
     "execution_count": 168,
     "metadata": {},
     "output_type": "execute_result"
    },
    {
     "data": {
      "image/png": "[encoded data removed]",
      "text/plain": [
       "<Figure size 432x288 with 1 Axes>"
      ]
     },
     "metadata": {},
     "output_type": "display_data"
    }
   ],
   "source": [
    "fig, ax = plt.subplots()\n",
    "sturm_tuol_data = sturm_tuol.read(1)\n",
    "sturm_tuol_data = sturm_tuol_data[~(sturm_tuol_data == -9999)].flatten()\n",
    "sns.countplot(sturm_tuol_data, ax=ax, )\n",
    "labels = [sturm_ids[int(float(i.get_text()))] for i in ax.get_xticklabels()]\n",
    "ax.set_xticklabels(labels)\n",
    "# ax.xaxis.set_major_formatter(FuncFormatter(format_sturm))\n",
    "# ax.xaxis.set_major_locator(MaxNLocator(integer=True))"
   ]
  },
  {
   "cell_type": "code",
   "execution_count": null,
   "metadata": {},
   "outputs": [],
   "source": []
  },
  {
   "cell_type": "code",
   "execution_count": 173,
   "metadata": {},
   "outputs": [
    {
     "name": "stdout",
     "output_type": "stream",
     "text": [
      "0 Water\n",
      "1 Tundra\n",
      "2 Taiga\n",
      "3 Maritime\n",
      "0 Water\n",
      "1 Tundra\n",
      "2 Taiga\n",
      "3 Maritime\n",
      "0 Water\n",
      "1 Tundra\n",
      "2 Taiga\n",
      "3 Maritime\n",
      "0 Water\n",
      "1 Tundra\n",
      "2 Taiga\n",
      "3 Maritime\n",
      "0 Water\n",
      "1 Tundra\n",
      "2 Taiga\n",
      "3 Maritime\n",
      "0 Water\n",
      "1 Tundra\n",
      "2 Taiga\n",
      "3 Maritime\n",
      "0 Water\n",
      "1 Tundra\n",
      "2 Taiga\n",
      "3 Maritime\n",
      "0 Water\n",
      "1 Tundra\n",
      "2 Taiga\n",
      "3 Maritime\n",
      "0 Water\n",
      "1 Tundra\n",
      "2 Taiga\n",
      "3 Maritime\n",
      "0 Water\n",
      "1 Tundra\n",
      "2 Taiga\n",
      "3 Maritime\n",
      "0 Water\n",
      "1 Tundra\n",
      "2 Taiga\n",
      "3 Maritime\n",
      "0 Water\n",
      "1 Tundra\n",
      "2 Taiga\n",
      "3 Maritime\n"
     ]
    },
    {
     "data": {
      "image/png": "[encoded data removed]",
      "text/plain": [
       "<Figure size 432x288 with 1 Axes>"
      ]
     },
     "metadata": {},
     "output_type": "display_data"
    }
   ],
   "source": [
    "fig, ax = plt.subplots()\n",
    "sturm_colo_data = sturm_colo.read(1)\n",
    "sturm_colo_data = sturm_colo_data[~(sturm_colo_data == -9999) & (sturm_colo_data > 0)].flatten()\n",
    "sns.countplot(sturm_colo_data, ax=ax, )\n",
    "ax.xaxis.set_major_formatter(FuncFormatter(format_sturm))\n",
    "# ax.xaxis.set_major_locator(MaxNLocator(integer=True))"
   ]
  },
  {
   "cell_type": "code",
   "execution_count": 129,
   "metadata": {},
   "outputs": [
    {
     "data": {
      "text/plain": [
       "array([1., 2., 5., 6.], dtype=float32)"
      ]
     },
     "execution_count": 129,
     "metadata": {},
     "output_type": "execute_result"
    }
   ],
   "source": [
    "np.unique(sturm_colo_data)"
   ]
  },
  {
   "cell_type": "code",
   "execution_count": 95,
   "metadata": {},
   "outputs": [
    {
     "data": {
      "image/png": "[encoded data removed]",
      "text/plain": [
       "<Figure size 432x288 with 1 Axes>"
      ]
     },
     "metadata": {},
     "output_type": "display_data"
    }
   ],
   "source": [
    "fig, ax = plt.subplots()\n",
    "sns.barplot(x=sturm_colo_data, y=sturm_colo_data, estimator=lambda x: len(x) / len(sturm_colo_data) * 100, ax=ax)\n",
    "ax.xaxis.set_major_formatter(FuncFormatter(format_sturm))\n",
    "ax.xaxis.set_major_locator(MaxNLocator(integer=True))\n"
   ]
  },
  {
   "cell_type": "code",
   "execution_count": 94,
   "metadata": {},
   "outputs": [
    {
     "data": {
      "image/png": "[encoded data removed]",
      "text/plain": [
       "<Figure size 432x288 with 1 Axes>"
      ]
     },
     "metadata": {},
     "output_type": "display_data"
    }
   ],
   "source": [
    "fig, ax = plt.subplots()\n",
    "sns.barplot(x=sturm_tuol_data, y=sturm_tuol_data, estimator=lambda x: len(x) / len(sturm_tuol_data) * 100, ax=ax)\n",
    "ax.xaxis.set_major_formatter(FuncFormatter(format_sturm))\n",
    "ax.xaxis.set_major_locator(MaxNLocator(integer=True))\n"
   ]
  },
  {
   "cell_type": "code",
   "execution_count": 178,
   "metadata": {},
   "outputs": [
    {
     "data": {
      "image/png": "[encoded data removed]",
      "text/plain": [
       "<Figure size 2000x600 with 2 Axes>"
      ]
     },
     "metadata": {},
     "output_type": "display_data"
    }
   ],
   "source": [
    "fig, axes = plt.subplots(1, 2, figsize=(10, 3), dpi=200)\n",
    "fig.suptitle('Snow Class', y=-0.01)\n",
    "\n",
    "ylim = [0, 50]\n",
    "\n",
    "ax_tuol = axes[0]\n",
    "sns.barplot(x=sturm_tuol_data, y=sturm_tuol_data, estimator=lambda x: len(x) / len(sturm_tuol_data) * 100, ax=ax_tuol)\n",
    "labels = [sturm_ids[int(float(i.get_text()))] for i in ax_tuol.get_xticklabels()]\n",
    "ax_tuol.set_xticklabels(labels)\n",
    "ax_tuol.set_ylabel(\"Percent of Watershed\")\n",
    "ax_tuol.set_title(\"A: Tuolumne\", loc='left')\n",
    "ax_tuol.set_ylim(ylim)\n",
    "\n",
    "ax_colo = axes[1]\n",
    "sns.barplot(x=sturm_colo_data, y=sturm_colo_data, estimator=lambda x: len(x) / len(sturm_colo_data) * 100, ax=ax_colo)\n",
    "labels = [sturm_ids[int(float(i.get_text()))] for i in ax_colo.get_xticklabels()]\n",
    "ax_colo.set_xticklabels(labels)\n",
    "ax_colo.set_ylabel(\"Percent of Watershed\")\n",
    "ax_colo.set_title(\"B: Upper Gunnison\", loc='left')\n",
    "ax_colo.set_ylim(ylim)\n",
    "\n",
    "plt.savefig(\"snowclass_comparison.png\", dpi=300, bbox_inches='tight')"
   ]
  },
  {
   "cell_type": "code",
   "execution_count": null,
   "metadata": {},
   "outputs": [],
   "source": []
  }
 ],
 "metadata": {
  "kernelspec": {
   "display_name": "Python [conda env:process_results]",
   "language": "python",
   "name": "conda-env-process_results-py"
  },
  "language_info": {
   "codemirror_mode": {
    "name": "ipython",
    "version": 3
   },
   "file_extension": ".py",
   "mimetype": "text/x-python",
   "name": "python",
   "nbconvert_exporter": "python",
   "pygments_lexer": "ipython3",
   "version": "3.6.8"
  }
 },
 "nbformat": 4,
 "nbformat_minor": 2
}
