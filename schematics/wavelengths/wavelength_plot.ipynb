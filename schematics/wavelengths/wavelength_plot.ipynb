{
 "cells": [
  {
   "cell_type": "code",
   "execution_count": 48,
   "metadata": {},
   "outputs": [],
   "source": [
    "import pandas as pd\n",
    "import matplotlib.pyplot as plt\n",
    "import matplotlib.patches as patches\n",
    "from matplotlib.collections import PatchCollection\n",
    "from scipy import interpolate\n",
    "\n",
    "from matplotlib.offsetbox import (TextArea, DrawingArea, OffsetImage,\n",
    "                                  AnnotationBbox)\n",
    "import matplotlib.image as mpimg\n",
    "%matplotlib inline"
   ]
  },
  {
   "cell_type": "code",
   "execution_count": 2,
   "metadata": {},
   "outputs": [],
   "source": [
    "import numpy as np"
   ]
  },
  {
   "cell_type": "code",
   "execution_count": 3,
   "metadata": {},
   "outputs": [
    {
     "name": "stdout",
     "output_type": "stream",
     "text": [
      "\u001b[31mMelting_snow_mSnw01a+0.5_veg_ASDFRa_AREF.html\u001b[m\u001b[m\n",
      "\u001b[34mREADME\u001b[m\u001b[m\n",
      "\u001b[34mphoto_images\u001b[m\u001b[m\n",
      "\u001b[31msplib07a_Bandpass_(FWHM)_ASDFR_StandardResolution.gif\u001b[m\u001b[m\n",
      "\u001b[31msplib07a_Bandpass_(FWHM)_ASDFR_StandardResolution.txt\u001b[m\u001b[m\n",
      "\u001b[31msplib07a_Melting_snow_mSnw01a+0.5_veg_ASDFRa_AREF.gif\u001b[m\u001b[m\n",
      "\u001b[31msplib07a_Melting_snow_mSnw01a+0.5_veg_ASDFRa_AREF.txt\u001b[m\u001b[m\n",
      "\u001b[31msplib07a_Melting_snow_mSnw01a+0.5_veg_ASDFRa_AREF_range1_uv_to_vis.gif\u001b[m\u001b[m\n",
      "\u001b[31msplib07a_Melting_snow_mSnw01a+0.5_veg_ASDFRa_AREF_range2_vis_to_swir.gif\u001b[m\u001b[m\n",
      "\u001b[31msplib07a_Melting_snow_mSnw01a+0.5_veg_ASDFRa_AREF_range3_swir.gif\u001b[m\u001b[m\n",
      "\u001b[31msplib07a_Wavelengths_ASD_0.35-2.5_microns_2151_ch.gif\u001b[m\u001b[m\n",
      "\u001b[31msplib07a_Wavelengths_ASD_0.35-2.5_microns_2151_ch.txt\u001b[m\u001b[m\n"
     ]
    }
   ],
   "source": [
    "!ls splib07a_Melting_snow_mSnw01a+0.5_veg_ASDFRa_AREF/"
   ]
  },
  {
   "cell_type": "code",
   "execution_count": 4,
   "metadata": {},
   "outputs": [],
   "source": [
    "spec_data = pd.read_html(\"splib07a_Melting_snow_mSnw01a+0.5_veg_ASDFRa_AREF/README/README.htm\", header=0)[0]"
   ]
  },
  {
   "cell_type": "code",
   "execution_count": 5,
   "metadata": {},
   "outputs": [],
   "source": [
    "snowReflectance = pd.read_table(\"splib07a_Melting_snow_mSnw01a+0.5_veg_ASDFRa_AREF/splib07a_Melting_snow_mSnw01a+0.5_veg_ASDFRa_AREF.txt\", names=['reflectance'], header=0)"
   ]
  },
  {
   "cell_type": "code",
   "execution_count": 6,
   "metadata": {},
   "outputs": [
    {
     "data": {
      "text/plain": [
       "Index(['reflectance'], dtype='object')"
      ]
     },
     "execution_count": 6,
     "metadata": {},
     "output_type": "execute_result"
    }
   ],
   "source": [
    "snowReflectance.columns"
   ]
  },
  {
   "cell_type": "code",
   "execution_count": 7,
   "metadata": {},
   "outputs": [
    {
     "data": {
      "text/html": [
       "<div>\n",
       "<style scoped>\n",
       "    .dataframe tbody tr th:only-of-type {\n",
       "        vertical-align: middle;\n",
       "    }\n",
       "\n",
       "    .dataframe tbody tr th {\n",
       "        vertical-align: top;\n",
       "    }\n",
       "\n",
       "    .dataframe thead th {\n",
       "        text-align: right;\n",
       "    }\n",
       "</style>\n",
       "<table border=\"1\" class=\"dataframe\">\n",
       "  <thead>\n",
       "    <tr style=\"text-align: right;\">\n",
       "      <th></th>\n",
       "      <th>Characterstring</th>\n",
       "      <th>Spectrometer</th>\n",
       "      <th>Wavelength range(microns)</th>\n",
       "      <th>Numberof channels</th>\n",
       "    </tr>\n",
       "  </thead>\n",
       "  <tbody>\n",
       "    <tr>\n",
       "      <th>0</th>\n",
       "      <td>ASDFR</td>\n",
       "      <td>Analytical Spectral Devices (ASD) standard res...</td>\n",
       "      <td>0.35 to 2.5</td>\n",
       "      <td>2151</td>\n",
       "    </tr>\n",
       "  </tbody>\n",
       "</table>\n",
       "</div>"
      ],
      "text/plain": [
       "  Characterstring                                       Spectrometer  \\\n",
       "0           ASDFR  Analytical Spectral Devices (ASD) standard res...   \n",
       "\n",
       "  Wavelength range(microns)  Numberof channels  \n",
       "0               0.35 to 2.5               2151  "
      ]
     },
     "execution_count": 7,
     "metadata": {},
     "output_type": "execute_result"
    }
   ],
   "source": [
    "wavelengthRange = spec_data[spec_data.Characterstring == \"ASDFR\"]\n",
    "wavelengthRange"
   ]
  },
  {
   "cell_type": "code",
   "execution_count": 8,
   "metadata": {},
   "outputs": [
    {
     "data": {
      "text/html": [
       "<div>\n",
       "<style scoped>\n",
       "    .dataframe tbody tr th:only-of-type {\n",
       "        vertical-align: middle;\n",
       "    }\n",
       "\n",
       "    .dataframe tbody tr th {\n",
       "        vertical-align: top;\n",
       "    }\n",
       "\n",
       "    .dataframe thead th {\n",
       "        text-align: right;\n",
       "    }\n",
       "</style>\n",
       "<table border=\"1\" class=\"dataframe\">\n",
       "  <thead>\n",
       "    <tr style=\"text-align: right;\">\n",
       "      <th></th>\n",
       "      <th>reflectance</th>\n",
       "    </tr>\n",
       "  </thead>\n",
       "  <tbody>\n",
       "    <tr>\n",
       "      <th>0</th>\n",
       "      <td>0.421710</td>\n",
       "    </tr>\n",
       "    <tr>\n",
       "      <th>1</th>\n",
       "      <td>0.421736</td>\n",
       "    </tr>\n",
       "    <tr>\n",
       "      <th>2</th>\n",
       "      <td>0.423750</td>\n",
       "    </tr>\n",
       "    <tr>\n",
       "      <th>3</th>\n",
       "      <td>0.425072</td>\n",
       "    </tr>\n",
       "    <tr>\n",
       "      <th>4</th>\n",
       "      <td>0.425015</td>\n",
       "    </tr>\n",
       "    <tr>\n",
       "      <th>...</th>\n",
       "      <td>...</td>\n",
       "    </tr>\n",
       "    <tr>\n",
       "      <th>2146</th>\n",
       "      <td>0.014012</td>\n",
       "    </tr>\n",
       "    <tr>\n",
       "      <th>2147</th>\n",
       "      <td>0.013950</td>\n",
       "    </tr>\n",
       "    <tr>\n",
       "      <th>2148</th>\n",
       "      <td>0.013894</td>\n",
       "    </tr>\n",
       "    <tr>\n",
       "      <th>2149</th>\n",
       "      <td>0.013842</td>\n",
       "    </tr>\n",
       "    <tr>\n",
       "      <th>2150</th>\n",
       "      <td>0.013793</td>\n",
       "    </tr>\n",
       "  </tbody>\n",
       "</table>\n",
       "<p>2151 rows × 1 columns</p>\n",
       "</div>"
      ],
      "text/plain": [
       "      reflectance\n",
       "0        0.421710\n",
       "1        0.421736\n",
       "2        0.423750\n",
       "3        0.425072\n",
       "4        0.425015\n",
       "...           ...\n",
       "2146     0.014012\n",
       "2147     0.013950\n",
       "2148     0.013894\n",
       "2149     0.013842\n",
       "2150     0.013793\n",
       "\n",
       "[2151 rows x 1 columns]"
      ]
     },
     "execution_count": 8,
     "metadata": {},
     "output_type": "execute_result"
    }
   ],
   "source": [
    "snowReflectance"
   ]
  },
  {
   "cell_type": "code",
   "execution_count": 9,
   "metadata": {},
   "outputs": [],
   "source": [
    "snowReflectance['wavelength'] = np.linspace(0.35, 2.5, 2151)\n"
   ]
  },
  {
   "cell_type": "code",
   "execution_count": 10,
   "metadata": {},
   "outputs": [
    {
     "data": {
      "text/html": [
       "<div>\n",
       "<style scoped>\n",
       "    .dataframe tbody tr th:only-of-type {\n",
       "        vertical-align: middle;\n",
       "    }\n",
       "\n",
       "    .dataframe tbody tr th {\n",
       "        vertical-align: top;\n",
       "    }\n",
       "\n",
       "    .dataframe thead th {\n",
       "        text-align: right;\n",
       "    }\n",
       "</style>\n",
       "<table border=\"1\" class=\"dataframe\">\n",
       "  <thead>\n",
       "    <tr style=\"text-align: right;\">\n",
       "      <th></th>\n",
       "      <th>reflectance</th>\n",
       "      <th>wavelength</th>\n",
       "    </tr>\n",
       "  </thead>\n",
       "  <tbody>\n",
       "    <tr>\n",
       "      <th>0</th>\n",
       "      <td>0.421710</td>\n",
       "      <td>0.350</td>\n",
       "    </tr>\n",
       "    <tr>\n",
       "      <th>1</th>\n",
       "      <td>0.421736</td>\n",
       "      <td>0.351</td>\n",
       "    </tr>\n",
       "    <tr>\n",
       "      <th>2</th>\n",
       "      <td>0.423750</td>\n",
       "      <td>0.352</td>\n",
       "    </tr>\n",
       "    <tr>\n",
       "      <th>3</th>\n",
       "      <td>0.425072</td>\n",
       "      <td>0.353</td>\n",
       "    </tr>\n",
       "    <tr>\n",
       "      <th>4</th>\n",
       "      <td>0.425015</td>\n",
       "      <td>0.354</td>\n",
       "    </tr>\n",
       "    <tr>\n",
       "      <th>...</th>\n",
       "      <td>...</td>\n",
       "      <td>...</td>\n",
       "    </tr>\n",
       "    <tr>\n",
       "      <th>2146</th>\n",
       "      <td>0.014012</td>\n",
       "      <td>2.496</td>\n",
       "    </tr>\n",
       "    <tr>\n",
       "      <th>2147</th>\n",
       "      <td>0.013950</td>\n",
       "      <td>2.497</td>\n",
       "    </tr>\n",
       "    <tr>\n",
       "      <th>2148</th>\n",
       "      <td>0.013894</td>\n",
       "      <td>2.498</td>\n",
       "    </tr>\n",
       "    <tr>\n",
       "      <th>2149</th>\n",
       "      <td>0.013842</td>\n",
       "      <td>2.499</td>\n",
       "    </tr>\n",
       "    <tr>\n",
       "      <th>2150</th>\n",
       "      <td>0.013793</td>\n",
       "      <td>2.500</td>\n",
       "    </tr>\n",
       "  </tbody>\n",
       "</table>\n",
       "<p>2151 rows × 2 columns</p>\n",
       "</div>"
      ],
      "text/plain": [
       "      reflectance  wavelength\n",
       "0        0.421710       0.350\n",
       "1        0.421736       0.351\n",
       "2        0.423750       0.352\n",
       "3        0.425072       0.353\n",
       "4        0.425015       0.354\n",
       "...           ...         ...\n",
       "2146     0.014012       2.496\n",
       "2147     0.013950       2.497\n",
       "2148     0.013894       2.498\n",
       "2149     0.013842       2.499\n",
       "2150     0.013793       2.500\n",
       "\n",
       "[2151 rows x 2 columns]"
      ]
     },
     "execution_count": 10,
     "metadata": {},
     "output_type": "execute_result"
    }
   ],
   "source": [
    "snowReflectance"
   ]
  },
  {
   "cell_type": "code",
   "execution_count": 11,
   "metadata": {},
   "outputs": [
    {
     "data": {
      "text/plain": [
       "(0, 1)"
      ]
     },
     "execution_count": 11,
     "metadata": {},
     "output_type": "execute_result"
    },
    {
     "data": {
      "image/png": "[encoded data removed]",
      "text/plain": [
       "<Figure size 432x288 with 1 Axes>"
      ]
     },
     "metadata": {},
     "output_type": "display_data"
    }
   ],
   "source": [
    "plt.plot(snowReflectance.wavelength, snowReflectance.reflectance)\n",
    "plt.ylim([0, 1])"
   ]
  },
  {
   "cell_type": "code",
   "execution_count": 12,
   "metadata": {},
   "outputs": [],
   "source": [
    "usgs_snow_fine = pd.read_csv(\"fine-snow-usgs.csv\", header=None, names=['wavelength', 'reflectance'])"
   ]
  },
  {
   "cell_type": "code",
   "execution_count": 13,
   "metadata": {},
   "outputs": [
    {
     "data": {
      "text/html": [
       "<div>\n",
       "<style scoped>\n",
       "    .dataframe tbody tr th:only-of-type {\n",
       "        vertical-align: middle;\n",
       "    }\n",
       "\n",
       "    .dataframe tbody tr th {\n",
       "        vertical-align: top;\n",
       "    }\n",
       "\n",
       "    .dataframe thead th {\n",
       "        text-align: right;\n",
       "    }\n",
       "</style>\n",
       "<table border=\"1\" class=\"dataframe\">\n",
       "  <thead>\n",
       "    <tr style=\"text-align: right;\">\n",
       "      <th></th>\n",
       "      <th>wavelength</th>\n",
       "      <th>reflectance</th>\n",
       "    </tr>\n",
       "  </thead>\n",
       "  <tbody>\n",
       "    <tr>\n",
       "      <th>0</th>\n",
       "      <td>0.358899</td>\n",
       "      <td>98.696583</td>\n",
       "    </tr>\n",
       "    <tr>\n",
       "      <th>1</th>\n",
       "      <td>0.400000</td>\n",
       "      <td>98.913700</td>\n",
       "    </tr>\n",
       "    <tr>\n",
       "      <th>2</th>\n",
       "      <td>0.458716</td>\n",
       "      <td>99.128364</td>\n",
       "    </tr>\n",
       "    <tr>\n",
       "      <th>3</th>\n",
       "      <td>0.482202</td>\n",
       "      <td>99.125093</td>\n",
       "    </tr>\n",
       "    <tr>\n",
       "      <th>4</th>\n",
       "      <td>0.542385</td>\n",
       "      <td>98.782449</td>\n",
       "    </tr>\n",
       "    <tr>\n",
       "      <th>...</th>\n",
       "      <td>...</td>\n",
       "      <td>...</td>\n",
       "    </tr>\n",
       "    <tr>\n",
       "      <th>101</th>\n",
       "      <td>2.344954</td>\n",
       "      <td>9.060642</td>\n",
       "    </tr>\n",
       "    <tr>\n",
       "      <th>102</th>\n",
       "      <td>2.380183</td>\n",
       "      <td>7.495847</td>\n",
       "    </tr>\n",
       "    <tr>\n",
       "      <th>103</th>\n",
       "      <td>2.422752</td>\n",
       "      <td>6.375712</td>\n",
       "    </tr>\n",
       "    <tr>\n",
       "      <th>104</th>\n",
       "      <td>2.457982</td>\n",
       "      <td>5.702282</td>\n",
       "    </tr>\n",
       "    <tr>\n",
       "      <th>105</th>\n",
       "      <td>2.490275</td>\n",
       "      <td>5.029261</td>\n",
       "    </tr>\n",
       "  </tbody>\n",
       "</table>\n",
       "<p>106 rows × 2 columns</p>\n",
       "</div>"
      ],
      "text/plain": [
       "     wavelength  reflectance\n",
       "0      0.358899    98.696583\n",
       "1      0.400000    98.913700\n",
       "2      0.458716    99.128364\n",
       "3      0.482202    99.125093\n",
       "4      0.542385    98.782449\n",
       "..          ...          ...\n",
       "101    2.344954     9.060642\n",
       "102    2.380183     7.495847\n",
       "103    2.422752     6.375712\n",
       "104    2.457982     5.702282\n",
       "105    2.490275     5.029261\n",
       "\n",
       "[106 rows x 2 columns]"
      ]
     },
     "execution_count": 13,
     "metadata": {},
     "output_type": "execute_result"
    }
   ],
   "source": [
    "usgs_snow_fine"
   ]
  },
  {
   "cell_type": "code",
   "execution_count": 14,
   "metadata": {},
   "outputs": [
    {
     "data": {
      "text/plain": [
       "<matplotlib.axes._subplots.AxesSubplot at 0x129459e80>"
      ]
     },
     "execution_count": 14,
     "metadata": {},
     "output_type": "execute_result"
    },
    {
     "data": {
      "image/png": "[encoded data removed]",
      "text/plain": [
       "<Figure size 432x288 with 1 Axes>"
      ]
     },
     "metadata": {},
     "output_type": "display_data"
    }
   ],
   "source": [
    "usgs_snow_fine.plot('wavelength')"
   ]
  },
  {
   "cell_type": "code",
   "execution_count": 15,
   "metadata": {},
   "outputs": [],
   "source": [
    "original_snow = pd.read_csv(\"original_snow2.csv\", header=None, names=['wavelength', 'reflect_snow'])"
   ]
  },
  {
   "cell_type": "code",
   "execution_count": 16,
   "metadata": {},
   "outputs": [
    {
     "data": {
      "text/html": [
       "<div>\n",
       "<style scoped>\n",
       "    .dataframe tbody tr th:only-of-type {\n",
       "        vertical-align: middle;\n",
       "    }\n",
       "\n",
       "    .dataframe tbody tr th {\n",
       "        vertical-align: top;\n",
       "    }\n",
       "\n",
       "    .dataframe thead th {\n",
       "        text-align: right;\n",
       "    }\n",
       "</style>\n",
       "<table border=\"1\" class=\"dataframe\">\n",
       "  <thead>\n",
       "    <tr style=\"text-align: right;\">\n",
       "      <th></th>\n",
       "      <th>wavelength</th>\n",
       "      <th>reflect_snow</th>\n",
       "    </tr>\n",
       "  </thead>\n",
       "  <tbody>\n",
       "    <tr>\n",
       "      <th>0</th>\n",
       "      <td>-1.037307</td>\n",
       "      <td>92.439489</td>\n",
       "    </tr>\n",
       "    <tr>\n",
       "      <th>1</th>\n",
       "      <td>-0.877774</td>\n",
       "      <td>92.285262</td>\n",
       "    </tr>\n",
       "    <tr>\n",
       "      <th>2</th>\n",
       "      <td>-0.718163</td>\n",
       "      <td>92.696535</td>\n",
       "    </tr>\n",
       "    <tr>\n",
       "      <th>3</th>\n",
       "      <td>-0.558530</td>\n",
       "      <td>93.262035</td>\n",
       "    </tr>\n",
       "    <tr>\n",
       "      <th>4</th>\n",
       "      <td>-0.398954</td>\n",
       "      <td>93.416262</td>\n",
       "    </tr>\n",
       "    <tr>\n",
       "      <th>...</th>\n",
       "      <td>...</td>\n",
       "      <td>...</td>\n",
       "    </tr>\n",
       "    <tr>\n",
       "      <th>82</th>\n",
       "      <td>10.278790</td>\n",
       "      <td>4.735538</td>\n",
       "    </tr>\n",
       "    <tr>\n",
       "      <th>83</th>\n",
       "      <td>10.438509</td>\n",
       "      <td>5.917948</td>\n",
       "    </tr>\n",
       "    <tr>\n",
       "      <th>84</th>\n",
       "      <td>10.598235</td>\n",
       "      <td>7.151766</td>\n",
       "    </tr>\n",
       "    <tr>\n",
       "      <th>85</th>\n",
       "      <td>10.757904</td>\n",
       "      <td>7.974312</td>\n",
       "    </tr>\n",
       "    <tr>\n",
       "      <th>86</th>\n",
       "      <td>10.851020</td>\n",
       "      <td>8.282767</td>\n",
       "    </tr>\n",
       "  </tbody>\n",
       "</table>\n",
       "<p>87 rows × 2 columns</p>\n",
       "</div>"
      ],
      "text/plain": [
       "    wavelength  reflect_snow\n",
       "0    -1.037307     92.439489\n",
       "1    -0.877774     92.285262\n",
       "2    -0.718163     92.696535\n",
       "3    -0.558530     93.262035\n",
       "4    -0.398954     93.416262\n",
       "..         ...           ...\n",
       "82   10.278790      4.735538\n",
       "83   10.438509      5.917948\n",
       "84   10.598235      7.151766\n",
       "85   10.757904      7.974312\n",
       "86   10.851020      8.282767\n",
       "\n",
       "[87 rows x 2 columns]"
      ]
     },
     "execution_count": 16,
     "metadata": {},
     "output_type": "execute_result"
    }
   ],
   "source": [
    "original_snow"
   ]
  },
  {
   "cell_type": "code",
   "execution_count": 17,
   "metadata": {},
   "outputs": [],
   "source": [
    "original_rock = pd.read_csv(\"original_rock2.csv\", header=None, names=['wavelength', 'reflect_rock'])"
   ]
  },
  {
   "cell_type": "code",
   "execution_count": 18,
   "metadata": {},
   "outputs": [
    {
     "data": {
      "text/html": [
       "<div>\n",
       "<style scoped>\n",
       "    .dataframe tbody tr th:only-of-type {\n",
       "        vertical-align: middle;\n",
       "    }\n",
       "\n",
       "    .dataframe tbody tr th {\n",
       "        vertical-align: top;\n",
       "    }\n",
       "\n",
       "    .dataframe thead th {\n",
       "        text-align: right;\n",
       "    }\n",
       "</style>\n",
       "<table border=\"1\" class=\"dataframe\">\n",
       "  <thead>\n",
       "    <tr style=\"text-align: right;\">\n",
       "      <th></th>\n",
       "      <th>wavelength</th>\n",
       "      <th>reflect_rock</th>\n",
       "    </tr>\n",
       "  </thead>\n",
       "  <tbody>\n",
       "    <tr>\n",
       "      <th>0</th>\n",
       "      <td>-0.141386</td>\n",
       "      <td>33.524643</td>\n",
       "    </tr>\n",
       "    <tr>\n",
       "      <th>1</th>\n",
       "      <td>0.018390</td>\n",
       "      <td>35.118325</td>\n",
       "    </tr>\n",
       "    <tr>\n",
       "      <th>2</th>\n",
       "      <td>0.178181</td>\n",
       "      <td>36.814826</td>\n",
       "    </tr>\n",
       "    <tr>\n",
       "      <th>3</th>\n",
       "      <td>0.337835</td>\n",
       "      <td>37.534554</td>\n",
       "    </tr>\n",
       "    <tr>\n",
       "      <th>4</th>\n",
       "      <td>0.497547</td>\n",
       "      <td>38.665554</td>\n",
       "    </tr>\n",
       "    <tr>\n",
       "      <th>...</th>\n",
       "      <td>...</td>\n",
       "      <td>...</td>\n",
       "    </tr>\n",
       "    <tr>\n",
       "      <th>70</th>\n",
       "      <td>9.534162</td>\n",
       "      <td>4.427083</td>\n",
       "    </tr>\n",
       "    <tr>\n",
       "      <th>71</th>\n",
       "      <td>9.693759</td>\n",
       "      <td>4.735538</td>\n",
       "    </tr>\n",
       "    <tr>\n",
       "      <th>72</th>\n",
       "      <td>9.853256</td>\n",
       "      <td>4.324265</td>\n",
       "    </tr>\n",
       "    <tr>\n",
       "      <th>73</th>\n",
       "      <td>10.012781</td>\n",
       "      <td>4.118629</td>\n",
       "    </tr>\n",
       "    <tr>\n",
       "      <th>74</th>\n",
       "      <td>10.185790</td>\n",
       "      <td>5.259911</td>\n",
       "    </tr>\n",
       "  </tbody>\n",
       "</table>\n",
       "<p>75 rows × 2 columns</p>\n",
       "</div>"
      ],
      "text/plain": [
       "    wavelength  reflect_rock\n",
       "0    -0.141386     33.524643\n",
       "1     0.018390     35.118325\n",
       "2     0.178181     36.814826\n",
       "3     0.337835     37.534554\n",
       "4     0.497547     38.665554\n",
       "..         ...           ...\n",
       "70    9.534162      4.427083\n",
       "71    9.693759      4.735538\n",
       "72    9.853256      4.324265\n",
       "73   10.012781      4.118629\n",
       "74   10.185790      5.259911\n",
       "\n",
       "[75 rows x 2 columns]"
      ]
     },
     "execution_count": 18,
     "metadata": {},
     "output_type": "execute_result"
    }
   ],
   "source": [
    "original_rock"
   ]
  },
  {
   "cell_type": "code",
   "execution_count": 19,
   "metadata": {},
   "outputs": [],
   "source": [
    "original_veg = pd.read_csv(\"vegetation-original.csv\", header=None, names=['wavelength', 'reflect_veg'])"
   ]
  },
  {
   "cell_type": "code",
   "execution_count": 24,
   "metadata": {},
   "outputs": [],
   "source": [
    "veg_interp = interpolate.interp1d(original_veg.wavelength, original_veg.reflect_veg, kind='cubic')\n",
    "snow_interp = interpolate.interp1d(original_snow.wavelength, original_snow.reflect_snow, kind='linear')\n",
    "rock_interp = interpolate.interp1d(original_rock.wavelength, original_rock.reflect_rock, kind='linear')"
   ]
  },
  {
   "cell_type": "code",
   "execution_count": 25,
   "metadata": {},
   "outputs": [],
   "source": [
    "veg_smooth = make_interp_spline(original_veg.wavelength, original_veg.reflect_veg, k=3)\n",
    "snow_smooth = make_interp_spline(original_snow.wavelength, original_snow.reflect_snow, k=2)\n",
    "rock_smooth = make_interp_spline(original_rock.wavelength, original_rock.reflect_rock, k=2)"
   ]
  },
  {
   "cell_type": "code",
   "execution_count": 51,
   "metadata": {},
   "outputs": [],
   "source": [
    "dove_image = mpimg.imread(\"dove.png\")"
   ]
  },
  {
   "cell_type": "code",
   "execution_count": 236,
   "metadata": {},
   "outputs": [],
   "source": [
    "band_height = 6\n",
    "MODIS_loc = 72\n",
    "PLANET_loc = 43\n",
    "SENTINEL_loc = 58\n",
    "SENTINEL_20m_loc = 20\n",
    "\n",
    "MODIS_BANDS = [\n",
    "    (1, 0.62, 0.67-0.62),\n",
    "    (2, 0.841, 0.876 - 0.841),\n",
    "    (3, 0.459, 0.479-0.459),\n",
    "    (4, 0.545, 0.565-0.545), \n",
    "    (5, 1.230, 1.250 - 1.230),\n",
    "    (6, 1.628, 1.652-1.628),\n",
    "    (7, 2.105, 2.155-2.105)\n",
    "]\n",
    "modis_rects = [\n",
    "    patches.Rectangle((b[1], MODIS_loc), width=b[2], height=band_height) for b in MODIS_BANDS\n",
    "]\n",
    "\n",
    "\n",
    "PLANET_BANDS = [\n",
    "    (1, 0.45, 0.515-0.45),\n",
    "    (2, 0.5, 0.59-0.5),\n",
    "    (3, 0.59, 0.670-0.59),\n",
    "    (4, 0.78, 0.86-0.78)\n",
    "]\n",
    "\n",
    "planet_rects = [\n",
    "    patches.Rectangle((b[1], PLANET_loc), width=b[2], height=band_height, edgecolor='black', facecolor='none', fill=None, linewidth=0.2) for b in PLANET_BANDS\n",
    "]\n",
    "\n",
    "SENTINEL_BANDS = [\n",
    "    (2, (0.4924 - 0.066/2), 0.066), \n",
    "    (3, (0.5598 - 0.036/2), 0.036), \n",
    "    (4, (0.6646 - 0.031/2),  0.031), \n",
    "    (8, (0.8328 - 0.106/2),  0.106)\n",
    "]\n",
    "\n",
    "sentinel_rects = [\n",
    "    patches.Rectangle((b[1], SENTINEL_loc), width=b[2], height=band_height, edgecolor='black', facecolor='none', fill=None, linewidth=0.2) for b in SENTINEL_BANDS\n",
    "]\n",
    "sentinel_rects_max_x = max([i.get_x() + i.get_width() for i in sentinel_rects])\n",
    "\n",
    "SENTINEL_20M = [\n",
    "    (5, (0.7041 - 0.015/2), 0.015),\n",
    "    (6, (0.7405 - 0.015/2), 0.015),\n",
    "    (7, (0.7828 - 0.020/2), 0.020),\n",
    "    ('8a', (0.8647 - 0.021/2), 0.021),\n",
    "    (11, (1.1637 - 0.091/2), 0.091),\n",
    "#     (12, (2.2024 - 0.175/2), 2.2024)\n",
    "\n",
    "]\n",
    "sentinel_20m_rects = [\n",
    "    patches.Rectangle((b[1], SENTINEL_20m_loc), width=b[2], height=band_height, edgecolor='black', facecolor='none', fill=None, linewidth=0.2) for b in SENTINEL_20M\n",
    "]\n",
    "\n",
    "sentinel_20m_rects_max_x = max([i.get_x() + i.get_width() for i in sentinel_20m_rects])\n"
   ]
  },
  {
   "cell_type": "code",
   "execution_count": null,
   "metadata": {},
   "outputs": [],
   "source": []
  },
  {
   "cell_type": "code",
   "execution_count": 238,
   "metadata": {},
   "outputs": [
    {
     "data": {
      "image/png": "[encoded data removed]",
      "text/plain": [
       "<Figure size 2000x800 with 1 Axes>"
      ]
     },
     "metadata": {},
     "output_type": "display_data"
    }
   ],
   "source": [
    "X = np.linspace(0, 10, 1000)\n",
    "fig, ax = plt.subplots(figsize=(10, 4), dpi=200)\n",
    "\n",
    "# ax.plot(original_veg.wavelength, original_veg.reflect_veg, color='green')\n",
    "ax.plot(X, veg_smooth(X), color='green')\n",
    "ax.plot(X, snow_smooth(X), color='blue')\n",
    "ax.plot(X, rock_smooth(X), color='brown')\n",
    "\n",
    "ax.text(0.1, 87, \"Snow\", color='blue')\n",
    "ax.text(0.1, 29, \"Rock\", color='brown')\n",
    "ax.text(0.1, 4, \"Vegetation\", color='green')\n",
    "\n",
    "\n",
    "modis_all = patches.Rectangle((0.459, MODIS_loc), 2.155-0.459, height=band_height, facecolor='none', fill=None, edgecolor='black')\n",
    "ax.add_collection(PatchCollection(modis_rects, edgecolor='k', facecolor='orange'))\n",
    "modis_rect = ax.add_patch(modis_all)\n",
    "ax.annotate(\"MODIS\",\n",
    "            xy=(modis_rect.get_x() + modis_rect.get_width() / 2, MODIS_loc + 5),\n",
    "            xytext=(0, 3),  # 3 points vertical offset\n",
    "            textcoords=\"offset points\",\n",
    "            ha='center', va='bottom', alpha=0.5)\n",
    "\n",
    "\n",
    "\n",
    "planet_all = patches.Rectangle((0.45, PLANET_loc), 0.86-0.45, height=band_height, facecolor='none', fill=None, edgecolor='black')\n",
    "ax.add_collection(PatchCollection(planet_rects, edgecolor='k', ))\n",
    "planet_rect = ax.add_patch(planet_all)\n",
    "ax.annotate(\"Planet\",\n",
    "            xy=(planet_rect.get_x() + planet_rect.get_width() / 2, PLANET_loc+5),\n",
    "            xytext=(0, 3),  # 3 points vertical offset\n",
    "            textcoords=\"offset points\",\n",
    "            ha='center', va='bottom', alpha=0.5)\n",
    "\n",
    "\n",
    "sentinel_20m_all = patches.Rectangle(((0.7041 - 0.015/2), SENTINEL_20m_loc), sentinel_20m_rects_max_x - (0.7041 - 0.015/2), height=band_height, facecolor='none', fill=None)\n",
    "col = ax.add_collection(PatchCollection(sentinel_20m_rects, edgecolor='k', facecolor='purple'))\n",
    "sentinel_20m_rect = ax.add_patch(sentinel_20m_all)\n",
    "ax.annotate(\"Sentinel 20m\",\n",
    "            xy=(sentinel_20m_rect.get_x() + sentinel_20m_rect.get_width() / 2, SENTINEL_20m_loc + 5),\n",
    "            xytext=(0, 3),  # 3 points vertical offset\n",
    "            textcoords=\"offset points\",\n",
    "            ha='center', va='bottom', alpha=0.5)\n",
    "\n",
    "sentinel_all = patches.Rectangle(((0.4924 - 0.066/2), SENTINEL_loc), sentinel_rects_max_x - (0.4924 - 0.066/2), height=band_height, facecolor='none', fill=None)\n",
    "col = ax.add_collection(PatchCollection(sentinel_rects, edgecolor='k', facecolor='purple'))\n",
    "sentinel_rect = ax.add_patch(sentinel_all)\n",
    "ax.annotate(\"Sentinel 10m\",\n",
    "            xy=(sentinel_rect.get_x() + sentinel_rect.get_width() / 2, SENTINEL_loc + 5),\n",
    "            xytext=(0, 3),  # 3 points vertical offset\n",
    "            textcoords=\"offset points\",\n",
    "            ha='center', va='bottom', alpha=0.5)\n",
    "\n",
    "# imagebox = OffsetImage(dove_image, zoom=0.1)\n",
    "# imagebox.image.axes = ax\n",
    "\n",
    "# ab = AnnotationBbox(imagebox,\n",
    "#                     (planet_rect.get_x() + planet_rect.get_width(), \n",
    "#                      planet_rect.get_y() + planet_rect.get_height()/2),\n",
    "#                     xybox=(8.8, 80.),\n",
    "#                     xycoords='data',\n",
    "#                     boxcoords=\"data\",\n",
    "#                     arrowprops=dict(\n",
    "#                         arrowstyle=\"->\",\n",
    "#                         connectionstyle=\"arc,angleA=180,angleB=20,armA=5,armB=0.2,rad=3\"))\n",
    "\n",
    "# ax.add_artist(ab)\n",
    "\n",
    "\n",
    "\n",
    "# ax.plot(X, veg_interp(X))\n",
    "# ax.plot(X, rock_interp(X))\n",
    "# ax.plot(X, snow_interp(X))\n",
    "ax.set_xlim([0, 6])\n",
    "ax.set_ylim([0, 100])\n",
    "ax.set_ylabel(\"Reflectance [%]\")\n",
    "ax.set_xlabel(\"Wavelength [$\\mu$m]\")\n",
    "plt.tight_layout()\n",
    "plt.savefig(\"wavelength.pdf\", dpi=300)"
   ]
  },
  {
   "cell_type": "code",
   "execution_count": 205,
   "metadata": {},
   "outputs": [],
   "source": [
    "from scipy import interpolate"
   ]
  },
  {
   "cell_type": "code",
   "execution_count": 93,
   "metadata": {},
   "outputs": [
    {
     "data": {
      "text/plain": [
       "scipy.interpolate.interpolate.interp1d"
      ]
     },
     "execution_count": 93,
     "metadata": {},
     "output_type": "execute_result"
    }
   ],
   "source": [
    "interpolate.interp1d()"
   ]
  },
  {
   "cell_type": "code",
   "execution_count": 47,
   "metadata": {},
   "outputs": [
    {
     "data": {
      "text/plain": [
       "array([[[1., 1., 1., 0.],\n",
       "        [1., 1., 1., 0.],\n",
       "        [1., 1., 1., 0.],\n",
       "        ...,\n",
       "        [1., 1., 1., 0.],\n",
       "        [1., 1., 1., 0.],\n",
       "        [1., 1., 1., 0.]],\n",
       "\n",
       "       [[1., 1., 1., 0.],\n",
       "        [1., 1., 1., 0.],\n",
       "        [1., 1., 1., 0.],\n",
       "        ...,\n",
       "        [1., 1., 1., 0.],\n",
       "        [1., 1., 1., 0.],\n",
       "        [1., 1., 1., 0.]],\n",
       "\n",
       "       [[1., 1., 1., 0.],\n",
       "        [1., 1., 1., 0.],\n",
       "        [1., 1., 1., 0.],\n",
       "        ...,\n",
       "        [1., 1., 1., 0.],\n",
       "        [1., 1., 1., 0.],\n",
       "        [1., 1., 1., 0.]],\n",
       "\n",
       "       ...,\n",
       "\n",
       "       [[1., 1., 1., 0.],\n",
       "        [1., 1., 1., 0.],\n",
       "        [1., 1., 1., 0.],\n",
       "        ...,\n",
       "        [1., 1., 1., 0.],\n",
       "        [1., 1., 1., 0.],\n",
       "        [1., 1., 1., 0.]],\n",
       "\n",
       "       [[1., 1., 1., 0.],\n",
       "        [1., 1., 1., 0.],\n",
       "        [1., 1., 1., 0.],\n",
       "        ...,\n",
       "        [1., 1., 1., 0.],\n",
       "        [1., 1., 1., 0.],\n",
       "        [1., 1., 1., 0.]],\n",
       "\n",
       "       [[1., 1., 1., 0.],\n",
       "        [1., 1., 1., 0.],\n",
       "        [1., 1., 1., 0.],\n",
       "        ...,\n",
       "        [1., 1., 1., 0.],\n",
       "        [1., 1., 1., 0.],\n",
       "        [1., 1., 1., 0.]]], dtype=float32)"
      ]
     },
     "execution_count": 47,
     "metadata": {},
     "output_type": "execute_result"
    }
   ],
   "source": []
  },
  {
   "cell_type": "code",
   "execution_count": null,
   "metadata": {},
   "outputs": [],
   "source": []
  }
 ],
 "metadata": {
  "kernelspec": {
   "display_name": "Python [conda env:process_results]",
   "language": "python",
   "name": "conda-env-process_results-py"
  },
  "language_info": {
   "codemirror_mode": {
    "name": "ipython",
    "version": 3
   },
   "file_extension": ".py",
   "mimetype": "text/x-python",
   "name": "python",
   "nbconvert_exporter": "python",
   "pygments_lexer": "ipython3",
   "version": "3.6.8"
  }
 },
 "nbformat": 4,
 "nbformat_minor": 2
}
