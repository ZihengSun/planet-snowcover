{
 "cells": [
  {
   "cell_type": "code",
   "execution_count": 45,
   "metadata": {},
   "outputs": [],
   "source": [
    "import s3fs\n",
    "import boto3\n",
    "\n",
    "import pandas as pd\n",
    "import geopandas as gpd\n",
    "\n",
    "import requests\n",
    "from requests.auth import HTTPBasicAuth\n",
    "\n",
    "from multiprocessing import Pool\n",
    "from functools import partial\n",
    "\n",
    "import tqdm\n",
    "import numpy as np\n",
    "\n",
    "from os import path\n",
    "import json\n",
    "\n",
    "from shapely.geometry import Polygon, shape\n",
    "\n",
    "from retrying import retry\n",
    "\n",
    "from IPython.display import Markdown\n",
    "\n",
    "import cartopy.feature as cfeatures\n",
    "import cartopy.crs as ccrs\n",
    "\n",
    "import matplotlib.pyplot as plt\n",
    "\n",
    "%matplotlib inline\n"
   ]
  },
  {
   "cell_type": "markdown",
   "metadata": {},
   "source": [
    "# Planet Archive Catalog\n",
    "\n",
    "The S3 bucket `planet-snowcover-archive` (in the `us-west-2` region) has ~800GB of imagery data within it. We need to catalog the metadata of these images. "
   ]
  },
  {
   "cell_type": "code",
   "execution_count": 6,
   "metadata": {
    "collapsed": true
   },
   "outputs": [],
   "source": [
    "fs = s3fs.S3FileSystem(session=boto3.Session(profile_name='esip'))"
   ]
  },
  {
   "cell_type": "code",
   "execution_count": 7,
   "metadata": {
    "collapsed": true
   },
   "outputs": [],
   "source": [
    "archive = fs.ls('planet-snowcover-archive')"
   ]
  },
  {
   "cell_type": "code",
   "execution_count": 8,
   "metadata": {},
   "outputs": [
    {
     "data": {
      "text/plain": [
       "['planet-snowcover-archive/PSScene4Band_20170125_175925_0e20_all_udm2.zip',\n",
       " 'planet-snowcover-archive/PSScene4Band_20170125_175926_0e20_all_udm2.zip',\n",
       " 'planet-snowcover-archive/PSScene4Band_20170125_175927_0e20_all_udm2.zip',\n",
       " 'planet-snowcover-archive/PSScene4Band_20170125_175928_0e20_all_udm2.zip',\n",
       " 'planet-snowcover-archive/PSScene4Band_20170125_175929_0e20_all_udm2.zip']"
      ]
     },
     "execution_count": 8,
     "metadata": {},
     "output_type": "execute_result"
    }
   ],
   "source": [
    "archive[:5]"
   ]
  },
  {
   "cell_type": "code",
   "execution_count": 9,
   "metadata": {},
   "outputs": [
    {
     "data": {
      "text/markdown": [
       "**# Images In Catalog**: 22534"
      ],
      "text/plain": [
       "<IPython.core.display.Markdown object>"
      ]
     },
     "execution_count": 9,
     "metadata": {},
     "output_type": "execute_result"
    }
   ],
   "source": [
    "Markdown(\"**# Images In Catalog**: {}\".format(len(archive)))"
   ]
  },
  {
   "cell_type": "markdown",
   "metadata": {},
   "source": [
    "## Use Planet API to access metadata\n",
    "\n",
    "We'll use the `/v1/item-types/{}/items{}` endpoint. **Requires `~/.planet.json` file**"
   ]
  },
  {
   "cell_type": "code",
   "execution_count": 28,
   "metadata": {
    "collapsed": true
   },
   "outputs": [],
   "source": [
    "@retry(wait_exponential_multiplier=1000, wait_exponential_max=10000)\n",
    "def get_metadata(imgdata, api_key):\n",
    "    PLANET_API = \"https://api.planet.com/data/v1/item-types/{item_type_id}/items/{item_id}\"\n",
    "    request_url = PLANET_API.format(item_type_id = imgdata[0], item_id = imgdata[1])\n",
    "    _r = requests.get(request_url, \n",
    "                      auth = HTTPBasicAuth(api_key, ''))\n",
    "    \n",
    "    if not _r.status_code in [200, 404]: \n",
    "#         print(\"not ok status [{}] ({})\".format(_r.status_code, _r.text))\n",
    "        raise(Exception())\n",
    "    \n",
    "    return(_r.json())"
   ]
  },
  {
   "cell_type": "markdown",
   "metadata": {},
   "source": [
    "## Convert filenames to Type/ID"
   ]
  },
  {
   "cell_type": "code",
   "execution_count": 10,
   "metadata": {},
   "outputs": [
    {
     "data": {
      "text/plain": [
       "['PSScene4Band',\n",
       " 'PSScene4Band',\n",
       " 'PSScene4Band',\n",
       " 'PSScene4Band',\n",
       " 'PSScene4Band']"
      ]
     },
     "execution_count": 10,
     "metadata": {},
     "output_type": "execute_result"
    }
   ],
   "source": [
    "imageTypes = [path.basename(p).split(\"_\")[0] for p in archive]\n",
    "imageTypes[:5]"
   ]
  },
  {
   "cell_type": "code",
   "execution_count": 11,
   "metadata": {},
   "outputs": [
    {
     "data": {
      "text/plain": [
       "['20170125_175925_0e20',\n",
       " '20170125_175926_0e20',\n",
       " '20170125_175927_0e20',\n",
       " '20170125_175928_0e20',\n",
       " '20170125_175929_0e20']"
      ]
     },
     "execution_count": 11,
     "metadata": {},
     "output_type": "execute_result"
    }
   ],
   "source": [
    "imageIDs = [\"_\".join(path.basename(p).split(\"_\")[1:4]) for p in archive]\n",
    "imageIDs[:5]"
   ]
  },
  {
   "cell_type": "code",
   "execution_count": 12,
   "metadata": {
    "collapsed": true
   },
   "outputs": [],
   "source": [
    "archiveParts = zip(archive, imageTypes, imageIDs)"
   ]
  },
  {
   "cell_type": "markdown",
   "metadata": {},
   "source": [
    "## Test on small list"
   ]
  },
  {
   "cell_type": "code",
   "execution_count": 12,
   "metadata": {},
   "outputs": [],
   "source": [
    "# pool = Pool(processes=5)\n",
    "\n",
    "api_key = json.load(open(path.expanduser(\"~/.planet.json\")))['key']\n",
    "get_metadata_auth = partial(get_metadata, api_key=api_key)"
   ]
  },
  {
   "cell_type": "code",
   "execution_count": 15,
   "metadata": {
    "collapsed": true
   },
   "outputs": [],
   "source": [
    "metadataSmall = list(map(get_metadata_auth, zip(imageTypes[:5], imageIDs[:5])))"
   ]
  },
  {
   "cell_type": "code",
   "execution_count": 16,
   "metadata": {},
   "outputs": [
    {
     "data": {
      "text/plain": [
       "[{'_links': {'_self': 'https://api.planet.com/data/v1/item-types/PSScene4Band/items/20170125_175925_0e20',\n",
       "   'assets': 'https://api.planet.com/data/v1/item-types/PSScene4Band/items/20170125_175925_0e20/assets/',\n",
       "   'thumbnail': 'https://tiles.planet.com/data/v1/item-types/PSScene4Band/items/20170125_175925_0e20/thumb'},\n",
       "  '_permissions': ['assets.udm:download',\n",
       "   'assets.analytic:download',\n",
       "   'assets.analytic_xml:download',\n",
       "   'assets.analytic_dn:download',\n",
       "   'assets.analytic_dn_xml:download',\n",
       "   'assets.basic_analytic:download',\n",
       "   'assets.basic_analytic_rpc:download',\n",
       "   'assets.basic_analytic_dn:download',\n",
       "   'assets.basic_analytic_dn_rpc:download',\n",
       "   'assets.basic_analytic_xml:download',\n",
       "   'assets.basic_analytic_dn_xml:download',\n",
       "   'assets.basic_analytic_dn_nitf:download',\n",
       "   'assets.basic_analytic_dn_rpc_nitf:download',\n",
       "   'assets.basic_analytic_dn_xml_nitf:download',\n",
       "   'assets.basic_analytic_nitf:download',\n",
       "   'assets.basic_analytic_rpc_nitf:download',\n",
       "   'assets.basic_analytic_xml_nitf:download',\n",
       "   'assets.basic_udm:download',\n",
       "   'assets.analytic_sr:download',\n",
       "   'assets.basic_udm2:download',\n",
       "   'assets.udm2:download'],\n",
       "  'geometry': {'coordinates': [[[-119.51361880269782, 37.7865680702828],\n",
       "     [-119.80088996704569, 37.838974979688835],\n",
       "     [-119.77908752575614, 37.91337067922686],\n",
       "     [-119.49290580533986, 37.86092638524913],\n",
       "     [-119.49621947946787, 37.84984869468662],\n",
       "     [-119.49511578934347, 37.84964720038686],\n",
       "     [-119.51361880269782, 37.7865680702828]]],\n",
       "   'type': 'Polygon'},\n",
       "  'id': '20170125_175925_0e20',\n",
       "  'properties': {'acquired': '2017-01-25T17:59:25.022848Z',\n",
       "   'anomalous_pixels': 0.16,\n",
       "   'clear_confidence_percent': 98,\n",
       "   'clear_percent': 26,\n",
       "   'cloud_cover': 0.08,\n",
       "   'cloud_percent': 0,\n",
       "   'columns': 9058,\n",
       "   'epsg_code': 32611,\n",
       "   'ground_control': True,\n",
       "   'gsd': 3.9,\n",
       "   'heavy_haze_percent': 0,\n",
       "   'instrument': 'PS2',\n",
       "   'item_type': 'PSScene4Band',\n",
       "   'light_haze_percent': 0,\n",
       "   'origin_x': 253527,\n",
       "   'origin_y': 4199847,\n",
       "   'pixel_resolution': 3,\n",
       "   'provider': 'planetscope',\n",
       "   'published': '2017-01-26T05:27:59.000Z',\n",
       "   'quality_category': 'standard',\n",
       "   'rows': 4913,\n",
       "   'satellite_id': '0e20',\n",
       "   'shadow_percent': 0,\n",
       "   'snow_ice_percent': 73,\n",
       "   'strip_id': '380850',\n",
       "   'sun_azimuth': 145.3,\n",
       "   'sun_elevation': 25.6,\n",
       "   'updated': '2019-04-10T19:30:36.877Z',\n",
       "   'usable_data': 0,\n",
       "   'view_angle': 0.1,\n",
       "   'visible_confidence_percent': 85,\n",
       "   'visible_percent': 100},\n",
       "  'type': 'Feature'},\n",
       " {'_links': {'_self': 'https://api.planet.com/data/v1/item-types/PSScene4Band/items/20170125_175926_0e20',\n",
       "   'assets': 'https://api.planet.com/data/v1/item-types/PSScene4Band/items/20170125_175926_0e20/assets/',\n",
       "   'thumbnail': 'https://tiles.planet.com/data/v1/item-types/PSScene4Band/items/20170125_175926_0e20/thumb'},\n",
       "  '_permissions': ['assets.udm:download',\n",
       "   'assets.analytic:download',\n",
       "   'assets.analytic_xml:download',\n",
       "   'assets.analytic_dn:download',\n",
       "   'assets.analytic_dn_xml:download',\n",
       "   'assets.basic_analytic:download',\n",
       "   'assets.basic_analytic_rpc:download',\n",
       "   'assets.basic_analytic_dn:download',\n",
       "   'assets.basic_analytic_dn_rpc:download',\n",
       "   'assets.basic_analytic_xml:download',\n",
       "   'assets.basic_analytic_dn_xml:download',\n",
       "   'assets.basic_analytic_dn_nitf:download',\n",
       "   'assets.basic_analytic_dn_rpc_nitf:download',\n",
       "   'assets.basic_analytic_dn_xml_nitf:download',\n",
       "   'assets.basic_analytic_nitf:download',\n",
       "   'assets.basic_analytic_rpc_nitf:download',\n",
       "   'assets.basic_analytic_xml_nitf:download',\n",
       "   'assets.basic_udm:download',\n",
       "   'assets.analytic_sr:download',\n",
       "   'assets.basic_udm2:download',\n",
       "   'assets.udm2:download'],\n",
       "  'geometry': {'coordinates': [[[-119.53225920956343, 37.71917180230402],\n",
       "     [-119.81963328217304, 37.771562256065394],\n",
       "     [-119.79791892363205, 37.84599730310989],\n",
       "     [-119.5115475313802, 37.79362929811754],\n",
       "     [-119.51493807681808, 37.78207049671023],\n",
       "     [-119.51383631697864, 37.78186955413366],\n",
       "     [-119.53225920956343, 37.71917180230402]]],\n",
       "   'type': 'Polygon'},\n",
       "  'id': '20170125_175926_0e20',\n",
       "  'properties': {'acquired': '2017-01-25T17:59:26.109317Z',\n",
       "   'anomalous_pixels': 0.21,\n",
       "   'clear_confidence_percent': 98,\n",
       "   'clear_percent': 29,\n",
       "   'cloud_cover': 0.21,\n",
       "   'cloud_percent': 0,\n",
       "   'columns': 9069,\n",
       "   'epsg_code': 32611,\n",
       "   'ground_control': True,\n",
       "   'gsd': 3.9,\n",
       "   'heavy_haze_percent': 0,\n",
       "   'instrument': 'PS2',\n",
       "   'item_type': 'PSScene4Band',\n",
       "   'light_haze_percent': 0,\n",
       "   'origin_x': 251652,\n",
       "   'origin_y': 4192419,\n",
       "   'pixel_resolution': 3,\n",
       "   'provider': 'planetscope',\n",
       "   'published': '2017-01-26T05:27:59.000Z',\n",
       "   'quality_category': 'standard',\n",
       "   'rows': 4915,\n",
       "   'satellite_id': '0e20',\n",
       "   'shadow_percent': 0,\n",
       "   'snow_ice_percent': 70,\n",
       "   'strip_id': '380850',\n",
       "   'sun_azimuth': 145.2,\n",
       "   'sun_elevation': 25.6,\n",
       "   'updated': '2019-04-10T19:30:45.867Z',\n",
       "   'usable_data': 0,\n",
       "   'view_angle': 0.1,\n",
       "   'visible_confidence_percent': 89,\n",
       "   'visible_percent': 100},\n",
       "  'type': 'Feature'},\n",
       " {'_links': {'_self': 'https://api.planet.com/data/v1/item-types/PSScene4Band/items/20170125_175927_0e20',\n",
       "   'assets': 'https://api.planet.com/data/v1/item-types/PSScene4Band/items/20170125_175927_0e20/assets/',\n",
       "   'thumbnail': 'https://tiles.planet.com/data/v1/item-types/PSScene4Band/items/20170125_175927_0e20/thumb'},\n",
       "  '_permissions': ['assets.udm:download',\n",
       "   'assets.analytic:download',\n",
       "   'assets.analytic_xml:download',\n",
       "   'assets.analytic_dn:download',\n",
       "   'assets.analytic_dn_xml:download',\n",
       "   'assets.basic_analytic:download',\n",
       "   'assets.basic_analytic_rpc:download',\n",
       "   'assets.basic_analytic_dn:download',\n",
       "   'assets.basic_analytic_dn_rpc:download',\n",
       "   'assets.basic_analytic_xml:download',\n",
       "   'assets.basic_analytic_dn_xml:download',\n",
       "   'assets.basic_analytic_dn_nitf:download',\n",
       "   'assets.basic_analytic_dn_rpc_nitf:download',\n",
       "   'assets.basic_analytic_dn_xml_nitf:download',\n",
       "   'assets.basic_analytic_nitf:download',\n",
       "   'assets.basic_analytic_rpc_nitf:download',\n",
       "   'assets.basic_analytic_xml_nitf:download',\n",
       "   'assets.basic_udm:download',\n",
       "   'assets.analytic_sr:download',\n",
       "   'assets.basic_udm2:download',\n",
       "   'assets.udm2:download'],\n",
       "  'geometry': {'coordinates': [[[-119.55117246030301, 37.65188470633547],\n",
       "     [-119.8382913479254, 37.70434298884371],\n",
       "     [-119.81661333865875, 37.77879224861079],\n",
       "     [-119.53012782315014, 37.72642544804821],\n",
       "     [-119.5335846308128, 37.71466105936937],\n",
       "     [-119.5327499621017, 37.71450889139713],\n",
       "     [-119.55117246030301, 37.65188470633547]]],\n",
       "   'type': 'Polygon'},\n",
       "  'id': '20170125_175927_0e20',\n",
       "  'properties': {'acquired': '2017-01-25T17:59:27.195786Z',\n",
       "   'anomalous_pixels': 0.22,\n",
       "   'clear_confidence_percent': 99,\n",
       "   'clear_percent': 39,\n",
       "   'cloud_cover': 0.43,\n",
       "   'cloud_percent': 0,\n",
       "   'columns': 9081,\n",
       "   'epsg_code': 32611,\n",
       "   'ground_control': True,\n",
       "   'gsd': 3.9,\n",
       "   'heavy_haze_percent': 0,\n",
       "   'instrument': 'PS2',\n",
       "   'item_type': 'PSScene4Band',\n",
       "   'light_haze_percent': 0,\n",
       "   'origin_x': 249780,\n",
       "   'origin_y': 4185009,\n",
       "   'pixel_resolution': 3,\n",
       "   'provider': 'planetscope',\n",
       "   'published': '2017-01-26T03:31:39.000Z',\n",
       "   'quality_category': 'standard',\n",
       "   'rows': 4919,\n",
       "   'satellite_id': '0e20',\n",
       "   'shadow_percent': 0,\n",
       "   'snow_ice_percent': 60,\n",
       "   'strip_id': '380850',\n",
       "   'sun_azimuth': 145.2,\n",
       "   'sun_elevation': 25.7,\n",
       "   'updated': '2019-04-10T19:30:41.199Z',\n",
       "   'usable_data': 0,\n",
       "   'view_angle': 0.1,\n",
       "   'visible_confidence_percent': 93,\n",
       "   'visible_percent': 100},\n",
       "  'type': 'Feature'},\n",
       " {'_links': {'_self': 'https://api.planet.com/data/v1/item-types/PSScene4Band/items/20170125_175928_0e20',\n",
       "   'assets': 'https://api.planet.com/data/v1/item-types/PSScene4Band/items/20170125_175928_0e20/assets/',\n",
       "   'thumbnail': 'https://tiles.planet.com/data/v1/item-types/PSScene4Band/items/20170125_175928_0e20/thumb'},\n",
       "  '_permissions': ['assets.udm:download',\n",
       "   'assets.analytic:download',\n",
       "   'assets.analytic_xml:download',\n",
       "   'assets.analytic_dn:download',\n",
       "   'assets.analytic_dn_xml:download',\n",
       "   'assets.basic_analytic:download',\n",
       "   'assets.basic_analytic_rpc:download',\n",
       "   'assets.basic_analytic_dn:download',\n",
       "   'assets.basic_analytic_dn_rpc:download',\n",
       "   'assets.basic_analytic_xml:download',\n",
       "   'assets.basic_analytic_dn_xml:download',\n",
       "   'assets.basic_analytic_dn_nitf:download',\n",
       "   'assets.basic_analytic_dn_rpc_nitf:download',\n",
       "   'assets.basic_analytic_dn_xml_nitf:download',\n",
       "   'assets.basic_analytic_nitf:download',\n",
       "   'assets.basic_analytic_rpc_nitf:download',\n",
       "   'assets.basic_analytic_xml_nitf:download',\n",
       "   'assets.basic_udm:download',\n",
       "   'assets.analytic_sr:download',\n",
       "   'assets.basic_udm2:download',\n",
       "   'assets.udm2:download'],\n",
       "  'geometry': {'coordinates': [[[-119.57018002971239, 37.58430713596499],\n",
       "     [-119.85669343184594, 37.63681542289427],\n",
       "     [-119.83466799558711, 37.71108491028286],\n",
       "     [-119.5491676885924, 37.658699590681714],\n",
       "     [-119.55249761725726, 37.64738005808244],\n",
       "     [-119.55165445182665, 37.64722598992567],\n",
       "     [-119.57018002971239, 37.58430713596499]]],\n",
       "   'type': 'Polygon'},\n",
       "  'id': '20170125_175928_0e20',\n",
       "  'properties': {'acquired': '2017-01-25T17:59:28.282255Z',\n",
       "   'anomalous_pixels': 0.09,\n",
       "   'clear_confidence_percent': 99,\n",
       "   'clear_percent': 66,\n",
       "   'cloud_cover': 0.49,\n",
       "   'cloud_percent': 0,\n",
       "   'columns': 9070,\n",
       "   'epsg_code': 32611,\n",
       "   'ground_control': True,\n",
       "   'gsd': 3.9,\n",
       "   'heavy_haze_percent': 0,\n",
       "   'instrument': 'PS2',\n",
       "   'item_type': 'PSScene4Band',\n",
       "   'light_haze_percent': 0,\n",
       "   'origin_x': 247929,\n",
       "   'origin_y': 4177545,\n",
       "   'pixel_resolution': 3,\n",
       "   'provider': 'planetscope',\n",
       "   'published': '2017-01-26T03:31:39.000Z',\n",
       "   'quality_category': 'standard',\n",
       "   'rows': 4915,\n",
       "   'satellite_id': '0e20',\n",
       "   'shadow_percent': 0,\n",
       "   'snow_ice_percent': 33,\n",
       "   'strip_id': '380850',\n",
       "   'sun_azimuth': 145.2,\n",
       "   'sun_elevation': 25.7,\n",
       "   'updated': '2019-04-10T19:30:48.936Z',\n",
       "   'usable_data': 0,\n",
       "   'view_angle': 0.1,\n",
       "   'visible_confidence_percent': 96,\n",
       "   'visible_percent': 100},\n",
       "  'type': 'Feature'},\n",
       " {'_links': {'_self': 'https://api.planet.com/data/v1/item-types/PSScene4Band/items/20170125_175929_0e20',\n",
       "   'assets': 'https://api.planet.com/data/v1/item-types/PSScene4Band/items/20170125_175929_0e20/assets/',\n",
       "   'thumbnail': 'https://tiles.planet.com/data/v1/item-types/PSScene4Band/items/20170125_175929_0e20/thumb'},\n",
       "  '_permissions': ['assets.udm:download',\n",
       "   'assets.analytic:download',\n",
       "   'assets.analytic_xml:download',\n",
       "   'assets.analytic_dn:download',\n",
       "   'assets.analytic_dn_xml:download',\n",
       "   'assets.basic_analytic:download',\n",
       "   'assets.basic_analytic_rpc:download',\n",
       "   'assets.basic_analytic_dn:download',\n",
       "   'assets.basic_analytic_dn_rpc:download',\n",
       "   'assets.basic_analytic_xml:download',\n",
       "   'assets.basic_analytic_dn_xml:download',\n",
       "   'assets.basic_analytic_dn_nitf:download',\n",
       "   'assets.basic_analytic_dn_rpc_nitf:download',\n",
       "   'assets.basic_analytic_dn_xml_nitf:download',\n",
       "   'assets.basic_analytic_nitf:download',\n",
       "   'assets.basic_analytic_rpc_nitf:download',\n",
       "   'assets.basic_analytic_xml_nitf:download',\n",
       "   'assets.basic_udm:download',\n",
       "   'assets.analytic_sr:download',\n",
       "   'assets.basic_udm2:download',\n",
       "   'assets.udm2:download'],\n",
       "  'geometry': {'coordinates': [[[-119.5887662202183, 37.51560590483066],\n",
       "     [-119.87492739484827, 37.568043216454136],\n",
       "     [-119.85340362291807, 37.64272458736979],\n",
       "     [-119.56845365026888, 37.5901704788932],\n",
       "     [-119.57150487932921, 37.57980751818928],\n",
       "     [-119.57007967564263, 37.579546500229455],\n",
       "     [-119.5887662202183, 37.51560590483066]]],\n",
       "   'type': 'Polygon'},\n",
       "  'id': '20170125_175929_0e20',\n",
       "  'properties': {'acquired': '2017-01-25T17:59:29.368724Z',\n",
       "   'anomalous_pixels': 0.08,\n",
       "   'clear_confidence_percent': 99,\n",
       "   'clear_percent': 77,\n",
       "   'cloud_cover': 0.6,\n",
       "   'cloud_percent': 1,\n",
       "   'columns': 9047,\n",
       "   'epsg_code': 32611,\n",
       "   'ground_control': True,\n",
       "   'gsd': 3.9,\n",
       "   'heavy_haze_percent': 0,\n",
       "   'instrument': 'PS2',\n",
       "   'item_type': 'PSScene4Band',\n",
       "   'light_haze_percent': 0,\n",
       "   'origin_x': 246087,\n",
       "   'origin_y': 4170009,\n",
       "   'pixel_resolution': 3,\n",
       "   'provider': 'planetscope',\n",
       "   'published': '2017-01-26T03:31:39.000Z',\n",
       "   'quality_category': 'standard',\n",
       "   'rows': 4930,\n",
       "   'satellite_id': '0e20',\n",
       "   'shadow_percent': 0,\n",
       "   'snow_ice_percent': 21,\n",
       "   'strip_id': '380850',\n",
       "   'sun_azimuth': 145.1,\n",
       "   'sun_elevation': 25.8,\n",
       "   'updated': '2019-04-10T19:30:39.034Z',\n",
       "   'usable_data': 0,\n",
       "   'view_angle': 0.1,\n",
       "   'visible_confidence_percent': 92,\n",
       "   'visible_percent': 99},\n",
       "  'type': 'Feature'}]"
      ]
     },
     "execution_count": 16,
     "metadata": {},
     "output_type": "execute_result"
    }
   ],
   "source": [
    "metadataSmall"
   ]
  },
  {
   "cell_type": "markdown",
   "metadata": {},
   "source": [
    "## Run for entire dataset"
   ]
  },
  {
   "cell_type": "code",
   "execution_count": 29,
   "metadata": {},
   "outputs": [
    {
     "name": "stderr",
     "output_type": "stream",
     "text": [
      "100%|██████████| 22534/22534 [1:08:28<00:00,  5.48it/s]\n"
     ]
    }
   ],
   "source": [
    "metadata = list(map(get_metadata_auth, tqdm.tqdm(zip(imageTypes, imageIDs), total=len(archive))))"
   ]
  },
  {
   "cell_type": "markdown",
   "metadata": {},
   "source": [
    "## Process Results\n",
    "We'll first save them as raw data. Then remove the ones that 404'd and assess those more closely.\n",
    "\n",
    "### Filter Raw Results"
   ]
  },
  {
   "cell_type": "code",
   "execution_count": 36,
   "metadata": {},
   "outputs": [],
   "source": [
    "md_array = np.array(metadata)\n",
    "np.savez_compressed(\"catalog\", md_array)"
   ]
  },
  {
   "cell_type": "code",
   "execution_count": 22,
   "metadata": {
    "collapsed": true
   },
   "outputs": [],
   "source": [
    "md_array = np.load(\"catalog.npz\").items()[0][1]"
   ]
  },
  {
   "cell_type": "code",
   "execution_count": 16,
   "metadata": {},
   "outputs": [
    {
     "data": {
      "text/plain": [
       "<numpy.lib.npyio.NpzFile at 0x10ac055f8>"
      ]
     },
     "execution_count": 16,
     "metadata": {},
     "output_type": "execute_result"
    }
   ],
   "source": []
  },
  {
   "cell_type": "code",
   "execution_count": 24,
   "metadata": {},
   "outputs": [],
   "source": [
    "# Check for 404s (they don't have \"_links\")\n",
    "mask_nan = np.array(['_links' in i for i in md_array])"
   ]
  },
  {
   "cell_type": "code",
   "execution_count": 25,
   "metadata": {},
   "outputs": [],
   "source": [
    "missedIDs = np.array(imageIDs)[~mask_nan]"
   ]
  },
  {
   "cell_type": "code",
   "execution_count": 26,
   "metadata": {
    "collapsed": true
   },
   "outputs": [],
   "source": [
    "metadata_raw = md_array[mask_nan]"
   ]
  },
  {
   "cell_type": "markdown",
   "metadata": {},
   "source": [
    "### Convert to GeoDataFrame"
   ]
  },
  {
   "cell_type": "code",
   "execution_count": 69,
   "metadata": {
    "collapsed": true
   },
   "outputs": [],
   "source": [
    "metaDF = pd.io.json.json_normalize(metadata_raw)"
   ]
  },
  {
   "cell_type": "code",
   "execution_count": 70,
   "metadata": {},
   "outputs": [],
   "source": [
    "metaDF = metaDF.set_index('id')"
   ]
  },
  {
   "cell_type": "code",
   "execution_count": 71,
   "metadata": {},
   "outputs": [],
   "source": [
    "metaGeoms = [shape({\n",
    "    'type' : row['geometry.type'],\n",
    "    'coordinates': row['geometry.coordinates']\n",
    "}) for _, row in metaDF.iterrows()]"
   ]
  },
  {
   "cell_type": "code",
   "execution_count": 72,
   "metadata": {},
   "outputs": [],
   "source": [
    "metaDF = metaDF.drop(['geometry.coordinates', 'geometry.type', '_permissions'], axis=1, )"
   ]
  },
  {
   "cell_type": "code",
   "execution_count": 73,
   "metadata": {
    "collapsed": true
   },
   "outputs": [],
   "source": [
    "metaGDF = gpd.GeoDataFrame(metaDF, geometry=metaGeoms)"
   ]
  },
  {
   "cell_type": "code",
   "execution_count": 54,
   "metadata": {},
   "outputs": [
    {
     "data": {
      "text/plain": [
       "<cartopy.mpl.gridliner.Gridliner at 0x121780da0>"
      ]
     },
     "execution_count": 54,
     "metadata": {},
     "output_type": "execute_result"
    },
    {
     "data": {
      "image/png": "[encoded data removed]",
      "text/plain": [
       "<Figure size 432x288 with 1 Axes>"
      ]
     },
     "metadata": {
      "needs_background": "light"
     },
     "output_type": "display_data"
    }
   ],
   "source": [
    "ax = plt.subplot(projection=ccrs.Mercator().GOOGLE)\n",
    "metaGDF.plot(ax=ax, transform=ccrs.PlateCarree())\n",
    "ax.add_feature(cfeatures.COASTLINE)\n",
    "ax.gridlines(draw_labels=True)"
   ]
  },
  {
   "cell_type": "code",
   "execution_count": 74,
   "metadata": {},
   "outputs": [],
   "source": [
    "metaGDF.to_file(\"planet-archive-catalog.geojson\", driver='GeoJSON')"
   ]
  },
  {
   "cell_type": "code",
   "execution_count": 75,
   "metadata": {},
   "outputs": [
    {
     "name": "stdout",
     "output_type": "stream",
     "text": [
      "total 113576\r\n",
      "-rw-r--r--@ 1 tony  staff   2.5M Oct  4 15:42 ASO_Planet_footprint.ipynb\r\n",
      "-rw-r--r--@ 1 tony  staff    52K Jan 16 15:10 Untitled.ipynb\r\n",
      "-rw-r--r--@ 1 tony  staff     0B Jan 10 08:46 archive_catalog.sh\r\n",
      "-rw-r--r--@ 1 tony  staff    11M Jan 16 14:40 catalog.npz\r\n",
      "-rw-r--r--@ 1 tony  staff    42M Jan 16 15:10 planet-archive-catalog.geojson\r\n"
     ]
    }
   ],
   "source": [
    "!ls -lh"
   ]
  },
  {
   "cell_type": "code",
   "execution_count": 76,
   "metadata": {
    "collapsed": true
   },
   "outputs": [],
   "source": [
    "metaGDF.to_file(\"planet-archive-catalog.shp\")"
   ]
  },
  {
   "cell_type": "markdown",
   "metadata": {},
   "source": [
    "### Upload to S3 Bucket"
   ]
  },
  {
   "cell_type": "code",
   "execution_count": 86,
   "metadata": {
    "collapsed": true
   },
   "outputs": [],
   "source": [
    "fs.put(\"planet-archive-catalog.geojson\", 'planet-snowcover-archive/planet-archive-catalog.geojson')"
   ]
  }
 ],
 "metadata": {
  "kernelspec": {
   "display_name": "Python [conda env:geo]",
   "language": "python",
   "name": "conda-env-geo-py"
  },
  "language_info": {
   "codemirror_mode": {
    "name": "ipython",
    "version": 3
   },
   "file_extension": ".py",
   "mimetype": "text/x-python",
   "name": "python",
   "nbconvert_exporter": "python",
   "pygments_lexer": "ipython3",
   "version": "3.5.6"
  },
  "toc": {
   "colors": {
    "hover_highlight": "#DAA520",
    "navigate_num": "#000000",
    "navigate_text": "#333333",
    "running_highlight": "#FF0000",
    "selected_highlight": "#FFD700",
    "sidebar_border": "#EEEEEE",
    "wrapper_background": "#FFFFFF"
   },
   "moveMenuLeft": true,
   "nav_menu": {
    "height": "102px",
    "width": "252px"
   },
   "navigate_menu": true,
   "number_sections": true,
   "sideBar": true,
   "threshold": 4,
   "toc_cell": false,
   "toc_section_display": "block",
   "toc_window_display": false,
   "widenNotebook": false
  }
 },
 "nbformat": 4,
 "nbformat_minor": 2
}
