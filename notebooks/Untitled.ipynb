{
 "cells": [
  {
   "cell_type": "code",
   "execution_count": 2,
   "metadata": {},
   "outputs": [],
   "source": [
    "import pandas as pd\n",
    "import geopandas as gpd\n",
    "import rasterio\n",
    "from cartopy import crs\n",
    "from cartopy.io.img_tiles import MapboxTiles\n",
    "from shapely.geometry import Point\n",
    "from folium import GeoJson\n",
    "from folium import Map\n",
    "from numpy import mean\n",
    "import geojson\n",
    "import json\n",
    "\n",
    "import matplotlib.pyplot as plt\n",
    "plt.rcParams[\"figure.figsize\"] = (40,40)\n",
    "token = 'pk.eyJ1IjoibWFwYm94IiwiYSI6ImNpejY4M29iazA2Z2gycXA4N2pmbDZmangifQ.-g_vE53SD2WrJ6tFX7QHmA'\n",
    "%matplotlib inline\n",
    "%config InlineBackend.figure_format = 'retina'\n"
   ]
  },
  {
   "cell_type": "markdown",
   "metadata": {},
   "source": [
    "# Mt. Rainier Snow Cover Locations\n",
    "\n",
    "from JHRL/Ian"
   ]
  },
  {
   "cell_type": "code",
   "execution_count": 3,
   "metadata": {},
   "outputs": [],
   "source": [
    "snowcover = pd.read_csv(\"../data/snow_summary_all_2009_2017_locs.csv\")\n",
    "snowcover['geometry'] = [Point(xy) for xy in zip(snowcover.longitude, snowcover.latitude)]\n",
    "snowcover = gpd.GeoDataFrame(snowcover)\n",
    "snowcover.crs = {\"init\" : 'epsg:4326'}\n",
    "bounds = snowcover.cascaded_union.buffer(0.01).bounds\n",
    "bounds = [\n",
    "    bounds[0],\n",
    "    bounds[2],\n",
    "    bounds[1],\n",
    "    bounds[3]\n",
    "]\n"
   ]
  },
  {
   "cell_type": "code",
   "execution_count": null,
   "metadata": {},
   "outputs": [],
   "source": []
  },
  {
   "cell_type": "code",
   "execution_count": null,
   "metadata": {},
   "outputs": [],
   "source": [
    "tiler = MapboxTiles(token, 'mapbox.streets')\n",
    "mercator = tiler.crs\n",
    "ax = plt.axes(projection=mercator)\n",
    "ax.set_extent(bounds)\n",
    "ax.add_geometries(snowcover.dropna().geometry.buffer(0.001), crs=crs.PlateCarree(), color='red')\n",
    "ax.add_image(tiler, 13)\n",
    "\n"
   ]
  },
  {
   "cell_type": "code",
   "execution_count": 3,
   "metadata": {},
   "outputs": [],
   "source": [
    "json = GeoJson(snowcover.dropna().to_json())\n",
    "center = [mean(snowcover.latitude), mean(snowcover.longitude)]\n",
    "m = Map(center)\n",
    "json.add_to(m)\n",
    "m.save('locations.html')"
   ]
  },
  {
   "cell_type": "code",
   "execution_count": 20,
   "metadata": {},
   "outputs": [
    {
     "name": "stdout",
     "output_type": "stream",
     "text": [
      "1.2M\tlocations.html\r\n",
      "524K\tUntitled.ipynb\r\n"
     ]
    }
   ],
   "source": [
    "!du -h *"
   ]
  },
  {
   "cell_type": "code",
   "execution_count": 4,
   "metadata": {},
   "outputs": [
    {
     "data": {
      "text/plain": [
       "<folium.features.GeoJson at 0x7f897ec9b668>"
      ]
     },
     "execution_count": 4,
     "metadata": {},
     "output_type": "execute_result"
    }
   ],
   "source": [
    "unique = snowcover.drop_duplicates('Location').dropna()\n",
    "small_json = GeoJson(unique.to_json())\n",
    "center = [mean(unique.latitude), mean(unique.longitude)]\n",
    "m = Map(center)\n",
    "small_json.add_to(m)\n"
   ]
  },
  {
   "cell_type": "code",
   "execution_count": 5,
   "metadata": {},
   "outputs": [
    {
     "ename": "AttributeError",
     "evalue": "module 'geopandas' has no attribute 'casc'",
     "output_type": "error",
     "traceback": [
      "\u001b[0;31m---------------------------------------------------------------------------\u001b[0m",
      "\u001b[0;31mAttributeError\u001b[0m                            Traceback (most recent call last)",
      "\u001b[0;32m<ipython-input-5-6fcec17e9d5a>\u001b[0m in \u001b[0;36m<module>\u001b[0;34m()\u001b[0m\n\u001b[0;32m----> 1\u001b[0;31m \u001b[0mgpd\u001b[0m\u001b[0;34m.\u001b[0m\u001b[0mcasc\u001b[0m\u001b[0;34m\u001b[0m\u001b[0m\n\u001b[0m",
      "\u001b[0;31mAttributeError\u001b[0m: module 'geopandas' has no attribute 'casc'"
     ]
    }
   ],
   "source": [
    "gpd.casc"
   ]
  },
  {
   "cell_type": "code",
   "execution_count": 5,
   "metadata": {},
   "outputs": [],
   "source": [
    "coveredarea = unique.cascaded_union.convex_hull"
   ]
  },
  {
   "cell_type": "code",
   "execution_count": 6,
   "metadata": {},
   "outputs": [
    {
     "data": {
      "text/plain": [
       "[[[-121.91632, 46.73899],\n",
       "  [-121.91641000000001, 46.73915],\n",
       "  [-121.91672, 46.739740000000005],\n",
       "  [-121.88728, 46.994679999999995],\n",
       "  [-121.53754920000002, 46.994992100000005],\n",
       "  [-121.53741979999998, 46.99495506],\n",
       "  [-121.5352794, 46.99410449],\n",
       "  [-121.402, 46.888740000000006],\n",
       "  [-121.55821, 46.741009999999996],\n",
       "  [-121.91632, 46.73899]]]"
      ]
     },
     "execution_count": 6,
     "metadata": {},
     "output_type": "execute_result"
    }
   ],
   "source": [
    "geojson.Feature(geometry=coveredarea).geometry.coordinates"
   ]
  },
  {
   "cell_type": "code",
   "execution_count": 7,
   "metadata": {},
   "outputs": [
    {
     "name": "stdout",
     "output_type": "stream",
     "text": [
      "{\"geometry\": {\"coordinates\": [[[-121.91632, 46.73899], [-121.91641000000001, 46.73915], [-121.91672, 46.739740000000005], [-121.88728, 46.994679999999995], [-121.53754920000002, 46.994992100000005], [-121.53741979999998, 46.99495506], [-121.5352794, 46.99410449], [-121.402, 46.888740000000006], [-121.55821, 46.741009999999996], [-121.91632, 46.73899]]], \"type\": \"Polygon\"}, \"properties\": {}, \"type\": \"Feature\"}"
     ]
    }
   ],
   "source": [
    "!cat sensor_bbox.json"
   ]
  },
  {
   "cell_type": "code",
   "execution_count": 8,
   "metadata": {},
   "outputs": [
    {
     "data": {
      "text/plain": [
       "[[[-121.91632, 46.73899],\n",
       "  [-121.91641000000001, 46.73915],\n",
       "  [-121.91672, 46.739740000000005],\n",
       "  [-121.88728, 46.994679999999995],\n",
       "  [-121.53754920000002, 46.994992100000005],\n",
       "  [-121.53741979999998, 46.99495506],\n",
       "  [-121.5352794, 46.99410449],\n",
       "  [-121.402, 46.888740000000006],\n",
       "  [-121.55821, 46.741009999999996],\n",
       "  [-121.91632, 46.73899]]]"
      ]
     },
     "execution_count": 8,
     "metadata": {},
     "output_type": "execute_result"
    }
   ],
   "source": [
    "geojson.Feature(geometry=coveredarea).geometry.coordinates"
   ]
  },
  {
   "cell_type": "code",
   "execution_count": 13,
   "metadata": {},
   "outputs": [],
   "source": [
    "from planet import api\n",
    "aoi = {\n",
    "    'type' : \"Polygon\",\n",
    "    'coordinates' : geojson.Feature(geometry=coveredarea).geometry.coordinates\n",
    "\n",
    "}\n",
    "client = api.ClientV1()\n",
    "query = api.filters.and_filter(\n",
    "    api.filters.geom_filter(aoi), \n",
    "    api.filters.date_range('acquired', gt=\"2018-01-18\"),\n",
    "    api.filters.date_range('acquired', lt=\"2018-01-20\")\n",
    ")\n",
    "# we are requesting PlanetScope 4 Band imagery\n",
    "item_types = ['PSScene4Band']\n",
    "request = api.filters.build_search_request(query, item_types)\n",
    "# this will cause an exception if there are any API related errors\n",
    "results = client.quick_search(request)"
   ]
  },
  {
   "cell_type": "code",
   "execution_count": 14,
   "metadata": {
    "scrolled": false
   },
   "outputs": [
    {
     "name": "stdout",
     "output_type": "stream",
     "text": [
      "20180119_182528_0e3a 0.35 2018-01-20T10:28:21Z https://api.planet.com/data/v1/item-types/PSScene4Band/items/20180119_182528_0e3a/thumb\n",
      "20180119_182527_0e3a 0.42 2018-01-20T08:11:33Z https://api.planet.com/data/v1/item-types/PSScene4Band/items/20180119_182527_0e3a/thumb\n",
      "20180119_182526_0e3a 0.44 2018-01-20T08:11:33Z https://api.planet.com/data/v1/item-types/PSScene4Band/items/20180119_182526_0e3a/thumb\n",
      "20180119_182525_0e3a 0.61 2018-01-20T08:11:33Z https://api.planet.com/data/v1/item-types/PSScene4Band/items/20180119_182525_0e3a/thumb\n",
      "20180119_182503_0f52 0.24 2018-01-20T04:03:41Z https://api.planet.com/data/v1/item-types/PSScene4Band/items/20180119_182503_0f52/thumb\n",
      "20180119_182502_0f52 0.28 2018-01-20T04:03:41Z https://api.planet.com/data/v1/item-types/PSScene4Band/items/20180119_182502_0f52/thumb\n",
      "20180119_182500_0f52 0.37 2018-01-20T04:03:40Z https://api.planet.com/data/v1/item-types/PSScene4Band/items/20180119_182500_0f52/thumb\n",
      "20180119_182501_0f52 0.32 2018-01-20T02:15:47Z https://api.planet.com/data/v1/item-types/PSScene4Band/items/20180119_182501_0f52/thumb\n",
      "20180118_182311_1015 0.53 2018-01-19T04:38:33Z https://api.planet.com/data/v1/item-types/PSScene4Band/items/20180118_182311_1015/thumb\n",
      "20180118_182310_1015 0.71 2018-01-19T04:38:33Z https://api.planet.com/data/v1/item-types/PSScene4Band/items/20180118_182310_1015/thumb\n",
      "20180118_182511_101d 0.47 2018-01-19T00:20:02Z https://api.planet.com/data/v1/item-types/PSScene4Band/items/20180118_182511_101d/thumb\n",
      "20180118_182515_101d 0.83 2018-01-18T22:21:17Z https://api.planet.com/data/v1/item-types/PSScene4Band/items/20180118_182515_101d/thumb\n",
      "20180118_182514_101d 0.6 2018-01-18T22:21:17Z https://api.planet.com/data/v1/item-types/PSScene4Band/items/20180118_182514_101d/thumb\n",
      "20180118_182513_101d 0.54 2018-01-18T22:21:17Z https://api.planet.com/data/v1/item-types/PSScene4Band/items/20180118_182513_101d/thumb\n",
      "20180118_182512_101d 0.44 2018-01-18T22:21:16Z https://api.planet.com/data/v1/item-types/PSScene4Band/items/20180118_182512_101d/thumb\n"
     ]
    }
   ],
   "source": [
    "for item in results.items_iter(50):\n",
    "    print(item['id'], item['properties']['cloud_cover'], item['properties']['published'], item['_links']['thumbnail'])"
   ]
  },
  {
   "cell_type": "code",
   "execution_count": null,
   "metadata": {},
   "outputs": [],
   "source": []
  }
 ],
 "metadata": {
  "kernelspec": {
   "display_name": "Python 3",
   "language": "python",
   "name": "python3"
  },
  "language_info": {
   "codemirror_mode": {
    "name": "ipython",
    "version": 3
   },
   "file_extension": ".py",
   "mimetype": "text/x-python",
   "name": "python",
   "nbconvert_exporter": "python",
   "pygments_lexer": "ipython3",
   "version": "3.6.4"
  }
 },
 "nbformat": 4,
 "nbformat_minor": 2
}
