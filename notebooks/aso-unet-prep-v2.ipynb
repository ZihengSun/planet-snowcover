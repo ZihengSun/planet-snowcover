{
 "cells": [
  {
   "cell_type": "code",
   "execution_count": 1,
   "metadata": {},
   "outputs": [
    {
     "name": "stderr",
     "output_type": "stream",
     "text": [
      "/home/ubuntu/anaconda3/envs/tensorflow_p36_geo/lib/python3.6/site-packages/matplotlib/__init__.py:1067: UserWarning: Duplicate key in file \"/home/ubuntu/.config/matplotlib/matplotlibrc\", line #2\n",
      "  (fname, cnt))\n",
      "/home/ubuntu/anaconda3/envs/tensorflow_p36_geo/lib/python3.6/site-packages/matplotlib/__init__.py:1067: UserWarning: Duplicate key in file \"/home/ubuntu/.config/matplotlib/matplotlibrc\", line #3\n",
      "  (fname, cnt))\n"
     ]
    }
   ],
   "source": [
    "import requests\n",
    "import geopandas as gpd\n",
    "import pandas as pd\n",
    "import rasterio as rio\n",
    "from rasterio.features import shapes\n",
    "from rasterio.transform import *\n",
    "from rasterio.plot import show\n",
    "from rasterio.mask import geometry_mask, mask\n",
    "from rasterio.warp import reproject\n",
    "from shapely.geometry import mapping, shape, Polygon, Point\n",
    "import cartopy.crs as ccrs\n",
    "import matplotlib.pyplot as plt\n",
    "from datetime import timedelta\n",
    "from lxml import etree\n",
    "from scipy.ndimage import zoom\n",
    "from skimage import img_as_ubyte\n",
    "from skimage.exposure import equalize_adapthist as _hist\n",
    "import seaborn as sns\n",
    "import pyproj\n",
    "from functools import partial\n",
    "\n",
    "import numpy as np\n",
    "import os\n",
    "\n",
    "%matplotlib inline\n",
    "%config InlineBackend.figure_format = 'png'\n",
    "plt.rcParams['figure.dpi'] = 70\n",
    "plt.rcParams['figure.figsize'] = (27, 9)\n",
    "plt.rcParams['font.size'] = 12"
   ]
  },
  {
   "cell_type": "markdown",
   "metadata": {},
   "source": [
    "# ASO UNet Prep\n",
    "\n",
    "There are several goals here, in service of the eventual goal of using a u-net neural architecture to learn snow/no-snow maps from ASO snow observations and Planet Labs imagery. \n",
    "\n",
    "**General Arc:**\n",
    "1. Align ASO Rasters to a Planet image\n",
    "2. Create files: the image, and the snow map. \n",
    "3. Tile both the image and snow map into (512,512) in order to feed u-net architecture. \n",
    "---\n",
    "## Load the Data"
   ]
  },
  {
   "cell_type": "code",
   "execution_count": 2,
   "metadata": {},
   "outputs": [
    {
     "data": {
      "text/html": [
       "<div>\n",
       "<style scoped>\n",
       "    .dataframe tbody tr th:only-of-type {\n",
       "        vertical-align: middle;\n",
       "    }\n",
       "\n",
       "    .dataframe tbody tr th {\n",
       "        vertical-align: top;\n",
       "    }\n",
       "\n",
       "    .dataframe thead th {\n",
       "        text-align: right;\n",
       "    }\n",
       "</style>\n",
       "<table border=\"1\" class=\"dataframe\">\n",
       "  <thead>\n",
       "    <tr style=\"text-align: right;\">\n",
       "      <th></th>\n",
       "      <th>url</th>\n",
       "    </tr>\n",
       "    <tr>\n",
       "      <th>date</th>\n",
       "      <th></th>\n",
       "    </tr>\n",
       "  </thead>\n",
       "  <tbody>\n",
       "    <tr>\n",
       "      <th>2017-03-03</th>\n",
       "      <td>https://aso.jpl.nasa.gov/_include/new_geotiff/...</td>\n",
       "    </tr>\n",
       "    <tr>\n",
       "      <th>2017-04-01</th>\n",
       "      <td>https://aso.jpl.nasa.gov/_include/new_geotiff/...</td>\n",
       "    </tr>\n",
       "  </tbody>\n",
       "</table>\n",
       "</div>"
      ],
      "text/plain": [
       "                                                          url\n",
       "date                                                         \n",
       "2017-03-03  https://aso.jpl.nasa.gov/_include/new_geotiff/...\n",
       "2017-04-01  https://aso.jpl.nasa.gov/_include/new_geotiff/..."
      ]
     },
     "metadata": {},
     "output_type": "display_data"
    }
   ],
   "source": [
    "YEAR = 2017\n",
    "asodb = \"../data/aso-urls.csv\"\n",
    "\n",
    "asourls = pd.read_csv(asodb, parse_dates=[0]).set_index('date')\n",
    "asourls = asourls[asourls.index.year == YEAR]\n",
    "display(asourls)\n",
    "image = asourls.iloc[1]\n",
    "asoImage = rio.open(image.url)\n",
    "asoData = asoImage.read(1)\n",
    "asoData[asoData == -9999] = 0\n",
    "\n",
    "image_crs = ccrs.epsg(asoImage.crs['init'].split(\":\")[1])\n"
   ]
  },
  {
   "cell_type": "code",
   "execution_count": null,
   "metadata": {},
   "outputs": [],
   "source": []
  },
  {
   "cell_type": "code",
   "execution_count": 3,
   "metadata": {},
   "outputs": [
    {
     "name": "stdout",
     "output_type": "stream",
     "text": [
      "url    https://aso.jpl.nasa.gov/_include/new_geotiff/...\n",
      "Name: 2017-04-01 00:00:00, dtype: object\n"
     ]
    }
   ],
   "source": [
    "print(image)"
   ]
  },
  {
   "cell_type": "code",
   "execution_count": 4,
   "metadata": {},
   "outputs": [
    {
     "name": "stderr",
     "output_type": "stream",
     "text": [
      "/home/ubuntu/anaconda3/envs/tensorflow_p36_geo/lib/python3.6/site-packages/IPython/core/interactiveshell.py:2963: FutureWarning: The value of this property will change in version 1.0. Please see https://github.com/mapbox/rasterio/issues/86 for details.\n",
      "  exec(code_obj, self.user_global_ns, self.user_ns)\n"
     ]
    }
   ],
   "source": [
    "xmin = asoImage.transform[0]\n",
    "xmax = asoImage.transform[0] + asoImage.transform[1]*asoImage.width\n",
    "ymin = asoImage.transform[3] + asoImage.transform[5]*asoImage.height\n",
    "ymax = asoImage.transform[3]\n",
    "\n",
    "asoExtent  = [xmin, xmax, ymin, ymax]"
   ]
  },
  {
   "cell_type": "code",
   "execution_count": 5,
   "metadata": {},
   "outputs": [
    {
     "data": {
      "image/png": "[encoded data removed]",
      "text/plain": [
       "<Figure size 432x288 with 1 Axes>"
      ]
     },
     "metadata": {},
     "output_type": "display_data"
    },
    {
     "data": {
      "text/plain": [
       "<matplotlib.axes._subplots.AxesSubplot at 0x7fa65ceecc88>"
      ]
     },
     "execution_count": 5,
     "metadata": {},
     "output_type": "execute_result"
    }
   ],
   "source": [
    "show(asoImage.read(1))"
   ]
  },
  {
   "cell_type": "code",
   "execution_count": 6,
   "metadata": {},
   "outputs": [],
   "source": [
    "satimage = rio.open(\"../images/ASO/0_20170404_180056_0e19.tif\")\n",
    "doc = etree.parse(\"../images/ASO/0_20170404_180056_0e19.xml\")\n",
    "root = doc.getroot()\n",
    "footprint = root.find(\"gml:target\", root.nsmap).find(\"ps:Footprint\", root.nsmap).getchildren()[0].getchildren()[0].getchildren()[0].find(\"gml:Polygon\", root.nsmap).getchildren()[0].getchildren()[0].getchildren()[0].text\n",
    "\n",
    "satfootprint = Polygon([([float(z) for z in xy.split(',')]) for xy in footprint.split(\" \")])"
   ]
  },
  {
   "cell_type": "code",
   "execution_count": 7,
   "metadata": {},
   "outputs": [
    {
     "data": {
      "text/plain": [
       "<cartopy.mpl.gridliner.Gridliner at 0x7fa657f806a0>"
      ]
     },
     "execution_count": 7,
     "metadata": {},
     "output_type": "execute_result"
    },
    {
     "data": {
      "image/png": "[encoded data removed]",
      "text/plain": [
       "<Figure size 432x288 with 1 Axes>"
      ]
     },
     "metadata": {},
     "output_type": "display_data"
    }
   ],
   "source": [
    "ax = plt.axes(projection=ccrs.epsg(\"32611\"))\n",
    "ax.imshow(asoImage.read(1).astype('float32'), origin='upper', cmap=\"binary_r\", vmax=1, vmin=0, extent=asoExtent, transform=ccrs.epsg(\"32611\"))\n",
    "ax.set_title(\"ASO Capture: {:%d %b %Y} (EPSG:{})\".format(image.name, image_crs.epsg_code))\n",
    "ax.add_geometries([satfootprint], crs=ccrs.PlateCarree(), alpha=0.5)\n",
    "ax.gridlines()\n"
   ]
  },
  {
   "cell_type": "markdown",
   "metadata": {},
   "source": [
    "## Isolate overlap\n",
    "\n",
    "*Preliminary approach:* \n",
    "1. Crop ASO raster to satellite image extent\n",
    "2. Isolate ASO polygon\n",
    "3. Crop satellite image to ASO polygon\n",
    "4. ???"
   ]
  },
  {
   "cell_type": "code",
   "execution_count": 8,
   "metadata": {},
   "outputs": [],
   "source": [
    "asoImage.crs['init']\n",
    "asoCrs = ccrs.epsg(asoImage.crs['init'].split(':')[1])\n",
    "xs, ys = satfootprint.exterior.coords.xy\n",
    "satfootprint_projected = Polygon(asoCrs.transform_points(ccrs.PlateCarree(), np.array(xs), np.array(ys)))"
   ]
  },
  {
   "cell_type": "code",
   "execution_count": 60,
   "metadata": {},
   "outputs": [
    {
     "data": {
      "text/plain": [
       "<matplotlib.image.AxesImage at 0x7fa6534d1748>"
      ]
     },
     "execution_count": 60,
     "metadata": {},
     "output_type": "execute_result"
    },
    {
     "data": {
      "image/png": "[encoded data removed]",
      "text/plain": [
       "<Figure size 432x288 with 1 Axes>"
      ]
     },
     "metadata": {},
     "output_type": "display_data"
    }
   ],
   "source": [
    "asoMasked, asoMaskTransform = mask(asoImage, [mapping(satfootprint_projected)], crop=True)\n",
    "asoMasked = asoMasked.data.squeeze()\n",
    "asoMasked[asoMasked > 0.1] = 1\n",
    "asoMasked[asoMasked <= 0.1] = 0\n",
    "plt.imshow(asoMasked)"
   ]
  },
  {
   "cell_type": "code",
   "execution_count": 61,
   "metadata": {},
   "outputs": [
    {
     "data": {
      "text/plain": [
       "{0.0, 1.0}"
      ]
     },
     "execution_count": 61,
     "metadata": {},
     "output_type": "execute_result"
    }
   ],
   "source": [
    "set(asoMasked.flatten())"
   ]
  },
  {
   "cell_type": "code",
   "execution_count": 83,
   "metadata": {},
   "outputs": [
    {
     "data": {
      "text/plain": [
       "(0.0, 0.0, 0.0, 0.0, 0.0, 0.0, 0.0, 0.0, 0.0, 0.0, 1.0, 1.0, 0.0)"
      ]
     },
     "execution_count": 83,
     "metadata": {},
     "output_type": "execute_result"
    }
   ],
   "source": [
    "features = list(rio.features.shapes(asoMasked, transform=asoMaskTransform, connectivity=4))\n",
    "feats, feat_area = zip(*features)\n"
   ]
  },
  {
   "cell_type": "code",
   "execution_count": 78,
   "metadata": {},
   "outputs": [
    {
     "data": {
      "image/svg+xml": [
       "<svg xmlns=\"http://www.w3.org/2000/svg\" xmlns:xlink=\"http://www.w3.org/1999/xlink\" width=\"300\" height=\"300\" viewBox=\"272731.06068574847 4228113.986385333 918.0018559940509 668.001350549981\" preserveAspectRatio=\"xMinYMin meet\"><g transform=\"matrix(1,0,0,-1,0,8456895.974121217)\"><path fill-rule=\"evenodd\" fill=\"#66cc99\" stroke=\"#555555\" stroke-width=\"6.120012373293672\" opacity=\"0.6\" d=\"M 273165.061563201,4228747.987667142 L 273165.061563201,4228697.987566053 L 273115.061462112,4228697.987566053 L 273115.061462112,4228647.987464964 L 273065.061361023,4228647.987464964 L 273065.061361023,4228597.987363875 L 273015.061259934,4228597.987363875 L 273015.061259934,4228547.987262786 L 272965.06115884497,4228547.987262786 L 272815.060855578,4228547.987262786 L 272815.060855578,4228497.987161697 L 272765.060754489,4228497.987161697 L 272765.060754489,4228447.987060608 L 272815.060855578,4228447.987060608 L 272815.060855578,4228197.986555163 L 272915.061057756,4228197.986555163 L 272915.061057756,4228147.986454074 L 272965.06115884497,4228147.986454074 L 272965.06115884497,4228247.986656252 L 272915.061057756,4228247.986656252 L 272915.061057756,4228297.986757341 L 272865.060956667,4228297.986757341 L 272865.060956667,4228397.986959519 L 273015.061259934,4228397.986959519 L 273065.061361023,4228397.986959519 L 273065.061361023,4228447.987060608 L 273115.061462112,4228447.987060608 L 273115.061462112,4228497.987161697 L 273465.06216973497,4228497.987161697 L 273515.062270824,4228497.987161697 L 273515.062270824,4228547.987262786 L 273565.062371913,4228547.987262786 L 273565.062371913,4228597.987363875 L 273615.062473002,4228597.987363875 L 273615.062473002,4228747.987667142 L 273165.061563201,4228747.987667142 z\" /></g></svg>"
      ],
      "text/plain": [
       "<shapely.geometry.polygon.Polygon at 0x7fa6539f2438>"
      ]
     },
     "execution_count": 78,
     "metadata": {},
     "output_type": "execute_result"
    }
   ],
   "source": [
    "asopolyextract = Polygon(largest['coordinates'][0])\n",
    "asopolyextract"
   ]
  },
  {
   "cell_type": "markdown",
   "metadata": {},
   "source": [
    "*WOO!*"
   ]
  },
  {
   "cell_type": "code",
   "execution_count": 79,
   "metadata": {},
   "outputs": [],
   "source": [
    "maskHeight = asoMasked.shape[0]\n",
    "maskWidth = asoMasked.shape[1]\n",
    "asoMaskTransform_gdal = asoMaskTransform.to_gdal()\n",
    "xmin = asoMaskTransform_gdal[0]\n",
    "xmax = asoMaskTransform_gdal[0] + asoMaskTransform_gdal[1]*maskWidth\n",
    "ymin = asoMaskTransform_gdal[3] + asoMaskTransform_gdal[5]*maskHeight\n",
    "ymax = asoMaskTransform_gdal[3]\n",
    "asoMaskedExtent = [xmin, xmax, ymin, ymax]"
   ]
  },
  {
   "cell_type": "code",
   "execution_count": 80,
   "metadata": {},
   "outputs": [
    {
     "data": {
      "text/plain": [
       "<cartopy.mpl.gridliner.Gridliner at 0x7fa653c89e80>"
      ]
     },
     "execution_count": 80,
     "metadata": {},
     "output_type": "execute_result"
    },
    {
     "data": {
      "image/png": "[encoded data removed]",
      "text/plain": [
       "<Figure size 432x288 with 1 Axes>"
      ]
     },
     "metadata": {},
     "output_type": "display_data"
    }
   ],
   "source": [
    "ax = plt.axes(projection=ccrs.epsg(\"32611\"))\n",
    "ax.imshow(asoMasked.astype('float32'), origin='upper', cmap=\"binary_r\", vmax=1, vmin=0, extent=asoMaskedExtent, transform=ccrs.epsg(\"32611\"))\n",
    "ax.set_title(\"ASO Capture: {:%d %b %Y} (EPSG:{})\".format(image.name, image_crs.epsg_code))\n",
    "ax.add_geometries([satfootprint], crs=ccrs.PlateCarree(), alpha=0.5)\n",
    "ax.add_geometries([asopolyextract], crs=ccrs.epsg(\"32611\"), color='red', alpha=0.5)\n",
    "ax.gridlines()\n"
   ]
  },
  {
   "cell_type": "markdown",
   "metadata": {},
   "source": [
    "---"
   ]
  },
  {
   "cell_type": "code",
   "execution_count": 24,
   "metadata": {},
   "outputs": [],
   "source": [
    "satCrs = ccrs.epsg(satimage.crs['init'].split(':')[1])\n",
    "xs, ys = asopolyextract.exterior.coords.xy\n",
    "asomask_projected = Polygon(satCrs.transform_points(asoCrs, np.array(xs), np.array(ys)))"
   ]
  },
  {
   "cell_type": "code",
   "execution_count": 25,
   "metadata": {},
   "outputs": [],
   "source": [
    "satmasked, satmaskTransform = mask(satimage, [mapping(asomask_projected)], crop=True)"
   ]
  },
  {
   "cell_type": "code",
   "execution_count": 26,
   "metadata": {},
   "outputs": [
    {
     "data": {
      "text/plain": [
       "Affine(3.0, 0.0, 276615.0,\n",
       "       0.0, -3.0, 4225650.0)"
      ]
     },
     "execution_count": 26,
     "metadata": {},
     "output_type": "execute_result"
    }
   ],
   "source": [
    "satmaskTransform"
   ]
  },
  {
   "cell_type": "code",
   "execution_count": 27,
   "metadata": {},
   "outputs": [],
   "source": [
    "maskHeight = satmasked.data[0].shape[0]\n",
    "maskWidth = satmasked.data[0].shape[1]\n",
    "satmaskTransform_gdal = satmaskTransform.to_gdal()\n",
    "xmin = satmaskTransform_gdal[0]\n",
    "xmax = satmaskTransform_gdal[0] + satmaskTransform_gdal[1]*maskWidth\n",
    "ymin = satmaskTransform_gdal[3] + satmaskTransform_gdal[5]*maskHeight\n",
    "ymax = satmaskTransform_gdal[3]\n",
    "satmaskedextent = [xmin, xmax, ymin, ymax]"
   ]
  },
  {
   "cell_type": "code",
   "execution_count": 28,
   "metadata": {},
   "outputs": [
    {
     "name": "stderr",
     "output_type": "stream",
     "text": [
      "/home/ubuntu/anaconda3/envs/tensorflow_p36_geo/lib/python3.6/site-packages/skimage/util/dtype.py:122: UserWarning: Possible precision loss when converting from float64 to uint16\n",
      "  .format(dtypeobj_in, dtypeobj_out))\n"
     ]
    },
    {
     "data": {
      "text/plain": [
       "<cartopy.mpl.gridliner.Gridliner at 0x7fa654654d30>"
      ]
     },
     "execution_count": 28,
     "metadata": {},
     "output_type": "execute_result"
    },
    {
     "data": {
      "image/png": "[encoded data removed]",
      "text/plain": [
       "<Figure size 432x288 with 1 Axes>"
      ]
     },
     "metadata": {},
     "output_type": "display_data"
    }
   ],
   "source": [
    "ax = plt.axes(projection=ccrs.epsg(\"32611\"))\n",
    "ax.imshow(asoMasked.astype('float32'), origin='upper', cmap=\"binary_r\", vmax=1, vmin=0, extent=asoMaskedExtent, transform=ccrs.epsg(\"32611\"))\n",
    "ax.set_title(\"ASO Capture: {:%d %b %Y} (EPSG:{})\".format(image.name, image_crs.epsg_code))\n",
    "ax.imshow(_hist(np.rollaxis(satmasked.data[[2,1,0]], 0, start=3)), origin='upper', extent = satmaskedextent, transform=ccrs.epsg(\"32611\"))\n",
    "ax.add_geometries([satfootprint], crs=ccrs.PlateCarree(), alpha=0.5)\n",
    "#ax.add_geometries([asopolyextract], crs=ccrs.epsg(\"32611\"), color='red', alpha=0.2)\n",
    "ax.gridlines()\n"
   ]
  },
  {
   "cell_type": "code",
   "execution_count": 19,
   "metadata": {},
   "outputs": [
    {
     "name": "stderr",
     "output_type": "stream",
     "text": [
      "Clipping input data to the valid range for imshow with RGB data ([0..1] for floats or [0..255] for integers).\n"
     ]
    },
    {
     "data": {
      "text/plain": [
       "<matplotlib.image.AxesImage at 0x7fa65475a4a8>"
      ]
     },
     "execution_count": 19,
     "metadata": {},
     "output_type": "execute_result"
    },
    {
     "data": {
      "image/png": "[encoded data removed]",
      "text/plain": [
       "<Figure size 432x288 with 1 Axes>"
      ]
     },
     "metadata": {},
     "output_type": "display_data"
    }
   ],
   "source": [
    "plt.imshow(np.swapaxes(satmasked.data[[2,1,3]], 0, 2))"
   ]
  },
  {
   "cell_type": "code",
   "execution_count": 20,
   "metadata": {},
   "outputs": [
    {
     "data": {
      "text/plain": [
       "(18, 17)"
      ]
     },
     "execution_count": 20,
     "metadata": {},
     "output_type": "execute_result"
    }
   ],
   "source": [
    "satmasked.data[3].shape"
   ]
  },
  {
   "cell_type": "code",
   "execution_count": 21,
   "metadata": {},
   "outputs": [
    {
     "data": {
      "text/plain": [
       "array([[[    0,     0,     0],\n",
       "        [    0,     0,     0],\n",
       "        [    0,     0,     0],\n",
       "        [    0,     0,     0],\n",
       "        [    0,     0,     0],\n",
       "        [    0,     0,     0],\n",
       "        [    0,     0,     0],\n",
       "        [    0,     0,     0],\n",
       "        [    0,     0,     0],\n",
       "        [    0,     0,     0],\n",
       "        [    0,     0,     0],\n",
       "        [    0,     0,     0],\n",
       "        [    0,     0,     0],\n",
       "        [    0,     0,     0],\n",
       "        [    0,     0,     0],\n",
       "        [    0,     0,     0],\n",
       "        [    0,     0,     0]],\n",
       "\n",
       "       [[22311, 17137, 14215],\n",
       "        [22330, 17164, 14201],\n",
       "        [22327, 17124, 14193],\n",
       "        [22318, 17079, 14104],\n",
       "        [22319, 17068, 13772],\n",
       "        [22353, 17120, 13451],\n",
       "        [22319, 17111, 13171],\n",
       "        [22279, 17087, 12996],\n",
       "        [22289, 17082, 12830],\n",
       "        [22344, 17115, 13087],\n",
       "        [22368, 17110, 13602],\n",
       "        [22371, 17082, 14085],\n",
       "        [22362, 17053, 14128],\n",
       "        [22332, 17064, 14000],\n",
       "        [22325, 17091, 13860],\n",
       "        [22321, 17104, 13688],\n",
       "        [22286, 17084, 13491]],\n",
       "\n",
       "       [[22313, 17147, 14209],\n",
       "        [22306, 17145, 14157],\n",
       "        [22316, 17112, 14163],\n",
       "        [22305, 17061, 14046],\n",
       "        [22298, 17048, 13724],\n",
       "        [22312, 17097, 13445],\n",
       "        [22295, 17097, 13136],\n",
       "        [22291, 17091, 12811],\n",
       "        [22304, 17095, 12530],\n",
       "        [22347, 17120, 12870],\n",
       "        [22340, 17083, 13360],\n",
       "        [22352, 17064, 13775],\n",
       "        [22366, 17063, 13909],\n",
       "        [22330, 17067, 13973],\n",
       "        [22326, 17097, 13930],\n",
       "        [22315, 17108, 13786],\n",
       "        [22260, 17068, 13611]],\n",
       "\n",
       "       [[22308, 17154, 14186],\n",
       "        [22291, 17133, 14085],\n",
       "        [22313, 17112, 14046],\n",
       "        [22338, 17095, 13785],\n",
       "        [22355, 17105, 13401],\n",
       "        [22347, 17121, 13085],\n",
       "        [22306, 17105, 12903],\n",
       "        [22318, 17107, 12631],\n",
       "        [22363, 17142, 12383],\n",
       "        [22397, 17169, 12723],\n",
       "        [22367, 17102, 13120],\n",
       "        [22364, 17063, 13505],\n",
       "        [22359, 17059, 13777],\n",
       "        [22323, 17066, 14005],\n",
       "        [22302, 17080, 14036],\n",
       "        [22266, 17066, 13942],\n",
       "        [22240, 17049, 13833]],\n",
       "\n",
       "       [[22312, 17170, 14134],\n",
       "        [22296, 17141, 13995],\n",
       "        [22303, 17098, 13903],\n",
       "        [22334, 17080, 13504],\n",
       "        [22366, 17119, 13029],\n",
       "        [22364, 17134, 12692],\n",
       "        [22321, 17114, 12696],\n",
       "        [22304, 17097, 12587],\n",
       "        [22344, 17134, 12548],\n",
       "        [22375, 17149, 12803],\n",
       "        [22360, 17093, 13051],\n",
       "        [22365, 17052, 13394],\n",
       "        [22326, 17038, 13758],\n",
       "        [22284, 17060, 14098],\n",
       "        [22288, 17096, 14166],\n",
       "        [22262, 17072, 14145],\n",
       "        [22254, 17067, 14100]],\n",
       "\n",
       "       [[22318, 17167, 14040],\n",
       "        [22325, 17146, 13848],\n",
       "        [22329, 17109, 13667],\n",
       "        [22333, 17081, 13285],\n",
       "        [22339, 17109, 12802],\n",
       "        [22338, 17124, 12503],\n",
       "        [22329, 17126, 12594],\n",
       "        [22324, 17124, 12619],\n",
       "        [22359, 17160, 12680],\n",
       "        [22357, 17131, 12826],\n",
       "        [22341, 17074, 12994],\n",
       "        [22358, 17058, 13393],\n",
       "        [22307, 17050, 13827],\n",
       "        [22266, 17063, 14172],\n",
       "        [22268, 17094, 14197],\n",
       "        [22262, 17087, 14228],\n",
       "        [22272, 17100, 14250]],\n",
       "\n",
       "       [[22321, 17174, 13910],\n",
       "        [22319, 17140, 13655],\n",
       "        [22336, 17114, 13432],\n",
       "        [22343, 17104, 13160],\n",
       "        [22336, 17113, 12806],\n",
       "        [22325, 17118, 12634],\n",
       "        [22320, 17127, 12636],\n",
       "        [22330, 17142, 12637],\n",
       "        [22370, 17179, 12714],\n",
       "        [22374, 17137, 12790],\n",
       "        [22373, 17075, 12929],\n",
       "        [22374, 17045, 13425],\n",
       "        [22316, 17062, 13955],\n",
       "        [22270, 17079, 14262],\n",
       "        [22240, 17083, 14211],\n",
       "        [22223, 17078, 14218],\n",
       "        [22250, 17098, 14221]],\n",
       "\n",
       "       [[22318, 17168, 13776],\n",
       "        [22301, 17127, 13462],\n",
       "        [22314, 17089, 13246],\n",
       "        [22341, 17096, 13071],\n",
       "        [22346, 17117, 12850],\n",
       "        [22322, 17117, 12733],\n",
       "        [22306, 17121, 12660],\n",
       "        [22303, 17128, 12619],\n",
       "        [22318, 17129, 12691],\n",
       "        [22343, 17096, 12751],\n",
       "        [22388, 17076, 12924],\n",
       "        [22387, 17058, 13361],\n",
       "        [22321, 17075, 13869],\n",
       "        [22284, 17115, 14168],\n",
       "        [22238, 17107, 14200],\n",
       "        [22216, 17086, 14219],\n",
       "        [22268, 17118, 14217]],\n",
       "\n",
       "       [[22332, 17161, 13635],\n",
       "        [22353, 17151, 13295],\n",
       "        [22337, 17110, 13092],\n",
       "        [22340, 17108, 12913],\n",
       "        [22342, 17119, 12757],\n",
       "        [22322, 17119, 12721],\n",
       "        [22301, 17119, 12649],\n",
       "        [22301, 17140, 12606],\n",
       "        [22324, 17136, 12664],\n",
       "        [22361, 17090, 12707],\n",
       "        [22405, 17071, 12881],\n",
       "        [22373, 17069, 13201],\n",
       "        [22290, 17065, 13562],\n",
       "        [22247, 17088, 13866],\n",
       "        [22219, 17088, 14085],\n",
       "        [22230, 17097, 14227],\n",
       "        [22291, 17136, 14224]],\n",
       "\n",
       "       [[22311, 17145, 13468],\n",
       "        [22333, 17131, 13116],\n",
       "        [22340, 17111, 12939],\n",
       "        [22335, 17112, 12743],\n",
       "        [22335, 17117, 12628],\n",
       "        [22323, 17117, 12656],\n",
       "        [22293, 17110, 12640],\n",
       "        [22290, 17123, 12633],\n",
       "        [22335, 17124, 12658],\n",
       "        [22391, 17088, 12683],\n",
       "        [22410, 17029, 12822],\n",
       "        [22350, 17040, 13010],\n",
       "        [22289, 17082, 13258],\n",
       "        [22255, 17113, 13678],\n",
       "        [22225, 17091, 14072],\n",
       "        [22248, 17106, 14275],\n",
       "        [22281, 17119, 14230]],\n",
       "\n",
       "       [[22333, 17146, 13300],\n",
       "        [22332, 17118, 12971],\n",
       "        [22340, 17102, 12784],\n",
       "        [22348, 17114, 12569],\n",
       "        [22360, 17129, 12542],\n",
       "        [22344, 17129, 12625],\n",
       "        [22307, 17118, 12658],\n",
       "        [22280, 17107, 12654],\n",
       "        [22326, 17093, 12651],\n",
       "        [22391, 17082, 12670],\n",
       "        [22419, 17061, 12799],\n",
       "        [22330, 17046, 12931],\n",
       "        [22287, 17095, 13141],\n",
       "        [22270, 17137, 13542],\n",
       "        [22241, 17103, 14003],\n",
       "        [22287, 17132, 14249],\n",
       "        [22306, 17131, 14235]],\n",
       "\n",
       "       [[22357, 17149, 13151],\n",
       "        [22351, 17122, 12836],\n",
       "        [22345, 17106, 12604],\n",
       "        [22353, 17114, 12364],\n",
       "        [22378, 17144, 12442],\n",
       "        [22353, 17136, 12585],\n",
       "        [22313, 17129, 12665],\n",
       "        [22284, 17126, 12651],\n",
       "        [22341, 17094, 12631],\n",
       "        [22391, 17054, 12647],\n",
       "        [22402, 17047, 12744],\n",
       "        [22323, 17056, 12839],\n",
       "        [22272, 17087, 13040],\n",
       "        [22235, 17090, 13352],\n",
       "        [22227, 17081, 13695],\n",
       "        [22287, 17124, 13960],\n",
       "        [22305, 17123, 14127]],\n",
       "\n",
       "       [[22324, 17123, 12957],\n",
       "        [22334, 17099, 12680],\n",
       "        [22362, 17114, 12390],\n",
       "        [22385, 17138, 12167],\n",
       "        [22395, 17161, 12366],\n",
       "        [22332, 17124, 12562],\n",
       "        [22281, 17098, 12655],\n",
       "        [22277, 17090, 12622],\n",
       "        [22345, 17083, 12602],\n",
       "        [22392, 17040, 12613],\n",
       "        [22383, 17035, 12665],\n",
       "        [22345, 17092, 12726],\n",
       "        [22312, 17153, 12899],\n",
       "        [22251, 17111, 13121],\n",
       "        [22241, 17089, 13385],\n",
       "        [22288, 17116, 13749],\n",
       "        [22287, 17103, 14071]],\n",
       "\n",
       "       [[22355, 17132, 12636],\n",
       "        [22343, 17102, 12466],\n",
       "        [22378, 17130, 12215],\n",
       "        [22417, 17166, 12098],\n",
       "        [22409, 17174, 12343],\n",
       "        [22332, 17134, 12570],\n",
       "        [22277, 17109, 12640],\n",
       "        [22282, 17085, 12588],\n",
       "        [22344, 17078, 12563],\n",
       "        [22409, 17078, 12554],\n",
       "        [22360, 17067, 12562],\n",
       "        [22304, 17084, 12599],\n",
       "        [22282, 17130, 12763],\n",
       "        [22244, 17099, 12922],\n",
       "        [22271, 17107, 13180],\n",
       "        [22313, 17128, 13637],\n",
       "        [22293, 17106, 14082]],\n",
       "\n",
       "       [[22345, 17117, 12344],\n",
       "        [22344, 17104, 12277],\n",
       "        [22364, 17130, 12114],\n",
       "        [22399, 17168, 12149],\n",
       "        [22391, 17172, 12379],\n",
       "        [22336, 17143, 12586],\n",
       "        [22286, 17123, 12624],\n",
       "        [22299, 17096, 12591],\n",
       "        [22352, 17066, 12553],\n",
       "        [22413, 17056, 12485],\n",
       "        [22366, 17078, 12431],\n",
       "        [22297, 17093, 12452],\n",
       "        [22247, 17094, 12605],\n",
       "        [22227, 17072, 12724],\n",
       "        [22275, 17104, 13066],\n",
       "        [22295, 17112, 13583],\n",
       "        [22277, 17093, 14068]],\n",
       "\n",
       "       [[22318, 17089, 12203],\n",
       "        [22337, 17090, 12154],\n",
       "        [22382, 17133, 12060],\n",
       "        [22405, 17170, 12190],\n",
       "        [22377, 17167, 12403],\n",
       "        [22334, 17143, 12586],\n",
       "        [22297, 17113, 12626],\n",
       "        [22335, 17102, 12650],\n",
       "        [22387, 17088, 12617],\n",
       "        [22407, 17072, 12496],\n",
       "        [22356, 17084, 12390],\n",
       "        [22307, 17121, 12369],\n",
       "        [22263, 17120, 12448],\n",
       "        [22251, 17096, 12524],\n",
       "        [22308, 17129, 12988],\n",
       "        [22303, 17116, 13593],\n",
       "        [22277, 17092, 14098]],\n",
       "\n",
       "       [[22344, 17101, 12206],\n",
       "        [22334, 17094, 12138],\n",
       "        [22371, 17129, 12084],\n",
       "        [22403, 17166, 12269],\n",
       "        [22364, 17159, 12468],\n",
       "        [22328, 17153, 12607],\n",
       "        [22318, 17135, 12650],\n",
       "        [22355, 17104, 12725],\n",
       "        [22396, 17084, 12660],\n",
       "        [22378, 17075, 12489],\n",
       "        [22305, 17066, 12359],\n",
       "        [22273, 17094, 12307],\n",
       "        [22264, 17105, 12291],\n",
       "        [22278, 17115, 12338],\n",
       "        [22323, 17144, 12812],\n",
       "        [22319, 17127, 13397],\n",
       "        [22295, 17102, 13918]],\n",
       "\n",
       "       [[    0,     0,     0],\n",
       "        [    0,     0,     0],\n",
       "        [    0,     0,     0],\n",
       "        [    0,     0,     0],\n",
       "        [    0,     0,     0],\n",
       "        [    0,     0,     0],\n",
       "        [    0,     0,     0],\n",
       "        [    0,     0,     0],\n",
       "        [    0,     0,     0],\n",
       "        [    0,     0,     0],\n",
       "        [    0,     0,     0],\n",
       "        [    0,     0,     0],\n",
       "        [    0,     0,     0],\n",
       "        [    0,     0,     0],\n",
       "        [    0,     0,     0],\n",
       "        [    0,     0,     0],\n",
       "        [    0,     0,     0]]], dtype=uint16)"
      ]
     },
     "execution_count": 21,
     "metadata": {},
     "output_type": "execute_result"
    }
   ],
   "source": [
    "np.rollaxis(satmasked.data[[2,1,3]], 0, start=3)"
   ]
  },
  {
   "cell_type": "code",
   "execution_count": null,
   "metadata": {},
   "outputs": [],
   "source": []
  }
 ],
 "metadata": {
  "kernelspec": {
   "display_name": "Environment (conda_tensorflow_p36_geo)",
   "language": "python",
   "name": "conda_tensorflow_p36_geo"
  },
  "language_info": {
   "codemirror_mode": {
    "name": "ipython",
    "version": 3
   },
   "file_extension": ".py",
   "mimetype": "text/x-python",
   "name": "python",
   "nbconvert_exporter": "python",
   "pygments_lexer": "ipython3",
   "version": "3.6.4"
  }
 },
 "nbformat": 4,
 "nbformat_minor": 2
}
