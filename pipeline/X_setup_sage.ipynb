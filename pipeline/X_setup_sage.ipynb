{
 "cells": [
  {
   "cell_type": "code",
   "execution_count": 85,
   "metadata": {},
   "outputs": [],
   "source": [
    "import sagemaker\n",
    "import boto3\n",
    "from datetime import datetime\n",
    "import ipywidgets as widgets"
   ]
  },
  {
   "cell_type": "markdown",
   "metadata": {},
   "source": [
    "# Step X: Configure Amazon Sagemaker and Train Model\n",
    "\n",
    "Amazon Sagemaker is a managed machine learning service which allows us to easily experiment with different configurations of input data without having to worry about the computational infrastructure involved in training a complex model on large volumes of data. We use this tool to produce our trained models. \n",
    "\n",
    "Sagemaker works by ingesting a pre-packaged set of **training and inference code**, along with the necessary environment, and running this package on hardware you specify. This package comes in the form of a Docker container. We have created this container such that it contains all of our custom ML code (you can see the specification in `../pipeline/sagemaker/Dockerfile`), and it lives in the Amazon Elastic Container Registry with the following tag: `675906086666.dkr.ecr.us-west-2.amazonaws.com/planet-snowcover:latest`. This container is not publicly accessible, but is accessible to anyone with AWS credentials. \n",
    "\n",
    "We have to do a bit of configuration, then we can begin training our models!\n",
    "\n",
    "## Configuration \n",
    "### Environment\n",
    "\n",
    "So the AWS machinery knows who you are, you must specify your AWS profile name, which describes a set of credentials configured via the AWS command line interface. If you've run `aws configure`, you'll have an AWS credentials file containing your credentials. Running the following cell will tell you which profile names have associated credentials currently configured on your computer. ⚠️ **Note**: if the following cell has no output, you don't have AWS credentials configured. Go back to the [Deployment Guide](../deployment/README.md) to learn how to do this."
   ]
  },
  {
   "cell_type": "code",
   "execution_count": 88,
   "metadata": {},
   "outputs": [
    {
     "name": "stdout",
     "output_type": "stream",
     "text": [
      "default\n",
      "esip\n"
     ]
    }
   ],
   "source": [
    "profiles = boto3.session.Session().available_profiles\n",
    "print('\\n'.join(profiles))"
   ]
  },
  {
   "cell_type": "markdown",
   "metadata": {},
   "source": [
    "Given that information, choose a profile from the dropdown below. "
   ]
  },
  {
   "cell_type": "code",
   "execution_count": 91,
   "metadata": {},
   "outputs": [
    {
     "data": {
      "application/vnd.jupyter.widget-view+json": {
       "model_id": "480f4d5be19543fbba43b1b37ec032db",
       "version_major": 2,
       "version_minor": 0
      },
      "text/plain": [
       "Dropdown(description='AWS Profile', options=('default', 'esip'), value='default')"
      ]
     },
     "metadata": {},
     "output_type": "display_data"
    }
   ],
   "source": [
    "aws_profile = widgets.Dropdown(options = profiles, value = 'default', description=\"AWS Profile\")\n",
    "aws_profile"
   ]
  },
  {
   "cell_type": "markdown",
   "metadata": {},
   "source": [
    "### Sagemaker"
   ]
  },
  {
   "cell_type": "code",
   "execution_count": 100,
   "metadata": {},
   "outputs": [],
   "source": [
    "# configure sagemaker session with AWS profile\n",
    "botosess = boto3.Session(profile_name=aws_profile.value, region_name = 'us-west-2') # need us-west-2 to access sagemaker image\n",
    "sage_session = sagemaker.Session(boto_session=sess)"
   ]
  },
  {
   "cell_type": "markdown",
   "metadata": {},
   "source": [
    "### ⚠️ Model Specification \n",
    "\n",
    "This is the most important part of the machine learning process. Our algorithm and infrastructure tools rely on configuration files to specify which data to use when training, among other parameters relevant to the machine learning process.\n",
    "\n",
    "**Important**: in order to give our machine learning algorithm data to train with, all data must be stored Amazon S3 buckets that you have access to, in the Spherical Web Mercator tile format. If you've completed the previous two steps in this tutorial, that's going to be the case for you. \n",
    "\n",
    "We've created a configuration file template, which resides at [`/experiments/CONFIG-TEMPLATE.toml`](./experiments/CONFIG-TEMPLATE.toml). **Duplicate this file**, and name it something meaningful. Then, open it in a text editor. \n",
    "\n",
    "The most important part of the file to pay attention to is this: \n",
    "\n",
    "```\n",
    "# Planet-Snowcover Model Configuration File – TEMPLATE\n",
    "# Tony Cannistra, 2019. tonycan@uw.edu.\n",
    "# University of Washington.\n",
    "\n",
    "\n",
    "#@@@@@@@ LOOK HERE! @@@@@@@@\n",
    "[dataset]\n",
    "  ### This defines the IMAGERY and SNOW MASK locations that we need to access to \n",
    "  ### complete training, as well as our AWS credentials and other parameters.\n",
    "  \n",
    "  ## CREDENTIALS\n",
    "  aws_profile = \"esip\" # your aws profile as stored in ~/.aws/credentials. Look there to see your stored profiles. \n",
    "  ## DATA - IMAGERY\n",
    "  image_bucket = \"planet-snowcover-imagery\" # The S3 bucket where your imagery is stored.\n",
    "  # regex defines each slippy-map directory, for buckets with many\n",
    "  imagery_directory_regex = '2018042\\d_.*_tiled' # A Regular Expression to select individual image directories.\n",
    "  \n",
    "  ## DATA – MASK\n",
    "  mask_bucket = \"planet-snowcover-snow/ASO_3M_SD_USCAJW_20180423\"\n",
    "  mask_directory_regex = \"ASO_3M_SD_USCAJW_20180423-MASK_02-COG$\" # $ = end of string = only dirs (no .tif)\n",
    "  \n",
    "  ## ML – CONFIG\n",
    "  train_percent = 0.7 # percentage of imagery used for training (1 - train_percent used for validation). \n",
    "\n",
    "\n",
    "```\n",
    "\n",
    "You want to edit the following lines: \n",
    "\n",
    "| Variable                | Description                                                                                     | Notes                                                                                                                                                           |\n",
    "|-------------------------|-------------------------------------------------------------------------------------------------|-----------------------------------------------------------------------------------------------------------------------------------------------------------------|\n",
    "| `aws_profile`           | The named AWS credentials profile you used in the above step.                                   | Verify that the named profile is in your `~/.aws/credentials` file.                                                                                             |\n",
    "| `image_bucket`          | The named S3 bucket (that you have access to!) where all of the imagery is stored.              | The code requires that this bucket contain sub-directories which each contain a slippy-map directory structure (eg. `<aws_bucket>/<image-id>`/<z>/<x>/<y>.tif`) |\n",
    "| `image_directory_regex` | A regular expression to select which directories within `image_bucket` to select for training.  | For help building this regular expression, check out [RegExr.com](https://regexr.com).                                                                          |\n",
    "| `mask_bucket`           | The named S3 bucket where the masks are stored, similar to above.                               | Same idea to the above imagery bucket structure. This structure allows for multiple images and multiple masks to be considered in training.                     |\n",
    "| `mask_directory_regex`  | See above.                                                                                      | See above.                                                                                                                                                      |\n",
    "\n",
    "    \n",
    "**Note** that this format of regular expressions means that **you can specify multiple masks and images** to a single training run. The ML code automagically checks for overlapping image and mask tiles, and only selects image tiles which have a matching mask tile for ground truth. This means you don't need to be *too* careful how you specify your image paths. However, if you provide too many image tiles for the code to sift through, this matching process will take a long time. \n",
    "    \n",
    "Once you've saved this file somewhere, we'll upload the file to another bucket so the algorithm has access to it. \n",
    "\n",
    "    \n",
    "### Upload Model Specification\n",
    "    \n",
    "Next, you'll need to create an S3 bucket to contain your experimentation. This is where we'll put our model specifications, and optionally our training results. For help, check out [\"*How Do I Create an S3 Bucket?*\"](https://docs.aws.amazon.com/AmazonS3/latest/user-guide/create-bucket.html). Once you've done that, run the following cell and choose the bucket that you'd like to use. "
   ]
  },
  {
   "cell_type": "code",
   "execution_count": 116,
   "metadata": {},
   "outputs": [
    {
     "data": {
      "application/vnd.jupyter.widget-view+json": {
       "model_id": "2de8f3edb3f84284b3e66fe0b16f1100",
       "version_major": 2,
       "version_minor": 0
      },
      "text/plain": [
       "Dropdown(description='Bucket', options=('planet-snowcover-analysis', 'planet-snowcover-experiments', 'planet-s…"
      ]
     },
     "metadata": {},
     "output_type": "display_data"
    }
   ],
   "source": [
    "buckets = [b['Name'] for b in botosess.client('s3').list_buckets()['Buckets']]\n",
    "model_bucket = widgets.Dropdown(description='Bucket', options=buckets)\n",
    "model_bucket"
   ]
  },
  {
   "cell_type": "markdown",
   "metadata": {},
   "source": [
    "Next, specify the **absolute location** of the configuration file you've just created above. For example, if the file is called \"`config1.toml`\" and it's in the `experiments` folder, you might give `/Users/you/planet-snowcover/experiments/config1.toml`.  "
   ]
  },
  {
   "cell_type": "code",
   "execution_count": 118,
   "metadata": {},
   "outputs": [
    {
     "data": {
      "application/vnd.jupyter.widget-view+json": {
       "model_id": "f63dfb3090a54704ba544d7270ce0079",
       "version_major": 2,
       "version_minor": 0
      },
      "text/plain": [
       "Text(value='', description='Config Path')"
      ]
     },
     "metadata": {},
     "output_type": "display_data"
    }
   ],
   "source": [
    "config_location = widgets.Text(description=\"Config Path\")\n",
    "config_location"
   ]
  },
  {
   "cell_type": "markdown",
   "metadata": {},
   "source": [
    "Finally, we upload this file to the specified S3 bucket. "
   ]
  },
  {
   "cell_type": "code",
   "execution_count": 121,
   "metadata": {},
   "outputs": [
    {
     "name": "stdout",
     "output_type": "stream",
     "text": [
      "upload: ../experiments/CONFIG-TEMPLATE.toml to s3://planet-snowcover-experiments/CONFIG-TEMPLATE.toml\n"
     ]
    }
   ],
   "source": [
    "! aws s3 --profile {aws_profile.value} cp {config_location.value} s3://{model_bucket.value}"
   ]
  },
  {
   "cell_type": "markdown",
   "metadata": {},
   "source": [
    "---"
   ]
  },
  {
   "cell_type": "code",
   "execution_count": 17,
   "metadata": {},
   "outputs": [],
   "source": [
    "sess = boto3.Session(profile_name='esip', region_name='us-west-2')\n",
    "sage_sess = sagemaker.Session(boto_session=sess)"
   ]
  },
  {
   "cell_type": "code",
   "execution_count": 21,
   "metadata": {},
   "outputs": [],
   "source": [
    "account = sage_sess.boto_session.client('sts').get_caller_identity()['Account']\n",
    "region = sage_sess.boto_session.region_name\n",
    "image = '{}.dkr.ecr.{}.amazonaws.com/planet-snowcover:latest'.format(account, region)"
   ]
  },
  {
   "cell_type": "code",
   "execution_count": 43,
   "metadata": {},
   "outputs": [],
   "source": [
    "role = 'arn:aws:iam::675906086666:role/service-role/AmazonSageMaker-ExecutionRole-20190501T152299'\n"
   ]
  },
  {
   "cell_type": "code",
   "execution_count": 22,
   "metadata": {},
   "outputs": [
    {
     "data": {
      "text/plain": [
       "'675906086666.dkr.ecr.us-west-2.amazonaws.com/planet-snowcover:latest'"
      ]
     },
     "execution_count": 22,
     "metadata": {},
     "output_type": "execute_result"
    }
   ],
   "source": [
    "image"
   ]
  },
  {
   "cell_type": "code",
   "execution_count": 26,
   "metadata": {},
   "outputs": [
    {
     "data": {
      "text/plain": [
       "'sagemaker-us-west-2-675906086666'"
      ]
     },
     "execution_count": 26,
     "metadata": {},
     "output_type": "execute_result"
    }
   ],
   "source": [
    "sage_sess.default_bucket"
   ]
  },
  {
   "cell_type": "code",
   "execution_count": 59,
   "metadata": {},
   "outputs": [],
   "source": [
    "e = sagemaker.estimator.Estimator(image, \n",
    "                             role, 1, \"ml.p2.xlarge\", \n",
    "                             output_path = \"s3://planet-snowcover-models\", \n",
    "                             sagemaker_session = sage_sess)"
   ]
  },
  {
   "cell_type": "code",
   "execution_count": 60,
   "metadata": {},
   "outputs": [],
   "source": [
    "e.fit({'config': \"s3://planet-snowcover-experiments/ASO_3M_SD_USCATE_20180528.toml\"}, wait=False)"
   ]
  },
  {
   "cell_type": "code",
   "execution_count": 73,
   "metadata": {},
   "outputs": [
    {
     "name": "stdout",
     "output_type": "stream",
     "text": [
      "2019-10-24 23:16:49 Starting - Preparing the instances for training\n",
      "2019-10-24 23:16:49 Downloading - Downloading input data\n",
      "2019-10-24 23:16:49 Training - Training image download completed. Training in progress.\n",
      "2019-10-24 23:16:49 Stopping - Stopping the training job\u001b[31mInitiating training with config .\u001b[0m\n",
      "\u001b[31m/opt/ml/input/data/config/ASO_3M_SD_USCATE_20180528.toml\u001b[0m\n",
      "\u001b[31m{'dataset': {'aws_profile': 'esip', 'image_bucket': 'planet-snowcover-imagery', 'imagery_directory_regex': '20180528_.*', 'mask_bucket': 'planet-snowcover-snow', 'mask_directory_regex': 'ASO_3M_SD_USCATE_20180528_binary$', 'train_percent': 0.7}, 'classes': [{'name': 'snow', 'color': 'white'}], 'channels': [{'bands': [1, 2, 3, 4], 'mean': [0.485, 0.456, 0.406, 1.0], 'std': [0.229, 0.224, 0.225, 1.0]}], 'model': {'name': 'albunet', 'encoder': 'resnet50', 'pretrained': True, 'loss': 'lovasz', 'batch_size': 7, 'tile_size': 512, 'epochs': 50, 'lr': 2.5e-05, 'data_augmentation': 0.75, 'decay': 0.0}}\u001b[0m\n",
      "\u001b[31mRoboSat - training on 1 GPUs, with 1 workers\u001b[0m\n",
      "\u001b[31mDownloading: \"https://download.pytorch.org/models/resnet50-19c8e357.pth\" to /root/.torch/models/resnet50-19c8e357.pth\u001b[0m\n",
      "\u001b[31m#0150it [00:00, ?it/s]#0153301376it [00:00, 32966161.38it/s]#0155652480it [00:00, 29306227.95it/s]#0158470528it [00:00, 28940800.91it/s]#01513582336it [00:00, 32973906.06it/s]#01517317888it [00:00, 34173426.81it/s]#01520676608it [00:00, 33993093.22it/s]#01525649152it [00:00, 37553376.69it/s]#01530015488it [00:00, 39191340.11it/s]#01534070528it [00:00, 39582441.18it/s]#01538010880it [00:01, 28349909.01it/s]#01541279488it [00:01, 28443944.15it/s]#01545367296it [00:01, 31191790.55it/s]#01549717248it [00:01, 34082644.69it/s]#01554542336it [00:01, 36765305.38it/s]#01558998784it [00:01, 38231826.83it/s]#01563021056it [00:01, 26621101.23it/s]#01566306048it [00:02, 27636315.20it/s]#01571188480it [00:02, 31714826.76it/s]#01575448320it [00:02, 34270865.08it/s]#01581608704it [00:02, 39432709.67it/s]#01586196224it [00:02, 40963948.73it/s]#01590718208it [00:02, 39708056.16it/s]#01596305152it [00:02, 43478820.68it/s]#015101335040it [00:02, 45268913.65it/s]#015102502400it [00:02, 36906909.47it/s]\u001b[0m\n",
      "\u001b[31mSearching for imagery...(planet-snowcover-imagery/20180528_.*)\u001b[0m\n",
      "\u001b[31mcandidates:\u001b[0m\n",
      "\u001b[31m['planet-snowcover-imagery/20180423_180737_1009_3B_AnalyticMS_DN_udm_clip.tif',\n",
      " 'planet-snowcover-imagery/20180601_181447_0f32_3B_AnalyticMS_DN_udm_clip.tif',\n",
      " 'planet-snowcover-imagery/20180601_181447_0f32_3B_AnalyticMS_SR_clip.tif',\n",
      " 'planet-snowcover-imagery/20180601_181447_0f32_3B_AnalyticMS_metadata_clip.xml',\n",
      " 'planet-snowcover-imagery/20180601_181447_0f32_metadata.json',\n",
      " 'planet-snowcover-imagery/20180601_181448_0f32_3B_AnalyticMS_DN_udm_clip.tif',\n",
      " 'planet-snowcover-imagery/20180601_181448_0f32_3B_AnalyticMS_SR_clip.tif',\n",
      " 'planet-snowcover-imagery/20180601_181448_0f32_3B_AnalyticMS_metadata_clip.xml',\n",
      " 'planet-snowcover-imagery/20180601_181448_0f32_metadata.json',\n",
      " 'planet-snowcover-imagery/20180601_181449_0f32_3B_AnalyticMS_DN_udm_clip.tif',\n",
      " 'planet-snowcover-imagery/20180601_181449_0f32_3B_AnalyticMS_SR_clip_scaled.tif',\n",
      " 'planet-snowcover-imagery/20180601_181449_0f32_3B_AnalyticMS_metadata_clip.xml',\n",
      " 'planet-snowcover-imagery/20180601_181449_0f32_metadata.json',\n",
      " 'planet-snowcover-imagery/20180601_181450_0f32_3B_AnalyticMS_DN_udm_clip.tif',\n",
      " 'planet-snowcover-imagery/20180601_181450_0f32_3B_AnalyticMS_SR_clip.tif',\n",
      " 'planet-snowcover-imagery/20180601_181450_0f32_3B_AnalyticMS_metadata_clip.xml',\n",
      " 'planet-snowcover-imagery/20180601_181450_0f32_metadata.json',\n",
      " 'planet-snowcover-imagery/20180601_181451_0f32_3B_AnalyticMS_DN_udm_clip.tif',\n",
      " 'planet-snowcover-imagery/20180601_181451_0f32_3B_AnalyticMS_SR_clip.tif',\n",
      " 'planet-snowcover-imagery/20180601_181451_0f32_3B_AnalyticMS_metadata_clip.xml',\n",
      " 'planet-snowcover-imagery/20180601_181451_0f32_metadata.json',\n",
      " 'planet-snowcover-imagery/20190727_184554_29_1063-image.tif',\n",
      " 'planet-snowcover-imagery/20191001_183911_1013.tif',\n",
      " 'planet-snowcover-imagery/20191001_183911_1013_1B_AnalyticMS.tif',\n",
      " 'planet-snowcover-imagery/assets-combined-dedup-2019-10-03.csv',\n",
      " 'planet-snowcover-imagery/complete-tiles.csv',\n",
      " 'planet-snowcover-imagery/manifest.json',\n",
      " 'planet-snowcover-imagery/20170224_171306_0e26_3B_AnalyticMS_SR_clip',\n",
      " 'planet-snowcover-imagery/20170224_171307_0e26_3B_AnalyticMS_SR_clip',\n",
      " 'planet-snowcover-imagery/20180330_172048_0f3f_3B_AnalyticMS_SR_clip',\n",
      " 'planet-snowcover-imagery/20180330_172049_0f3f_3B_AnalyticMS_SR_clip',\n",
      " 'planet-snowcover-imagery/20180330_172052_0f3f_3B_AnalyticMS_SR_clip',\n",
      " 'planet-snowcover-imagery/20180330_172053_0f3f_3B_AnalyticMS_SR_clip',\n",
      " 'planet-snowcover-imagery/20180330_172054_0f3f_3B_AnalyticMS_SR_clip',\n",
      " 'planet-snowcover-imagery/20180422_180809_1033_3B_AnalyticMS_SR_clip_tiled',\n",
      " 'planet-snowcover-imagery/20180422_180811_1033_3B_AnalyticMS_SR_clip_tiled',\n",
      " 'planet-snowcover-imagery/20180422_180812_1033_3B_AnalyticMS_SR_clip_tiled',\n",
      " 'planet-snowcover-imagery/20180422_182001_101c_3B_AnalyticMS_SR_clip_tiled',\n",
      " 'planet-snowcover-imagery/20180422_182002_101c_3B_AnalyticMS_SR_clip_tiled',\n",
      " 'planet-snowcover-imagery/20180423_180735_1009_3B_AnalyticMS_SR_clip_tiled',\n",
      " 'planet-snowcover-imagery/20180423_180736_1009_3B_AnalyticMS_SR_clip_tiled',\n",
      " 'planet-snowcover-imagery/20180423_180737_1009_3B_AnalyticMS_SR_clip_tiled',\n",
      " 'planet-snowcover-imagery/20180423_180738_1009_3B_AnalyticMS_SR_clip_tiled',\n",
      " 'planet-snowcover-imagery/20180423_181001_100c_3B_AnalyticMS_SR_clip_tiled',\n",
      " 'planet-snowcover-imagery/20180423_181002_100c_3B_AnalyticMS_SR_clip_tiled',\n",
      " 'planet-snowcover-imagery/20180423_181004_100c_3B_AnalyticMS_SR_clip_tiled',\n",
      " 'planet-snowcover-imagery/20180524_172141_103d_3B_AnalyticMS_SR_clip',\n",
      " 'planet-snowcover-imagery/20180524_172142_103d_3B_AnalyticMS_SR_clip',\n",
      " 'planet-snowcover-imagery/20180524_172143_103d_3B_AnalyticMS_SR_clip',\n",
      " 'planet-snowcover-imagery/20180524_172144_103d_3B_AnalyticMS_SR_clip',\n",
      " 'planet-snowcover-imagery/20180524_172145_103d_3B_AnalyticMS_SR_clip',\n",
      " 'planet-snowcover-imagery/20180524_172146_103d_3B_AnalyticMS_SR_clip',\n",
      " 'planet-snowcover-imagery/20180524_172147_103d_3B_AnalyticMS_SR_clip',\n",
      " 'planet-snowcover-imagery/20180524_172148_103d_3B_AnalyticMS_SR_clip',\n",
      " 'planet-snowcover-imagery/20180524_172149_103d_3B_AnalyticMS_SR_clip',\n",
      " 'planet-snowcover-imagery/20180524_172326_0f51_3B_AnalyticMS_SR_clip',\n",
      " 'planet-snowcover-imagery/20180524_172327_0f51_3B_AnalyticMS_SR_clip',\n",
      " 'planet-snowcover-imagery/20180524_172329_0f51_3B_AnalyticMS_SR_clip',\n",
      " 'planet-snowcover-imagery/20180524_172330_0f51_3B_AnalyticMS_SR_clip',\n",
      " 'planet-snowcover-imagery/20180524_172331_0f51_3B_AnalyticMS_SR_clip',\n",
      " 'planet-snowcover-imagery/20180524_172332_0f51_3B_AnalyticMS_SR_clip',\n",
      " 'planet-snowcover-imagery/20180524_172333_0f51_3B_AnalyticMS_SR_clip',\n",
      " 'planet-snowcover-imagery/20180524_172334_0f51_3B_AnalyticMS_SR_clip',\n",
      " 'planet-snowcover-imagery/20180524_172630_0f2d_3B_AnalyticMS_SR_clip',\n",
      " 'planet-snowcover-imagery/20180524_172631_0f2d_3B_AnalyticMS_SR_clip',\n",
      " 'planet-snowcover-imagery/20180524_172632_0f2d_3B_AnalyticMS_SR_clip',\n",
      " 'planet-snowcover-imagery/20180524_172633_0f2d_3B_AnalyticMS_SR_clip',\n",
      " 'planet-snowcover-imagery/20180524_172634_0f2d_3B_AnalyticMS_SR_clip',\n",
      " 'planet-snowcover-imagery/20180524_172635_0f2d_3B_AnalyticMS_SR_clip',\n",
      " 'planet-snowcover-imagery/20180524_172636_0f2d_3B_AnalyticMS_SR_clip',\n",
      " 'planet-snowcover-imagery/20180524_172637_0f2d_3B_AnalyticMS_SR_clip',\n",
      " 'planet-snowcover-imagery/20180524_172637_1_0f2d_3B_AnalyticMS_SR_clip',\n",
      " 'planet-snowcover-imagery/20180528_180846_1002_3B_AnalyticMS_SR_clip',\n",
      " 'planet-snowcover-imagery/20180528_180847_1002_3B_AnalyticMS_SR_clip',\n",
      " 'planet-snowcover-imagery/20180528_181107_1025_3B_AnalyticMS_SR_clip',\n",
      " 'planet-snowcover-imagery/20180528_181108_1025_3B_AnalyticMS_SR_clip',\n",
      " 'planet-snowcover-imagery/20180528_181109_1025_3B_AnalyticMS_SR_clip',\n",
      " 'planet-snowcover-imagery/20180528_181110_1025_3B_AnalyticMS_SR_clip',\n",
      " 'planet-snowcover-imagery/20180528_181111_1025_3B_AnalyticMS_SR_clip',\n",
      " 'planet-snowcover-imagery/20180528_181112_1025_3B_AnalyticMS_SR_clip',\n",
      " 'planet-snowcover-imagery/20180528_181113_1025_3B_AnalyticMS_SR_clip',\n",
      " 'planet-snowcover-imagery/20180528_181114_1025_3B_AnalyticMS_SR_clip',\n",
      " 'planet-snowcover-imagery/20180528_181115_1025_3B_AnalyticMS_SR_clip',\n",
      " 'planet-snowcover-imagery/20180528_181116_1025_3B_AnalyticMS_SR_clip',\n",
      " 'planet-snowcover-imagery/20180528_181319_1005_3B_AnalyticMS_SR_clip',\n",
      " 'planet-snowcover-imagery/20180528_181320_1005_3B_AnalyticMS_SR_clip',\n",
      " 'planet-snowcover-imagery/20180528_181322_1005_3B_AnalyticMS_SR_clip',\n",
      " 'planet-snowcover-imagery/20180528_181323_1005_3B_AnalyticMS_SR_clip',\n",
      " 'planet-snowcover-imagery/20180528_181324_1005_3B_AnalyticMS_SR_clip',\n",
      " 'planet-snowcover-imagery/20180528_181325_1005_3B_AnalyticMS_SR_clip',\n",
      " 'planet-snowcover-imagery/20180528_181326_1005_3B_AnalyticMS_SR_clip',\n",
      " 'planet-snowcover-imagery/20180528_181327_1005_3B_AnalyticMS_SR_clip',\n",
      " 'planet-snowcover-imagery/20180601_181447_0f32_3B_AnalyticMS_SR_clip_tiled',\n",
      " 'planet-snowcover-imagery/20180601_181448_0f32_3B_AnalyticMS_SR_clip_tiled',\n",
      " 'planet-snowcover-imagery/20180601_181450_0f32_3B_AnalyticMS_SR_clip_tiled',\n",
      " 'planet-snowcover-imagery/20180601_181451_0f32_3B_AnalyticMS_SR_clip_tiled',\n",
      " 'planet-snowcover-imagery/20190727_184554_29_1063-image',\n",
      " 'planet-snowcover-imagery/20191001_183911_1013',\n",
      " 'planet-snowcover-imagery/PSScene4Band_20170129_180054_0e0f_analytic_sr',\n",
      " 'planet-snowcover-imagery/planet-orders']\u001b[0m\n",
      "\u001b[31mresult:\u001b[0m\n",
      "\u001b[31m['planet-snowcover-imagery/20180528_180846_1002_3B_AnalyticMS_SR_clip',\n",
      " 'planet-snowcover-imagery/20180528_180847_1002_3B_AnalyticMS_SR_clip',\n",
      " 'planet-snowcover-imagery/20180528_181107_1025_3B_AnalyticMS_SR_clip',\n",
      " 'planet-snowcover-imagery/20180528_181108_1025_3B_AnalyticMS_SR_clip',\n",
      " 'planet-snowcover-imagery/20180528_181109_1025_3B_AnalyticMS_SR_clip',\n",
      " 'planet-snowcover-imagery/20180528_181110_1025_3B_AnalyticMS_SR_clip',\n",
      " 'planet-snowcover-imagery/20180528_181111_1025_3B_AnalyticMS_SR_clip',\n",
      " 'planet-snowcover-imagery/20180528_181112_1025_3B_AnalyticMS_SR_clip',\n",
      " 'planet-snowcover-imagery/20180528_181113_1025_3B_AnalyticMS_SR_clip',\n",
      " 'planet-snowcover-imagery/20180528_181114_1025_3B_AnalyticMS_SR_clip',\n",
      " 'planet-snowcover-imagery/20180528_181115_1025_3B_AnalyticMS_SR_clip',\n",
      " 'planet-snowcover-imagery/20180528_181116_1025_3B_AnalyticMS_SR_clip',\n",
      " 'planet-snowcover-imagery/20180528_181319_1005_3B_AnalyticMS_SR_clip',\n",
      " 'planet-snowcover-imagery/20180528_181320_1005_3B_AnalyticMS_SR_clip',\n",
      " 'planet-snowcover-imagery/20180528_181322_1005_3B_AnalyticMS_SR_clip',\n",
      " 'planet-snowcover-imagery/20180528_181323_1005_3B_AnalyticMS_SR_clip',\n",
      " 'planet-snowcover-imagery/20180528_181324_1005_3B_AnalyticMS_SR_clip',\n",
      " 'planet-snowcover-imagery/20180528_181325_1005_3B_AnalyticMS_SR_clip',\n",
      " 'planet-snowcover-imagery/20180528_181326_1005_3B_AnalyticMS_SR_clip',\n",
      " 'planet-snowcover-imagery/20180528_181327_1005_3B_AnalyticMS_SR_clip']\u001b[0m\n",
      "\u001b[31mSearching for mask...(planet-snowcover-snow/ASO_3M_SD_USCATE_20180528_binary$)\u001b[0m\n",
      "\u001b[31mcandidates:\u001b[0m\n",
      "\u001b[31m['planet-snowcover-snow/ASO_3M_QF_USCOGM_20170225.geojson',\n",
      " 'planet-snowcover-snow/ASO_3M_QF_USCOGM_20170225.tif',\n",
      " 'planet-snowcover-snow/ASO_3M_QF_USCOGM_20170225_binary.tif',\n",
      " 'planet-snowcover-snow/ASO_3M_SD_USCAJW_20180423.tif',\n",
      " 'planet-snowcover-snow/ASO_3M_SD_USCATE_20180423_binary.tif',\n",
      " 'planet-snowcover-snow/ASO_3M_SD_USCATE_20180528.geojson',\n",
      " 'planet-snowcover-snow/ASO_3M_SD_USCATE_20180528.tif',\n",
      " 'planet-snowcover-snow/ASO_3M_SD_USCATE_20180528_binary.tif',\n",
      " 'planet-snowcover-snow/ASO_3M_SD_USCATE_20180528_corrected.geojson',\n",
      " 'planet-snowcover-snow/ASO_3M_SD_USCOCB_20160404.geojson',\n",
      " 'planet-snowcover-snow/ASO_3M_SD_USCOCB_20160404.tif',\n",
      " 'planet-snowcover-snow/ASO_3M_SD_USCOCB_20160404_binary.tif',\n",
      " 'planet-snowcover-snow/ASO_3M_SD_USCOCB_20180330.geojson',\n",
      " 'planet-snowcover-snow/ASO_3M_SD_USCOCB_20180330.tif',\n",
      " 'planet-snowcover-snow/ASO_3M_SD_USCOCB_20180330_binary.tif',\n",
      " 'planet-snowcover-snow/ASO_3M_SD_USCOGE_20180524.geojson',\n",
      " 'planet-snowcover-snow/ASO_3M_SD_USCOGE_20180524.tif',\n",
      " 'planet-snowcover-snow/ASO_3M_SD_USCOGE_20180524.toml',\n",
      " 'planet-snowcover-snow/ASO_3M_SD_USCOGE_20180524_binary.tif',\n",
      " 'planet-snowcover-snow/ASO_3M_SD_USCOGM_20170225.geojson',\n",
      " 'planet-snowcover-snow/ASO_3M_SD_USCOGM_20170225.tif',\n",
      " 'planet-snowcover-snow/ASO_3M_SD_USCOGM_20170225_binary.tif',\n",
      " 'planet-snowcover-snow/ASO_3M_SD_USWAOL_20160208.tif',\n",
      " 'planet-snowcover-snow/ASO_3M_SD_USWAOL_20160208_binary.tif',\n",
      " 'planet-snowcover-snow/ASO_3M_SD_USWAOL_20160208_half1.geojson',\n",
      " 'planet-snowcover-snow/ASO_3M_SD_USWAOL_20160208_half1.tif',\n",
      " 'planet-snowcover-snow/ASO_3M_SD_USWAOL_20160208_half1_binary.tif',\n",
      " 'planet-snowcover-snow/ASO_3M_SD_USWAOL_20160208_half2.geojson',\n",
      " 'planet-snowcover-snow/ASO_3M_SD_USWAOL_20160208_half2.tif',\n",
      " 'planet-snowcover-snow/ASO_3M_SD_USWAOL_20160208_half2_binary.tif',\n",
      " 'planet-snowcover-snow/ASO_3M_SD_USWAOL_20160329.tif',\n",
      " 'planet-snowcover-snow/ASO_3M_SD_USWAOL_20160329_binary.tif',\n",
      " 'planet-snowcover-snow/ASO_3M_SD_USCAJW_20180423',\n",
      " 'planet-snowcover-snow/ASO_3M_SD_USCASJ_20180601',\n",
      " 'planet-snowcover-snow/ASO_3M_SD_USCASJ_20180601_tiles',\n",
      " 'planet-snowcover-snow/ASO_3M_SD_USCASJ_20180601_tiles_02',\n",
      " 'planet-snowcover-snow/ASO_3M_SD_USCATE_20180423.tif?_ga=2.77458517.1128125195.1558820397-857243106_binary',\n",
      " 'planet-snowcover-snow/ASO_3M_SD_USCATE_20180528_binary',\n",
      " 'planet-snowcover-snow/ASO_3M_SD_USCOCB_20160404_binary',\n",
      " 'planet-snowcover-snow/ASO_3M_SD_USCOCB_20180330_binary',\n",
      " 'planet-snowcover-snow/ASO_3M_SD_USCOGE_20180524_binary',\n",
      " 'planet-snowcover-snow/ASO_3M_SD_USCOGM_20170225_binary',\n",
      " 'planet-snowcover-snow/ASO_3M_SD_USWAOL_20160208_half1_binary',\n",
      " 'planet-snowcover-snow/ASO_3M_SD_USWAOL_20160208_half2_binary']\u001b[0m\n",
      "\u001b[31mresult:\u001b[0m\n",
      "\u001b[31m['planet-snowcover-snow/ASO_3M_SD_USCATE_20180528_binary']\u001b[0m\n",
      "\u001b[31mMerging tilesets...\u001b[0m\n",
      "\u001b[31m999\u001b[0m\n",
      "\u001b[31m/root/anaconda3/envs/pytorch_p36/lib/python3.6/site-packages/sklearn/model_selection/_split.py:2179: FutureWarning: From version 0.21, test_size will always complement train_size unless both are specified.\n",
      "  FutureWarning)\u001b[0m\n",
      "\u001b[31m--- Input tensor from Dataset: planet-snowcover-imagery/20180528_.* ---\n",
      "\u001b[0m\n",
      "\u001b[31m--- Hyper Parameters ---\u001b[0m\n",
      "\u001b[31mModel:#011#011#011 albunet\u001b[0m\n",
      "\u001b[31mEncoder model:#011#011 resnet50\u001b[0m\n",
      "\u001b[31mLoss function:#011#011 lovasz\u001b[0m\n",
      "\u001b[31mResNet pre-trained:#011 True\u001b[0m\n",
      "\u001b[31mBatch Size:#011#011 7\u001b[0m\n",
      "\u001b[31mTile Size:#011#011 512\u001b[0m\n",
      "\u001b[31mData Augmentation:#011 0.75\u001b[0m\n",
      "\u001b[31mLearning Rate:#011#011 2.5e-05\u001b[0m\n",
      "\u001b[31mWeight Decay:#011#011 0.0\n",
      "\u001b[0m\n",
      "\u001b[31m---\u001b[0m\n",
      "\u001b[31mEpoch: 1/50\u001b[0m\n",
      "\u001b[31m#015Train:   0%|          | 0/99 [00:00<?, ?batch/s]#015Train:   1%|1         | 1/99 [00:32<53:14, 32.59s/batch]#015Train:   2%|2         | 2/99 [00:34<27:58, 17.30s/batch]#015Train:   3%|3         | 3/99 [00:36<19:31, 12.20s/batch]#015Train:   4%|4         | 4/99 [00:38<15:17,  9.65s/batch]#015Train:   5%|5         | 5/99 [00:40<12:43,  8.12s/batch]#015Train:   6%|6         | 6/99 [00:43<11:13,  7.24s/batch]#015Train:   7%|7         | 7/99 [00:46<10:14,  6.68s/batch]#015Train:   8%|8         | 8/99 [00:49<09:26,  6.23s/batch]#015Train:   9%|9         | 9/99 [00:53<08:50,  5.90s/batch]#015Train:  10%|#         | 10/99 [00:55<08:16,  5.58s/batch]#015Train:  11%|#1        | 11/99 [00:58<07:50,  5.35s/batch]#015Train:  12%|#2        | 12/99 [01:01<07:27,  5.14s/batch]#015Train:  13%|#3        | 13/99 [01:04<07:08,  4.98s/batch]#015Train:  14%|#4        | 14/99 [01:08<06:55,  4.89s/batch]#015Train:  15%|#5        | 15/99 [01:11<06:41,  4.77s/batch]#015Train:  16%|#6        | 16/99 [01:14<06:26,  4.65s/batch]#015Train:  17%|#7        | 17/99 [01:17<06:13,  4.56s/batch]#015Train:  18%|#8        | 18/99 [01:20<06:02,  4.48s/batch]#015Train:  19%|#9        | 19/99 [01:23<05:51,  4.40s/batch]#015Train:  20%|##        | 20/99 [01:27<05:44,  4.36s/batch]#015Train:  21%|##1       | 21/99 [01:30<05:36,  4.31s/batch]#015Train:  22%|##2       | 22/99 [01:33<05:26,  4.24s/batch]#015Train:  23%|##3       | 23/99 [01:36<05:18,  4.19s/batch]#015Train:  24%|##4       | 24/99 [01:39<05:11,  4.15s/batch]#015Train:  25%|##5       | 25/99 [01:42<05:03,  4.10s/batch]#015Train:  26%|##6       | 26/99 [01:45<04:56,  4.06s/batch]#015Train:  27%|##7       | 27/99 [01:48<04:48,  4.01s/batch]#015Train:  28%|##8       | 28/99 [01:51<04:43,  3.99s/batch]#015Train:  29%|##9       | 29/99 [01:55<04:38,  3.98s/batch]#015Train:  30%|###       | 30/99 [01:58<04:32,  3.95s/batch]#015Train:  31%|###1      | 31/99 [02:01<04:26,  3.92s/batch]#015Train:  32%|###2      | 32/99 [02:04<04:20,  3.89s/batch]#015Train:  33%|###3      | 33/99 [02:07<04:14,  3.86s/batch]#015Train:  34%|###4      | 34/99 [02:10<04:08,  3.83s/batch]#015Train:  35%|###5      | 35/99 [02:12<04:03,  3.80s/batch]#015Train:  36%|###6      | 36/99 [02:15<03:57,  3.77s/batch]#015Train:  37%|###7      | 37/99 [02:18<03:52,  3.75s/batch]#015Train:  38%|###8      | 38/99 [02:21<03:47,  3.73s/batch]#015Train:  39%|###9      | 39/99 [02:24<03:42,  3.71s/batch]#015Train:  40%|####      | 40/99 [02:27<03:37,  3.69s/batch]#015Train:  41%|####1     | 41/99 [02:30<03:33,  3.68s/batch]#015Train:  42%|####2     | 42/99 [02:33<03:28,  3.65s/batch]#015Train:  43%|####3     | 43/99 [02:36<03:23,  3.63s/batch]#015Train:  44%|####4     | 44/99 [02:38<03:18,  3.61s/batch]#015Train:  45%|####5     | 45/99 [02:42<03:14,  3.60s/batch]#015Train:  46%|####6     | 46/99 [02:44<03:09,  3.58s/batch]#015Train:  47%|####7     | 47/99 [02:47<03:05,  3.56s/batch]#015Train:  48%|####8     | 48/99 [02:50<03:01,  3.55s/batch]#015Train:  49%|####9     | 49/99 [02:53<02:56,  3.54s/batch]#015Train:  51%|#####     | 50/99 [02:55<02:52,  3.52s/batch]#015Train:  52%|#####1    | 51/99 [02:59<02:48,  3.51s/batch]#015Train:  53%|#####2    | 52/99 [03:02<02:44,  3.50s/batch]#015Train:  54%|#####3    | 53/99 [03:05<02:40,  3.50s/batch]#015Train:  55%|#####4    | 54/99 [03:08<02:37,  3.49s/batch]#015Train:  56%|#####5    | 55/99 [03:11<02:33,  3.48s/batch]#015Train:  57%|#####6    | 56/99 [03:14<02:29,  3.47s/batch]#015Train:  58%|#####7    | 57/99 [03:17<02:25,  3.46s/batch]#015Train:  59%|#####8    | 58/99 [03:19<02:21,  3.45s/batch]#015Train:  60%|#####9    | 59/99 [03:23<02:17,  3.44s/batch]#015Train:  61%|######    | 60/99 [03:26<02:14,  3.44s/batch]#015Train:  62%|######1   | 61/99 [03:29<02:10,  3.43s/batch]#015Train:  63%|######2   | 62/99 [03:32<02:06,  3.42s/batch]#015Train:  64%|######3   | 63/99 [03:34<02:02,  3.41s/batch]#015Train:  65%|######4   | 64/99 [03:37<01:59,  3.40s/batch]#015Train:  66%|######5   | 65/99 [03:40<01:55,  3.40s/batch]#015Train:  67%|######6   | 66/99 [03:43<01:51,  3.39s/batch]#015Train:  68%|######7   | 67/99 [03:46<01:48,  3.38s/batch]#015Train:  69%|######8   | 68/99 [03:49<01:44,  3.38s/batch]#015Train:  70%|######9   | 69/99 [03:52<01:41,  3.37s/batch]#015Train:  71%|#######   | 70/99 [03:55<01:37,  3.37s/batch]#015Train:  72%|#######1  | 71/99 [03:58<01:34,  3.36s/batch]#015Train:  73%|#######2  | 72/99 [04:01<01:30,  3.36s/batch]#015Train:  74%|#######3  | 73/99 [04:04<01:27,  3.35s/batch]#015Train:  75%|#######4  | 74/99 [04:07<01:23,  3.35s/batch]#015Train:  76%|#######5  | 75/99 [04:10<01:20,  3.34s/batch]#015Train:  77%|#######6  | 76/99 [04:13<01:16,  3.34s/batch]#015Train:  78%|#######7  | 77/99 [04:16<01:13,  3.33s/batch]#015Train:  79%|#######8  | 78/99 [04:19<01:09,  3.33s/batch]#015Train:  80%|#######9  | 79/99 [04:22<01:06,  3.32s/batch]#015Train:  81%|########  | 80/99 [04:25<01:02,  3.32s/batch]#015Train:  82%|########1 | 81/99 [04:28<00:59,  3.31s/batch]#015Train:  83%|########2 | 82/99 [04:30<00:56,  3.30s/batch]#015Train:  84%|########3 | 83/99 [04:33<00:52,  3.30s/batch]#015Train:  85%|########4 | 84/99 [04:36<00:49,  3.29s/batch]#015Train:  86%|########5 | 85/99 [04:39<00:45,  3.28s/batch]#015Train:  87%|########6 | 86/99 [04:41<00:42,  3.28s/batch]#015Train:  88%|########7 | 87/99 [04:44<00:39,  3.27s/batch]#015Train:  89%|########8 | 88/99 [04:47<00:35,  3.27s/batch]#015Train:  90%|########9 | 89/99 [04:50<00:32,  3.26s/batch]#015Train:  91%|######### | 90/99 [04:53<00:29,  3.26s/batch]#015Train:  92%|#########1| 91/99 [04:56<00:26,  3.26s/batch]#015Train:  93%|#########2| 92/99 [04:59<00:22,  3.25s/batch]#015Train:  94%|#########3| 93/99 [05:02<00:19,  3.25s/batch]#015Train:  95%|#########4| 94/99 [05:05<00:16,  3.25s/batch]#015Train:  96%|#########5| 95/99 [05:08<00:12,  3.24s/batch]#015Train:  97%|#########6| 96/99 [05:10<00:09,  3.24s/batch]#015Train:  98%|#########7| 97/99 [05:13<00:06,  3.23s/batch]#015Train:  99%|#########8| 98/99 [05:16<00:03,  3.23s/batch]#015Train: 100%|##########| 99/99 [05:19<00:00,  3.23s/batch]\u001b[0m\n",
      "\u001b[31mTrain    loss: 0.1458, mIoU: 0.535, IoU: 0.362, precision:  0.584, recall: 0.190\u001b[0m\n",
      "\u001b[31m#015Validate:   0%|          | 0/42 [00:00<?, ?batch/s]#015Validate:   2%|2         | 1/42 [00:04<02:46,  4.07s/batch]#015Validate:   5%|4         | 2/42 [00:07<02:23,  3.58s/batch]#015Validate:   7%|7         | 3/42 [00:10<02:11,  3.38s/batch]#015Validate:  10%|9         | 4/42 [00:12<02:02,  3.22s/batch]#015Validate:  12%|#1        | 5/42 [00:15<01:57,  3.17s/batch]#015Validate:  14%|#4        | 6/42 [00:19<01:54,  3.19s/batch]#015Validate:  17%|#6        | 7/42 [00:22<01:50,  3.14s/batch]#015Validate:  19%|#9        | 8/42 [00:24<01:44,  3.08s/batch]#015Validate:  21%|##1       | 9/42 [00:27<01:40,  3.05s/batch]#015Validate:  24%|##3       | 10/42 [00:30<01:36,  3.02s/batch]#015Validate:  26%|##6       | 11/42 [00:33<01:34,  3.04s/batch]#015Validate:  29%|##8       | 12/42 [00:36<01:30,  3.01s/batch]#015Validate:  31%|###       | 13/42 [00:38<01:26,  2.99s/batch]#015Validate:  33%|###3      | 14/42 [00:42<01:24,  3.01s/batch]#015Validate:  36%|###5      | 15/42 [00:44<01:20,  3.00s/batch]#015Validate:  38%|###8      | 16/42 [00:47<01:17,  2.99s/batch]#015Validate:  40%|####      | 17/42 [00:50<01:14,  2.98s/batch]#015Validate:  43%|####2     | 18/42 [00:53<01:11,  2.98s/batch]#015Validate:  45%|####5     | 19/42 [00:56<01:08,  2.97s/batch]#015Validate:  48%|####7     | 20/42 [00:59<01:05,  2.96s/batch]#015Validate:  50%|#####     | 21/42 [01:01<01:01,  2.95s/batch]#015Validate:  52%|#####2    | 22/42 [01:05<00:59,  2.96s/batch]#015Validate:  55%|#####4    | 23/42 [01:07<00:55,  2.94s/batch]#015Validate:  57%|#####7    | 24/42 [01:10<00:53,  2.95s/batch]#015Validate:  60%|#####9    | 25/42 [01:14<00:50,  2.97s/batch]#015Validate:  62%|######1   | 26/42 [01:17<00:47,  2.97s/batch]#015Validate:  64%|######4   | 27/42 [01:20<00:44,  2.97s/batch]#015Validate:  67%|######6   | 28/42 [01:23<00:41,  2.97s/batch]#015Validate:  69%|######9   | 29/42 [01:26<00:38,  2.98s/batch]#015Validate:  71%|#######1  | 30/42 [01:29<00:35,  2.98s/batch]#015Validate:  74%|#######3  | 31/42 [01:32<00:32,  2.97s/batch]#015Validate:  76%|#######6  | 32/42 [01:35<00:29,  2.97s/batch]#015Validate:  79%|#######8  | 33/42 [01:38<00:26,  2.97s/batch]#015Validate:  81%|########  | 34/42 [01:41<00:23,  2.99s/batch]#015Validate:  83%|########3 | 35/42 [01:44<00:20,  2.98s/batch]#015Validate:  86%|########5 | 36/42 [01:47<00:17,  2.99s/batch]#015Validate:  88%|########8 | 37/42 [01:50<00:14,  2.99s/batch]#015Validate:  90%|######### | 38/42 [01:53<00:11,  2.98s/batch]#015Validate:  93%|#########2| 39/42 [01:56<00:08,  2.99s/batch]#015Validate:  95%|#########5| 40/42 [01:59<00:05,  2.99s/batch]#015Validate:  98%|#########7| 41/42 [02:02<00:02,  2.99s/batch]#015Validate: 100%|##########| 42/42 [02:05<00:00,  3.00s/batch]\u001b[0m\n",
      "\u001b[31mValidate loss: 0.1458, mIoU: 0.535, IoU: 0.362, precision:  0.584, recall: 0.190\u001b[0m\n",
      "\u001b[31m---\u001b[0m\n",
      "\u001b[31mEpoch: 2/50\u001b[0m\n",
      "\u001b[31m#015Train:   0%|          | 0/99 [00:00<?, ?batch/s]#015Train:   1%|1         | 1/99 [00:04<07:50,  4.80s/batch]#015Train:   2%|2         | 2/99 [00:07<06:08,  3.80s/batch]#015Train:   3%|3         | 3/99 [00:10<05:33,  3.47s/batch]#015Train:   4%|4         | 4/99 [00:13<05:20,  3.38s/batch]#015Train:   5%|5         | 5/99 [00:16<05:04,  3.24s/batch]#015Train:   6%|6         | 6/99 [00:18<04:54,  3.17s/batch]#015Train:   7%|7         | 7/99 [00:21<04:45,  3.10s/batch]#015Train:   8%|8         | 8/99 [00:24<04:37,  3.05s/batch]#015Train:   9%|9         | 9/99 [00:27<04:30,  3.01s/batch]#015Train:  10%|#         | 10/99 [00:29<04:26,  2.99s/batch]#015Train:  11%|#1        | 11/99 [00:32<04:22,  2.98s/batch]#015Train:  12%|#2        | 12/99 [00:35<04:16,  2.95s/batch]#015Train:  13%|#3        | 13/99 [00:37<04:10,  2.92s/batch]#015Train:  14%|#4        | 14/99 [00:40<04:06,  2.90s/batch]#015Train:  15%|#5        | 15/99 [00:43<04:03,  2.90s/batch]#015Train:  16%|#6        | 16/99 [00:46<04:00,  2.90s/batch]#015Train:  17%|#7        | 17/99 [00:49<03:57,  2.90s/batch]#015Train:  18%|#8        | 18/99 [00:52<03:55,  2.91s/batch]#015Train:  19%|#9        | 19/99 [00:54<03:50,  2.89s/batch]#015Train:  20%|##        | 20/99 [00:57<03:48,  2.89s/batch]#015Train:  21%|##1       | 21/99 [01:01<03:46,  2.91s/batch]#015Train:  22%|##2       | 22/99 [01:04<03:44,  2.92s/batch]#015Train:  23%|##3       | 23/99 [01:07<03:41,  2.92s/batch]#015Train:  24%|##4       | 24/99 [01:09<03:37,  2.90s/batch]#015Train:  25%|##5       | 25/99 [01:12<03:33,  2.89s/batch]#015Train:  26%|##6       | 26/99 [01:14<03:29,  2.87s/batch]#015Train:  27%|##7       | 27/99 [01:17<03:26,  2.87s/batch]#015Train:  28%|##8       | 28/99 [01:20<03:23,  2.87s/batch]#015Train:  29%|##9       | 29/99 [01:23<03:21,  2.88s/batch]#015Train:  30%|###       | 30/99 [01:26<03:18,  2.87s/batch]#015Train:  31%|###1      | 31/99 [01:28<03:15,  2.87s/batch]#015Train:  32%|###2      | 32/99 [01:31<03:12,  2.87s/batch]#015Train:  33%|###3      | 33/99 [01:34<03:08,  2.86s/batch]#015Train:  34%|###4      | 34/99 [01:37<03:06,  2.86s/batch]#015Train:  35%|###5      | 35/99 [01:39<03:02,  2.86s/batch]#015Train:  36%|###6      | 36/99 [01:42<02:59,  2.85s/batch]#015Train:  37%|###7      | 37/99 [01:45<02:56,  2.84s/batch]#015Train:  38%|###8      | 38/99 [01:47<02:53,  2.84s/batch]#015Train:  39%|###9      | 39/99 [01:50<02:49,  2.83s/batch]#015Train:  40%|####      | 40/99 [01:53<02:46,  2.83s/batch]#015Train:  41%|####1     | 41/99 [01:55<02:43,  2.83s/batch]#015Train:  42%|####2     | 42/99 [01:59<02:41,  2.83s/batch]#015Train:  43%|####3     | 43/99 [02:01<02:38,  2.83s/batch]#015Train:  44%|####4     | 44/99 [02:04<02:35,  2.83s/batch]#015Train:  45%|####5     | 45/99 [02:07<02:32,  2.82s/batch]#015Train:  46%|####6     | 46/99 [02:09<02:29,  2.82s/batch]#015Train:  47%|####7     | 47/99 [02:12<02:26,  2.82s/batch]#015Train:  48%|####8     | 48/99 [02:15<02:23,  2.82s/batch]#015Train:  49%|####9     | 49/99 [02:17<02:20,  2.81s/batch]#015Train:  51%|#####     | 50/99 [02:20<02:17,  2.81s/batch]#015Train:  52%|#####1    | 51/99 [02:23<02:14,  2.81s/batch]#015Train:  53%|#####2    | 52/99 [02:25<02:11,  2.80s/batch]#015Train:  54%|#####3    | 53/99 [02:28<02:08,  2.80s/batch]#015Train:  55%|#####4    | 54/99 [02:31<02:06,  2.80s/batch]#015Train:  56%|#####5    | 55/99 [02:34<02:03,  2.80s/batch]#015Train:  57%|#####6    | 56/99 [02:36<02:00,  2.80s/batch]#015Train:  58%|#####7    | 57/99 [02:39<01:57,  2.80s/batch]#015Train:  59%|#####8    | 58/99 [02:42<01:54,  2.80s/batch]#015Train:  60%|#####9    | 59/99 [02:44<01:51,  2.79s/batch]#015Train:  61%|######    | 60/99 [02:47<01:48,  2.79s/batch]#015Train:  62%|######1   | 61/99 [02:50<01:46,  2.79s/batch]#015Train:  63%|######2   | 62/99 [02:52<01:43,  2.79s/batch]#015Train:  64%|######3   | 63/99 [02:55<01:40,  2.78s/batch]#015Train:  65%|######4   | 64/99 [02:57<01:37,  2.78s/batch]#015Train:  66%|######5   | 65/99 [03:00<01:34,  2.78s/batch]#015Train:  67%|######6   | 66/99 [03:03<01:31,  2.78s/batch]#015Train:  68%|######7   | 67/99 [03:05<01:28,  2.77s/batch]#015Train:  69%|######8   | 68/99 [03:08<01:25,  2.77s/batch]#015Train:  70%|######9   | 69/99 [03:10<01:22,  2.77s/batch]#015Train:  71%|#######   | 70/99 [03:13<01:20,  2.77s/batch]#015Train:  72%|#######1  | 71/99 [03:16<01:17,  2.76s/batch]#015Train:  73%|#######2  | 72/99 [03:18<01:14,  2.76s/batch]#015Train:  74%|#######3  | 73/99 [03:21<01:11,  2.76s/batch]#015Train:  75%|#######4  | 74/99 [03:24<01:09,  2.77s/batch]#015Train:  76%|#######5  | 75/99 [03:27<01:06,  2.76s/batch]#015Train:  77%|#######6  | 76/99 [03:30<01:03,  2.77s/batch]#015Train:  78%|#######7  | 77/99 [03:32<01:00,  2.76s/batch]#015Train:  79%|#######8  | 78/99 [03:35<00:57,  2.76s/batch]#015Train:  80%|#######9  | 79/99 [03:37<00:55,  2.75s/batch]#015Train:  81%|########  | 80/99 [03:40<00:52,  2.75s/batch]#015Train:  82%|########1 | 81/99 [03:42<00:49,  2.75s/batch]#015Train:  83%|########2 | 82/99 [03:45<00:46,  2.75s/batch]#015Train:  84%|########3 | 83/99 [03:48<00:43,  2.75s/batch]#015Train:  85%|########4 | 84/99 [03:51<00:41,  2.75s/batch]#015Train:  86%|########5 | 85/99 [03:54<00:38,  2.75s/batch]#015Train:  87%|########6 | 86/99 [03:57<00:35,  2.76s/batch]#015Train:  88%|########7 | 87/99 [04:00<00:33,  2.76s/batch]#015Train:  89%|########8 | 88/99 [04:04<00:30,  2.78s/batch]#015Train:  90%|########9 | 89/99 [04:09<00:28,  2.80s/batch]#015Train:  91%|######### | 90/99 [04:12<00:25,  2.80s/batch]#015Train:  92%|#########1| 91/99 [04:15<00:22,  2.81s/batch]#015Train:  93%|#########2| 92/99 [04:18<00:19,  2.82s/batch]#015Train:  94%|#########3| 93/99 [04:22<00:16,  2.82s/batch]#015Train:  95%|#########4| 94/99 [04:26<00:14,  2.84s/batch]#015Train:  96%|#########5| 95/99 [04:30<00:11,  2.85s/batch]#015Train:  97%|#########6| 96/99 [04:35<00:08,  2.87s/batch]#015Train:  98%|#########7| 97/99 [04:38<00:05,  2.88s/batch]#015Train:  99%|#########8| 98/99 [04:42<00:02,  2.89s/batch]#015Train: 100%|##########| 99/99 [04:45<00:00,  2.88s/batch]\u001b[0m\n",
      "\u001b[31mTrain    loss: 0.1438, mIoU: 0.546, IoU: 0.398, precision:  0.697, recall: 0.226\u001b[0m\n",
      "\u001b[31m#015Validate:   0%|          | 0/42 [00:00<?, ?batch/s]#015Validate:   2%|2         | 1/42 [00:03<02:40,  3.91s/batch]#015Validate:   5%|4         | 2/42 [00:06<02:15,  3.38s/batch]#015Validate:   7%|7         | 3/42 [00:09<02:02,  3.15s/batch]#015Validate:  10%|9         | 4/42 [00:12<01:57,  3.10s/batch]#015Validate:  12%|#1        | 5/42 [00:15<01:51,  3.00s/batch]#015Validate:  14%|#4        | 6/42 [00:17<01:47,  2.99s/batch]#015Validate:  17%|#6        | 7/42 [00:20<01:43,  2.97s/batch]#015Validate:  19%|#9        | 8/42 [00:23<01:39,  2.92s/batch]#015Validate:  21%|##1       | 9/42 [00:26<01:35,  2.91s/batch]#015Validate:  24%|##3       | 10/42 [00:29<01:33,  2.91s/batch]#015Validate:  26%|##6       | 11/42 [00:31<01:29,  2.90s/batch]#015Validate:  29%|##8       | 12/42 [00:34<01:26,  2.87s/batch]#015Validate:  31%|###       | 13/42 [00:37<01:23,  2.88s/batch]#015Validate:  33%|###3      | 14/42 [00:40<01:20,  2.87s/batch]#015Validate:  36%|###5      | 15/42 [00:42<01:16,  2.84s/batch]#015Validate:  38%|###8      | 16/42 [00:45<01:13,  2.84s/batch]#015Validate:  40%|####      | 17/42 [00:48<01:11,  2.84s/batch]#015Validate:  43%|####2     | 18/42 [00:51<01:08,  2.83s/batch]#015Validate:  45%|####5     | 19/42 [00:53<01:05,  2.84s/batch]#015Validate:  48%|####7     | 20/42 [00:56<01:02,  2.83s/batch]#015Validate:  50%|#####     | 21/42 [00:59<00:59,  2.83s/batch]#015Validate:  52%|#####2    | 22/42 [01:02<00:56,  2.83s/batch]#015Validate:  55%|#####4    | 23/42 [01:04<00:53,  2.82s/batch]#015Validate:  57%|#####7    | 24/42 [01:07<00:50,  2.80s/batch]#015Validate:  60%|#####9    | 25/42 [01:10<00:47,  2.80s/batch]#015Validate:  62%|######1   | 26/42 [01:12<00:44,  2.79s/batch]#015Validate:  64%|######4   | 27/42 [01:15<00:41,  2.78s/batch]#015Validate:  67%|######6   | 28/42 [01:18<00:39,  2.81s/batch]#015Validate:  69%|######9   | 29/42 [01:21<00:36,  2.81s/batch]#015Validate:  71%|#######1  | 30/42 [01:24<00:33,  2.81s/batch]#015Validate:  74%|#######3  | 31/42 [01:26<00:30,  2.80s/batch]#015Validate:  76%|#######6  | 32/42 [01:29<00:27,  2.80s/batch]#015Validate:  79%|#######8  | 33/42 [01:32<00:25,  2.79s/batch]#015Validate:  81%|########  | 34/42 [01:34<00:22,  2.78s/batch]#015Validate:  83%|########3 | 35/42 [01:37<00:19,  2.79s/batch]#015Validate:  86%|########5 | 36/42 [01:40<00:16,  2.79s/batch]#015Validate:  88%|########8 | 37/42 [01:42<00:13,  2.78s/batch]#015Validate:  90%|######### | 38/42 [01:45<00:11,  2.77s/batch]#015Validate:  93%|#########2| 39/42 [01:48<00:08,  2.77s/batch]#015Validate:  95%|#########5| 40/42 [01:50<00:05,  2.77s/batch]#015Validate:  98%|#########7| 41/42 [01:53<00:02,  2.77s/batch]#015Validate: 100%|##########| 42/42 [01:56<00:00,  2.77s/batch]\u001b[0m\n",
      "\u001b[31mValidate loss: 0.1438, mIoU: 0.546, IoU: 0.398, precision:  0.697, recall: 0.226\u001b[0m\n",
      "\u001b[31m---\u001b[0m\n",
      "\u001b[31mEpoch: 3/50\u001b[0m\n",
      "\u001b[31m#015Train:   0%|          | 0/99 [00:00<?, ?batch/s]#015Train:   1%|1         | 1/99 [00:04<07:53,  4.83s/batch]#015Train:   2%|2         | 2/99 [00:07<05:55,  3.66s/batch]#015Train:   3%|3         | 3/99 [00:10<05:28,  3.42s/batch]#015Train:   4%|4         | 4/99 [00:12<05:06,  3.22s/batch]#015Train:   5%|5         | 5/99 [00:15<04:50,  3.09s/batch]#015Train:   6%|6         | 6/99 [00:18<04:40,  3.02s/batch]#015Train:   7%|7         | 7/99 [00:20<04:31,  2.95s/batch]#015Train:   8%|8         | 8/99 [00:23<04:22,  2.89s/batch]#015Train:   9%|9         | 9/99 [00:25<04:17,  2.87s/batch]#015Train:  10%|#         | 10/99 [00:28<04:11,  2.83s/batch]#015Train:  11%|#1        | 11/99 [00:30<04:04,  2.78s/batch]#015Train:  12%|#2        | 12/99 [00:33<04:00,  2.76s/batch]#015Train:  13%|#3        | 13/99 [00:35<03:53,  2.72s/batch]#015Train:  14%|#4        | 14/99 [00:37<03:47,  2.68s/batch]#015Train:  15%|#5        | 15/99 [00:40<03:44,  2.67s/batch]#015Train:  16%|#6        | 16/99 [00:42<03:40,  2.66s/batch]#015Train:  17%|#7        | 17/99 [00:44<03:36,  2.64s/batch]#015Train:  18%|#8        | 18/99 [00:47<03:32,  2.63s/batch]#015Train:  19%|#9        | 19/99 [00:49<03:29,  2.62s/batch]#015Train:  20%|##        | 20/99 [00:52<03:25,  2.60s/batch]#015Train:  21%|##1       | 21/99 [00:54<03:22,  2.60s/batch]#015Train:  22%|##2       | 22/99 [00:57<03:21,  2.62s/batch]#015Train:  23%|##3       | 23/99 [00:59<03:18,  2.61s/batch]#015Train:  24%|##4       | 24/99 [01:02<03:13,  2.59s/batch]#015Train:  25%|##5       | 25/99 [01:04<03:11,  2.59s/batch]#015Train:  26%|##6       | 26/99 [01:07<03:09,  2.60s/batch]#015Train:  27%|##7       | 27/99 [01:09<03:06,  2.59s/batch]#015Train:  28%|##8       | 28/99 [01:12<03:04,  2.59s/batch]#015Train:  29%|##9       | 29/99 [01:14<03:00,  2.58s/batch]#015Train:  30%|###       | 30/99 [01:17<02:57,  2.58s/batch]#015Train:  31%|###1      | 31/99 [01:19<02:55,  2.58s/batch]\u001b[0m\n",
      "\n",
      "2019-10-24 23:19:02 Uploading - Uploading generated training model"
     ]
    },
    {
     "ename": "KeyboardInterrupt",
     "evalue": "",
     "output_type": "error",
     "traceback": [
      "\u001b[0;31m---------------------------------------------------------------------------\u001b[0m",
      "\u001b[0;31mKeyboardInterrupt\u001b[0m                         Traceback (most recent call last)",
      "\u001b[0;32m<ipython-input-73-415fd0dcc486>\u001b[0m in \u001b[0;36m<module>\u001b[0;34m()\u001b[0m\n\u001b[0;32m----> 1\u001b[0;31m \u001b[0msage_sess\u001b[0m\u001b[0;34m.\u001b[0m\u001b[0mlogs_for_job\u001b[0m\u001b[0;34m(\u001b[0m\u001b[0me\u001b[0m\u001b[0;34m.\u001b[0m\u001b[0mlatest_training_job\u001b[0m\u001b[0;34m.\u001b[0m\u001b[0mjob_name\u001b[0m\u001b[0;34m,\u001b[0m \u001b[0mwait\u001b[0m\u001b[0;34m=\u001b[0m\u001b[0;32mTrue\u001b[0m\u001b[0;34m)\u001b[0m\u001b[0;34m\u001b[0m\u001b[0;34m\u001b[0m\u001b[0m\n\u001b[0m",
      "\u001b[0;32m~/anaconda3/envs/pytorch_p36_2/lib/python3.6/site-packages/sagemaker/session.py\u001b[0m in \u001b[0;36mlogs_for_job\u001b[0;34m(self, job_name, wait, poll)\u001b[0m\n\u001b[1;32m   1493\u001b[0m                 \u001b[0;32mbreak\u001b[0m\u001b[0;34m\u001b[0m\u001b[0;34m\u001b[0m\u001b[0m\n\u001b[1;32m   1494\u001b[0m \u001b[0;34m\u001b[0m\u001b[0m\n\u001b[0;32m-> 1495\u001b[0;31m             \u001b[0mtime\u001b[0m\u001b[0;34m.\u001b[0m\u001b[0msleep\u001b[0m\u001b[0;34m(\u001b[0m\u001b[0mpoll\u001b[0m\u001b[0;34m)\u001b[0m\u001b[0;34m\u001b[0m\u001b[0;34m\u001b[0m\u001b[0m\n\u001b[0m\u001b[1;32m   1496\u001b[0m \u001b[0;34m\u001b[0m\u001b[0m\n\u001b[1;32m   1497\u001b[0m             \u001b[0;32mif\u001b[0m \u001b[0mstate\u001b[0m \u001b[0;34m==\u001b[0m \u001b[0mLogState\u001b[0m\u001b[0;34m.\u001b[0m\u001b[0mJOB_COMPLETE\u001b[0m\u001b[0;34m:\u001b[0m\u001b[0;34m\u001b[0m\u001b[0;34m\u001b[0m\u001b[0m\n",
      "\u001b[0;31mKeyboardInterrupt\u001b[0m: "
     ]
    }
   ],
   "source": [
    "sage_sess.logs_for_job(e.latest_training_job.job_name, wait=True)"
   ]
  },
  {
   "cell_type": "code",
   "execution_count": 62,
   "metadata": {},
   "outputs": [],
   "source": [
    "sageclient = boto3.client('sagemaker')"
   ]
  },
  {
   "cell_type": "code",
   "execution_count": 67,
   "metadata": {},
   "outputs": [
    {
     "ename": "NameError",
     "evalue": "name 'name' is not defined",
     "output_type": "error",
     "traceback": [
      "\u001b[0;31m---------------------------------------------------------------------------\u001b[0m",
      "\u001b[0;31mNameError\u001b[0m                                 Traceback (most recent call last)",
      "\u001b[0;32m<ipython-input-67-7e3d6c1502fc>\u001b[0m in \u001b[0;36m<module>\u001b[0;34m()\u001b[0m\n\u001b[0;32m----> 1\u001b[0;31m \u001b[0msageclient\u001b[0m\u001b[0;34m.\u001b[0m\u001b[0mstop_training_job\u001b[0m\u001b[0;34m(\u001b[0m\u001b[0mTrainingJobName\u001b[0m \u001b[0;34m=\u001b[0m \u001b[0mname\u001b[0m\u001b[0;34m)\u001b[0m\u001b[0;34m\u001b[0m\u001b[0;34m\u001b[0m\u001b[0m\n\u001b[0m",
      "\u001b[0;31mNameError\u001b[0m: name 'name' is not defined"
     ]
    }
   ],
   "source": [
    "sageclient.stop_training_job(TrainingJobName = name)"
   ]
  },
  {
   "cell_type": "code",
   "execution_count": 65,
   "metadata": {},
   "outputs": [
    {
     "data": {
      "text/plain": [
       "'planet-snowcover-2019-10-24-22-54-59-196'"
      ]
     },
     "execution_count": 65,
     "metadata": {},
     "output_type": "execute_result"
    }
   ],
   "source": [
    "e.latest_training_job.name"
   ]
  },
  {
   "cell_type": "code",
   "execution_count": 72,
   "metadata": {},
   "outputs": [
    {
     "data": {
      "text/plain": [
       "{'ResponseMetadata': {'RequestId': '542f72be-0f54-4be1-9e11-022ce70222ae',\n",
       "  'HTTPStatusCode': 200,\n",
       "  'HTTPHeaders': {'x-amzn-requestid': '542f72be-0f54-4be1-9e11-022ce70222ae',\n",
       "   'content-type': 'application/x-amz-json-1.1',\n",
       "   'content-length': '0',\n",
       "   'date': 'Thu, 24 Oct 2019 23:16:49 GMT'},\n",
       "  'RetryAttempts': 0}}"
      ]
     },
     "execution_count": 72,
     "metadata": {},
     "output_type": "execute_result"
    }
   ],
   "source": [
    "sess.client('sagemaker').stop_training_job(TrainingJobName = e.latest_training_job.name)"
   ]
  },
  {
   "cell_type": "code",
   "execution_count": 74,
   "metadata": {},
   "outputs": [
    {
     "ename": "KeyError",
     "evalue": "'MetricDefinitions'",
     "output_type": "error",
     "traceback": [
      "\u001b[0;31m---------------------------------------------------------------------------\u001b[0m",
      "\u001b[0;31mKeyError\u001b[0m                                  Traceback (most recent call last)",
      "\u001b[0;32m<ipython-input-74-011a91a2db0b>\u001b[0m in \u001b[0;36m<module>\u001b[0;34m()\u001b[0m\n\u001b[0;32m----> 1\u001b[0;31m \u001b[0me\u001b[0m\u001b[0;34m.\u001b[0m\u001b[0mtraining_job_analytics\u001b[0m\u001b[0;34m(\u001b[0m\u001b[0;34m)\u001b[0m\u001b[0;34m\u001b[0m\u001b[0;34m\u001b[0m\u001b[0m\n\u001b[0m",
      "\u001b[0;32m~/anaconda3/envs/pytorch_p36_2/lib/python3.6/site-packages/sagemaker/estimator.py\u001b[0m in \u001b[0;36mtraining_job_analytics\u001b[0;34m(self)\u001b[0m\n\u001b[1;32m    775\u001b[0m             \u001b[0;32mraise\u001b[0m \u001b[0mValueError\u001b[0m\u001b[0;34m(\u001b[0m\u001b[0;34m\"Estimator is not associated with a TrainingJob\"\u001b[0m\u001b[0;34m)\u001b[0m\u001b[0;34m\u001b[0m\u001b[0;34m\u001b[0m\u001b[0m\n\u001b[1;32m    776\u001b[0m         return TrainingJobAnalytics(\n\u001b[0;32m--> 777\u001b[0;31m             \u001b[0mself\u001b[0m\u001b[0;34m.\u001b[0m\u001b[0m_current_job_name\u001b[0m\u001b[0;34m,\u001b[0m \u001b[0msagemaker_session\u001b[0m\u001b[0;34m=\u001b[0m\u001b[0mself\u001b[0m\u001b[0;34m.\u001b[0m\u001b[0msagemaker_session\u001b[0m\u001b[0;34m\u001b[0m\u001b[0;34m\u001b[0m\u001b[0m\n\u001b[0m\u001b[1;32m    778\u001b[0m         )\n\u001b[1;32m    779\u001b[0m \u001b[0;34m\u001b[0m\u001b[0m\n",
      "\u001b[0;32m~/anaconda3/envs/pytorch_p36_2/lib/python3.6/site-packages/sagemaker/analytics.py\u001b[0m in \u001b[0;36m__init__\u001b[0;34m(self, training_job_name, metric_names, sagemaker_session, start_time, end_time, period)\u001b[0m\n\u001b[1;32m    260\u001b[0m             \u001b[0mself\u001b[0m\u001b[0;34m.\u001b[0m\u001b[0m_metric_names\u001b[0m \u001b[0;34m=\u001b[0m \u001b[0mmetric_names\u001b[0m\u001b[0;34m\u001b[0m\u001b[0;34m\u001b[0m\u001b[0m\n\u001b[1;32m    261\u001b[0m         \u001b[0;32melse\u001b[0m\u001b[0;34m:\u001b[0m\u001b[0;34m\u001b[0m\u001b[0;34m\u001b[0m\u001b[0m\n\u001b[0;32m--> 262\u001b[0;31m             \u001b[0mself\u001b[0m\u001b[0;34m.\u001b[0m\u001b[0m_metric_names\u001b[0m \u001b[0;34m=\u001b[0m \u001b[0mself\u001b[0m\u001b[0;34m.\u001b[0m\u001b[0m_metric_names_for_training_job\u001b[0m\u001b[0;34m(\u001b[0m\u001b[0;34m)\u001b[0m\u001b[0;34m\u001b[0m\u001b[0;34m\u001b[0m\u001b[0m\n\u001b[0m\u001b[1;32m    263\u001b[0m \u001b[0;34m\u001b[0m\u001b[0m\n\u001b[1;32m    264\u001b[0m         \u001b[0msuper\u001b[0m\u001b[0;34m(\u001b[0m\u001b[0mTrainingJobAnalytics\u001b[0m\u001b[0;34m,\u001b[0m \u001b[0mself\u001b[0m\u001b[0;34m)\u001b[0m\u001b[0;34m.\u001b[0m\u001b[0m__init__\u001b[0m\u001b[0;34m(\u001b[0m\u001b[0;34m)\u001b[0m\u001b[0;34m\u001b[0m\u001b[0;34m\u001b[0m\u001b[0m\n",
      "\u001b[0;32m~/anaconda3/envs/pytorch_p36_2/lib/python3.6/site-packages/sagemaker/analytics.py\u001b[0m in \u001b[0;36m_metric_names_for_training_job\u001b[0;34m(self)\u001b[0m\n\u001b[1;32m    360\u001b[0m         )\n\u001b[1;32m    361\u001b[0m \u001b[0;34m\u001b[0m\u001b[0m\n\u001b[0;32m--> 362\u001b[0;31m         \u001b[0mmetric_definitions\u001b[0m \u001b[0;34m=\u001b[0m \u001b[0mtraining_description\u001b[0m\u001b[0;34m[\u001b[0m\u001b[0;34m\"AlgorithmSpecification\"\u001b[0m\u001b[0;34m]\u001b[0m\u001b[0;34m[\u001b[0m\u001b[0;34m\"MetricDefinitions\"\u001b[0m\u001b[0;34m]\u001b[0m\u001b[0;34m\u001b[0m\u001b[0;34m\u001b[0m\u001b[0m\n\u001b[0m\u001b[1;32m    363\u001b[0m         \u001b[0mmetric_names\u001b[0m \u001b[0;34m=\u001b[0m \u001b[0;34m[\u001b[0m\u001b[0mmd\u001b[0m\u001b[0;34m[\u001b[0m\u001b[0;34m\"Name\"\u001b[0m\u001b[0;34m]\u001b[0m \u001b[0;32mfor\u001b[0m \u001b[0mmd\u001b[0m \u001b[0;32min\u001b[0m \u001b[0mmetric_definitions\u001b[0m\u001b[0;34m]\u001b[0m\u001b[0;34m\u001b[0m\u001b[0;34m\u001b[0m\u001b[0m\n\u001b[1;32m    364\u001b[0m \u001b[0;34m\u001b[0m\u001b[0m\n",
      "\u001b[0;31mKeyError\u001b[0m: 'MetricDefinitions'"
     ]
    }
   ],
   "source": [
    "e.training_job_analytics"
   ]
  },
  {
   "cell_type": "code",
   "execution_count": 76,
   "metadata": {},
   "outputs": [
    {
     "name": "stdout",
     "output_type": "stream",
     "text": [
      "2019-10-24 23:19:02 Starting - Preparing the instances for training\n",
      "2019-10-24 23:19:02 Downloading - Downloading input data\n",
      "2019-10-24 23:19:02 Training - Training image download completed. Training in progress.\n",
      "2019-10-24 23:19:02 Stopping - Stopping the training job\n",
      "2019-10-24 23:19:02 Uploading - Uploading generated training model\u001b[31mInitiating training with config .\u001b[0m\n",
      "\u001b[31m/opt/ml/input/data/config/ASO_3M_SD_USCATE_20180528.toml\u001b[0m\n",
      "\u001b[31m{'dataset': {'aws_profile': 'esip', 'image_bucket': 'planet-snowcover-imagery', 'imagery_directory_regex': '20180528_.*', 'mask_bucket': 'planet-snowcover-snow', 'mask_directory_regex': 'ASO_3M_SD_USCATE_20180528_binary$', 'train_percent': 0.7}, 'classes': [{'name': 'snow', 'color': 'white'}], 'channels': [{'bands': [1, 2, 3, 4], 'mean': [0.485, 0.456, 0.406, 1.0], 'std': [0.229, 0.224, 0.225, 1.0]}], 'model': {'name': 'albunet', 'encoder': 'resnet50', 'pretrained': True, 'loss': 'lovasz', 'batch_size': 7, 'tile_size': 512, 'epochs': 50, 'lr': 2.5e-05, 'data_augmentation': 0.75, 'decay': 0.0}}\u001b[0m\n",
      "\u001b[31mRoboSat - training on 1 GPUs, with 1 workers\u001b[0m\n",
      "\u001b[31mDownloading: \"https://download.pytorch.org/models/resnet50-19c8e357.pth\" to /root/.torch/models/resnet50-19c8e357.pth\u001b[0m\n",
      "\u001b[31m#0150it [00:00, ?it/s]#0153301376it [00:00, 32966161.38it/s]#0155652480it [00:00, 29306227.95it/s]#0158470528it [00:00, 28940800.91it/s]#01513582336it [00:00, 32973906.06it/s]#01517317888it [00:00, 34173426.81it/s]#01520676608it [00:00, 33993093.22it/s]#01525649152it [00:00, 37553376.69it/s]#01530015488it [00:00, 39191340.11it/s]#01534070528it [00:00, 39582441.18it/s]#01538010880it [00:01, 28349909.01it/s]#01541279488it [00:01, 28443944.15it/s]#01545367296it [00:01, 31191790.55it/s]#01549717248it [00:01, 34082644.69it/s]#01554542336it [00:01, 36765305.38it/s]#01558998784it [00:01, 38231826.83it/s]#01563021056it [00:01, 26621101.23it/s]#01566306048it [00:02, 27636315.20it/s]#01571188480it [00:02, 31714826.76it/s]#01575448320it [00:02, 34270865.08it/s]#01581608704it [00:02, 39432709.67it/s]#01586196224it [00:02, 40963948.73it/s]#01590718208it [00:02, 39708056.16it/s]#01596305152it [00:02, 43478820.68it/s]#015101335040it [00:02, 45268913.65it/s]#015102502400it [00:02, 36906909.47it/s]\u001b[0m\n",
      "\u001b[31mSearching for imagery...(planet-snowcover-imagery/20180528_.*)\u001b[0m\n",
      "\u001b[31mcandidates:\u001b[0m\n",
      "\u001b[31m['planet-snowcover-imagery/20180423_180737_1009_3B_AnalyticMS_DN_udm_clip.tif',\n",
      " 'planet-snowcover-imagery/20180601_181447_0f32_3B_AnalyticMS_DN_udm_clip.tif',\n",
      " 'planet-snowcover-imagery/20180601_181447_0f32_3B_AnalyticMS_SR_clip.tif',\n",
      " 'planet-snowcover-imagery/20180601_181447_0f32_3B_AnalyticMS_metadata_clip.xml',\n",
      " 'planet-snowcover-imagery/20180601_181447_0f32_metadata.json',\n",
      " 'planet-snowcover-imagery/20180601_181448_0f32_3B_AnalyticMS_DN_udm_clip.tif',\n",
      " 'planet-snowcover-imagery/20180601_181448_0f32_3B_AnalyticMS_SR_clip.tif',\n",
      " 'planet-snowcover-imagery/20180601_181448_0f32_3B_AnalyticMS_metadata_clip.xml',\n",
      " 'planet-snowcover-imagery/20180601_181448_0f32_metadata.json',\n",
      " 'planet-snowcover-imagery/20180601_181449_0f32_3B_AnalyticMS_DN_udm_clip.tif',\n",
      " 'planet-snowcover-imagery/20180601_181449_0f32_3B_AnalyticMS_SR_clip_scaled.tif',\n",
      " 'planet-snowcover-imagery/20180601_181449_0f32_3B_AnalyticMS_metadata_clip.xml',\n",
      " 'planet-snowcover-imagery/20180601_181449_0f32_metadata.json',\n",
      " 'planet-snowcover-imagery/20180601_181450_0f32_3B_AnalyticMS_DN_udm_clip.tif',\n",
      " 'planet-snowcover-imagery/20180601_181450_0f32_3B_AnalyticMS_SR_clip.tif',\n",
      " 'planet-snowcover-imagery/20180601_181450_0f32_3B_AnalyticMS_metadata_clip.xml',\n",
      " 'planet-snowcover-imagery/20180601_181450_0f32_metadata.json',\n",
      " 'planet-snowcover-imagery/20180601_181451_0f32_3B_AnalyticMS_DN_udm_clip.tif',\n",
      " 'planet-snowcover-imagery/20180601_181451_0f32_3B_AnalyticMS_SR_clip.tif',\n",
      " 'planet-snowcover-imagery/20180601_181451_0f32_3B_AnalyticMS_metadata_clip.xml',\n",
      " 'planet-snowcover-imagery/20180601_181451_0f32_metadata.json',\n",
      " 'planet-snowcover-imagery/20190727_184554_29_1063-image.tif',\n",
      " 'planet-snowcover-imagery/20191001_183911_1013.tif',\n",
      " 'planet-snowcover-imagery/20191001_183911_1013_1B_AnalyticMS.tif',\n",
      " 'planet-snowcover-imagery/assets-combined-dedup-2019-10-03.csv',\n",
      " 'planet-snowcover-imagery/complete-tiles.csv',\n",
      " 'planet-snowcover-imagery/manifest.json',\n",
      " 'planet-snowcover-imagery/20170224_171306_0e26_3B_AnalyticMS_SR_clip',\n",
      " 'planet-snowcover-imagery/20170224_171307_0e26_3B_AnalyticMS_SR_clip',\n",
      " 'planet-snowcover-imagery/20180330_172048_0f3f_3B_AnalyticMS_SR_clip',\n",
      " 'planet-snowcover-imagery/20180330_172049_0f3f_3B_AnalyticMS_SR_clip',\n",
      " 'planet-snowcover-imagery/20180330_172052_0f3f_3B_AnalyticMS_SR_clip',\n",
      " 'planet-snowcover-imagery/20180330_172053_0f3f_3B_AnalyticMS_SR_clip',\n",
      " 'planet-snowcover-imagery/20180330_172054_0f3f_3B_AnalyticMS_SR_clip',\n",
      " 'planet-snowcover-imagery/20180422_180809_1033_3B_AnalyticMS_SR_clip_tiled',\n",
      " 'planet-snowcover-imagery/20180422_180811_1033_3B_AnalyticMS_SR_clip_tiled',\n",
      " 'planet-snowcover-imagery/20180422_180812_1033_3B_AnalyticMS_SR_clip_tiled',\n",
      " 'planet-snowcover-imagery/20180422_182001_101c_3B_AnalyticMS_SR_clip_tiled',\n",
      " 'planet-snowcover-imagery/20180422_182002_101c_3B_AnalyticMS_SR_clip_tiled',\n",
      " 'planet-snowcover-imagery/20180423_180735_1009_3B_AnalyticMS_SR_clip_tiled',\n",
      " 'planet-snowcover-imagery/20180423_180736_1009_3B_AnalyticMS_SR_clip_tiled',\n",
      " 'planet-snowcover-imagery/20180423_180737_1009_3B_AnalyticMS_SR_clip_tiled',\n",
      " 'planet-snowcover-imagery/20180423_180738_1009_3B_AnalyticMS_SR_clip_tiled',\n",
      " 'planet-snowcover-imagery/20180423_181001_100c_3B_AnalyticMS_SR_clip_tiled',\n",
      " 'planet-snowcover-imagery/20180423_181002_100c_3B_AnalyticMS_SR_clip_tiled',\n",
      " 'planet-snowcover-imagery/20180423_181004_100c_3B_AnalyticMS_SR_clip_tiled',\n",
      " 'planet-snowcover-imagery/20180524_172141_103d_3B_AnalyticMS_SR_clip',\n",
      " 'planet-snowcover-imagery/20180524_172142_103d_3B_AnalyticMS_SR_clip',\n",
      " 'planet-snowcover-imagery/20180524_172143_103d_3B_AnalyticMS_SR_clip',\n",
      " 'planet-snowcover-imagery/20180524_172144_103d_3B_AnalyticMS_SR_clip',\n",
      " 'planet-snowcover-imagery/20180524_172145_103d_3B_AnalyticMS_SR_clip',\n",
      " 'planet-snowcover-imagery/20180524_172146_103d_3B_AnalyticMS_SR_clip',\n",
      " 'planet-snowcover-imagery/20180524_172147_103d_3B_AnalyticMS_SR_clip',\n",
      " 'planet-snowcover-imagery/20180524_172148_103d_3B_AnalyticMS_SR_clip',\n",
      " 'planet-snowcover-imagery/20180524_172149_103d_3B_AnalyticMS_SR_clip',\n",
      " 'planet-snowcover-imagery/20180524_172326_0f51_3B_AnalyticMS_SR_clip',\n",
      " 'planet-snowcover-imagery/20180524_172327_0f51_3B_AnalyticMS_SR_clip',\n",
      " 'planet-snowcover-imagery/20180524_172329_0f51_3B_AnalyticMS_SR_clip',\n",
      " 'planet-snowcover-imagery/20180524_172330_0f51_3B_AnalyticMS_SR_clip',\n",
      " 'planet-snowcover-imagery/20180524_172331_0f51_3B_AnalyticMS_SR_clip',\n",
      " 'planet-snowcover-imagery/20180524_172332_0f51_3B_AnalyticMS_SR_clip',\n",
      " 'planet-snowcover-imagery/20180524_172333_0f51_3B_AnalyticMS_SR_clip',\n",
      " 'planet-snowcover-imagery/20180524_172334_0f51_3B_AnalyticMS_SR_clip',\n",
      " 'planet-snowcover-imagery/20180524_172630_0f2d_3B_AnalyticMS_SR_clip',\n",
      " 'planet-snowcover-imagery/20180524_172631_0f2d_3B_AnalyticMS_SR_clip',\n",
      " 'planet-snowcover-imagery/20180524_172632_0f2d_3B_AnalyticMS_SR_clip',\n",
      " 'planet-snowcover-imagery/20180524_172633_0f2d_3B_AnalyticMS_SR_clip',\n",
      " 'planet-snowcover-imagery/20180524_172634_0f2d_3B_AnalyticMS_SR_clip',\n",
      " 'planet-snowcover-imagery/20180524_172635_0f2d_3B_AnalyticMS_SR_clip',\n",
      " 'planet-snowcover-imagery/20180524_172636_0f2d_3B_AnalyticMS_SR_clip',\n",
      " 'planet-snowcover-imagery/20180524_172637_0f2d_3B_AnalyticMS_SR_clip',\n",
      " 'planet-snowcover-imagery/20180524_172637_1_0f2d_3B_AnalyticMS_SR_clip',\n",
      " 'planet-snowcover-imagery/20180528_180846_1002_3B_AnalyticMS_SR_clip',\n",
      " 'planet-snowcover-imagery/20180528_180847_1002_3B_AnalyticMS_SR_clip',\n",
      " 'planet-snowcover-imagery/20180528_181107_1025_3B_AnalyticMS_SR_clip',\n",
      " 'planet-snowcover-imagery/20180528_181108_1025_3B_AnalyticMS_SR_clip',\n",
      " 'planet-snowcover-imagery/20180528_181109_1025_3B_AnalyticMS_SR_clip',\n",
      " 'planet-snowcover-imagery/20180528_181110_1025_3B_AnalyticMS_SR_clip',\n",
      " 'planet-snowcover-imagery/20180528_181111_1025_3B_AnalyticMS_SR_clip',\n",
      " 'planet-snowcover-imagery/20180528_181112_1025_3B_AnalyticMS_SR_clip',\n",
      " 'planet-snowcover-imagery/20180528_181113_1025_3B_AnalyticMS_SR_clip',\n",
      " 'planet-snowcover-imagery/20180528_181114_1025_3B_AnalyticMS_SR_clip',\n",
      " 'planet-snowcover-imagery/20180528_181115_1025_3B_AnalyticMS_SR_clip',\n",
      " 'planet-snowcover-imagery/20180528_181116_1025_3B_AnalyticMS_SR_clip',\n",
      " 'planet-snowcover-imagery/20180528_181319_1005_3B_AnalyticMS_SR_clip',\n",
      " 'planet-snowcover-imagery/20180528_181320_1005_3B_AnalyticMS_SR_clip',\n",
      " 'planet-snowcover-imagery/20180528_181322_1005_3B_AnalyticMS_SR_clip',\n",
      " 'planet-snowcover-imagery/20180528_181323_1005_3B_AnalyticMS_SR_clip',\n",
      " 'planet-snowcover-imagery/20180528_181324_1005_3B_AnalyticMS_SR_clip',\n",
      " 'planet-snowcover-imagery/20180528_181325_1005_3B_AnalyticMS_SR_clip',\n",
      " 'planet-snowcover-imagery/20180528_181326_1005_3B_AnalyticMS_SR_clip',\n",
      " 'planet-snowcover-imagery/20180528_181327_1005_3B_AnalyticMS_SR_clip',\n",
      " 'planet-snowcover-imagery/20180601_181447_0f32_3B_AnalyticMS_SR_clip_tiled',\n",
      " 'planet-snowcover-imagery/20180601_181448_0f32_3B_AnalyticMS_SR_clip_tiled',\n",
      " 'planet-snowcover-imagery/20180601_181450_0f32_3B_AnalyticMS_SR_clip_tiled',\n",
      " 'planet-snowcover-imagery/20180601_181451_0f32_3B_AnalyticMS_SR_clip_tiled',\n",
      " 'planet-snowcover-imagery/20190727_184554_29_1063-image',\n",
      " 'planet-snowcover-imagery/20191001_183911_1013',\n",
      " 'planet-snowcover-imagery/PSScene4Band_20170129_180054_0e0f_analytic_sr',\n",
      " 'planet-snowcover-imagery/planet-orders']\u001b[0m\n",
      "\u001b[31mresult:\u001b[0m\n",
      "\u001b[31m['planet-snowcover-imagery/20180528_180846_1002_3B_AnalyticMS_SR_clip',\n",
      " 'planet-snowcover-imagery/20180528_180847_1002_3B_AnalyticMS_SR_clip',\n",
      " 'planet-snowcover-imagery/20180528_181107_1025_3B_AnalyticMS_SR_clip',\n",
      " 'planet-snowcover-imagery/20180528_181108_1025_3B_AnalyticMS_SR_clip',\n",
      " 'planet-snowcover-imagery/20180528_181109_1025_3B_AnalyticMS_SR_clip',\n",
      " 'planet-snowcover-imagery/20180528_181110_1025_3B_AnalyticMS_SR_clip',\n",
      " 'planet-snowcover-imagery/20180528_181111_1025_3B_AnalyticMS_SR_clip',\n",
      " 'planet-snowcover-imagery/20180528_181112_1025_3B_AnalyticMS_SR_clip',\n",
      " 'planet-snowcover-imagery/20180528_181113_1025_3B_AnalyticMS_SR_clip',\n",
      " 'planet-snowcover-imagery/20180528_181114_1025_3B_AnalyticMS_SR_clip',\n",
      " 'planet-snowcover-imagery/20180528_181115_1025_3B_AnalyticMS_SR_clip',\n",
      " 'planet-snowcover-imagery/20180528_181116_1025_3B_AnalyticMS_SR_clip',\n",
      " 'planet-snowcover-imagery/20180528_181319_1005_3B_AnalyticMS_SR_clip',\n",
      " 'planet-snowcover-imagery/20180528_181320_1005_3B_AnalyticMS_SR_clip',\n",
      " 'planet-snowcover-imagery/20180528_181322_1005_3B_AnalyticMS_SR_clip',\n",
      " 'planet-snowcover-imagery/20180528_181323_1005_3B_AnalyticMS_SR_clip',\n",
      " 'planet-snowcover-imagery/20180528_181324_1005_3B_AnalyticMS_SR_clip',\n",
      " 'planet-snowcover-imagery/20180528_181325_1005_3B_AnalyticMS_SR_clip',\n",
      " 'planet-snowcover-imagery/20180528_181326_1005_3B_AnalyticMS_SR_clip',\n",
      " 'planet-snowcover-imagery/20180528_181327_1005_3B_AnalyticMS_SR_clip']\u001b[0m\n",
      "\u001b[31mSearching for mask...(planet-snowcover-snow/ASO_3M_SD_USCATE_20180528_binary$)\u001b[0m\n",
      "\u001b[31mcandidates:\u001b[0m\n",
      "\u001b[31m['planet-snowcover-snow/ASO_3M_QF_USCOGM_20170225.geojson',\n",
      " 'planet-snowcover-snow/ASO_3M_QF_USCOGM_20170225.tif',\n",
      " 'planet-snowcover-snow/ASO_3M_QF_USCOGM_20170225_binary.tif',\n",
      " 'planet-snowcover-snow/ASO_3M_SD_USCAJW_20180423.tif',\n",
      " 'planet-snowcover-snow/ASO_3M_SD_USCATE_20180423_binary.tif',\n",
      " 'planet-snowcover-snow/ASO_3M_SD_USCATE_20180528.geojson',\n",
      " 'planet-snowcover-snow/ASO_3M_SD_USCATE_20180528.tif',\n",
      " 'planet-snowcover-snow/ASO_3M_SD_USCATE_20180528_binary.tif',\n",
      " 'planet-snowcover-snow/ASO_3M_SD_USCATE_20180528_corrected.geojson',\n",
      " 'planet-snowcover-snow/ASO_3M_SD_USCOCB_20160404.geojson',\n",
      " 'planet-snowcover-snow/ASO_3M_SD_USCOCB_20160404.tif',\n",
      " 'planet-snowcover-snow/ASO_3M_SD_USCOCB_20160404_binary.tif',\n",
      " 'planet-snowcover-snow/ASO_3M_SD_USCOCB_20180330.geojson',\n",
      " 'planet-snowcover-snow/ASO_3M_SD_USCOCB_20180330.tif',\n",
      " 'planet-snowcover-snow/ASO_3M_SD_USCOCB_20180330_binary.tif',\n",
      " 'planet-snowcover-snow/ASO_3M_SD_USCOGE_20180524.geojson',\n",
      " 'planet-snowcover-snow/ASO_3M_SD_USCOGE_20180524.tif',\n",
      " 'planet-snowcover-snow/ASO_3M_SD_USCOGE_20180524.toml',\n",
      " 'planet-snowcover-snow/ASO_3M_SD_USCOGE_20180524_binary.tif',\n",
      " 'planet-snowcover-snow/ASO_3M_SD_USCOGM_20170225.geojson',\n",
      " 'planet-snowcover-snow/ASO_3M_SD_USCOGM_20170225.tif',\n",
      " 'planet-snowcover-snow/ASO_3M_SD_USCOGM_20170225_binary.tif',\n",
      " 'planet-snowcover-snow/ASO_3M_SD_USWAOL_20160208.tif',\n",
      " 'planet-snowcover-snow/ASO_3M_SD_USWAOL_20160208_binary.tif',\n",
      " 'planet-snowcover-snow/ASO_3M_SD_USWAOL_20160208_half1.geojson',\n",
      " 'planet-snowcover-snow/ASO_3M_SD_USWAOL_20160208_half1.tif',\n",
      " 'planet-snowcover-snow/ASO_3M_SD_USWAOL_20160208_half1_binary.tif',\n",
      " 'planet-snowcover-snow/ASO_3M_SD_USWAOL_20160208_half2.geojson',\n",
      " 'planet-snowcover-snow/ASO_3M_SD_USWAOL_20160208_half2.tif',\n",
      " 'planet-snowcover-snow/ASO_3M_SD_USWAOL_20160208_half2_binary.tif',\n",
      " 'planet-snowcover-snow/ASO_3M_SD_USWAOL_20160329.tif',\n",
      " 'planet-snowcover-snow/ASO_3M_SD_USWAOL_20160329_binary.tif',\n",
      " 'planet-snowcover-snow/ASO_3M_SD_USCAJW_20180423',\n",
      " 'planet-snowcover-snow/ASO_3M_SD_USCASJ_20180601',\n",
      " 'planet-snowcover-snow/ASO_3M_SD_USCASJ_20180601_tiles',\n",
      " 'planet-snowcover-snow/ASO_3M_SD_USCASJ_20180601_tiles_02',\n",
      " 'planet-snowcover-snow/ASO_3M_SD_USCATE_20180423.tif?_ga=2.77458517.1128125195.1558820397-857243106_binary',\n",
      " 'planet-snowcover-snow/ASO_3M_SD_USCATE_20180528_binary',\n",
      " 'planet-snowcover-snow/ASO_3M_SD_USCOCB_20160404_binary',\n",
      " 'planet-snowcover-snow/ASO_3M_SD_USCOCB_20180330_binary',\n",
      " 'planet-snowcover-snow/ASO_3M_SD_USCOGE_20180524_binary',\n",
      " 'planet-snowcover-snow/ASO_3M_SD_USCOGM_20170225_binary',\n",
      " 'planet-snowcover-snow/ASO_3M_SD_USWAOL_20160208_half1_binary',\n",
      " 'planet-snowcover-snow/ASO_3M_SD_USWAOL_20160208_half2_binary']\u001b[0m\n",
      "\u001b[31mresult:\u001b[0m\n",
      "\u001b[31m['planet-snowcover-snow/ASO_3M_SD_USCATE_20180528_binary']\u001b[0m\n",
      "\u001b[31mMerging tilesets...\u001b[0m\n",
      "\u001b[31m999\u001b[0m\n",
      "\u001b[31m/root/anaconda3/envs/pytorch_p36/lib/python3.6/site-packages/sklearn/model_selection/_split.py:2179: FutureWarning: From version 0.21, test_size will always complement train_size unless both are specified.\n",
      "  FutureWarning)\u001b[0m\n",
      "\u001b[31m--- Input tensor from Dataset: planet-snowcover-imagery/20180528_.* ---\n",
      "\u001b[0m\n",
      "\u001b[31m--- Hyper Parameters ---\u001b[0m\n",
      "\u001b[31mModel:#011#011#011 albunet\u001b[0m\n",
      "\u001b[31mEncoder model:#011#011 resnet50\u001b[0m\n",
      "\u001b[31mLoss function:#011#011 lovasz\u001b[0m\n",
      "\u001b[31mResNet pre-trained:#011 True\u001b[0m\n",
      "\u001b[31mBatch Size:#011#011 7\u001b[0m\n",
      "\u001b[31mTile Size:#011#011 512\u001b[0m\n",
      "\u001b[31mData Augmentation:#011 0.75\u001b[0m\n",
      "\u001b[31mLearning Rate:#011#011 2.5e-05\u001b[0m\n",
      "\u001b[31mWeight Decay:#011#011 0.0\n",
      "\u001b[0m\n",
      "\u001b[31m---\u001b[0m\n",
      "\u001b[31mEpoch: 1/50\u001b[0m\n",
      "\u001b[31m#015Train:   0%|          | 0/99 [00:00<?, ?batch/s]#015Train:   1%|1         | 1/99 [00:32<53:14, 32.59s/batch]#015Train:   2%|2         | 2/99 [00:34<27:58, 17.30s/batch]#015Train:   3%|3         | 3/99 [00:36<19:31, 12.20s/batch]#015Train:   4%|4         | 4/99 [00:38<15:17,  9.65s/batch]#015Train:   5%|5         | 5/99 [00:40<12:43,  8.12s/batch]#015Train:   6%|6         | 6/99 [00:43<11:13,  7.24s/batch]#015Train:   7%|7         | 7/99 [00:46<10:14,  6.68s/batch]#015Train:   8%|8         | 8/99 [00:49<09:26,  6.23s/batch]#015Train:   9%|9         | 9/99 [00:53<08:50,  5.90s/batch]#015Train:  10%|#         | 10/99 [00:55<08:16,  5.58s/batch]#015Train:  11%|#1        | 11/99 [00:58<07:50,  5.35s/batch]#015Train:  12%|#2        | 12/99 [01:01<07:27,  5.14s/batch]#015Train:  13%|#3        | 13/99 [01:04<07:08,  4.98s/batch]#015Train:  14%|#4        | 14/99 [01:08<06:55,  4.89s/batch]#015Train:  15%|#5        | 15/99 [01:11<06:41,  4.77s/batch]#015Train:  16%|#6        | 16/99 [01:14<06:26,  4.65s/batch]#015Train:  17%|#7        | 17/99 [01:17<06:13,  4.56s/batch]#015Train:  18%|#8        | 18/99 [01:20<06:02,  4.48s/batch]#015Train:  19%|#9        | 19/99 [01:23<05:51,  4.40s/batch]#015Train:  20%|##        | 20/99 [01:27<05:44,  4.36s/batch]#015Train:  21%|##1       | 21/99 [01:30<05:36,  4.31s/batch]#015Train:  22%|##2       | 22/99 [01:33<05:26,  4.24s/batch]#015Train:  23%|##3       | 23/99 [01:36<05:18,  4.19s/batch]#015Train:  24%|##4       | 24/99 [01:39<05:11,  4.15s/batch]#015Train:  25%|##5       | 25/99 [01:42<05:03,  4.10s/batch]#015Train:  26%|##6       | 26/99 [01:45<04:56,  4.06s/batch]#015Train:  27%|##7       | 27/99 [01:48<04:48,  4.01s/batch]#015Train:  28%|##8       | 28/99 [01:51<04:43,  3.99s/batch]#015Train:  29%|##9       | 29/99 [01:55<04:38,  3.98s/batch]#015Train:  30%|###       | 30/99 [01:58<04:32,  3.95s/batch]#015Train:  31%|###1      | 31/99 [02:01<04:26,  3.92s/batch]#015Train:  32%|###2      | 32/99 [02:04<04:20,  3.89s/batch]#015Train:  33%|###3      | 33/99 [02:07<04:14,  3.86s/batch]#015Train:  34%|###4      | 34/99 [02:10<04:08,  3.83s/batch]#015Train:  35%|###5      | 35/99 [02:12<04:03,  3.80s/batch]#015Train:  36%|###6      | 36/99 [02:15<03:57,  3.77s/batch]#015Train:  37%|###7      | 37/99 [02:18<03:52,  3.75s/batch]#015Train:  38%|###8      | 38/99 [02:21<03:47,  3.73s/batch]#015Train:  39%|###9      | 39/99 [02:24<03:42,  3.71s/batch]#015Train:  40%|####      | 40/99 [02:27<03:37,  3.69s/batch]#015Train:  41%|####1     | 41/99 [02:30<03:33,  3.68s/batch]#015Train:  42%|####2     | 42/99 [02:33<03:28,  3.65s/batch]#015Train:  43%|####3     | 43/99 [02:36<03:23,  3.63s/batch]#015Train:  44%|####4     | 44/99 [02:38<03:18,  3.61s/batch]#015Train:  45%|####5     | 45/99 [02:42<03:14,  3.60s/batch]#015Train:  46%|####6     | 46/99 [02:44<03:09,  3.58s/batch]#015Train:  47%|####7     | 47/99 [02:47<03:05,  3.56s/batch]#015Train:  48%|####8     | 48/99 [02:50<03:01,  3.55s/batch]#015Train:  49%|####9     | 49/99 [02:53<02:56,  3.54s/batch]#015Train:  51%|#####     | 50/99 [02:55<02:52,  3.52s/batch]#015Train:  52%|#####1    | 51/99 [02:59<02:48,  3.51s/batch]#015Train:  53%|#####2    | 52/99 [03:02<02:44,  3.50s/batch]#015Train:  54%|#####3    | 53/99 [03:05<02:40,  3.50s/batch]#015Train:  55%|#####4    | 54/99 [03:08<02:37,  3.49s/batch]#015Train:  56%|#####5    | 55/99 [03:11<02:33,  3.48s/batch]#015Train:  57%|#####6    | 56/99 [03:14<02:29,  3.47s/batch]#015Train:  58%|#####7    | 57/99 [03:17<02:25,  3.46s/batch]#015Train:  59%|#####8    | 58/99 [03:19<02:21,  3.45s/batch]#015Train:  60%|#####9    | 59/99 [03:23<02:17,  3.44s/batch]#015Train:  61%|######    | 60/99 [03:26<02:14,  3.44s/batch]#015Train:  62%|######1   | 61/99 [03:29<02:10,  3.43s/batch]#015Train:  63%|######2   | 62/99 [03:32<02:06,  3.42s/batch]#015Train:  64%|######3   | 63/99 [03:34<02:02,  3.41s/batch]#015Train:  65%|######4   | 64/99 [03:37<01:59,  3.40s/batch]#015Train:  66%|######5   | 65/99 [03:40<01:55,  3.40s/batch]#015Train:  67%|######6   | 66/99 [03:43<01:51,  3.39s/batch]#015Train:  68%|######7   | 67/99 [03:46<01:48,  3.38s/batch]#015Train:  69%|######8   | 68/99 [03:49<01:44,  3.38s/batch]#015Train:  70%|######9   | 69/99 [03:52<01:41,  3.37s/batch]#015Train:  71%|#######   | 70/99 [03:55<01:37,  3.37s/batch]#015Train:  72%|#######1  | 71/99 [03:58<01:34,  3.36s/batch]#015Train:  73%|#######2  | 72/99 [04:01<01:30,  3.36s/batch]#015Train:  74%|#######3  | 73/99 [04:04<01:27,  3.35s/batch]#015Train:  75%|#######4  | 74/99 [04:07<01:23,  3.35s/batch]#015Train:  76%|#######5  | 75/99 [04:10<01:20,  3.34s/batch]#015Train:  77%|#######6  | 76/99 [04:13<01:16,  3.34s/batch]#015Train:  78%|#######7  | 77/99 [04:16<01:13,  3.33s/batch]#015Train:  79%|#######8  | 78/99 [04:19<01:09,  3.33s/batch]#015Train:  80%|#######9  | 79/99 [04:22<01:06,  3.32s/batch]#015Train:  81%|########  | 80/99 [04:25<01:02,  3.32s/batch]#015Train:  82%|########1 | 81/99 [04:28<00:59,  3.31s/batch]#015Train:  83%|########2 | 82/99 [04:30<00:56,  3.30s/batch]#015Train:  84%|########3 | 83/99 [04:33<00:52,  3.30s/batch]#015Train:  85%|########4 | 84/99 [04:36<00:49,  3.29s/batch]#015Train:  86%|########5 | 85/99 [04:39<00:45,  3.28s/batch]#015Train:  87%|########6 | 86/99 [04:41<00:42,  3.28s/batch]#015Train:  88%|########7 | 87/99 [04:44<00:39,  3.27s/batch]#015Train:  89%|########8 | 88/99 [04:47<00:35,  3.27s/batch]#015Train:  90%|########9 | 89/99 [04:50<00:32,  3.26s/batch]#015Train:  91%|######### | 90/99 [04:53<00:29,  3.26s/batch]#015Train:  92%|#########1| 91/99 [04:56<00:26,  3.26s/batch]#015Train:  93%|#########2| 92/99 [04:59<00:22,  3.25s/batch]#015Train:  94%|#########3| 93/99 [05:02<00:19,  3.25s/batch]#015Train:  95%|#########4| 94/99 [05:05<00:16,  3.25s/batch]#015Train:  96%|#########5| 95/99 [05:08<00:12,  3.24s/batch]#015Train:  97%|#########6| 96/99 [05:10<00:09,  3.24s/batch]#015Train:  98%|#########7| 97/99 [05:13<00:06,  3.23s/batch]#015Train:  99%|#########8| 98/99 [05:16<00:03,  3.23s/batch]#015Train: 100%|##########| 99/99 [05:19<00:00,  3.23s/batch]\u001b[0m\n",
      "\u001b[31mTrain    loss: 0.1458, mIoU: 0.535, IoU: 0.362, precision:  0.584, recall: 0.190\u001b[0m\n",
      "\u001b[31m#015Validate:   0%|          | 0/42 [00:00<?, ?batch/s]#015Validate:   2%|2         | 1/42 [00:04<02:46,  4.07s/batch]#015Validate:   5%|4         | 2/42 [00:07<02:23,  3.58s/batch]#015Validate:   7%|7         | 3/42 [00:10<02:11,  3.38s/batch]#015Validate:  10%|9         | 4/42 [00:12<02:02,  3.22s/batch]#015Validate:  12%|#1        | 5/42 [00:15<01:57,  3.17s/batch]#015Validate:  14%|#4        | 6/42 [00:19<01:54,  3.19s/batch]#015Validate:  17%|#6        | 7/42 [00:22<01:50,  3.14s/batch]#015Validate:  19%|#9        | 8/42 [00:24<01:44,  3.08s/batch]#015Validate:  21%|##1       | 9/42 [00:27<01:40,  3.05s/batch]#015Validate:  24%|##3       | 10/42 [00:30<01:36,  3.02s/batch]#015Validate:  26%|##6       | 11/42 [00:33<01:34,  3.04s/batch]#015Validate:  29%|##8       | 12/42 [00:36<01:30,  3.01s/batch]#015Validate:  31%|###       | 13/42 [00:38<01:26,  2.99s/batch]#015Validate:  33%|###3      | 14/42 [00:42<01:24,  3.01s/batch]#015Validate:  36%|###5      | 15/42 [00:44<01:20,  3.00s/batch]#015Validate:  38%|###8      | 16/42 [00:47<01:17,  2.99s/batch]#015Validate:  40%|####      | 17/42 [00:50<01:14,  2.98s/batch]#015Validate:  43%|####2     | 18/42 [00:53<01:11,  2.98s/batch]#015Validate:  45%|####5     | 19/42 [00:56<01:08,  2.97s/batch]#015Validate:  48%|####7     | 20/42 [00:59<01:05,  2.96s/batch]#015Validate:  50%|#####     | 21/42 [01:01<01:01,  2.95s/batch]#015Validate:  52%|#####2    | 22/42 [01:05<00:59,  2.96s/batch]#015Validate:  55%|#####4    | 23/42 [01:07<00:55,  2.94s/batch]#015Validate:  57%|#####7    | 24/42 [01:10<00:53,  2.95s/batch]#015Validate:  60%|#####9    | 25/42 [01:14<00:50,  2.97s/batch]#015Validate:  62%|######1   | 26/42 [01:17<00:47,  2.97s/batch]#015Validate:  64%|######4   | 27/42 [01:20<00:44,  2.97s/batch]#015Validate:  67%|######6   | 28/42 [01:23<00:41,  2.97s/batch]#015Validate:  69%|######9   | 29/42 [01:26<00:38,  2.98s/batch]#015Validate:  71%|#######1  | 30/42 [01:29<00:35,  2.98s/batch]#015Validate:  74%|#######3  | 31/42 [01:32<00:32,  2.97s/batch]#015Validate:  76%|#######6  | 32/42 [01:35<00:29,  2.97s/batch]#015Validate:  79%|#######8  | 33/42 [01:38<00:26,  2.97s/batch]#015Validate:  81%|########  | 34/42 [01:41<00:23,  2.99s/batch]#015Validate:  83%|########3 | 35/42 [01:44<00:20,  2.98s/batch]#015Validate:  86%|########5 | 36/42 [01:47<00:17,  2.99s/batch]#015Validate:  88%|########8 | 37/42 [01:50<00:14,  2.99s/batch]#015Validate:  90%|######### | 38/42 [01:53<00:11,  2.98s/batch]#015Validate:  93%|#########2| 39/42 [01:56<00:08,  2.99s/batch]#015Validate:  95%|#########5| 40/42 [01:59<00:05,  2.99s/batch]#015Validate:  98%|#########7| 41/42 [02:02<00:02,  2.99s/batch]#015Validate: 100%|##########| 42/42 [02:05<00:00,  3.00s/batch]\u001b[0m\n",
      "\u001b[31mValidate loss: 0.1458, mIoU: 0.535, IoU: 0.362, precision:  0.584, recall: 0.190\u001b[0m\n",
      "\u001b[31m---\u001b[0m\n",
      "\u001b[31mEpoch: 2/50\u001b[0m\n",
      "\u001b[31m#015Train:   0%|          | 0/99 [00:00<?, ?batch/s]#015Train:   1%|1         | 1/99 [00:04<07:50,  4.80s/batch]#015Train:   2%|2         | 2/99 [00:07<06:08,  3.80s/batch]#015Train:   3%|3         | 3/99 [00:10<05:33,  3.47s/batch]#015Train:   4%|4         | 4/99 [00:13<05:20,  3.38s/batch]#015Train:   5%|5         | 5/99 [00:16<05:04,  3.24s/batch]#015Train:   6%|6         | 6/99 [00:18<04:54,  3.17s/batch]#015Train:   7%|7         | 7/99 [00:21<04:45,  3.10s/batch]#015Train:   8%|8         | 8/99 [00:24<04:37,  3.05s/batch]#015Train:   9%|9         | 9/99 [00:27<04:30,  3.01s/batch]#015Train:  10%|#         | 10/99 [00:29<04:26,  2.99s/batch]#015Train:  11%|#1        | 11/99 [00:32<04:22,  2.98s/batch]#015Train:  12%|#2        | 12/99 [00:35<04:16,  2.95s/batch]#015Train:  13%|#3        | 13/99 [00:37<04:10,  2.92s/batch]#015Train:  14%|#4        | 14/99 [00:40<04:06,  2.90s/batch]#015Train:  15%|#5        | 15/99 [00:43<04:03,  2.90s/batch]#015Train:  16%|#6        | 16/99 [00:46<04:00,  2.90s/batch]#015Train:  17%|#7        | 17/99 [00:49<03:57,  2.90s/batch]#015Train:  18%|#8        | 18/99 [00:52<03:55,  2.91s/batch]#015Train:  19%|#9        | 19/99 [00:54<03:50,  2.89s/batch]#015Train:  20%|##        | 20/99 [00:57<03:48,  2.89s/batch]#015Train:  21%|##1       | 21/99 [01:01<03:46,  2.91s/batch]#015Train:  22%|##2       | 22/99 [01:04<03:44,  2.92s/batch]#015Train:  23%|##3       | 23/99 [01:07<03:41,  2.92s/batch]#015Train:  24%|##4       | 24/99 [01:09<03:37,  2.90s/batch]#015Train:  25%|##5       | 25/99 [01:12<03:33,  2.89s/batch]#015Train:  26%|##6       | 26/99 [01:14<03:29,  2.87s/batch]#015Train:  27%|##7       | 27/99 [01:17<03:26,  2.87s/batch]#015Train:  28%|##8       | 28/99 [01:20<03:23,  2.87s/batch]#015Train:  29%|##9       | 29/99 [01:23<03:21,  2.88s/batch]#015Train:  30%|###       | 30/99 [01:26<03:18,  2.87s/batch]#015Train:  31%|###1      | 31/99 [01:28<03:15,  2.87s/batch]#015Train:  32%|###2      | 32/99 [01:31<03:12,  2.87s/batch]#015Train:  33%|###3      | 33/99 [01:34<03:08,  2.86s/batch]#015Train:  34%|###4      | 34/99 [01:37<03:06,  2.86s/batch]#015Train:  35%|###5      | 35/99 [01:39<03:02,  2.86s/batch]#015Train:  36%|###6      | 36/99 [01:42<02:59,  2.85s/batch]#015Train:  37%|###7      | 37/99 [01:45<02:56,  2.84s/batch]#015Train:  38%|###8      | 38/99 [01:47<02:53,  2.84s/batch]#015Train:  39%|###9      | 39/99 [01:50<02:49,  2.83s/batch]#015Train:  40%|####      | 40/99 [01:53<02:46,  2.83s/batch]#015Train:  41%|####1     | 41/99 [01:55<02:43,  2.83s/batch]#015Train:  42%|####2     | 42/99 [01:59<02:41,  2.83s/batch]#015Train:  43%|####3     | 43/99 [02:01<02:38,  2.83s/batch]#015Train:  44%|####4     | 44/99 [02:04<02:35,  2.83s/batch]#015Train:  45%|####5     | 45/99 [02:07<02:32,  2.82s/batch]#015Train:  46%|####6     | 46/99 [02:09<02:29,  2.82s/batch]#015Train:  47%|####7     | 47/99 [02:12<02:26,  2.82s/batch]#015Train:  48%|####8     | 48/99 [02:15<02:23,  2.82s/batch]#015Train:  49%|####9     | 49/99 [02:17<02:20,  2.81s/batch]#015Train:  51%|#####     | 50/99 [02:20<02:17,  2.81s/batch]#015Train:  52%|#####1    | 51/99 [02:23<02:14,  2.81s/batch]#015Train:  53%|#####2    | 52/99 [02:25<02:11,  2.80s/batch]#015Train:  54%|#####3    | 53/99 [02:28<02:08,  2.80s/batch]#015Train:  55%|#####4    | 54/99 [02:31<02:06,  2.80s/batch]#015Train:  56%|#####5    | 55/99 [02:34<02:03,  2.80s/batch]#015Train:  57%|#####6    | 56/99 [02:36<02:00,  2.80s/batch]#015Train:  58%|#####7    | 57/99 [02:39<01:57,  2.80s/batch]#015Train:  59%|#####8    | 58/99 [02:42<01:54,  2.80s/batch]#015Train:  60%|#####9    | 59/99 [02:44<01:51,  2.79s/batch]#015Train:  61%|######    | 60/99 [02:47<01:48,  2.79s/batch]#015Train:  62%|######1   | 61/99 [02:50<01:46,  2.79s/batch]#015Train:  63%|######2   | 62/99 [02:52<01:43,  2.79s/batch]#015Train:  64%|######3   | 63/99 [02:55<01:40,  2.78s/batch]#015Train:  65%|######4   | 64/99 [02:57<01:37,  2.78s/batch]#015Train:  66%|######5   | 65/99 [03:00<01:34,  2.78s/batch]#015Train:  67%|######6   | 66/99 [03:03<01:31,  2.78s/batch]#015Train:  68%|######7   | 67/99 [03:05<01:28,  2.77s/batch]#015Train:  69%|######8   | 68/99 [03:08<01:25,  2.77s/batch]#015Train:  70%|######9   | 69/99 [03:10<01:22,  2.77s/batch]#015Train:  71%|#######   | 70/99 [03:13<01:20,  2.77s/batch]#015Train:  72%|#######1  | 71/99 [03:16<01:17,  2.76s/batch]#015Train:  73%|#######2  | 72/99 [03:18<01:14,  2.76s/batch]#015Train:  74%|#######3  | 73/99 [03:21<01:11,  2.76s/batch]#015Train:  75%|#######4  | 74/99 [03:24<01:09,  2.77s/batch]#015Train:  76%|#######5  | 75/99 [03:27<01:06,  2.76s/batch]#015Train:  77%|#######6  | 76/99 [03:30<01:03,  2.77s/batch]#015Train:  78%|#######7  | 77/99 [03:32<01:00,  2.76s/batch]#015Train:  79%|#######8  | 78/99 [03:35<00:57,  2.76s/batch]#015Train:  80%|#######9  | 79/99 [03:37<00:55,  2.75s/batch]#015Train:  81%|########  | 80/99 [03:40<00:52,  2.75s/batch]#015Train:  82%|########1 | 81/99 [03:42<00:49,  2.75s/batch]#015Train:  83%|########2 | 82/99 [03:45<00:46,  2.75s/batch]#015Train:  84%|########3 | 83/99 [03:48<00:43,  2.75s/batch]#015Train:  85%|########4 | 84/99 [03:51<00:41,  2.75s/batch]#015Train:  86%|########5 | 85/99 [03:54<00:38,  2.75s/batch]#015Train:  87%|########6 | 86/99 [03:57<00:35,  2.76s/batch]#015Train:  88%|########7 | 87/99 [04:00<00:33,  2.76s/batch]#015Train:  89%|########8 | 88/99 [04:04<00:30,  2.78s/batch]#015Train:  90%|########9 | 89/99 [04:09<00:28,  2.80s/batch]#015Train:  91%|######### | 90/99 [04:12<00:25,  2.80s/batch]#015Train:  92%|#########1| 91/99 [04:15<00:22,  2.81s/batch]#015Train:  93%|#########2| 92/99 [04:18<00:19,  2.82s/batch]#015Train:  94%|#########3| 93/99 [04:22<00:16,  2.82s/batch]#015Train:  95%|#########4| 94/99 [04:26<00:14,  2.84s/batch]#015Train:  96%|#########5| 95/99 [04:30<00:11,  2.85s/batch]#015Train:  97%|#########6| 96/99 [04:35<00:08,  2.87s/batch]#015Train:  98%|#########7| 97/99 [04:38<00:05,  2.88s/batch]#015Train:  99%|#########8| 98/99 [04:42<00:02,  2.89s/batch]#015Train: 100%|##########| 99/99 [04:45<00:00,  2.88s/batch]\u001b[0m\n",
      "\u001b[31mTrain    loss: 0.1438, mIoU: 0.546, IoU: 0.398, precision:  0.697, recall: 0.226\u001b[0m\n",
      "\u001b[31m#015Validate:   0%|          | 0/42 [00:00<?, ?batch/s]#015Validate:   2%|2         | 1/42 [00:03<02:40,  3.91s/batch]#015Validate:   5%|4         | 2/42 [00:06<02:15,  3.38s/batch]#015Validate:   7%|7         | 3/42 [00:09<02:02,  3.15s/batch]#015Validate:  10%|9         | 4/42 [00:12<01:57,  3.10s/batch]#015Validate:  12%|#1        | 5/42 [00:15<01:51,  3.00s/batch]#015Validate:  14%|#4        | 6/42 [00:17<01:47,  2.99s/batch]#015Validate:  17%|#6        | 7/42 [00:20<01:43,  2.97s/batch]#015Validate:  19%|#9        | 8/42 [00:23<01:39,  2.92s/batch]#015Validate:  21%|##1       | 9/42 [00:26<01:35,  2.91s/batch]#015Validate:  24%|##3       | 10/42 [00:29<01:33,  2.91s/batch]#015Validate:  26%|##6       | 11/42 [00:31<01:29,  2.90s/batch]#015Validate:  29%|##8       | 12/42 [00:34<01:26,  2.87s/batch]#015Validate:  31%|###       | 13/42 [00:37<01:23,  2.88s/batch]#015Validate:  33%|###3      | 14/42 [00:40<01:20,  2.87s/batch]#015Validate:  36%|###5      | 15/42 [00:42<01:16,  2.84s/batch]#015Validate:  38%|###8      | 16/42 [00:45<01:13,  2.84s/batch]#015Validate:  40%|####      | 17/42 [00:48<01:11,  2.84s/batch]#015Validate:  43%|####2     | 18/42 [00:51<01:08,  2.83s/batch]#015Validate:  45%|####5     | 19/42 [00:53<01:05,  2.84s/batch]#015Validate:  48%|####7     | 20/42 [00:56<01:02,  2.83s/batch]#015Validate:  50%|#####     | 21/42 [00:59<00:59,  2.83s/batch]#015Validate:  52%|#####2    | 22/42 [01:02<00:56,  2.83s/batch]#015Validate:  55%|#####4    | 23/42 [01:04<00:53,  2.82s/batch]#015Validate:  57%|#####7    | 24/42 [01:07<00:50,  2.80s/batch]#015Validate:  60%|#####9    | 25/42 [01:10<00:47,  2.80s/batch]#015Validate:  62%|######1   | 26/42 [01:12<00:44,  2.79s/batch]#015Validate:  64%|######4   | 27/42 [01:15<00:41,  2.78s/batch]#015Validate:  67%|######6   | 28/42 [01:18<00:39,  2.81s/batch]#015Validate:  69%|######9   | 29/42 [01:21<00:36,  2.81s/batch]#015Validate:  71%|#######1  | 30/42 [01:24<00:33,  2.81s/batch]#015Validate:  74%|#######3  | 31/42 [01:26<00:30,  2.80s/batch]#015Validate:  76%|#######6  | 32/42 [01:29<00:27,  2.80s/batch]#015Validate:  79%|#######8  | 33/42 [01:32<00:25,  2.79s/batch]#015Validate:  81%|########  | 34/42 [01:34<00:22,  2.78s/batch]#015Validate:  83%|########3 | 35/42 [01:37<00:19,  2.79s/batch]#015Validate:  86%|########5 | 36/42 [01:40<00:16,  2.79s/batch]#015Validate:  88%|########8 | 37/42 [01:42<00:13,  2.78s/batch]#015Validate:  90%|######### | 38/42 [01:45<00:11,  2.77s/batch]#015Validate:  93%|#########2| 39/42 [01:48<00:08,  2.77s/batch]#015Validate:  95%|#########5| 40/42 [01:50<00:05,  2.77s/batch]#015Validate:  98%|#########7| 41/42 [01:53<00:02,  2.77s/batch]#015Validate: 100%|##########| 42/42 [01:56<00:00,  2.77s/batch]\u001b[0m\n",
      "\u001b[31mValidate loss: 0.1438, mIoU: 0.546, IoU: 0.398, precision:  0.697, recall: 0.226\u001b[0m\n",
      "\u001b[31m---\u001b[0m\n",
      "\u001b[31mEpoch: 3/50\u001b[0m\n",
      "\u001b[31m#015Train:   0%|          | 0/99 [00:00<?, ?batch/s]#015Train:   1%|1         | 1/99 [00:04<07:53,  4.83s/batch]#015Train:   2%|2         | 2/99 [00:07<05:55,  3.66s/batch]#015Train:   3%|3         | 3/99 [00:10<05:28,  3.42s/batch]#015Train:   4%|4         | 4/99 [00:12<05:06,  3.22s/batch]#015Train:   5%|5         | 5/99 [00:15<04:50,  3.09s/batch]#015Train:   6%|6         | 6/99 [00:18<04:40,  3.02s/batch]#015Train:   7%|7         | 7/99 [00:20<04:31,  2.95s/batch]#015Train:   8%|8         | 8/99 [00:23<04:22,  2.89s/batch]#015Train:   9%|9         | 9/99 [00:25<04:17,  2.87s/batch]#015Train:  10%|#         | 10/99 [00:28<04:11,  2.83s/batch]#015Train:  11%|#1        | 11/99 [00:30<04:04,  2.78s/batch]#015Train:  12%|#2        | 12/99 [00:33<04:00,  2.76s/batch]#015Train:  13%|#3        | 13/99 [00:35<03:53,  2.72s/batch]#015Train:  14%|#4        | 14/99 [00:37<03:47,  2.68s/batch]#015Train:  15%|#5        | 15/99 [00:40<03:44,  2.67s/batch]#015Train:  16%|#6        | 16/99 [00:42<03:40,  2.66s/batch]#015Train:  17%|#7        | 17/99 [00:44<03:36,  2.64s/batch]#015Train:  18%|#8        | 18/99 [00:47<03:32,  2.63s/batch]#015Train:  19%|#9        | 19/99 [00:49<03:29,  2.62s/batch]#015Train:  20%|##        | 20/99 [00:52<03:25,  2.60s/batch]#015Train:  21%|##1       | 21/99 [00:54<03:22,  2.60s/batch]#015Train:  22%|##2       | 22/99 [00:57<03:21,  2.62s/batch]#015Train:  23%|##3       | 23/99 [00:59<03:18,  2.61s/batch]#015Train:  24%|##4       | 24/99 [01:02<03:13,  2.59s/batch]#015Train:  25%|##5       | 25/99 [01:04<03:11,  2.59s/batch]#015Train:  26%|##6       | 26/99 [01:07<03:09,  2.60s/batch]#015Train:  27%|##7       | 27/99 [01:09<03:06,  2.59s/batch]#015Train:  28%|##8       | 28/99 [01:12<03:04,  2.59s/batch]#015Train:  29%|##9       | 29/99 [01:14<03:00,  2.58s/batch]#015Train:  30%|###       | 30/99 [01:17<02:57,  2.58s/batch]#015Train:  31%|###1      | 31/99 [01:19<02:55,  2.58s/batch]\u001b[0m\n"
     ]
    }
   ],
   "source": [
    "sage_sess.logs_for_job(e.latest_training_job.job_name)"
   ]
  },
  {
   "cell_type": "code",
   "execution_count": null,
   "metadata": {},
   "outputs": [],
   "source": []
  }
 ],
 "metadata": {
  "kernelspec": {
   "display_name": "Environment (conda_pytorch_p36_2)",
   "language": "python",
   "name": "conda_pytorch_p36_2"
  },
  "language_info": {
   "codemirror_mode": {
    "name": "ipython",
    "version": 3
   },
   "file_extension": ".py",
   "mimetype": "text/x-python",
   "name": "python",
   "nbconvert_exporter": "python",
   "pygments_lexer": "ipython3",
   "version": "3.6.8"
  }
 },
 "nbformat": 4,
 "nbformat_minor": 4
}
