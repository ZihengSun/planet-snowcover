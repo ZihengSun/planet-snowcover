{
 "cells": [
  {
   "cell_type": "code",
   "execution_count": 1,
   "metadata": {},
   "outputs": [],
   "source": [
    "import rasterio as rio\n",
    "from rasterio import mask\n",
    "from rasterio.features import shapes\n",
    "from rasterio.warp import calculate_default_transform, reproject, Resampling\n",
    "\n",
    "import numpy as np\n",
    "\n",
    "import boto3\n",
    "import s3fs\n",
    "from IPython import display\n",
    "import skimage\n",
    "from sklearn import metrics\n",
    "\n",
    "from io import BytesIO\n",
    "import base64\n",
    "\n",
    "import mercantile\n",
    "from tqdm import tqdm\n",
    "\n",
    "import sys\n",
    "sys.path.append(\"../model/robosat_pink/\")\n",
    "from robosat_pink import datasets\n",
    "\n",
    "from shapely import geometry\n",
    "from functools import partial\n",
    "import pyproj\n",
    "from shapely.ops import transform\n",
    "\n",
    "import re\n",
    "import os \n",
    "os.environ['CURL_CA_BUNDLE']='/etc/ssl/certs/ca-certificates.crt'\n",
    "\n",
    "import matplotlib.pyplot as plt\n",
    "%matplotlib inline"
   ]
  },
  {
   "cell_type": "markdown",
   "metadata": {},
   "source": [
    "# Analysis of Accuracy of Predictions"
   ]
  },
  {
   "cell_type": "code",
   "execution_count": 2,
   "metadata": {},
   "outputs": [],
   "source": [
    "aws_session = boto3.Session(profile_name = 'esip')"
   ]
  },
  {
   "cell_type": "markdown",
   "metadata": {},
   "source": [
    "**Scope**: Predictions from a single ASO collect from Tuolumne, 20180528. "
   ]
  },
  {
   "cell_type": "code",
   "execution_count": 3,
   "metadata": {},
   "outputs": [],
   "source": [
    "fs = s3fs.S3FileSystem(session = aws_session)\n",
    "predictions =  [d.split('/')[1] for d in fs.ls('planet-snowcover-predictions') if re.match(\".*20180528.*_clip\", d)]"
   ]
  },
  {
   "cell_type": "markdown",
   "metadata": {},
   "source": [
    "We'll pair these predictions with ASO."
   ]
  },
  {
   "cell_type": "code",
   "execution_count": 4,
   "metadata": {},
   "outputs": [
    {
     "data": {
      "text/markdown": [
       "1983 ASO Tiles"
      ],
      "text/plain": [
       "<IPython.core.display.Markdown object>"
      ]
     },
     "execution_count": 4,
     "metadata": {},
     "output_type": "execute_result"
    }
   ],
   "source": [
    "aso = datasets.S3SlippyMapTiles(\"s3://planet-snowcover-snow/{}\".format(\"ASO_3M_SD_USCATE_20180528_binary\"), mode='multibands', aws_profile='esip')\n",
    "display.Markdown(\"{} ASO Tiles\".format(len(aso)))"
   ]
  },
  {
   "cell_type": "code",
   "execution_count": 5,
   "metadata": {},
   "outputs": [],
   "source": [
    "def plot3(image, pred, mask, tile, ax = None):\n",
    "#     fig.suptitle(tile)\n",
    "    ax[0].imshow(image)\n",
    "    ax[0].set_xticklabels([])\n",
    "    ax[0].set_yticklabels([])\n",
    "    ax[0].set_title(\"RGB (Planet, ~3m)\")\n",
    "\n",
    "    #     ax[0].set_title(tile)\n",
    "    ax[1].imshow(mask)\n",
    "    ax[1].set_title('ASO Observation')\n",
    "    ax[1].set_xticklabels([])\n",
    "    ax[1].set_yticklabels([])\n",
    "#     ax[1].set_title(\"mask\")\n",
    "    ax[2].imshow(pred, cmap='cividis')#, vmin = 0, vmax = )\n",
    "    ax[2].set_title(\"ML Prediction\")\n",
    "    ax[2].set_xticklabels([])\n",
    "    ax[2].set_yticklabels([])\n",
    "#     ax[2].set_title('prediction')\n",
    "#     ax[3].imshow((pred > 0.0) - mask, cmap='seismic')\n",
    "\n",
    "#     ax[2].set_title(mets\n",
    "    ax[3].imshow(mask - pred, cmap='bwr')\n",
    "    ax[3].set_title(\"Mask - Pred\")\n",
    "    ax[3].set_xticklabels([])\n",
    "    ax[3].set_yticklabels([])\n",
    "        \n",
    "\n",
    "#     plt.colorbar(diff, ax = ax[3])\n",
    "    # NDSI = 1-4 / 1 + 4\n",
    "#    plt.colorbar(pred, ax  = ax[2], orientation='horizontal')\n"
   ]
  },
  {
   "cell_type": "code",
   "execution_count": 6,
   "metadata": {},
   "outputs": [],
   "source": [
    "htmlTemplate = \"\"\"\n",
    "<!doctype html>\n",
    "\n",
    "<html lang=\"en\">\n",
    "<head>\n",
    "  <meta charset=\"utf-8\">\n",
    "\n",
    "  <title>{source}</title>\n",
    "\n",
    "</head>\n",
    "\n",
    "<body>\n",
    "<h2>Source Image: {source}</h2>\n",
    "<h2>Mean F1 (no zero tiles): {f1}</h2>\n",
    "<h2>Mean Accuracy: {acc}</h2>\n",
    "{content}\n",
    "</body>\n",
    "</html>\n",
    "\"\"\"\n",
    "imgTemplate =  '<p><img src=\\'data:image/png;base64,{}\\'></p>'\n"
   ]
  },
  {
   "cell_type": "code",
   "execution_count": 7,
   "metadata": {},
   "outputs": [
    {
     "name": "stderr",
     "output_type": "stream",
     "text": [
      "  0%|          | 0/189 [00:00<?, ?it/s]"
     ]
    },
    {
     "name": "stdout",
     "output_type": "stream",
     "text": [
      "189\n"
     ]
    },
    {
     "name": "stderr",
     "output_type": "stream",
     "text": [
      "  1%|          | 1/189 [00:01<03:24,  1.09s/it]"
     ]
    },
    {
     "name": "stdout",
     "output_type": "stream",
     "text": [
      "'/vsis3/planet-snowcover-snow/ASO_3M_SD_USCATE_20180528_binary/15/5486/12652.tif' does not exist in the file system, and is not recognized as a supported dataset name.\n"
     ]
    },
    {
     "name": "stderr",
     "output_type": "stream",
     "text": [
      "  1%|          | 2/189 [00:01<02:22,  1.32it/s]"
     ]
    },
    {
     "name": "stdout",
     "output_type": "stream",
     "text": [
      "'/vsis3/planet-snowcover-snow/ASO_3M_SD_USCATE_20180528_binary/15/5486/12653.tif' does not exist in the file system, and is not recognized as a supported dataset name.\n"
     ]
    },
    {
     "name": "stderr",
     "output_type": "stream",
     "text": [
      "  2%|▏         | 3/189 [00:01<01:53,  1.63it/s]"
     ]
    },
    {
     "name": "stdout",
     "output_type": "stream",
     "text": [
      "'/vsis3/planet-snowcover-snow/ASO_3M_SD_USCATE_20180528_binary/15/5486/12654.tif' does not exist in the file system, and is not recognized as a supported dataset name.\n"
     ]
    },
    {
     "name": "stderr",
     "output_type": "stream",
     "text": [
      "/home/ubuntu/anaconda3/envs/pytorch_p36_2/lib/python3.6/site-packages/skimage/util/dtype.py:141: UserWarning: Possible precision loss when converting from float32 to uint16\n",
      "  .format(dtypeobj_in, dtypeobj_out))\n",
      "/home/ubuntu/anaconda3/envs/pytorch_p36_2/lib/python3.6/site-packages/skimage/util/dtype.py:141: UserWarning: Possible precision loss when converting from float64 to float32\n",
      "  .format(dtypeobj_in, dtypeobj_out))\n",
      "  4%|▎         | 7/189 [00:06<02:46,  1.10it/s]"
     ]
    },
    {
     "name": "stdout",
     "output_type": "stream",
     "text": [
      "'/vsis3/planet-snowcover-snow/ASO_3M_SD_USCATE_20180528_binary/15/5487/12651.tif' does not exist in the file system, and is not recognized as a supported dataset name.\n"
     ]
    },
    {
     "name": "stderr",
     "output_type": "stream",
     "text": [
      "  4%|▍         | 8/189 [00:06<02:32,  1.19it/s]"
     ]
    },
    {
     "name": "stdout",
     "output_type": "stream",
     "text": [
      "'/vsis3/planet-snowcover-snow/ASO_3M_SD_USCATE_20180528_binary/15/5487/12652.tif' does not exist in the file system, and is not recognized as a supported dataset name.\n"
     ]
    },
    {
     "name": "stderr",
     "output_type": "stream",
     "text": [
      "  5%|▍         | 9/189 [00:07<02:23,  1.25it/s]"
     ]
    },
    {
     "name": "stdout",
     "output_type": "stream",
     "text": [
      "'/vsis3/planet-snowcover-snow/ASO_3M_SD_USCATE_20180528_binary/15/5487/12653.tif' does not exist in the file system, and is not recognized as a supported dataset name.\n"
     ]
    },
    {
     "name": "stderr",
     "output_type": "stream",
     "text": [
      "  5%|▌         | 10/189 [00:07<02:16,  1.31it/s]"
     ]
    },
    {
     "name": "stdout",
     "output_type": "stream",
     "text": [
      "'/vsis3/planet-snowcover-snow/ASO_3M_SD_USCATE_20180528_binary/15/5487/12654.tif' does not exist in the file system, and is not recognized as a supported dataset name.\n"
     ]
    },
    {
     "name": "stderr",
     "output_type": "stream",
     "text": [
      "  9%|▉         | 17/189 [00:15<02:41,  1.06it/s]"
     ]
    },
    {
     "name": "stdout",
     "output_type": "stream",
     "text": [
      "'/vsis3/planet-snowcover-snow/ASO_3M_SD_USCATE_20180528_binary/15/5488/12653.tif' does not exist in the file system, and is not recognized as a supported dataset name.\n"
     ]
    },
    {
     "name": "stderr",
     "output_type": "stream",
     "text": [
      " 10%|▉         | 18/189 [00:16<02:36,  1.09it/s]"
     ]
    },
    {
     "name": "stdout",
     "output_type": "stream",
     "text": [
      "'/vsis3/planet-snowcover-snow/ASO_3M_SD_USCATE_20180528_binary/15/5488/12654.tif' does not exist in the file system, and is not recognized as a supported dataset name.\n"
     ]
    },
    {
     "name": "stderr",
     "output_type": "stream",
     "text": [
      " 13%|█▎        | 25/189 [00:25<02:48,  1.02s/it]"
     ]
    },
    {
     "name": "stdout",
     "output_type": "stream",
     "text": [
      "'/vsis3/planet-snowcover-snow/ASO_3M_SD_USCATE_20180528_binary/15/5489/12654.tif' does not exist in the file system, and is not recognized as a supported dataset name.\n"
     ]
    },
    {
     "name": "stderr",
     "output_type": "stream",
     "text": [
      " 15%|█▍        | 28/189 [00:29<02:50,  1.06s/it]/home/ubuntu/anaconda3/envs/pytorch_p36_2/lib/python3.6/site-packages/sklearn/metrics/classification.py:1143: UndefinedMetricWarning: F-score is ill-defined and being set to 0.0 due to no predicted samples.\n",
      "  'precision', 'predicted', average, warn_for)\n",
      " 16%|█▋        | 31/189 [00:32<02:45,  1.05s/it]"
     ]
    },
    {
     "name": "stdout",
     "output_type": "stream",
     "text": [
      "'/vsis3/planet-snowcover-snow/ASO_3M_SD_USCATE_20180528_binary/15/5490/12653.tif' does not exist in the file system, and is not recognized as a supported dataset name.\n"
     ]
    },
    {
     "name": "stderr",
     "output_type": "stream",
     "text": [
      " 17%|█▋        | 32/189 [00:32<02:41,  1.03s/it]"
     ]
    },
    {
     "name": "stdout",
     "output_type": "stream",
     "text": [
      "'/vsis3/planet-snowcover-snow/ASO_3M_SD_USCATE_20180528_binary/15/5490/12654.tif' does not exist in the file system, and is not recognized as a supported dataset name.\n"
     ]
    },
    {
     "name": "stderr",
     "output_type": "stream",
     "text": [
      " 20%|██        | 38/189 [00:40<02:42,  1.08s/it]"
     ]
    },
    {
     "name": "stdout",
     "output_type": "stream",
     "text": [
      "'/vsis3/planet-snowcover-snow/ASO_3M_SD_USCATE_20180528_binary/15/5491/12653.tif' does not exist in the file system, and is not recognized as a supported dataset name.\n"
     ]
    },
    {
     "name": "stderr",
     "output_type": "stream",
     "text": [
      " 21%|██        | 39/189 [00:41<02:38,  1.06s/it]"
     ]
    },
    {
     "name": "stdout",
     "output_type": "stream",
     "text": [
      "'/vsis3/planet-snowcover-snow/ASO_3M_SD_USCATE_20180528_binary/15/5491/12654.tif' does not exist in the file system, and is not recognized as a supported dataset name.\n"
     ]
    },
    {
     "name": "stderr",
     "output_type": "stream",
     "text": [
      " 21%|██        | 40/189 [00:41<02:34,  1.04s/it]"
     ]
    },
    {
     "name": "stdout",
     "output_type": "stream",
     "text": [
      "'/vsis3/planet-snowcover-snow/ASO_3M_SD_USCATE_20180528_binary/15/5491/12655.tif' does not exist in the file system, and is not recognized as a supported dataset name.\n"
     ]
    },
    {
     "name": "stderr",
     "output_type": "stream",
     "text": [
      " 24%|██▍       | 46/189 [00:48<02:31,  1.06s/it]"
     ]
    },
    {
     "name": "stdout",
     "output_type": "stream",
     "text": [
      "'/vsis3/planet-snowcover-snow/ASO_3M_SD_USCATE_20180528_binary/15/5492/12653.tif' does not exist in the file system, and is not recognized as a supported dataset name.\n"
     ]
    },
    {
     "name": "stderr",
     "output_type": "stream",
     "text": [
      " 25%|██▍       | 47/189 [00:49<02:28,  1.05s/it]"
     ]
    },
    {
     "name": "stdout",
     "output_type": "stream",
     "text": [
      "'/vsis3/planet-snowcover-snow/ASO_3M_SD_USCATE_20180528_binary/15/5492/12654.tif' does not exist in the file system, and is not recognized as a supported dataset name.\n"
     ]
    },
    {
     "name": "stderr",
     "output_type": "stream",
     "text": [
      " 25%|██▌       | 48/189 [00:49<02:26,  1.04s/it]"
     ]
    },
    {
     "name": "stdout",
     "output_type": "stream",
     "text": [
      "'/vsis3/planet-snowcover-snow/ASO_3M_SD_USCATE_20180528_binary/15/5492/12655.tif' does not exist in the file system, and is not recognized as a supported dataset name.\n"
     ]
    },
    {
     "name": "stderr",
     "output_type": "stream",
     "text": [
      " 29%|██▉       | 55/189 [00:58<02:21,  1.06s/it]"
     ]
    },
    {
     "name": "stdout",
     "output_type": "stream",
     "text": [
      "'/vsis3/planet-snowcover-snow/ASO_3M_SD_USCATE_20180528_binary/15/5493/12654.tif' does not exist in the file system, and is not recognized as a supported dataset name.\n"
     ]
    },
    {
     "name": "stderr",
     "output_type": "stream",
     "text": [
      " 30%|██▉       | 56/189 [00:58<02:19,  1.05s/it]"
     ]
    },
    {
     "name": "stdout",
     "output_type": "stream",
     "text": [
      "'/vsis3/planet-snowcover-snow/ASO_3M_SD_USCATE_20180528_binary/15/5493/12655.tif' does not exist in the file system, and is not recognized as a supported dataset name.\n"
     ]
    },
    {
     "name": "stderr",
     "output_type": "stream",
     "text": [
      " 33%|███▎      | 62/189 [01:06<02:15,  1.07s/it]"
     ]
    },
    {
     "name": "stdout",
     "output_type": "stream",
     "text": [
      "'/vsis3/planet-snowcover-snow/ASO_3M_SD_USCATE_20180528_binary/15/5494/12654.tif' does not exist in the file system, and is not recognized as a supported dataset name.\n"
     ]
    },
    {
     "name": "stderr",
     "output_type": "stream",
     "text": [
      " 33%|███▎      | 63/189 [01:06<02:12,  1.05s/it]"
     ]
    },
    {
     "name": "stdout",
     "output_type": "stream",
     "text": [
      "'/vsis3/planet-snowcover-snow/ASO_3M_SD_USCATE_20180528_binary/15/5494/12655.tif' does not exist in the file system, and is not recognized as a supported dataset name.\n"
     ]
    },
    {
     "name": "stderr",
     "output_type": "stream",
     "text": [
      " 37%|███▋      | 69/189 [01:13<02:08,  1.07s/it]"
     ]
    },
    {
     "name": "stdout",
     "output_type": "stream",
     "text": [
      "'/vsis3/planet-snowcover-snow/ASO_3M_SD_USCATE_20180528_binary/15/5495/12654.tif' does not exist in the file system, and is not recognized as a supported dataset name.\n"
     ]
    },
    {
     "name": "stderr",
     "output_type": "stream",
     "text": [
      " 37%|███▋      | 70/189 [01:14<02:05,  1.06s/it]"
     ]
    },
    {
     "name": "stdout",
     "output_type": "stream",
     "text": [
      "'/vsis3/planet-snowcover-snow/ASO_3M_SD_USCATE_20180528_binary/15/5495/12655.tif' does not exist in the file system, and is not recognized as a supported dataset name.\n"
     ]
    },
    {
     "name": "stderr",
     "output_type": "stream",
     "text": [
      " 38%|███▊      | 71/189 [01:14<02:03,  1.05s/it]"
     ]
    },
    {
     "name": "stdout",
     "output_type": "stream",
     "text": [
      "'/vsis3/planet-snowcover-snow/ASO_3M_SD_USCATE_20180528_binary/15/5495/12656.tif' does not exist in the file system, and is not recognized as a supported dataset name.\n"
     ]
    },
    {
     "name": "stderr",
     "output_type": "stream",
     "text": [
      " 41%|████      | 77/189 [01:21<01:59,  1.06s/it]"
     ]
    },
    {
     "name": "stdout",
     "output_type": "stream",
     "text": [
      "'/vsis3/planet-snowcover-snow/ASO_3M_SD_USCATE_20180528_binary/15/5496/12654.tif' does not exist in the file system, and is not recognized as a supported dataset name.\n"
     ]
    },
    {
     "name": "stderr",
     "output_type": "stream",
     "text": [
      " 41%|████▏     | 78/189 [01:22<01:57,  1.06s/it]"
     ]
    },
    {
     "name": "stdout",
     "output_type": "stream",
     "text": [
      "'/vsis3/planet-snowcover-snow/ASO_3M_SD_USCATE_20180528_binary/15/5496/12655.tif' does not exist in the file system, and is not recognized as a supported dataset name.\n"
     ]
    },
    {
     "name": "stderr",
     "output_type": "stream",
     "text": [
      " 42%|████▏     | 79/189 [01:22<01:55,  1.05s/it]"
     ]
    },
    {
     "name": "stdout",
     "output_type": "stream",
     "text": [
      "'/vsis3/planet-snowcover-snow/ASO_3M_SD_USCATE_20180528_binary/15/5496/12656.tif' does not exist in the file system, and is not recognized as a supported dataset name.\n"
     ]
    },
    {
     "name": "stderr",
     "output_type": "stream",
     "text": [
      " 45%|████▍     | 85/189 [01:30<01:50,  1.07s/it]"
     ]
    },
    {
     "name": "stdout",
     "output_type": "stream",
     "text": [
      "'/vsis3/planet-snowcover-snow/ASO_3M_SD_USCATE_20180528_binary/15/5497/12654.tif' does not exist in the file system, and is not recognized as a supported dataset name.\n"
     ]
    },
    {
     "name": "stderr",
     "output_type": "stream",
     "text": [
      " 46%|████▌     | 86/189 [01:31<01:48,  1.06s/it]"
     ]
    },
    {
     "name": "stdout",
     "output_type": "stream",
     "text": [
      "'/vsis3/planet-snowcover-snow/ASO_3M_SD_USCATE_20180528_binary/15/5497/12655.tif' does not exist in the file system, and is not recognized as a supported dataset name.\n"
     ]
    },
    {
     "name": "stderr",
     "output_type": "stream",
     "text": [
      " 46%|████▌     | 87/189 [01:31<01:47,  1.05s/it]"
     ]
    },
    {
     "name": "stdout",
     "output_type": "stream",
     "text": [
      "'/vsis3/planet-snowcover-snow/ASO_3M_SD_USCATE_20180528_binary/15/5497/12656.tif' does not exist in the file system, and is not recognized as a supported dataset name.\n"
     ]
    },
    {
     "name": "stderr",
     "output_type": "stream",
     "text": [
      " 49%|████▊     | 92/189 [01:37<01:42,  1.06s/it]"
     ]
    },
    {
     "name": "stdout",
     "output_type": "stream",
     "text": [
      "'/vsis3/planet-snowcover-snow/ASO_3M_SD_USCATE_20180528_binary/15/5498/12654.tif' does not exist in the file system, and is not recognized as a supported dataset name.\n"
     ]
    },
    {
     "name": "stderr",
     "output_type": "stream",
     "text": [
      " 49%|████▉     | 93/189 [01:37<01:40,  1.05s/it]"
     ]
    },
    {
     "name": "stdout",
     "output_type": "stream",
     "text": [
      "'/vsis3/planet-snowcover-snow/ASO_3M_SD_USCATE_20180528_binary/15/5498/12655.tif' does not exist in the file system, and is not recognized as a supported dataset name.\n"
     ]
    },
    {
     "name": "stderr",
     "output_type": "stream",
     "text": [
      " 50%|████▉     | 94/189 [01:38<01:39,  1.04s/it]"
     ]
    },
    {
     "name": "stdout",
     "output_type": "stream",
     "text": [
      "'/vsis3/planet-snowcover-snow/ASO_3M_SD_USCATE_20180528_binary/15/5498/12656.tif' does not exist in the file system, and is not recognized as a supported dataset name.\n"
     ]
    },
    {
     "name": "stderr",
     "output_type": "stream",
     "text": [
      " 52%|█████▏    | 98/189 [01:43<01:35,  1.05s/it]"
     ]
    },
    {
     "name": "stdout",
     "output_type": "stream",
     "text": [
      "'/vsis3/planet-snowcover-snow/ASO_3M_SD_USCATE_20180528_binary/15/5499/12653.tif' does not exist in the file system, and is not recognized as a supported dataset name.\n"
     ]
    },
    {
     "name": "stderr",
     "output_type": "stream",
     "text": [
      " 52%|█████▏    | 99/189 [01:43<01:33,  1.04s/it]"
     ]
    },
    {
     "name": "stdout",
     "output_type": "stream",
     "text": [
      "'/vsis3/planet-snowcover-snow/ASO_3M_SD_USCATE_20180528_binary/15/5499/12654.tif' does not exist in the file system, and is not recognized as a supported dataset name.\n"
     ]
    },
    {
     "name": "stderr",
     "output_type": "stream",
     "text": [
      " 53%|█████▎    | 100/189 [01:43<01:32,  1.04s/it]"
     ]
    },
    {
     "name": "stdout",
     "output_type": "stream",
     "text": [
      "'/vsis3/planet-snowcover-snow/ASO_3M_SD_USCATE_20180528_binary/15/5499/12655.tif' does not exist in the file system, and is not recognized as a supported dataset name.\n"
     ]
    },
    {
     "name": "stderr",
     "output_type": "stream",
     "text": [
      " 53%|█████▎    | 101/189 [01:44<01:30,  1.03s/it]"
     ]
    },
    {
     "name": "stdout",
     "output_type": "stream",
     "text": [
      "'/vsis3/planet-snowcover-snow/ASO_3M_SD_USCATE_20180528_binary/15/5499/12656.tif' does not exist in the file system, and is not recognized as a supported dataset name.\n"
     ]
    },
    {
     "name": "stderr",
     "output_type": "stream",
     "text": [
      " 56%|█████▌    | 105/189 [01:48<01:26,  1.03s/it]"
     ]
    },
    {
     "name": "stdout",
     "output_type": "stream",
     "text": [
      "'/vsis3/planet-snowcover-snow/ASO_3M_SD_USCATE_20180528_binary/15/5500/12653.tif' does not exist in the file system, and is not recognized as a supported dataset name.\n"
     ]
    },
    {
     "name": "stderr",
     "output_type": "stream",
     "text": [
      " 56%|█████▌    | 106/189 [01:49<01:25,  1.03s/it]"
     ]
    },
    {
     "name": "stdout",
     "output_type": "stream",
     "text": [
      "'/vsis3/planet-snowcover-snow/ASO_3M_SD_USCATE_20180528_binary/15/5500/12654.tif' does not exist in the file system, and is not recognized as a supported dataset name.\n"
     ]
    },
    {
     "name": "stderr",
     "output_type": "stream",
     "text": [
      " 57%|█████▋    | 107/189 [01:49<01:23,  1.02s/it]"
     ]
    },
    {
     "name": "stdout",
     "output_type": "stream",
     "text": [
      "'/vsis3/planet-snowcover-snow/ASO_3M_SD_USCATE_20180528_binary/15/5500/12655.tif' does not exist in the file system, and is not recognized as a supported dataset name.\n"
     ]
    },
    {
     "name": "stderr",
     "output_type": "stream",
     "text": [
      " 57%|█████▋    | 108/189 [01:49<01:22,  1.02s/it]"
     ]
    },
    {
     "name": "stdout",
     "output_type": "stream",
     "text": [
      "'/vsis3/planet-snowcover-snow/ASO_3M_SD_USCATE_20180528_binary/15/5500/12656.tif' does not exist in the file system, and is not recognized as a supported dataset name.\n"
     ]
    },
    {
     "name": "stderr",
     "output_type": "stream",
     "text": [
      " 58%|█████▊    | 109/189 [01:50<01:21,  1.01s/it]"
     ]
    },
    {
     "name": "stdout",
     "output_type": "stream",
     "text": [
      "'/vsis3/planet-snowcover-snow/ASO_3M_SD_USCATE_20180528_binary/15/5500/12657.tif' does not exist in the file system, and is not recognized as a supported dataset name.\n"
     ]
    },
    {
     "name": "stderr",
     "output_type": "stream",
     "text": [
      " 60%|██████    | 114/189 [01:56<01:16,  1.02s/it]"
     ]
    },
    {
     "name": "stdout",
     "output_type": "stream",
     "text": [
      "'/vsis3/planet-snowcover-snow/ASO_3M_SD_USCATE_20180528_binary/15/5501/12654.tif' does not exist in the file system, and is not recognized as a supported dataset name.\n"
     ]
    },
    {
     "name": "stderr",
     "output_type": "stream",
     "text": [
      " 61%|██████    | 115/189 [01:57<01:15,  1.02s/it]"
     ]
    },
    {
     "name": "stdout",
     "output_type": "stream",
     "text": [
      "'/vsis3/planet-snowcover-snow/ASO_3M_SD_USCATE_20180528_binary/15/5501/12655.tif' does not exist in the file system, and is not recognized as a supported dataset name.\n"
     ]
    },
    {
     "name": "stderr",
     "output_type": "stream",
     "text": [
      " 61%|██████▏   | 116/189 [01:57<01:14,  1.02s/it]"
     ]
    },
    {
     "name": "stdout",
     "output_type": "stream",
     "text": [
      "'/vsis3/planet-snowcover-snow/ASO_3M_SD_USCATE_20180528_binary/15/5501/12656.tif' does not exist in the file system, and is not recognized as a supported dataset name.\n"
     ]
    },
    {
     "name": "stderr",
     "output_type": "stream",
     "text": [
      " 62%|██████▏   | 117/189 [01:58<01:12,  1.01s/it]"
     ]
    },
    {
     "name": "stdout",
     "output_type": "stream",
     "text": [
      "'/vsis3/planet-snowcover-snow/ASO_3M_SD_USCATE_20180528_binary/15/5501/12657.tif' does not exist in the file system, and is not recognized as a supported dataset name.\n"
     ]
    },
    {
     "name": "stderr",
     "output_type": "stream",
     "text": [
      " 66%|██████▌   | 124/189 [02:07<01:07,  1.03s/it]"
     ]
    },
    {
     "name": "stdout",
     "output_type": "stream",
     "text": [
      "'/vsis3/planet-snowcover-snow/ASO_3M_SD_USCATE_20180528_binary/15/5502/12656.tif' does not exist in the file system, and is not recognized as a supported dataset name.\n"
     ]
    },
    {
     "name": "stderr",
     "output_type": "stream",
     "text": [
      " 66%|██████▌   | 125/189 [02:08<01:05,  1.03s/it]"
     ]
    },
    {
     "name": "stdout",
     "output_type": "stream",
     "text": [
      "'/vsis3/planet-snowcover-snow/ASO_3M_SD_USCATE_20180528_binary/15/5502/12657.tif' does not exist in the file system, and is not recognized as a supported dataset name.\n"
     ]
    },
    {
     "name": "stderr",
     "output_type": "stream",
     "text": [
      " 69%|██████▉   | 131/189 [02:16<01:00,  1.04s/it]"
     ]
    },
    {
     "name": "stdout",
     "output_type": "stream",
     "text": [
      "'/vsis3/planet-snowcover-snow/ASO_3M_SD_USCATE_20180528_binary/15/5503/12656.tif' does not exist in the file system, and is not recognized as a supported dataset name.\n"
     ]
    },
    {
     "name": "stderr",
     "output_type": "stream",
     "text": [
      " 70%|██████▉   | 132/189 [02:16<00:59,  1.04s/it]"
     ]
    },
    {
     "name": "stdout",
     "output_type": "stream",
     "text": [
      "'/vsis3/planet-snowcover-snow/ASO_3M_SD_USCATE_20180528_binary/15/5503/12657.tif' does not exist in the file system, and is not recognized as a supported dataset name.\n"
     ]
    },
    {
     "name": "stderr",
     "output_type": "stream",
     "text": [
      " 73%|███████▎  | 138/189 [02:24<00:53,  1.04s/it]"
     ]
    },
    {
     "name": "stdout",
     "output_type": "stream",
     "text": [
      "'/vsis3/planet-snowcover-snow/ASO_3M_SD_USCATE_20180528_binary/15/5504/12656.tif' does not exist in the file system, and is not recognized as a supported dataset name.\n"
     ]
    },
    {
     "name": "stderr",
     "output_type": "stream",
     "text": [
      " 74%|███████▎  | 139/189 [02:24<00:52,  1.04s/it]"
     ]
    },
    {
     "name": "stdout",
     "output_type": "stream",
     "text": [
      "'/vsis3/planet-snowcover-snow/ASO_3M_SD_USCATE_20180528_binary/15/5504/12657.tif' does not exist in the file system, and is not recognized as a supported dataset name.\n"
     ]
    },
    {
     "name": "stderr",
     "output_type": "stream",
     "text": [
      " 77%|███████▋  | 145/189 [02:31<00:45,  1.05s/it]"
     ]
    },
    {
     "name": "stdout",
     "output_type": "stream",
     "text": [
      "'/vsis3/planet-snowcover-snow/ASO_3M_SD_USCATE_20180528_binary/15/5505/12656.tif' does not exist in the file system, and is not recognized as a supported dataset name.\n"
     ]
    },
    {
     "name": "stderr",
     "output_type": "stream",
     "text": [
      " 77%|███████▋  | 146/189 [02:32<00:44,  1.04s/it]"
     ]
    },
    {
     "name": "stdout",
     "output_type": "stream",
     "text": [
      "'/vsis3/planet-snowcover-snow/ASO_3M_SD_USCATE_20180528_binary/15/5505/12657.tif' does not exist in the file system, and is not recognized as a supported dataset name.\n"
     ]
    },
    {
     "name": "stderr",
     "output_type": "stream",
     "text": [
      " 78%|███████▊  | 147/189 [02:32<00:43,  1.04s/it]"
     ]
    },
    {
     "name": "stdout",
     "output_type": "stream",
     "text": [
      "'/vsis3/planet-snowcover-snow/ASO_3M_SD_USCATE_20180528_binary/15/5505/12658.tif' does not exist in the file system, and is not recognized as a supported dataset name.\n"
     ]
    },
    {
     "name": "stderr",
     "output_type": "stream",
     "text": [
      " 81%|████████▏ | 154/189 [02:41<00:36,  1.05s/it]"
     ]
    },
    {
     "name": "stdout",
     "output_type": "stream",
     "text": [
      "'/vsis3/planet-snowcover-snow/ASO_3M_SD_USCATE_20180528_binary/15/5506/12657.tif' does not exist in the file system, and is not recognized as a supported dataset name.\n"
     ]
    },
    {
     "name": "stderr",
     "output_type": "stream",
     "text": [
      " 82%|████████▏ | 155/189 [02:42<00:35,  1.05s/it]"
     ]
    },
    {
     "name": "stdout",
     "output_type": "stream",
     "text": [
      "'/vsis3/planet-snowcover-snow/ASO_3M_SD_USCATE_20180528_binary/15/5506/12658.tif' does not exist in the file system, and is not recognized as a supported dataset name.\n"
     ]
    },
    {
     "name": "stderr",
     "output_type": "stream",
     "text": [
      " 86%|████████▌ | 162/189 [02:50<00:28,  1.05s/it]"
     ]
    },
    {
     "name": "stdout",
     "output_type": "stream",
     "text": [
      "'/vsis3/planet-snowcover-snow/ASO_3M_SD_USCATE_20180528_binary/15/5507/12658.tif' does not exist in the file system, and is not recognized as a supported dataset name.\n"
     ]
    },
    {
     "name": "stderr",
     "output_type": "stream",
     "text": [
      " 89%|████████▉ | 168/189 [02:57<00:22,  1.06s/it]"
     ]
    },
    {
     "name": "stdout",
     "output_type": "stream",
     "text": [
      "'/vsis3/planet-snowcover-snow/ASO_3M_SD_USCATE_20180528_binary/15/5508/12657.tif' does not exist in the file system, and is not recognized as a supported dataset name.\n"
     ]
    },
    {
     "name": "stderr",
     "output_type": "stream",
     "text": [
      " 89%|████████▉ | 169/189 [02:57<00:21,  1.05s/it]"
     ]
    },
    {
     "name": "stdout",
     "output_type": "stream",
     "text": [
      "'/vsis3/planet-snowcover-snow/ASO_3M_SD_USCATE_20180528_binary/15/5508/12658.tif' does not exist in the file system, and is not recognized as a supported dataset name.\n"
     ]
    },
    {
     "name": "stderr",
     "output_type": "stream",
     "text": [
      " 93%|█████████▎| 175/189 [03:05<00:14,  1.06s/it]"
     ]
    },
    {
     "name": "stdout",
     "output_type": "stream",
     "text": [
      "'/vsis3/planet-snowcover-snow/ASO_3M_SD_USCATE_20180528_binary/15/5509/12657.tif' does not exist in the file system, and is not recognized as a supported dataset name.\n"
     ]
    },
    {
     "name": "stderr",
     "output_type": "stream",
     "text": [
      " 93%|█████████▎| 176/189 [03:05<00:13,  1.05s/it]"
     ]
    },
    {
     "name": "stdout",
     "output_type": "stream",
     "text": [
      "'/vsis3/planet-snowcover-snow/ASO_3M_SD_USCATE_20180528_binary/15/5509/12658.tif' does not exist in the file system, and is not recognized as a supported dataset name.\n"
     ]
    },
    {
     "name": "stderr",
     "output_type": "stream",
     "text": [
      " 94%|█████████▎| 177/189 [03:06<00:12,  1.05s/it]"
     ]
    },
    {
     "name": "stdout",
     "output_type": "stream",
     "text": [
      "'/vsis3/planet-snowcover-snow/ASO_3M_SD_USCATE_20180528_binary/15/5509/12659.tif' does not exist in the file system, and is not recognized as a supported dataset name.\n"
     ]
    },
    {
     "name": "stderr",
     "output_type": "stream",
     "text": [
      " 97%|█████████▋| 184/189 [03:14<00:05,  1.06s/it]"
     ]
    },
    {
     "name": "stdout",
     "output_type": "stream",
     "text": [
      "'/vsis3/planet-snowcover-snow/ASO_3M_SD_USCATE_20180528_binary/15/5510/12658.tif' does not exist in the file system, and is not recognized as a supported dataset name.\n"
     ]
    },
    {
     "name": "stderr",
     "output_type": "stream",
     "text": [
      " 98%|█████████▊| 185/189 [03:14<00:04,  1.05s/it]"
     ]
    },
    {
     "name": "stdout",
     "output_type": "stream",
     "text": [
      "'/vsis3/planet-snowcover-snow/ASO_3M_SD_USCATE_20180528_binary/15/5510/12659.tif' does not exist in the file system, and is not recognized as a supported dataset name.\n"
     ]
    },
    {
     "name": "stderr",
     "output_type": "stream",
     "text": [
      "100%|██████████| 189/189 [03:22<00:00,  1.07s/it]\n"
     ]
    }
   ],
   "source": [
    "encodedImages = []\n",
    "f1_scores = []\n",
    "acc_scores = []\n",
    "TNs, FNs, TPs, FPs = [], [], [], []\n",
    "for pred in predictions[8:]:\n",
    "    pred_tiles = datasets.S3SlippyMapTiles(\"s3://planet-snowcover-predictions/\"+pred, 'multibands', aws_profile='esip', ext='tif') ## only TIF predictions wanted here.\n",
    "    image_tiles = datasets.S3SlippyMapTiles(\"s3://planet-snowcover-imagery/\"+pred, 'multibands', aws_profile='esip')\n",
    "    print(len(pred_tiles))\n",
    "    for p_t, i_t in tqdm(zip(pred_tiles, image_tiles), total = len(pred_tiles)):\n",
    "        tile = p_t[0]\n",
    "        asoTileLoc = \"s3://planet-snowcover-snow/{}/{}/{}/{}.tif\".format(\"ASO_3M_SD_USCATE_20180528_binary\", tile.z, tile.x, tile.y)\n",
    "        try: \n",
    "            with rio.Env(profile_name='esip'):\n",
    "                asoTile = rio.open(asoTileLoc)\n",
    "        except rio.RasterioIOError as e: \n",
    "            print(e)\n",
    "            continue\n",
    "        fig, ax = plt.subplots(1, 4, figsize=(15, 3.5))\n",
    "        rgb = np.moveaxis(i_t[1][[2, 1, 0]].numpy(), 0, 2)\n",
    "        rgb = skimage.exposure.rescale_intensity(skimage.exposure.equalize_adapthist(rgb), in_range = (0, .62))\n",
    "        plot3(rgb, p_t[1].squeeze().numpy(), asoTile.read().squeeze(), tile, ax)\n",
    "       \n",
    "        aso_pix = asoTile.read().squeeze().flatten()\n",
    "        aso_all_zero = (aso_pix == 0).all()\n",
    "        pred_pix = p_t[1].squeeze().flatten().numpy().astype(aso_pix.dtype)\n",
    "\n",
    "        f1 = metrics.f1_score(aso_pix, pred_pix)\n",
    "        acc = metrics.accuracy_score(aso_pix, pred_pix)\n",
    "        f1_scores.append((f1, aso_all_zero))\n",
    "        acc_scores.append(acc)\n",
    "                         \n",
    "        fig.suptitle(\"{}, F1: {:.2f} Acc: {:.2f}\".format(tile, f1, acc))\n",
    "\n",
    "        tmpfile = BytesIO()\n",
    "        fig.savefig(tmpfile, format='png', bbox_inches='tight')     \n",
    "        encoded = base64.b64encode(tmpfile.getvalue())\n",
    "        encodedImages.append(encoded)\n",
    "        plt.close()\n",
    "        \n",
    "        CM = metrics.confusion_matrix(aso_pix, pred_pix)\n",
    "        \n",
    "        if CM.shape != (2,2): continue\n",
    "\n",
    "        TNs.append(CM[0][0])\n",
    "        FNs.append(CM[1][0])\n",
    "        TPs.append(CM[1][1])\n",
    "        FPs.append(CM[0][1])\n",
    "        \n",
    "    break"
   ]
  },
  {
   "cell_type": "code",
   "execution_count": 8,
   "metadata": {},
   "outputs": [],
   "source": [
    "imgTags = [imgTemplate.format(e.decode('utf-8')) for e in encodedImages]"
   ]
  },
  {
   "cell_type": "code",
   "execution_count": 12,
   "metadata": {},
   "outputs": [],
   "source": [
    "f1_score_nozero = np.mean([f[0] for f in f1_scores if not f[1]])\n",
    "mean_acc = np.mean(acc_scores)"
   ]
  },
  {
   "cell_type": "code",
   "execution_count": 13,
   "metadata": {},
   "outputs": [
    {
     "data": {
      "text/plain": [
       "'20180528_181113_1025_3B_AnalyticMS_SR_clip'"
      ]
     },
     "execution_count": 13,
     "metadata": {},
     "output_type": "execute_result"
    }
   ],
   "source": [
    "predictions[8]"
   ]
  },
  {
   "cell_type": "code",
   "execution_count": 11,
   "metadata": {},
   "outputs": [],
   "source": [
    "allImages = '\\n'.join(imgTags)\n",
    "html = htmlTemplate.format(source=predictions[8], content = allImages, f1 = f1_score_nozero, acc= )\n",
    "with open('{}.html'.format(predictions[8]),'w') as f:\n",
    "    f.write(html)"
   ]
  },
  {
   "cell_type": "markdown",
   "metadata": {},
   "source": [
    "# F1"
   ]
  },
  {
   "cell_type": "code",
   "execution_count": 21,
   "metadata": {},
   "outputs": [
    {
     "data": {
      "text/plain": [
       "(512, 512)"
      ]
     },
     "execution_count": 21,
     "metadata": {},
     "output_type": "execute_result"
    }
   ],
   "source": [
    "p_t[1].numpy().squeeze().shape"
   ]
  },
  {
   "cell_type": "code",
   "execution_count": 22,
   "metadata": {},
   "outputs": [],
   "source": [
    "from scipy import ndimage"
   ]
  },
  {
   "cell_type": "code",
   "execution_count": 72,
   "metadata": {},
   "outputs": [],
   "source": [
    "p_t_resamp = ndimage.zoom(p_t[1].numpy().squeeze().astype('int'), zoom=0.5, order = 2)\n"
   ]
  },
  {
   "cell_type": "code",
   "execution_count": 73,
   "metadata": {},
   "outputs": [
    {
     "data": {
      "text/plain": [
       "<matplotlib.image.AxesImage at 0x7f94a1ba2390>"
      ]
     },
     "execution_count": 73,
     "metadata": {},
     "output_type": "execute_result"
    },
    {
     "data": {
      "image/png": "[encoded data removed]",
      "text/plain": [
       "<Figure size 432x288 with 1 Axes>"
      ]
     },
     "metadata": {},
     "output_type": "display_data"
    }
   ],
   "source": [
    "plt.imshow(asoTile.read().squeeze())\n"
   ]
  },
  {
   "cell_type": "code",
   "execution_count": 74,
   "metadata": {},
   "outputs": [],
   "source": [
    "aso_resamp = ndimage.zoom(asoTile.read().squeeze(), zoom=0.5, order = 2)\n"
   ]
  },
  {
   "cell_type": "code",
   "execution_count": 75,
   "metadata": {},
   "outputs": [
    {
     "data": {
      "text/plain": [
       "0.438003120124805"
      ]
     },
     "execution_count": 75,
     "metadata": {},
     "output_type": "execute_result"
    }
   ],
   "source": [
    "metrics.f1_score(aso_pix, pred_pix)"
   ]
  },
  {
   "cell_type": "code",
   "execution_count": 76,
   "metadata": {},
   "outputs": [
    {
     "data": {
      "text/plain": [
       "0.4399098647971958"
      ]
     },
     "execution_count": 76,
     "metadata": {},
     "output_type": "execute_result"
    }
   ],
   "source": [
    "metrics.f1_score(aso_resamp.flatten(), p_t_resamp.flatten())"
   ]
  },
  {
   "cell_type": "code",
   "execution_count": 56,
   "metadata": {},
   "outputs": [
    {
     "data": {
      "text/plain": [
       "True"
      ]
     },
     "execution_count": 56,
     "metadata": {},
     "output_type": "execute_result"
    }
   ],
   "source": [
    "((aso_resamp.flatten() == 1) | (aso_resamp.flatten() == 0)).all()"
   ]
  },
  {
   "cell_type": "code",
   "execution_count": 67,
   "metadata": {},
   "outputs": [
    {
     "data": {
      "text/plain": [
       "True"
      ]
     },
     "execution_count": 67,
     "metadata": {},
     "output_type": "execute_result"
    }
   ],
   "source": [
    "((p_t[1].numpy().flatten() == 1) | (p_t[1].numpy().flatten() == 0)).all()"
   ]
  },
  {
   "cell_type": "code",
   "execution_count": 69,
   "metadata": {},
   "outputs": [
    {
     "data": {
      "text/plain": [
       "array([[-0.00000000e+00,  0.00000000e+00, -0.00000000e+00, ...,\n",
       "        -0.00000000e+00,  0.00000000e+00, -0.00000000e+00],\n",
       "       [-0.00000000e+00,  0.00000000e+00,  0.00000000e+00, ...,\n",
       "         0.00000000e+00,  0.00000000e+00,  0.00000000e+00],\n",
       "       [ 0.00000000e+00,  0.00000000e+00,  0.00000000e+00, ...,\n",
       "         0.00000000e+00,  0.00000000e+00,  0.00000000e+00],\n",
       "       ...,\n",
       "       [-2.95954236e-42,  9.95905296e-29,  6.80944194e-27, ...,\n",
       "         0.00000000e+00,  0.00000000e+00, -0.00000000e+00],\n",
       "       [-3.12489558e-43,  1.45654715e-30,  9.95905296e-29, ...,\n",
       "         0.00000000e+00,  0.00000000e+00, -0.00000000e+00],\n",
       "       [ 2.80259693e-45, -4.48415509e-44,  1.43492963e-42, ...,\n",
       "        -0.00000000e+00,  0.00000000e+00,  0.00000000e+00]], dtype=float32)"
      ]
     },
     "execution_count": 69,
     "metadata": {},
     "output_type": "execute_result"
    }
   ],
   "source": [
    "p_t_resamp"
   ]
  },
  {
   "cell_type": "code",
   "execution_count": 71,
   "metadata": {},
   "outputs": [
    {
     "data": {
      "text/plain": [
       "dtype('float32')"
      ]
     },
     "execution_count": 71,
     "metadata": {},
     "output_type": "execute_result"
    }
   ],
   "source": [
    "p_t[1].numpy().dtype"
   ]
  },
  {
   "cell_type": "code",
   "execution_count": null,
   "metadata": {},
   "outputs": [],
   "source": [
    "FPs"
   ]
  },
  {
   "cell_type": "code",
   "execution_count": null,
   "metadata": {},
   "outputs": [],
   "source": []
  }
 ],
 "metadata": {
  "kernelspec": {
   "display_name": "Environment (conda_pytorch_p36_2)",
   "language": "python",
   "name": "conda_pytorch_p36_2"
  },
  "language_info": {
   "codemirror_mode": {
    "name": "ipython",
    "version": 3
   },
   "file_extension": ".py",
   "mimetype": "text/x-python",
   "name": "python",
   "nbconvert_exporter": "python",
   "pygments_lexer": "ipython3",
   "version": "3.6.8"
  }
 },
 "nbformat": 4,
 "nbformat_minor": 4
}
